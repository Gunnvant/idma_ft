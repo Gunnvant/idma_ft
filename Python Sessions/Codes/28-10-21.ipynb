{
 "cells": [
  {
   "cell_type": "markdown",
   "id": "d63c7e56-20c6-4535-b8da-40e7bc8385dc",
   "metadata": {},
   "source": [
    "## File I/O: How to read files \n",
    "\n",
    "- ```open()```\n",
    "- ```csv()```\n",
    "- Analyze some data (without using a library)"
   ]
  },
  {
   "cell_type": "markdown",
   "id": "4096d108-8365-4df8-aa1f-c1bf66724106",
   "metadata": {},
   "source": [
    "### ```open()``` (Most baisc way of reading any kind of data inside python)"
   ]
  },
  {
   "cell_type": "code",
   "execution_count": 22,
   "id": "48d32d21-09ce-4693-a592-1aa571dc0f16",
   "metadata": {},
   "outputs": [],
   "source": [
    "con = open(\"../data/file_data.csv\",\"r\")"
   ]
  },
  {
   "cell_type": "code",
   "execution_count": 8,
   "id": "a87b11d6-df50-488b-af8b-7297be58ad58",
   "metadata": {},
   "outputs": [
    {
     "name": "stdout",
     "output_type": "stream",
     "text": [
      "['_CHUNK_SIZE', '__class__', '__del__', '__delattr__', '__dict__', '__dir__', '__doc__', '__enter__', '__eq__', '__exit__', '__format__', '__ge__', '__getattribute__', '__gt__', '__hash__', '__init__', '__init_subclass__', '__iter__', '__le__', '__lt__', '__ne__', '__new__', '__next__', '__reduce__', '__reduce_ex__', '__repr__', '__setattr__', '__sizeof__', '__str__', '__subclasshook__', '_checkClosed', '_checkReadable', '_checkSeekable', '_checkWritable', '_finalizing', 'buffer', 'close', 'closed', 'detach', 'encoding', 'errors', 'fileno', 'flush', 'isatty', 'line_buffering', 'mode', 'name', 'newlines', 'read', 'readable', 'readline', 'readlines', 'reconfigure', 'seek', 'seekable', 'tell', 'truncate', 'writable', 'write', 'write_through', 'writelines']\n"
     ]
    }
   ],
   "source": [
    "print(dir(con))"
   ]
  },
  {
   "cell_type": "code",
   "execution_count": null,
   "id": "6ec4b362-abb4-4947-b22c-0be324ca2e47",
   "metadata": {},
   "outputs": [],
   "source": [
    "data = con.readlines()"
   ]
  },
  {
   "cell_type": "code",
   "execution_count": 18,
   "id": "94289abc-dd47-4a94-a83d-b518a577898e",
   "metadata": {},
   "outputs": [
    {
     "data": {
      "text/plain": [
       "list"
      ]
     },
     "execution_count": 18,
     "metadata": {},
     "output_type": "execute_result"
    }
   ],
   "source": [
    "type(data)"
   ]
  },
  {
   "cell_type": "code",
   "execution_count": 38,
   "id": "44e8889d-fbb6-464c-86f2-47a01fedd5ea",
   "metadata": {},
   "outputs": [
    {
     "data": {
      "text/plain": [
       "[',sensor_id,time,incoming,outgoing,range,date,hour,minute,total,location_name\\n',\n",
       " '0,52,2021-06-17 07:07:11.937082+00:00,0,2,1min,2021-06-17,7,7,2,reitan_7eleven_carlberner\\n']"
      ]
     },
     "execution_count": 38,
     "metadata": {},
     "output_type": "execute_result"
    }
   ],
   "source": [
    "data[0:2]"
   ]
  },
  {
   "cell_type": "code",
   "execution_count": 24,
   "id": "33c373bb-132d-483e-93d7-9872fef8f251",
   "metadata": {},
   "outputs": [],
   "source": [
    "con.close()"
   ]
  },
  {
   "cell_type": "code",
   "execution_count": 25,
   "id": "c2c21f28-aa2f-4aed-a18b-dcc86a916e06",
   "metadata": {},
   "outputs": [
    {
     "data": {
      "text/plain": [
       "',sensor_id,time,incoming,outgoing,range,date,hour,minute,total,location_name\\n'"
      ]
     },
     "execution_count": 25,
     "metadata": {},
     "output_type": "execute_result"
    }
   ],
   "source": [
    "data[0] ##"
   ]
  },
  {
   "cell_type": "code",
   "execution_count": 26,
   "id": "85480c58-3635-473d-9345-cec7172abb6a",
   "metadata": {},
   "outputs": [
    {
     "data": {
      "text/plain": [
       "['',\n",
       " 'sensor_id',\n",
       " 'time',\n",
       " 'incoming',\n",
       " 'outgoing',\n",
       " 'range',\n",
       " 'date',\n",
       " 'hour',\n",
       " 'minute',\n",
       " 'total',\n",
       " 'location_name\\n']"
      ]
     },
     "execution_count": 26,
     "metadata": {},
     "output_type": "execute_result"
    }
   ],
   "source": [
    "data[0].split(\",\")"
   ]
  },
  {
   "cell_type": "code",
   "execution_count": 34,
   "id": "3654699e-3e36-4585-b356-33a3a5267f22",
   "metadata": {},
   "outputs": [
    {
     "data": {
      "text/plain": [
       "'2021-06-17 07:07:11.937082+00:00'"
      ]
     },
     "execution_count": 34,
     "metadata": {},
     "output_type": "execute_result"
    }
   ],
   "source": [
    "data[1].split(\",\")[2]"
   ]
  },
  {
   "cell_type": "code",
   "execution_count": 35,
   "id": "12c24e93-40da-4ead-acc9-8959d9466b93",
   "metadata": {},
   "outputs": [
    {
     "data": {
      "text/plain": [
       "['0',\n",
       " '52',\n",
       " '2021-06-17 07:07:11.937082+00:00',\n",
       " '0',\n",
       " '2',\n",
       " '1min',\n",
       " '2021-06-17',\n",
       " '7',\n",
       " '7',\n",
       " '2',\n",
       " 'reitan_7eleven_carlberner\\n']"
      ]
     },
     "execution_count": 35,
     "metadata": {},
     "output_type": "execute_result"
    }
   ],
   "source": [
    "data[1].split(\",\")"
   ]
  },
  {
   "cell_type": "code",
   "execution_count": 36,
   "id": "cb6ce42d-3cd5-4803-a3a4-914d3d7be34e",
   "metadata": {},
   "outputs": [],
   "source": [
    "Id = []\n",
    "sensor_id = []\n",
    "time = []\n",
    "incoming = []\n",
    "outgoing = []\n",
    "Range = []\n",
    "date = []\n",
    "hour = []\n",
    "minute = []\n",
    "total = []\n",
    "location_name = []\n",
    "for row in data:\n",
    "    values = row.split(\",\")\n",
    "    Id.append(values[0])\n",
    "    sensor_id.append(values[1])\n",
    "    time.append(values[2])\n",
    "    incoming.append(values[3])\n",
    "    outgoing.append(values[4])\n",
    "    Range.append(values[5])\n",
    "    date.append(values[6])\n",
    "    hour.append(values[7])\n",
    "    minute.append(values[8])\n",
    "    total.append(values[9])\n",
    "    location_name.append(values[10])"
   ]
  },
  {
   "cell_type": "markdown",
   "id": "b47746a0-20d3-4609-adf2-c4565e03cfe8",
   "metadata": {},
   "source": [
    "### Find the average of the total column from 11 PM to 11:45 PM on 2021-06-18"
   ]
  },
  {
   "cell_type": "code",
   "execution_count": 52,
   "id": "f5f1aff9-d3aa-4fc8-abd5-0c0deef5d9e7",
   "metadata": {},
   "outputs": [
    {
     "data": {
      "text/plain": [
       "807"
      ]
     },
     "execution_count": 52,
     "metadata": {},
     "output_type": "execute_result"
    }
   ],
   "source": [
    "len(total)-1"
   ]
  },
  {
   "cell_type": "code",
   "execution_count": null,
   "id": "635fdd22-aca0-42b0-a18b-752c03202703",
   "metadata": {},
   "outputs": [
    {
     "name": "stdout",
     "output_type": "stream",
     "text": [
      "418.6691449814126\n"
     ]
    }
   ],
   "source": [
    "Total = 0\n",
    "for val in total[1:]:\n",
    "    num_val = float(val)\n",
    "    Total = Total + num_val\n",
    "print(Total/(len(total)-1))"
   ]
  },
  {
   "cell_type": "code",
   "execution_count": 60,
   "id": "9005b28c-f3ee-47c4-8828-d456b9ab226f",
   "metadata": {},
   "outputs": [],
   "source": [
    "for idx in range(len(total)):\n",
    "    val = (total[idx],date[idx], hour[idx],minute[idx])"
   ]
  },
  {
   "cell_type": "code",
   "execution_count": 61,
   "id": "c09136dc-c327-45cf-848a-0a07617189b8",
   "metadata": {},
   "outputs": [
    {
     "name": "stdout",
     "output_type": "stream",
     "text": [
      "1.0\n"
     ]
    }
   ],
   "source": [
    "Total = 0\n",
    "cnt = 0\n",
    "for values in zip(total[1:],date[1:],hour[1:],minute[1:]):\n",
    "    if values[1] == '2021-06-18' and values[2]==\"23\" and int(values[3])<=45:\n",
    "        Total = float(values[0])+Total\n",
    "        cnt = cnt + 1\n",
    "print(Total/cnt)"
   ]
  },
  {
   "cell_type": "code",
   "execution_count": 62,
   "id": "2cfec8a0-bedd-4a49-8243-b9d7a7d5452e",
   "metadata": {},
   "outputs": [
    {
     "data": {
      "text/plain": [
       "5.0"
      ]
     },
     "execution_count": 62,
     "metadata": {},
     "output_type": "execute_result"
    }
   ],
   "source": [
    "Total"
   ]
  },
  {
   "cell_type": "code",
   "execution_count": 63,
   "id": "4af544ea-8ffc-4387-ad7e-012532661527",
   "metadata": {},
   "outputs": [
    {
     "data": {
      "text/plain": [
       "5"
      ]
     },
     "execution_count": 63,
     "metadata": {},
     "output_type": "execute_result"
    }
   ],
   "source": [
    "cnt"
   ]
  },
  {
   "cell_type": "markdown",
   "id": "df593c19-db1f-4971-96c0-e434a85d760c",
   "metadata": {},
   "source": [
    "### Count the number of times the incoming was more than the outgoing?"
   ]
  },
  {
   "cell_type": "code",
   "execution_count": 66,
   "id": "09d5e098-d973-46b9-93f1-98c7113e4c1b",
   "metadata": {},
   "outputs": [
    {
     "name": "stdout",
     "output_type": "stream",
     "text": [
      "324\n"
     ]
    }
   ],
   "source": [
    "cnt = 0\n",
    "for values in zip(incoming[1:], outgoing[1:]):\n",
    "    if int(values[0])>int(values[1]):\n",
    "        cnt+=1 ## cnt=cnt+1\n",
    "print(cnt)"
   ]
  },
  {
   "cell_type": "markdown",
   "id": "0980d223-f590-4a69-84ba-57a0e336db53",
   "metadata": {},
   "source": [
    "```python\n",
    "con = open(path,\"r\")\n",
    "con.close()\n",
    "```"
   ]
  },
  {
   "cell_type": "code",
   "execution_count": 69,
   "id": "895c4fbb-f28a-46e3-b036-a08439304368",
   "metadata": {},
   "outputs": [],
   "source": [
    "with open(\"../data/file_data.csv\",\"r\") as con:\n",
    "    data = con.readlines()   "
   ]
  },
  {
   "cell_type": "markdown",
   "id": "155e6a15-713f-410d-b0d9-6c55f905406c",
   "metadata": {},
   "source": [
    "## Class Assignment \n",
    "\n",
    "- Use the data tweets_assignment.txt\n",
    "- Find out how many tweets were tweeted on each day, i.e. how many tweets were made on 26th December, how many on 25th December and so on."
   ]
  },
  {
   "cell_type": "code",
   "execution_count": 70,
   "id": "e2fdb74d-de7d-41b0-9c3f-ecf743e63111",
   "metadata": {},
   "outputs": [],
   "source": [
    "with open(\"../data/tweets_assignment.txt\",\"r\") as con:\n",
    "    tweets = con.readlines()"
   ]
  },
  {
   "cell_type": "code",
   "execution_count": 109,
   "id": "7c80b173-8e62-46df-86b9-a32f06bbf2bf",
   "metadata": {},
   "outputs": [],
   "source": [
    "dates = []\n",
    "for tweet in tweets[1:]:\n",
    "    #print(tweet)\n",
    "    tweet = tweet.replace('\"',\"\")\n",
    "    date_parts = tweet.split(\"|\")[0].split(\" \")\n",
    "    date = \" \".join(date_parts[0:3])\n",
    "    dates.append(date)"
   ]
  },
  {
   "cell_type": "code",
   "execution_count": 81,
   "id": "cf161670-6987-4ad7-8765-e9fa2bfb9e9b",
   "metadata": {},
   "outputs": [
    {
     "data": {
      "text/plain": [
       "{'Mon Dec 23', 'Thu Dec 26', 'Tue Dec 24', 'Wed Dec 25'}"
      ]
     },
     "execution_count": 81,
     "metadata": {},
     "output_type": "execute_result"
    }
   ],
   "source": [
    "set(dates)"
   ]
  },
  {
   "cell_type": "code",
   "execution_count": 89,
   "id": "bb2fec78-bd1f-4352-91a5-cfc15bd8afc1",
   "metadata": {},
   "outputs": [
    {
     "name": "stdout",
     "output_type": "stream",
     "text": [
      "['__add__', '__class__', '__contains__', '__delattr__', '__dir__', '__doc__', '__eq__', '__format__', '__ge__', '__getattribute__', '__getitem__', '__getnewargs__', '__gt__', '__hash__', '__init__', '__init_subclass__', '__iter__', '__le__', '__len__', '__lt__', '__mod__', '__mul__', '__ne__', '__new__', '__reduce__', '__reduce_ex__', '__repr__', '__rmod__', '__rmul__', '__setattr__', '__sizeof__', '__str__', '__subclasshook__', 'capitalize', 'casefold', 'center', 'count', 'encode', 'endswith', 'expandtabs', 'find', 'format', 'format_map', 'index', 'isalnum', 'isalpha', 'isascii', 'isdecimal', 'isdigit', 'isidentifier', 'islower', 'isnumeric', 'isprintable', 'isspace', 'istitle', 'isupper', 'join', 'ljust', 'lower', 'lstrip', 'maketrans', 'partition', 'removeprefix', 'removesuffix', 'replace', 'rfind', 'rindex', 'rjust', 'rpartition', 'rsplit', 'rstrip', 'split', 'splitlines', 'startswith', 'strip', 'swapcase', 'title', 'translate', 'upper', 'zfill']\n"
     ]
    }
   ],
   "source": [
    "a = \"a\"\n",
    "print(dir(a))"
   ]
  },
  {
   "cell_type": "code",
   "execution_count": 91,
   "id": "b3f918de-af5e-43e6-a012-aaa9e8e9fa92",
   "metadata": {},
   "outputs": [
    {
     "data": {
      "text/plain": [
       "False"
      ]
     },
     "execution_count": 91,
     "metadata": {},
     "output_type": "execute_result"
    }
   ],
   "source": [
    "\"Mon Dec 23 was a great day!\".startswith('Thu Dec 26')"
   ]
  },
  {
   "cell_type": "code",
   "execution_count": 95,
   "id": "f1bf726c-6c3c-4b76-93ad-3b75a77cb2e6",
   "metadata": {},
   "outputs": [
    {
     "name": "stdout",
     "output_type": "stream",
     "text": [
      "1999\n"
     ]
    }
   ],
   "source": [
    "pattern = 'Thu Dec 26'\n",
    "cnt = 0\n",
    "for tweet in tweets[1:]:\n",
    "    tweet = tweet.replace('\"',\"\")\n",
    "    if tweet.split(\"|\")[0].startswith(pattern):\n",
    "        cnt+=1\n",
    "print(cnt)      "
   ]
  },
  {
   "cell_type": "code",
   "execution_count": 96,
   "id": "4dbead69-81da-46f4-baf7-16e0dae4f187",
   "metadata": {},
   "outputs": [],
   "source": [
    "def count_days(pattern = 'Thu Dec 26'):\n",
    "    cnt = 0\n",
    "    for tweet in tweets[1:]:\n",
    "        tweet = tweet.replace('\"',\"\")\n",
    "        if tweet.split(\"|\")[0].startswith(pattern):\n",
    "            cnt+=1\n",
    "    return cnt"
   ]
  },
  {
   "cell_type": "code",
   "execution_count": 99,
   "id": "53d9fc31-7f96-4139-8c03-3198d905abcb",
   "metadata": {},
   "outputs": [
    {
     "data": {
      "text/plain": [
       "1999"
      ]
     },
     "execution_count": 99,
     "metadata": {},
     "output_type": "execute_result"
    }
   ],
   "source": [
    "count_days('Thu Dec 26')"
   ]
  },
  {
   "cell_type": "code",
   "execution_count": 100,
   "id": "837f93dd-3088-4eee-9af0-a54c4b3871ec",
   "metadata": {},
   "outputs": [
    {
     "data": {
      "text/plain": [
       "3103"
      ]
     },
     "execution_count": 100,
     "metadata": {},
     "output_type": "execute_result"
    }
   ],
   "source": [
    "count_days('Wed Dec 25')"
   ]
  },
  {
   "cell_type": "code",
   "execution_count": 101,
   "id": "44897ba3-b692-42ed-a92f-fba92e3e2181",
   "metadata": {},
   "outputs": [
    {
     "data": {
      "text/plain": [
       "4079"
      ]
     },
     "execution_count": 101,
     "metadata": {},
     "output_type": "execute_result"
    }
   ],
   "source": [
    "count_days('Tue Dec 24')"
   ]
  },
  {
   "cell_type": "code",
   "execution_count": 102,
   "id": "3e9c9679-5c9c-4aaa-bc2a-83566013959e",
   "metadata": {},
   "outputs": [
    {
     "data": {
      "text/plain": [
       "5092"
      ]
     },
     "execution_count": 102,
     "metadata": {},
     "output_type": "execute_result"
    }
   ],
   "source": [
    "count_days('Mon Dec 23')"
   ]
  },
  {
   "cell_type": "code",
   "execution_count": 103,
   "id": "cfd98a74-c1cd-4898-91da-312fd02cdd49",
   "metadata": {},
   "outputs": [],
   "source": [
    "for tweet in tweets[1:]:\n",
    "    #print(tweet)\n",
    "    tweet = tweet.replace('\"',\"\")\n",
    "    date_parts = tweet.split(\"|\")[0].split(\" \")\n",
    "    date = \" \".join(date_parts[0:3])\n",
    "    dates.append(date)"
   ]
  },
  {
   "cell_type": "code",
   "execution_count": 105,
   "id": "639fffc1-4a4f-4624-b4cd-cd885ab567d1",
   "metadata": {},
   "outputs": [
    {
     "data": {
      "text/plain": [
       "3"
      ]
     },
     "execution_count": 105,
     "metadata": {},
     "output_type": "execute_result"
    }
   ],
   "source": [
    "dummy_list = [\"a\",\"a\",\"b\",\"a\"]\n",
    "dummy_list.count(\"a\")"
   ]
  },
  {
   "cell_type": "code",
   "execution_count": 106,
   "id": "66ef0ff3-e32e-49ef-b65a-807505b7f747",
   "metadata": {},
   "outputs": [
    {
     "data": {
      "text/plain": [
       "{'Mon Dec 23', 'Thu Dec 26', 'Tue Dec 24', 'Wed Dec 25'}"
      ]
     },
     "execution_count": 106,
     "metadata": {},
     "output_type": "execute_result"
    }
   ],
   "source": [
    "set(dates)"
   ]
  },
  {
   "cell_type": "code",
   "execution_count": 113,
   "id": "1618fe2d-7fdc-42db-9ba4-f306139d9456",
   "metadata": {},
   "outputs": [
    {
     "data": {
      "text/plain": [
       "3103"
      ]
     },
     "execution_count": 113,
     "metadata": {},
     "output_type": "execute_result"
    }
   ],
   "source": [
    "dates.count(\"Wed Dec 25\")"
   ]
  },
  {
   "cell_type": "code",
   "execution_count": 115,
   "id": "c74da250-0a0a-4461-ae50-d5070859f8fa",
   "metadata": {},
   "outputs": [],
   "source": [
    "import pandas as pd\n",
    "d = pd.Series(dates)"
   ]
  },
  {
   "cell_type": "code",
   "execution_count": 116,
   "id": "f6dc3bee-5b65-4098-ab50-af918d7db8a5",
   "metadata": {},
   "outputs": [
    {
     "data": {
      "text/plain": [
       "array(['Thu Dec 26', 'Wed Dec 25', 'Tue Dec 24', 'Mon Dec 23'],\n",
       "      dtype=object)"
      ]
     },
     "execution_count": 116,
     "metadata": {},
     "output_type": "execute_result"
    }
   ],
   "source": [
    "d.unique()"
   ]
  },
  {
   "cell_type": "code",
   "execution_count": 117,
   "id": "e0676e7d-9c73-4a44-9b07-2916854db7c1",
   "metadata": {},
   "outputs": [
    {
     "data": {
      "text/plain": [
       "Mon Dec 23    5092\n",
       "Tue Dec 24    4079\n",
       "Wed Dec 25    3103\n",
       "Thu Dec 26    1999\n",
       "dtype: int64"
      ]
     },
     "execution_count": 117,
     "metadata": {},
     "output_type": "execute_result"
    }
   ],
   "source": [
    "d.value_counts()"
   ]
  },
  {
   "cell_type": "code",
   "execution_count": 118,
   "id": "1939a6eb-b57f-43d8-ba09-618a0b8eb7ab",
   "metadata": {},
   "outputs": [],
   "source": [
    "import csv"
   ]
  },
  {
   "cell_type": "code",
   "execution_count": 129,
   "id": "dc396ae9-904c-4986-a0d7-c71d5ffe85dc",
   "metadata": {},
   "outputs": [
    {
     "name": "stdout",
     "output_type": "stream",
     "text": [
      "['Tweet_Date', 'Tweet_Text', 'Tweet_Handle']\n",
      "['Thu Dec 26 123415 0000 2013', 'ashdubey ratigirl FirstpostBiz First economic move by AamAadmiParty  How come it has gone down in Guj', 'maverickenator']\n",
      "['Thu Dec 26 123413 0000 2013', 'RT anandpassion Growing popularity can seen as AAP websites Rank 275 in India highest ever for a political party JoinAAP ankitlal Aam', 'aapkask']\n"
     ]
    }
   ],
   "source": [
    "with open(\"../data/tweets_assignment.txt\",\"r\") as con:\n",
    "    reader = csv.reader(con, delimiter=\"|\")\n",
    "    cnt = 0\n",
    "    for row in reader:\n",
    "        print(row)\n",
    "        cnt+=1\n",
    "        if cnt>=3:\n",
    "            break"
   ]
  },
  {
   "cell_type": "code",
   "execution_count": 141,
   "id": "40b9ce52-ec03-4d1b-8a2a-49bff4f9399d",
   "metadata": {},
   "outputs": [
    {
     "name": "stdout",
     "output_type": "stream",
     "text": [
      "Tweet_Handle\n",
      "maverickenator\n",
      "aapkask\n",
      "arpshalder\n",
      "GargaC\n",
      "kejriwalfanclub\n"
     ]
    }
   ],
   "source": [
    "con = open(\"../data/tweets_assignment.txt\",\"r\")\n",
    "reader = csv.reader(con, delimiter=\"|\")\n",
    "cnt = 0\n",
    "for row in reader:\n",
    "    print(row[2])\n",
    "    cnt+=1\n",
    "    if cnt>=6:\n",
    "        break\n",
    "con.close()"
   ]
  },
  {
   "cell_type": "code",
   "execution_count": 142,
   "id": "77d8a583-dfc7-4db5-9e31-6151eb32879e",
   "metadata": {},
   "outputs": [
    {
     "name": "stdout",
     "output_type": "stream",
     "text": [
      "maverickenator\n",
      "aapkask\n",
      "arpshalder\n",
      "GargaC\n",
      "kejriwalfanclub\n",
      "varaliprasoon\n"
     ]
    }
   ],
   "source": [
    "cnt = 0\n",
    "with open(\"../data/tweets_assignment.txt\",\"r\") as con:\n",
    "    reader = csv.DictReader(con,delimiter=\"|\")\n",
    "    for row in reader:\n",
    "        print(row[\"Tweet_Handle\"])\n",
    "        cnt+=1\n",
    "        if cnt>=6:\n",
    "            break"
   ]
  },
  {
   "cell_type": "code",
   "execution_count": 126,
   "id": "5a850f43-ba77-4210-b742-a7e5b6b5a5fd",
   "metadata": {},
   "outputs": [
    {
     "data": {
      "text/plain": [
       "<_csv.reader at 0x7f8cc088eeb0>"
      ]
     },
     "execution_count": 126,
     "metadata": {},
     "output_type": "execute_result"
    }
   ],
   "source": [
    "con = open(\"../data/tweets_assignment.txt\",\"r\")\n",
    "reader = csv.reader(con, delimiter=\"|\")\n",
    "reader"
   ]
  },
  {
   "cell_type": "code",
   "execution_count": 128,
   "id": "0053f957-e953-4d92-95c9-24fb1f8367e9",
   "metadata": {},
   "outputs": [],
   "source": [
    "con.close()"
   ]
  },
  {
   "cell_type": "code",
   "execution_count": 133,
   "id": "5f79e53f-b530-4c70-8f81-545d863c77b4",
   "metadata": {},
   "outputs": [
    {
     "name": "stdout",
     "output_type": "stream",
     "text": [
      "['__add__', '__class__', '__contains__', '__delattr__', '__dir__', '__doc__', '__eq__', '__format__', '__ge__', '__getattribute__', '__getitem__', '__getnewargs__', '__gt__', '__hash__', '__init__', '__init_subclass__', '__iter__', '__le__', '__len__', '__lt__', '__mod__', '__mul__', '__ne__', '__new__', '__reduce__', '__reduce_ex__', '__repr__', '__rmod__', '__rmul__', '__setattr__', '__sizeof__', '__str__', '__subclasshook__', 'capitalize', 'casefold', 'center', 'count', 'encode', 'endswith', 'expandtabs', 'find', 'format', 'format_map', 'index', 'isalnum', 'isalpha', 'isascii', 'isdecimal', 'isdigit', 'isidentifier', 'islower', 'isnumeric', 'isprintable', 'isspace', 'istitle', 'isupper', 'join', 'ljust', 'lower', 'lstrip', 'maketrans', 'partition', 'removeprefix', 'removesuffix', 'replace', 'rfind', 'rindex', 'rjust', 'rpartition', 'rsplit', 'rstrip', 'split', 'splitlines', 'startswith', 'strip', 'swapcase', 'title', 'translate', 'upper', 'zfill']\n"
     ]
    }
   ],
   "source": [
    "print(dir(a))"
   ]
  },
  {
   "cell_type": "code",
   "execution_count": 134,
   "id": "130da7aa-9fc8-4f31-99fd-ff3ff8cb12ca",
   "metadata": {},
   "outputs": [
    {
     "data": {
      "text/plain": [
       "True"
      ]
     },
     "execution_count": 134,
     "metadata": {},
     "output_type": "execute_result"
    }
   ],
   "source": [
    "\"win\" in \"Ashwini\""
   ]
  },
  {
   "cell_type": "markdown",
   "id": "fc9a2b76-3baf-41e3-ae35-380c2b5b108c",
   "metadata": {},
   "source": [
    "### Class Excercise (writer and DictWriter)\n",
    "\n",
    "Use the tweets_assignment.txt to find out how many tweets were posted on 23, 24, 25, 26 December. Write the results in a csv file using the writer or DictWriter class. The file should follow the following format:\n",
    "\n",
    "```csv\n",
    "count_23,count_24,count_25,count_26\n",
    "val1,val2,val3,val4\n",
    "```"
   ]
  },
  {
   "cell_type": "markdown",
   "id": "7279e836-5d13-4128-aacd-09636051c182",
   "metadata": {},
   "source": [
    "### Working with JSON data\n",
    "\n",
    "- Ingest the raw json as a string inside python\n",
    "- Somehow turn this string into a relevant python dictionary"
   ]
  },
  {
   "cell_type": "code",
   "execution_count": 148,
   "id": "f77c7bb3-7fd7-45d6-ad65-99b9418d19fa",
   "metadata": {},
   "outputs": [],
   "source": [
    "with open(\"../data/sample_json.json\",\"r\", encoding = \"utf-8\") as con:\n",
    "    json_string = con.read()"
   ]
  },
  {
   "cell_type": "code",
   "execution_count": 149,
   "id": "32e10dcc-5a79-474e-99a3-eb5d262dbac2",
   "metadata": {},
   "outputs": [],
   "source": [
    "import json"
   ]
  },
  {
   "cell_type": "code",
   "execution_count": 150,
   "id": "7a6f3d32-58a1-4b48-9304-3971879db4ab",
   "metadata": {},
   "outputs": [],
   "source": [
    "json_data = json.loads(json_string)"
   ]
  },
  {
   "cell_type": "code",
   "execution_count": 158,
   "id": "84d6dc32-7ed6-41f0-a01c-c58ceff2faf4",
   "metadata": {},
   "outputs": [
    {
     "data": {
      "text/plain": [
       "dict_keys(['type', 'metadata', 'features', 'bbox'])"
      ]
     },
     "execution_count": 158,
     "metadata": {},
     "output_type": "execute_result"
    }
   ],
   "source": [
    "json_data.keys()"
   ]
  },
  {
   "cell_type": "code",
   "execution_count": 159,
   "id": "6ee587e5-4a34-4743-a1c3-3d7c9ef4f930",
   "metadata": {},
   "outputs": [
    {
     "data": {
      "text/plain": [
       "'FeatureCollection'"
      ]
     },
     "execution_count": 159,
     "metadata": {},
     "output_type": "execute_result"
    }
   ],
   "source": [
    "json_data['type']"
   ]
  },
  {
   "cell_type": "code",
   "execution_count": 161,
   "id": "161b3f77-64c4-4068-baa3-aae05171ef05",
   "metadata": {},
   "outputs": [
    {
     "data": {
      "text/plain": [
       "1626859520000"
      ]
     },
     "execution_count": 161,
     "metadata": {},
     "output_type": "execute_result"
    }
   ],
   "source": [
    "json_data['metadata']['generated']"
   ]
  },
  {
   "cell_type": "code",
   "execution_count": 162,
   "id": "216da7e1-9a14-4a4c-877b-2cdc0de1a72c",
   "metadata": {},
   "outputs": [
    {
     "data": {
      "text/plain": [
       "{'generated': 1626859520000,\n",
       " 'url': 'https://earthquake.usgs.gov/earthquakes/feed/v1.0/summary/all_hour.geojson',\n",
       " 'title': 'USGS All Earthquakes, Past Hour',\n",
       " 'status': 200,\n",
       " 'api': '1.10.3',\n",
       " 'count': 14}"
      ]
     },
     "execution_count": 162,
     "metadata": {},
     "output_type": "execute_result"
    }
   ],
   "source": [
    "json_data['metadata']"
   ]
  },
  {
   "cell_type": "code",
   "execution_count": 170,
   "id": "e08768a7-1d98-4fed-baf0-9e102bf355bc",
   "metadata": {},
   "outputs": [
    {
     "name": "stdout",
     "output_type": "stream",
     "text": [
      "2.1500001 3 km ENE of Pāhala, Hawaii https://earthquake.usgs.gov/earthquakes/eventpage/hv72595567\n",
      "1.71 6km WNW of The Geysers, CA https://earthquake.usgs.gov/earthquakes/eventpage/nc73596701\n",
      "2.16000009 1 km E of Pāhala, Hawaii https://earthquake.usgs.gov/earthquakes/eventpage/hv72595557\n",
      "1.2 16 km WNW of Fishhook, Alaska https://earthquake.usgs.gov/earthquakes/eventpage/ak0219a7zdzd\n",
      "1 13 km SW of Walker, California https://earthquake.usgs.gov/earthquakes/eventpage/nn00815387\n",
      "1.62 0 km NE of Union City, Oklahoma https://earthquake.usgs.gov/earthquakes/eventpage/ok2021odxy\n",
      "0.9 2 km NE of Walker, California https://earthquake.usgs.gov/earthquakes/eventpage/nn00815385\n",
      "1.7 23 km WSW of Karluk, Alaska https://earthquake.usgs.gov/earthquakes/eventpage/ak0219a7lg64\n",
      "1.45 4km NW of The Geysers, CA https://earthquake.usgs.gov/earthquakes/eventpage/nc73596691\n",
      "1 64 km ESE of Denali National Park, Alaska https://earthquake.usgs.gov/earthquakes/eventpage/ak0219a7ked9\n",
      "0.8 5 km NNE of Yerington, Nevada https://earthquake.usgs.gov/earthquakes/eventpage/nn00815384\n",
      "2.04 9 km SSE of Volcano, Hawaii https://earthquake.usgs.gov/earthquakes/eventpage/hv72595487\n",
      "1.1 66 km WNW of Happy Valley, Alaska https://earthquake.usgs.gov/earthquakes/eventpage/ak0219a7hdrg\n",
      "0.38 22km ESE of Little Lake, CA https://earthquake.usgs.gov/earthquakes/eventpage/ci39748207\n"
     ]
    }
   ],
   "source": [
    "mag = []\n",
    "loc = []\n",
    "urls = []\n",
    "for feature in json_data['features']:\n",
    "    print(feature['properties']['mag'],feature['properties']['place'],feature['properties']['url'])"
   ]
  },
  {
   "cell_type": "code",
   "execution_count": null,
   "id": "ed07a5e3-0311-4db2-b968-9754d2de4aac",
   "metadata": {},
   "outputs": [],
   "source": []
  }
 ],
 "metadata": {
  "kernelspec": {
   "display_name": "Python 3",
   "language": "python",
   "name": "python3"
  },
  "language_info": {
   "codemirror_mode": {
    "name": "ipython",
    "version": 3
   },
   "file_extension": ".py",
   "mimetype": "text/x-python",
   "name": "python",
   "nbconvert_exporter": "python",
   "pygments_lexer": "ipython3",
   "version": "3.9.5"
  }
 },
 "nbformat": 4,
 "nbformat_minor": 5
}
