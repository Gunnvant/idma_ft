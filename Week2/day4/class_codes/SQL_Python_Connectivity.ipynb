{
 "cells": [
  {
   "cell_type": "markdown",
   "id": "f607a50f-ae48-44a7-804a-89be82911191",
   "metadata": {},
   "source": [
    "# Sql and Python\n",
    "\n",
    "One of the primary purpose of studying SQL for a data scientist or an ml engineer is to be able to query data from the database and create some kind of analysis. Some times though, one may need to do an analysis that would require more capabilities than what sql can offer, eg creating visualizations, or sending the processed data over to some kind of api service etc. This then necessitates the need to be able to access data from sql using a programming language that can do things such as visualizatons, ml, api requests etc. \n",
    "\n",
    "Another reason one may want to know about connecting with sql through python is that many times one needs to create databases!! Suppose you have data inside json files, you can't ingest this data in a database. You will need to process the json first and only then it can be fed into a db. \n",
    "\n",
    "The whole discussion on python-sql will revolve around two things:\n",
    "\n",
    "1. Connecting to an existing sql database and fetching data into python\n",
    "2. Creating a new database and populatiing it with tables using python\n"
   ]
  },
  {
   "cell_type": "markdown",
   "id": "8219c2ff-abf0-442f-99be-a19e3863a15b",
   "metadata": {},
   "source": [
    "## Connecting to an existing database and fetching data\n",
    "\n",
    "We can use `sqlalchemy` to connect to different kinds of databases. Its an ORM, heavily used by web-developers as well as data engineering folks."
   ]
  },
  {
   "cell_type": "code",
   "execution_count": 1,
   "id": "d15e9949-4b6b-4eaa-9011-c197f001a3b4",
   "metadata": {},
   "outputs": [],
   "source": [
    "from sqlalchemy.ext.automap import automap_base \n",
    "from sqlalchemy import create_engine\n",
    "Base = automap_base() \n",
    "engine = create_engine('sqlite:///../../data/music.db')"
   ]
  },
  {
   "cell_type": "code",
   "execution_count": 2,
   "id": "a72cf7bf-875c-4a5a-8fde-c96efa78f004",
   "metadata": {},
   "outputs": [
    {
     "data": {
      "text/plain": [
       "['Album',\n",
       " 'Artist',\n",
       " 'Customer',\n",
       " 'Employee',\n",
       " 'Genre',\n",
       " 'Invoice',\n",
       " 'InvoiceLine',\n",
       " 'Track',\n",
       " 'MediaType',\n",
       " 'Playlist']"
      ]
     },
     "execution_count": 2,
     "metadata": {},
     "output_type": "execute_result"
    }
   ],
   "source": [
    "## Automap lets you look at the tables in a db\n",
    "Base.prepare(engine, reflect=True)\n",
    "Base.classes.keys()"
   ]
  },
  {
   "cell_type": "code",
   "execution_count": 3,
   "id": "bf48da5e-3d58-4373-a2fb-fa1a6202d42c",
   "metadata": {},
   "outputs": [],
   "source": [
    "## One can use the engine object to query data even without using Automap\n",
    "data = engine.execute(\"Select * from Artist limit 5;\")"
   ]
  },
  {
   "cell_type": "code",
   "execution_count": 4,
   "id": "ef0f7052-bcb8-4165-b919-6e2a6b2e3d5e",
   "metadata": {},
   "outputs": [
    {
     "data": {
      "text/plain": [
       "[(1, 'AC/DC'),\n",
       " (2, 'Accept'),\n",
       " (3, 'Aerosmith'),\n",
       " (4, 'Alanis Morissette'),\n",
       " (5, 'Alice In Chains')]"
      ]
     },
     "execution_count": 4,
     "metadata": {},
     "output_type": "execute_result"
    }
   ],
   "source": [
    "data.fetchall()"
   ]
  },
  {
   "cell_type": "code",
   "execution_count": 5,
   "id": "b6acc824-2f54-4a94-b335-29a704249034",
   "metadata": {},
   "outputs": [
    {
     "data": {
      "text/plain": [
       "[(1, 'Adams', 'Andrew', 'General Manager', None, '1962-02-18 00:00:00', '2002-08-14 00:00:00', '11120 Jasper Ave NW', 'Edmonton', 'AB', 'Canada', 'T5K 2N1', '+1 (780) 428-9482', '+1 (780) 428-3457', 'andrew@chinookcorp.com'),\n",
       " (2, 'Edwards', 'Nancy', 'Sales Manager', 1, '1958-12-08 00:00:00', '2002-05-01 00:00:00', '825 8 Ave SW', 'Calgary', 'AB', 'Canada', 'T2P 2T3', '+1 (403) 262-3443', '+1 (403) 262-3322', 'nancy@chinookcorp.com'),\n",
       " (3, 'Peacock', 'Jane', 'Sales Support Agent', 2, '1973-08-29 00:00:00', '2002-04-01 00:00:00', '1111 6 Ave SW', 'Calgary', 'AB', 'Canada', 'T2P 5M5', '+1 (403) 262-3443', '+1 (403) 262-6712', 'jane@chinookcorp.com'),\n",
       " (4, 'Park', 'Margaret', 'Sales Support Agent', 2, '1947-09-19 00:00:00', '2003-05-03 00:00:00', '683 10 Street SW', 'Calgary', 'AB', 'Canada', 'T2P 5G3', '+1 (403) 263-4423', '+1 (403) 263-4289', 'margaret@chinookcorp.com'),\n",
       " (5, 'Johnson', 'Steve', 'Sales Support Agent', 2, '1965-03-03 00:00:00', '2003-10-17 00:00:00', '7727B 41 Ave', 'Calgary', 'AB', 'Canada', 'T3B 1Y7', '1 (780) 836-9987', '1 (780) 836-9543', 'steve@chinookcorp.com')]"
      ]
     },
     "execution_count": 5,
     "metadata": {},
     "output_type": "execute_result"
    }
   ],
   "source": [
    " engine.execute(\"Select * from Employee limit 5;\").fetchall()"
   ]
  },
  {
   "cell_type": "code",
   "execution_count": 6,
   "id": "3b6bf2b3-7479-492d-b6ad-074a3178cb56",
   "metadata": {},
   "outputs": [],
   "source": [
    "## But using automap one can access metadata such as column names\n",
    "Artist = Base.classes.Artist\n",
    "Album = Base.classes.Album"
   ]
  },
  {
   "cell_type": "code",
   "execution_count": 7,
   "id": "51f1dbee-1602-493f-9b22-397b606de711",
   "metadata": {},
   "outputs": [
    {
     "data": {
      "text/plain": [
       "['ArtistId', 'Name']"
      ]
     },
     "execution_count": 7,
     "metadata": {},
     "output_type": "execute_result"
    }
   ],
   "source": [
    "Artist.__table__.columns.keys()"
   ]
  },
  {
   "cell_type": "code",
   "execution_count": 8,
   "id": "1c93946f-be03-4c6b-8aee-c3fb5ec764bc",
   "metadata": {},
   "outputs": [
    {
     "name": "stdout",
     "output_type": "stream",
     "text": [
      "1 AC/DC\n",
      "2 Accept\n",
      "3 Aerosmith\n",
      "4 Alanis Morissette\n",
      "5 Alice In Chains\n",
      "6 Antônio Carlos Jobim\n",
      "7 Apocalyptica\n",
      "8 Audioslave\n",
      "9 BackBeat\n",
      "10 Billy Cobham\n"
     ]
    }
   ],
   "source": [
    "## One can use another api as well to query data (this is a very popular method while developing web-applications\n",
    "## feel free to read more about query types here https://docs.sqlalchemy.org/en/14/orm/tutorial.html#querying\n",
    "from sqlalchemy.orm import Session\n",
    "session = Session(engine)\n",
    "for artist in session.query(Artist).limit(10):\n",
    "    print(artist.ArtistId, artist.Name)"
   ]
  },
  {
   "cell_type": "code",
   "execution_count": 9,
   "id": "0365e948-4766-48d2-85ab-462830d9891a",
   "metadata": {},
   "outputs": [],
   "source": [
    "### What if you want the data in a pandas dataframe?\n",
    "import pandas as pd\n",
    "df_sql = pd.read_sql(\"Select * from artist;\",engine)"
   ]
  },
  {
   "cell_type": "code",
   "execution_count": 10,
   "id": "0d7e0621-759b-402c-ba45-294169ca886a",
   "metadata": {},
   "outputs": [
    {
     "data": {
      "text/html": [
       "<div>\n",
       "<style scoped>\n",
       "    .dataframe tbody tr th:only-of-type {\n",
       "        vertical-align: middle;\n",
       "    }\n",
       "\n",
       "    .dataframe tbody tr th {\n",
       "        vertical-align: top;\n",
       "    }\n",
       "\n",
       "    .dataframe thead th {\n",
       "        text-align: right;\n",
       "    }\n",
       "</style>\n",
       "<table border=\"1\" class=\"dataframe\">\n",
       "  <thead>\n",
       "    <tr style=\"text-align: right;\">\n",
       "      <th></th>\n",
       "      <th>ArtistId</th>\n",
       "      <th>Name</th>\n",
       "    </tr>\n",
       "  </thead>\n",
       "  <tbody>\n",
       "    <tr>\n",
       "      <th>0</th>\n",
       "      <td>1</td>\n",
       "      <td>AC/DC</td>\n",
       "    </tr>\n",
       "    <tr>\n",
       "      <th>1</th>\n",
       "      <td>2</td>\n",
       "      <td>Accept</td>\n",
       "    </tr>\n",
       "    <tr>\n",
       "      <th>2</th>\n",
       "      <td>3</td>\n",
       "      <td>Aerosmith</td>\n",
       "    </tr>\n",
       "    <tr>\n",
       "      <th>3</th>\n",
       "      <td>4</td>\n",
       "      <td>Alanis Morissette</td>\n",
       "    </tr>\n",
       "    <tr>\n",
       "      <th>4</th>\n",
       "      <td>5</td>\n",
       "      <td>Alice In Chains</td>\n",
       "    </tr>\n",
       "    <tr>\n",
       "      <th>...</th>\n",
       "      <td>...</td>\n",
       "      <td>...</td>\n",
       "    </tr>\n",
       "    <tr>\n",
       "      <th>270</th>\n",
       "      <td>271</td>\n",
       "      <td>Mela Tenenbaum, Pro Musica Prague &amp; Richard Kapp</td>\n",
       "    </tr>\n",
       "    <tr>\n",
       "      <th>271</th>\n",
       "      <td>272</td>\n",
       "      <td>Emerson String Quartet</td>\n",
       "    </tr>\n",
       "    <tr>\n",
       "      <th>272</th>\n",
       "      <td>273</td>\n",
       "      <td>C. Monteverdi, Nigel Rogers - Chiaroscuro; Lon...</td>\n",
       "    </tr>\n",
       "    <tr>\n",
       "      <th>273</th>\n",
       "      <td>274</td>\n",
       "      <td>Nash Ensemble</td>\n",
       "    </tr>\n",
       "    <tr>\n",
       "      <th>274</th>\n",
       "      <td>275</td>\n",
       "      <td>Philip Glass Ensemble</td>\n",
       "    </tr>\n",
       "  </tbody>\n",
       "</table>\n",
       "<p>275 rows × 2 columns</p>\n",
       "</div>"
      ],
      "text/plain": [
       "     ArtistId                                               Name\n",
       "0           1                                              AC/DC\n",
       "1           2                                             Accept\n",
       "2           3                                          Aerosmith\n",
       "3           4                                  Alanis Morissette\n",
       "4           5                                    Alice In Chains\n",
       "..        ...                                                ...\n",
       "270       271   Mela Tenenbaum, Pro Musica Prague & Richard Kapp\n",
       "271       272                             Emerson String Quartet\n",
       "272       273  C. Monteverdi, Nigel Rogers - Chiaroscuro; Lon...\n",
       "273       274                                      Nash Ensemble\n",
       "274       275                              Philip Glass Ensemble\n",
       "\n",
       "[275 rows x 2 columns]"
      ]
     },
     "execution_count": 10,
     "metadata": {},
     "output_type": "execute_result"
    }
   ],
   "source": [
    "df_sql"
   ]
  },
  {
   "cell_type": "markdown",
   "id": "38f2ef8b-0dec-4514-bd79-d0ce595f2a17",
   "metadata": {},
   "source": [
    "## Creating a db and ingesting flat files as tables.\n",
    "\n",
    "The second task that can be handled effectively by python-sql is the creation of databases and tables within them.\n",
    "\n",
    "We will learn the following:\n",
    "\n",
    "1. Ingesting single table in a db from a flat file\n",
    "2. Ingesting multiple related tables in a db from flat files\n",
    "\n",
    "The process of table creation involves the following steps:\n",
    "\n",
    "1. Defining the column types of the table\n",
    "2. Defining any primary key/ foreign key constraints\n",
    "3. Ingesting the data from the flat file to the table(s) in db\n",
    "\n",
    "We will use the `retail_sales.csv` file and see how it can be ingested in the db"
   ]
  },
  {
   "cell_type": "code",
   "execution_count": 11,
   "id": "20d65d6a-784e-43a4-bb37-6126dcfae3b8",
   "metadata": {},
   "outputs": [],
   "source": [
    "from sqlalchemy import Column, Integer, Numeric, String, DateTime ## for defining schema\n",
    "from sqlalchemy.ext.declarative import declarative_base ## defining tables\n",
    "from sqlalchemy import create_engine ## db path etc\n",
    "from sqlalchemy.orm import Session ## for querying/inserting in db"
   ]
  },
  {
   "cell_type": "code",
   "execution_count": 12,
   "id": "37d1a2df-5b26-4b72-b7ec-1733a3c02385",
   "metadata": {},
   "outputs": [],
   "source": [
    "Base = declarative_base()"
   ]
  },
  {
   "cell_type": "code",
   "execution_count": 13,
   "id": "a91fb021-807e-4c2e-8283-dd03654feb7c",
   "metadata": {},
   "outputs": [],
   "source": [
    "class Sales(Base):\n",
    "    __tablename__='sales'\n",
    "    id = Column(Integer(),autoincrement=True,primary_key=True)\n",
    "    sales_month = Column(DateTime())\n",
    "    naics_code = Column(String())\n",
    "    kind_of_business = Column(String())\n",
    "    reason_for_null = Column(String())\n",
    "    sales = Column(Numeric())       "
   ]
  },
  {
   "cell_type": "code",
   "execution_count": 14,
   "id": "710598b1-74e9-44c1-87a0-21264f6febc0",
   "metadata": {},
   "outputs": [],
   "source": [
    "engine = create_engine('sqlite:///../../data/example.db')"
   ]
  },
  {
   "cell_type": "code",
   "execution_count": 15,
   "id": "6cb514c6-cc02-41af-b204-5526c45b5bf6",
   "metadata": {},
   "outputs": [],
   "source": [
    "Base.metadata.create_all(engine) ## We can check if the table was created in the db"
   ]
  },
  {
   "cell_type": "code",
   "execution_count": 16,
   "id": "4f88bc6c-60ab-41f1-9660-26984cbdfd66",
   "metadata": {},
   "outputs": [],
   "source": [
    "### Now lets create a session object so that we can insert the data in the table\n",
    "session = Session(engine)"
   ]
  },
  {
   "cell_type": "code",
   "execution_count": 17,
   "id": "50669b8a-8fea-4b8d-89ae-926b85ed7932",
   "metadata": {},
   "outputs": [],
   "source": [
    "### read the data from csv\n",
    "import csv\n",
    "import datetime\n",
    "cnt = 0\n",
    "with open(\"../../data/retail_sales_us.csv\",\"r\",encoding='utf-8-sig') as f:\n",
    "    reader = csv.DictReader(f,delimiter=\",\")\n",
    "    for row in reader:\n",
    "        db_row = Sales(sales_month = datetime.datetime.fromisoformat(row['sales_month']),\n",
    "                       naics_code = row['naics_code'],\n",
    "                       kind_of_business = row['kind_of_business'],\n",
    "                       reason_for_null = row['reason_for_null'],\n",
    "                       sales = row['sales'])\n",
    "        session.add(db_row)\n",
    "        try:\n",
    "            session.commit()\n",
    "        except:\n",
    "            session.rollback()\n",
    "        finally:\n",
    "            cnt+=1\n",
    "            if cnt>=1:\n",
    "                break\n",
    "   "
   ]
  },
  {
   "cell_type": "code",
   "execution_count": 18,
   "id": "c7e476d1-a5b1-4614-9054-90c9a63ef94d",
   "metadata": {},
   "outputs": [],
   "source": [
    "## Lets insert all the rows:\n",
    "engine = create_engine('sqlite:///../../data/example.db')\n",
    "Base.metadata.create_all(engine)\n",
    "session = Session(engine)\n",
    "\n",
    "with open(\"../../data/retail_sales_us.csv\",\"r\",encoding='utf-8-sig') as f:\n",
    "    reader = csv.DictReader(f,delimiter=\",\")\n",
    "    for row in reader:\n",
    "        db_row = Sales(sales_month = datetime.datetime.fromisoformat(row['sales_month']),\n",
    "                       naics_code = row['naics_code'],\n",
    "                       kind_of_business = row['kind_of_business'],\n",
    "                       reason_for_null = row['reason_for_null'],\n",
    "                       sales = row['sales'])\n",
    "        session.add(db_row)\n",
    "        try:\n",
    "            session.commit()\n",
    "        except:\n",
    "            session.rollback()"
   ]
  },
  {
   "cell_type": "markdown",
   "id": "3bfa91ad-beec-479e-94ca-aef0c463c6f3",
   "metadata": {},
   "source": [
    "## Inserting data when multiple tables are related\n",
    "\n",
    "Lets use the candidates and contributions flat files and ingest them in the db. Also to be noted is the fact that both the tables are related. \n",
    "\n",
    "- Candidates will become the parent table\n",
    "- Contributions will becoms the child table"
   ]
  },
  {
   "cell_type": "code",
   "execution_count": 29,
   "id": "6e7d32d5-e15b-4e9c-b79f-e43a6e831571",
   "metadata": {},
   "outputs": [],
   "source": [
    "from sqlalchemy.orm import relationship\n",
    "from sqlalchemy import ForeignKey\n",
    "Base = declarative_base()\n",
    "\n",
    "class Candidates(Base):\n",
    "    __tablename__ = 'candidates'\n",
    "    \n",
    "    candidate_id = Column(Integer(),primary_key=True)\n",
    "    first_name = Column(String(),nullable=False)\n",
    "    last_name = Column(String(),nullable=False)\n",
    "    middle_name = Column(String())\n",
    "    party = Column(String(),nullable=False)\n",
    "    \n",
    "class Contributions(Base):\n",
    "    __tablename__ = \"contributions\"\n",
    "    \n",
    "    id = Column(Integer(),autoincrement=True,primary_key=True)\n",
    "    first_name = Column(String(),nullable=False)\n",
    "    last_name = Column(String(),nullable=False)\n",
    "    middle_name = Column(String()) \n",
    "    street_1 = Column(String()) \n",
    "    street_2 = Column(String()) \n",
    "    city = Column(String()) \n",
    "    state = Column(String()) \n",
    "    zip = Column(String()) \n",
    "    amount = Column(Numeric())\n",
    "    date = Column(DateTime())\n",
    "    candidate_id = Column(Integer(),ForeignKey('candidates.candidate_id'))\n",
    "    \n",
    "engine = create_engine('sqlite:///../../data/relationship.db')\n",
    "Base.metadata.create_all(engine)   "
   ]
  },
  {
   "cell_type": "code",
   "execution_count": 30,
   "id": "df3f2345-776a-4baf-8dee-8078fff8c597",
   "metadata": {},
   "outputs": [],
   "source": [
    "session = Session(engine)\n",
    "with open(\"../../../Week1/data/candidates.csv\",\"r\") as f:\n",
    "    reader = csv.DictReader(f,delimiter = \",\")\n",
    "    for row in reader:\n",
    "        candidate = Candidates(candidate_id = row['id'],\n",
    "                              first_name = row['first_name'],\n",
    "                              last_name = row['last_name'],\n",
    "                              middle_name = row['middle_name'],\n",
    "                              party = row['party'])\n",
    "        session.add(candidate)\n",
    "        try:\n",
    "            session.commit()\n",
    "        except:\n",
    "            session.rollback()"
   ]
  },
  {
   "cell_type": "code",
   "execution_count": 33,
   "id": "88429473-e140-48d3-bde9-df1e316da514",
   "metadata": {},
   "outputs": [],
   "source": [
    "with open(\"../../../Week1/data/contributions.csv\",\"r\") as f:\n",
    "    reader = csv.DictReader(f,delimiter = \",\")\n",
    "    for row in reader:\n",
    "        contribution = Contributions(first_name = row['first_name'],\n",
    "                                     last_name = row['last_name'],\n",
    "                                     middle_name = row['middle_name'],\n",
    "                                     street_1 = row['street_1'],\n",
    "                                     street_2 = row['street_2'],\n",
    "                                     city = row['city'],\n",
    "                                     state = row['state'],\n",
    "                                     zip = row['zip'],\n",
    "                                     amount = row['amount'],\n",
    "                                     date = datetime.date.fromisoformat(row['date']),\n",
    "                                     candidate_id = row['candidate_id'])\n",
    "        session.add(contribution)\n",
    "        try:\n",
    "            session.commit()\n",
    "        except:\n",
    "            session.rollback()\n",
    "                                     "
   ]
  },
  {
   "cell_type": "code",
   "execution_count": null,
   "id": "735a5270-c41a-4d5e-af48-aba849140e47",
   "metadata": {},
   "outputs": [],
   "source": []
  }
 ],
 "metadata": {
  "kernelspec": {
   "display_name": "Python 3 (ipykernel)",
   "language": "python",
   "name": "python3"
  },
  "language_info": {
   "codemirror_mode": {
    "name": "ipython",
    "version": 3
   },
   "file_extension": ".py",
   "mimetype": "text/x-python",
   "name": "python",
   "nbconvert_exporter": "python",
   "pygments_lexer": "ipython3",
   "version": "3.9.5"
  }
 },
 "nbformat": 4,
 "nbformat_minor": 5
}
