{
 "cells": [
  {
   "cell_type": "markdown",
   "id": "b390ca9e-95d5-4ea1-b610-7f30161dfc45",
   "metadata": {},
   "source": [
    "## Day2\n",
    "- Gradient Descent\n",
    "- Parameter Estimation for Linear Regression\n",
    "- Parameter Estimation for Logistic Regression"
   ]
  },
  {
   "cell_type": "markdown",
   "id": "c30d25d5-b66f-4d92-a37c-c0648b624a1d",
   "metadata": {},
   "source": [
    "One of the commonly used techniques is called gradient descent. First let's understand how gradient descent works using an example of a simple example of a polynomial minimization\n",
    "\n",
    "Assume I wanted to solve the following problem:\n",
    "**$argmin_x f(x) = x^2+4x+18$**\n",
    "\n",
    "The gradient descent algorithm works as below:\n",
    "$X_{new} := X_{old}-\\eta\\frac{d(f(x)}{d(x)}$"
   ]
  },
  {
   "cell_type": "code",
   "execution_count": 1,
   "id": "6c18313e-6aa6-4b46-a882-d1054bb69553",
   "metadata": {},
   "outputs": [
    {
     "name": "stdout",
     "output_type": "stream",
     "text": [
      "Value of function is 17.8416, value of gradient is 4, value of X is -0.04\n",
      "Value of function is 17.68947264, value of gradient is 3.92, value of X is -0.07919999999999999\n",
      "Value of function is 17.543369523456, value of gradient is 3.8416, value of X is -0.117616\n",
      "Value of function is 17.403052090327144, value of gradient is 3.764768, value of X is -0.15526368000000002\n",
      "Value of function is 17.268291227550186, value of gradient is 3.68947264, value of X is -0.1921584064\n"
     ]
    }
   ],
   "source": [
    "import numpy as np\n",
    "def grad(x):\n",
    "    return 2*x+4\n",
    "def f(x):\n",
    "    return x**2+4*x+18\n",
    "X=0\n",
    "eta=0.01\n",
    "for i in range(5):\n",
    "    gradient=grad(X)\n",
    "    Xnew=X-eta*gradient\n",
    "    X=Xnew\n",
    "    func=f(X)\n",
    "    print(f\"Value of function is {func}, value of gradient is {gradient}, value of X is {X}\")\n",
    "    "
   ]
  },
  {
   "cell_type": "code",
   "execution_count": 2,
   "id": "e1d7612e-95a0-4cec-a6cc-05e44cf72a94",
   "metadata": {},
   "outputs": [],
   "source": [
    "class GradientDescent():\n",
    "    def __init__(self,grad,f):\n",
    "        self.grad=grad\n",
    "        self.f=f\n",
    "    def estimate(self,eta,n_iter,x_0):\n",
    "        x=x_0\n",
    "        for i in range(n_iter):\n",
    "            gradient=self.grad(x)\n",
    "            x_new=x-eta*gradient\n",
    "            x=x_new\n",
    "        result={'function_value':self.f(x),'parameter_value':x,'gradient_value':self.grad(x)}\n",
    "        return result"
   ]
  },
  {
   "cell_type": "code",
   "execution_count": 3,
   "id": "8ec0afaa-3509-4c40-8967-4ae98a137438",
   "metadata": {},
   "outputs": [],
   "source": [
    "gradient_descent=GradientDescent(grad,f)"
   ]
  },
  {
   "cell_type": "code",
   "execution_count": 4,
   "id": "24c744ac-58ea-4f43-af22-03a8f31d24a6",
   "metadata": {},
   "outputs": [
    {
     "data": {
      "text/plain": [
       "{'function_value': 14.0,\n",
       " 'parameter_value': -1.9999999966340651,\n",
       " 'gradient_value': 6.731869728326956e-09}"
      ]
     },
     "execution_count": 4,
     "metadata": {},
     "output_type": "execute_result"
    }
   ],
   "source": [
    "gradient_descent.estimate(eta=0.01,n_iter=1000,x_0=0)"
   ]
  },
  {
   "cell_type": "markdown",
   "id": "fa71d317-ed2b-4897-b062-6737d9db8868",
   "metadata": {},
   "source": [
    "Let's apply gradient descent to solve the parameter estimation problem for linear regression, result 21 (https://www.cs.toronto.edu/~rgrosse/courses/csc321_2018/readings/L02%20Linear%20Regression.pdf) illustrates how this can be done:\n",
    "\n",
    "Gradient of RSS=$-2X^T(XW-y)$\n",
    "So, the update rule will be:\n",
    "- $W_{new}=W_{old}-\\eta X^T(XW_{old}-y)$\n",
    "\n",
    "Clearly we will need to initialize the $W$ matrix, we will do this initially by making all the entries as zeros"
   ]
  },
  {
   "cell_type": "code",
   "execution_count": 5,
   "id": "87f6a932-56cc-4daa-9ea3-14dc56a6ccb1",
   "metadata": {},
   "outputs": [],
   "source": [
    "import pandas as pd\n",
    "data=pd.read_csv(\"data/regression.csv\")"
   ]
  },
  {
   "cell_type": "code",
   "execution_count": 6,
   "id": "bbb0fdd9-0877-4971-acd5-8d590985315e",
   "metadata": {},
   "outputs": [],
   "source": [
    "X=data[['cylinders']].copy()\n",
    "X['intercept']=1\n",
    "X=X[['intercept','cylinders']]\n",
    "X=X.values\n",
    "y=data['mpg']\n",
    "y=y.values"
   ]
  },
  {
   "cell_type": "code",
   "execution_count": 7,
   "id": "aa6d3463-5eb3-4be9-9b50-9d55709802c3",
   "metadata": {},
   "outputs": [],
   "source": [
    "class LinearRegression:\n",
    "    def __init__(self,X,y,lr=0.01):\n",
    "        self.X=X\n",
    "        self.y=y\n",
    "        self.lr = lr\n",
    "    \n",
    "    def fit(self):\n",
    "        W=np.ones(self.X.shape[1])\n",
    "        for i in range(1000):\n",
    "            y_pred=np.matmul(self.X,W)\n",
    "            resid=self.y-y_pred\n",
    "            grad=np.matmul(self.X.T,resid)\n",
    "            grad=(-2*grad)/len(self.y)\n",
    "            W_new=W-self.lr*grad\n",
    "            W=W_new\n",
    "        return W"
   ]
  },
  {
   "cell_type": "code",
   "execution_count": 8,
   "id": "f9249c04-50a5-492e-a507-4443e5584223",
   "metadata": {},
   "outputs": [
    {
     "data": {
      "text/plain": [
       "array([35.52255148, -2.31847888])"
      ]
     },
     "execution_count": 8,
     "metadata": {},
     "output_type": "execute_result"
    }
   ],
   "source": [
    "mod = LinearRegression(X,y)\n",
    "mod.fit()"
   ]
  },
  {
   "cell_type": "markdown",
   "id": "50f216a2-b07b-4635-b56c-2db9e8584f44",
   "metadata": {},
   "source": [
    "## Beta estimation Logistic Regression\n",
    "\n",
    "The loss function for logistic regression can be written as:\n",
    "\n",
    "$Loss = -1[ylog(p)+ (1-y)log(1-p)]$\n",
    "\n",
    "The gradient of the loss function can be written as:\n",
    "\n",
    "$X^T(p-y)$"
   ]
  },
  {
   "cell_type": "code",
   "execution_count": 9,
   "id": "ef430790-3b35-4d1c-82c5-aa8f27a63930",
   "metadata": {},
   "outputs": [],
   "source": [
    "cls=pd.read_csv(\"./data/classification.csv\")"
   ]
  },
  {
   "cell_type": "code",
   "execution_count": 10,
   "id": "bb5fc23b-df63-45c3-8355-05d768e20165",
   "metadata": {},
   "outputs": [
    {
     "data": {
      "text/html": [
       "<div>\n",
       "<style scoped>\n",
       "    .dataframe tbody tr th:only-of-type {\n",
       "        vertical-align: middle;\n",
       "    }\n",
       "\n",
       "    .dataframe tbody tr th {\n",
       "        vertical-align: top;\n",
       "    }\n",
       "\n",
       "    .dataframe thead th {\n",
       "        text-align: right;\n",
       "    }\n",
       "</style>\n",
       "<table border=\"1\" class=\"dataframe\">\n",
       "  <thead>\n",
       "    <tr style=\"text-align: right;\">\n",
       "      <th></th>\n",
       "      <th>No_pregnant</th>\n",
       "      <th>Plasma_glucose</th>\n",
       "      <th>Blood_pres</th>\n",
       "      <th>Skin_thick</th>\n",
       "      <th>Serum_insu</th>\n",
       "      <th>BMI</th>\n",
       "      <th>Diabetes_func</th>\n",
       "      <th>Age</th>\n",
       "      <th>Class</th>\n",
       "    </tr>\n",
       "  </thead>\n",
       "  <tbody>\n",
       "    <tr>\n",
       "      <th>0</th>\n",
       "      <td>6</td>\n",
       "      <td>148</td>\n",
       "      <td>72</td>\n",
       "      <td>35</td>\n",
       "      <td>0</td>\n",
       "      <td>33.6</td>\n",
       "      <td>0.627</td>\n",
       "      <td>50</td>\n",
       "      <td>1</td>\n",
       "    </tr>\n",
       "    <tr>\n",
       "      <th>1</th>\n",
       "      <td>1</td>\n",
       "      <td>85</td>\n",
       "      <td>66</td>\n",
       "      <td>29</td>\n",
       "      <td>0</td>\n",
       "      <td>26.6</td>\n",
       "      <td>0.351</td>\n",
       "      <td>31</td>\n",
       "      <td>0</td>\n",
       "    </tr>\n",
       "  </tbody>\n",
       "</table>\n",
       "</div>"
      ],
      "text/plain": [
       "   No_pregnant  Plasma_glucose  Blood_pres  Skin_thick  Serum_insu   BMI  \\\n",
       "0            6             148          72          35           0  33.6   \n",
       "1            1              85          66          29           0  26.6   \n",
       "\n",
       "   Diabetes_func  Age  Class  \n",
       "0          0.627   50      1  \n",
       "1          0.351   31      0  "
      ]
     },
     "execution_count": 10,
     "metadata": {},
     "output_type": "execute_result"
    }
   ],
   "source": [
    "cls.head(2)"
   ]
  },
  {
   "cell_type": "markdown",
   "id": "c5bd1785-bd8f-4919-b302-37f439b6988d",
   "metadata": {},
   "source": [
    "$log(p)/log(1-p)=\\beta_0+\\beta_1NoPreg$"
   ]
  },
  {
   "cell_type": "code",
   "execution_count": 11,
   "id": "d518e26e-27ef-456c-894f-bae9fafcc4c6",
   "metadata": {},
   "outputs": [],
   "source": [
    "W=np.ones(2)\n",
    "X=cls[['No_pregnant']].copy()\n",
    "X['intercept']=1\n",
    "X=X[['intercept','No_pregnant']].values\n",
    "y=cls['Class'].values"
   ]
  },
  {
   "cell_type": "code",
   "execution_count": 12,
   "id": "776402c2-18de-40e9-acf7-383b45d2ff2f",
   "metadata": {},
   "outputs": [],
   "source": [
    "z=np.matmul(X,W) ## b0+b1X1"
   ]
  },
  {
   "cell_type": "code",
   "execution_count": 13,
   "id": "1842dac8-37b5-4484-854d-34bf7abf8a78",
   "metadata": {},
   "outputs": [],
   "source": [
    "p=1/(1+np.exp(-z))"
   ]
  },
  {
   "cell_type": "code",
   "execution_count": 14,
   "id": "e14935ee-e9ba-49ef-b54e-6c1391065541",
   "metadata": {},
   "outputs": [],
   "source": [
    "def grad(X,resid):\n",
    "    return np.matmul(X.T,resid)"
   ]
  },
  {
   "cell_type": "code",
   "execution_count": 15,
   "id": "0ed0f2b7-1fe3-43cd-852d-b411a267f73c",
   "metadata": {},
   "outputs": [
    {
     "data": {
      "text/plain": [
       "array([-0.43042259,  0.02710281])"
      ]
     },
     "execution_count": 15,
     "metadata": {},
     "output_type": "execute_result"
    }
   ],
   "source": [
    "lr=0.01\n",
    "W=np.ones(2)\n",
    "for i in range(1000):\n",
    "    z=np.matmul(X,W)\n",
    "    p=1/(1+np.exp(-z))\n",
    "    resid=p-y\n",
    "    g=grad(X,resid)\n",
    "    g=g/len(y)\n",
    "    W_new=W-lr*g\n",
    "    W=W_new\n",
    "W"
   ]
  },
  {
   "cell_type": "code",
   "execution_count": null,
   "id": "f80f4dc5-0fb7-4a7f-8713-b14989b7a9e3",
   "metadata": {},
   "outputs": [],
   "source": []
  }
 ],
 "metadata": {
  "kernelspec": {
   "display_name": "Python 3 (ipykernel)",
   "language": "python",
   "name": "python3"
  },
  "language_info": {
   "codemirror_mode": {
    "name": "ipython",
    "version": 3
   },
   "file_extension": ".py",
   "mimetype": "text/x-python",
   "name": "python",
   "nbconvert_exporter": "python",
   "pygments_lexer": "ipython3",
   "version": "3.9.7"
  }
 },
 "nbformat": 4,
 "nbformat_minor": 5
}
