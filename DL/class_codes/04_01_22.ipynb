{
 "cells": [
  {
   "cell_type": "markdown",
   "id": "ec25ac2e-6ff5-4d37-8d5e-c4ae0f51f3be",
   "metadata": {},
   "source": [
    "# Day1\n",
    "- Write basic code for a neuron\n",
    "- Matrix operations, represent the NN and flow of data in it\n",
    "- Loss functions from the mathematical definitions"
   ]
  },
  {
   "cell_type": "code",
   "execution_count": 16,
   "id": "70b0bc06-a9d9-4af8-a1bf-4c26a0ee56e1",
   "metadata": {},
   "outputs": [],
   "source": [
    "## inputs, output\n",
    "# input1: data-->(dataframe, 2D array (list of list), 1D array(vectors) list)\n",
    "# input2: weights and biases----> weights (list), bias-->number\n",
    "# activation function----> not a python datastructure\n",
    "\n",
    "data = [[2,4,6],[3,9,0]]\n",
    "data_simple = {'row1':[2,4,6],'row2':[3,9,0]}\n",
    "wts = [6,2,4]\n",
    "b = 12\n",
    "\n",
    "def dot(wts,row):\n",
    "    res = 0\n",
    "    for weight,inp in zip(wts,row):\n",
    "        res += weight*inp\n",
    "    return res\n",
    "\n",
    "def relu(z):\n",
    "    return max(0,z)\n",
    "\n",
    "def sigmoid(z):\n",
    "    z = -1*z\n",
    "    exp = 2.71\n",
    "    return 1/(1+exp**z)\n",
    "\n",
    "def tanh(z): ## use any library\n",
    "    exp = 2.71\n",
    "    N = exp**z-exp**(-(z))\n",
    "    D = exp**z+exp**(-(z))\n",
    "    return N/D\n",
    "    \n",
    "\n",
    "def neuron(wts,row,bias,activation):\n",
    "    z = dot(wts,row)+bias\n",
    "    return activation(z)\n",
    "    "
   ]
  },
  {
   "cell_type": "code",
   "execution_count": 17,
   "id": "1d2156b8-77c2-4f80-b57f-9c03ccdc9f0b",
   "metadata": {},
   "outputs": [
    {
     "data": {
      "text/plain": [
       "1.0"
      ]
     },
     "execution_count": 17,
     "metadata": {},
     "output_type": "execute_result"
    }
   ],
   "source": [
    "neuron(wts = wts,row = data_simple['row1'],bias=12,activation = tanh)"
   ]
  },
  {
   "cell_type": "markdown",
   "id": "a9de2ab0-3da2-49b5-9592-b624670bd130",
   "metadata": {},
   "source": [
    "## Forward Pass Implimented using matrix operations"
   ]
  },
  {
   "cell_type": "code",
   "execution_count": 23,
   "id": "8a396121-0a92-48ca-8908-44b7ed7ad6fb",
   "metadata": {},
   "outputs": [
    {
     "data": {
      "text/plain": [
       "(2, 1)"
      ]
     },
     "execution_count": 23,
     "metadata": {},
     "output_type": "execute_result"
    }
   ],
   "source": [
    "import numpy as np\n",
    "x1 = 3\n",
    "x2 = 4\n",
    "X = np.matrix([[x1],[x2]])\n",
    "X.shape"
   ]
  },
  {
   "cell_type": "code",
   "execution_count": 24,
   "id": "70acc47e-ea9c-4c90-8aed-c75d7f45b024",
   "metadata": {},
   "outputs": [
    {
     "data": {
      "text/plain": [
       "(4, 2)"
      ]
     },
     "execution_count": 24,
     "metadata": {},
     "output_type": "execute_result"
    }
   ],
   "source": [
    "W = np.matrix([[3,4],\n",
    "               [5,6],\n",
    "               [7,8],\n",
    "               [9,10]])\n",
    "W.shape"
   ]
  },
  {
   "cell_type": "code",
   "execution_count": 25,
   "id": "4e8ed836-75d7-458f-b651-e2b6bc0f90be",
   "metadata": {},
   "outputs": [],
   "source": [
    "W0 = np.matrix([[5],\n",
    "               [6],\n",
    "               [7],\n",
    "                [8]])"
   ]
  },
  {
   "cell_type": "code",
   "execution_count": 26,
   "id": "5671c77a-e844-4f7d-ad5d-918e69a48248",
   "metadata": {},
   "outputs": [
    {
     "data": {
      "text/plain": [
       "matrix([[30],\n",
       "        [45],\n",
       "        [60],\n",
       "        [75]])"
      ]
     },
     "execution_count": 26,
     "metadata": {},
     "output_type": "execute_result"
    }
   ],
   "source": [
    "##layer 1 W, W0\n",
    "W@X+W0"
   ]
  },
  {
   "cell_type": "code",
   "execution_count": 27,
   "id": "6e4cc2f2-7122-4e32-ad43-1921091ec7d4",
   "metadata": {},
   "outputs": [
    {
     "data": {
      "text/plain": [
       "matrix([[30],\n",
       "        [45],\n",
       "        [60],\n",
       "        [75]])"
      ]
     },
     "execution_count": 27,
     "metadata": {},
     "output_type": "execute_result"
    }
   ],
   "source": [
    "np.matmul(W,X)+W0"
   ]
  },
  {
   "cell_type": "code",
   "execution_count": 28,
   "id": "bd124a77-fb70-4f77-8c80-011effe03b5b",
   "metadata": {},
   "outputs": [],
   "source": [
    "Z = W@X+W0"
   ]
  },
  {
   "cell_type": "code",
   "execution_count": 29,
   "id": "6b1dda05-9948-46c8-b858-7feb0a815adf",
   "metadata": {},
   "outputs": [
    {
     "data": {
      "text/plain": [
       "matrix([[30],\n",
       "        [45],\n",
       "        [60],\n",
       "        [75]])"
      ]
     },
     "execution_count": 29,
     "metadata": {},
     "output_type": "execute_result"
    }
   ],
   "source": [
    "Z"
   ]
  },
  {
   "cell_type": "code",
   "execution_count": 30,
   "id": "5356b014-9a1c-43bb-aae7-4da3706a458d",
   "metadata": {},
   "outputs": [],
   "source": [
    "def sigmoid(Z):\n",
    "    D = 1+np.exp(-Z)\n",
    "    N = 1\n",
    "    return N/D"
   ]
  },
  {
   "cell_type": "code",
   "execution_count": 31,
   "id": "c9397690-a37c-448e-9934-083d24291764",
   "metadata": {},
   "outputs": [
    {
     "data": {
      "text/plain": [
       "matrix([[1.],\n",
       "        [1.],\n",
       "        [1.],\n",
       "        [1.]])"
      ]
     },
     "execution_count": 31,
     "metadata": {},
     "output_type": "execute_result"
    }
   ],
   "source": [
    "sigmoid(Z)"
   ]
  },
  {
   "cell_type": "code",
   "execution_count": 32,
   "id": "adb865ce-075f-4dd8-8ccc-6eaafa9ea598",
   "metadata": {},
   "outputs": [
    {
     "data": {
      "text/plain": [
       "matrix([[30],\n",
       "        [45],\n",
       "        [60],\n",
       "        [75]])"
      ]
     },
     "execution_count": 32,
     "metadata": {},
     "output_type": "execute_result"
    }
   ],
   "source": [
    "Z \n",
    "## [[z1],[z2],[z3],[z4]], [f[z1],f[z2]]"
   ]
  },
  {
   "cell_type": "code",
   "execution_count": 33,
   "id": "6efac069-86eb-45c9-af05-66be699b99fa",
   "metadata": {},
   "outputs": [
    {
     "data": {
      "text/plain": [
       "(2, 4)"
      ]
     },
     "execution_count": 33,
     "metadata": {},
     "output_type": "execute_result"
    }
   ],
   "source": [
    "V = np.matrix([[2,4,6,8],\n",
    "               [10,12,14,16]])\n",
    "V.shape"
   ]
  },
  {
   "cell_type": "code",
   "execution_count": 36,
   "id": "456e824d-f173-45eb-86c8-84bb300f3dc4",
   "metadata": {},
   "outputs": [
    {
     "data": {
      "text/plain": [
       "(2, 1)"
      ]
     },
     "execution_count": 36,
     "metadata": {},
     "output_type": "execute_result"
    }
   ],
   "source": [
    "V_0 = np.matrix([[7],\n",
    "              [9]])\n",
    "V_0.shape"
   ]
  },
  {
   "cell_type": "code",
   "execution_count": 38,
   "id": "c4d2253a-cd4c-433e-81fa-7584f16a9e05",
   "metadata": {},
   "outputs": [],
   "source": [
    "Z_1 = V@sigmoid(Z)+V_0"
   ]
  },
  {
   "cell_type": "code",
   "execution_count": 39,
   "id": "2c27f060-26d0-42c2-b7a8-3927182e47fd",
   "metadata": {},
   "outputs": [
    {
     "data": {
      "text/plain": [
       "matrix([[27.],\n",
       "        [61.]])"
      ]
     },
     "execution_count": 39,
     "metadata": {},
     "output_type": "execute_result"
    }
   ],
   "source": [
    "Z_1"
   ]
  },
  {
   "cell_type": "code",
   "execution_count": 40,
   "id": "eec52254-6c46-40d5-aed9-ee43b32e97d1",
   "metadata": {},
   "outputs": [
    {
     "data": {
      "text/plain": [
       "dtype('float64')"
      ]
     },
     "execution_count": 40,
     "metadata": {},
     "output_type": "execute_result"
    }
   ],
   "source": [
    "Z_1.dtype"
   ]
  },
  {
   "cell_type": "code",
   "execution_count": null,
   "id": "83c5b5f7-f711-4d66-8d2e-6fa90137b980",
   "metadata": {},
   "outputs": [],
   "source": [
    "def sofrmax():\n",
    "    pass"
   ]
  },
  {
   "cell_type": "code",
   "execution_count": 42,
   "id": "1ae47467-de3d-4159-8447-2a05b8255789",
   "metadata": {},
   "outputs": [],
   "source": [
    "class NN():\n",
    "    def __init__(self,X):\n",
    "        self.X = X\n",
    "        self.W = np.matrix([[3,4],\n",
    "                           [5,6],\n",
    "                           [7,8],\n",
    "                           [9,10]])\n",
    "        self.W0 = np.matrix([[5],\n",
    "                           [6],\n",
    "                           [7],\n",
    "                           [8]])\n",
    "        self.V = np.matrix([[2,4,6,8],\n",
    "                           [10,12,14,16]])\n",
    "        self.V0 = np.matrix([[7],\n",
    "                              [9]])\n",
    "    def forward(self):\n",
    "        Z1 = self.W@self.X+self.W0\n",
    "        A1 = sigmoid(Z1)\n",
    "        Z2 = self.V@A1+self.V0\n",
    "        return Z2"
   ]
  },
  {
   "cell_type": "code",
   "execution_count": 43,
   "id": "b886f519-69ec-4e74-98dc-89d798d0b560",
   "metadata": {},
   "outputs": [],
   "source": [
    "model = NN(X)"
   ]
  },
  {
   "cell_type": "code",
   "execution_count": 48,
   "id": "e52b5a21-7604-4ff5-9882-184cb5f366a4",
   "metadata": {},
   "outputs": [
    {
     "data": {
      "text/plain": [
       "matrix([[27.],\n",
       "        [61.]])"
      ]
     },
     "execution_count": 48,
     "metadata": {},
     "output_type": "execute_result"
    }
   ],
   "source": [
    "model.forward()"
   ]
  },
  {
   "cell_type": "code",
   "execution_count": null,
   "id": "b2cb631c-0f37-4d33-b258-35d14ddda50f",
   "metadata": {},
   "outputs": [],
   "source": []
  }
 ],
 "metadata": {
  "kernelspec": {
   "display_name": "Python 3 (ipykernel)",
   "language": "python",
   "name": "python3"
  },
  "language_info": {
   "codemirror_mode": {
    "name": "ipython",
    "version": 3
   },
   "file_extension": ".py",
   "mimetype": "text/x-python",
   "name": "python",
   "nbconvert_exporter": "python",
   "pygments_lexer": "ipython3",
   "version": "3.9.9"
  }
 },
 "nbformat": 4,
 "nbformat_minor": 5
}
