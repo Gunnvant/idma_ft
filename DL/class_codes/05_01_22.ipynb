{
 "cells": [
  {
   "cell_type": "markdown",
   "id": "3480327f-8a9b-4e1d-bfdb-ae925d024e4f",
   "metadata": {},
   "source": [
    "## Day2\n",
    "- Code for basic gradient descent\n",
    "\n",
    "Minimize the $f(x) = x^2-4x+8$\n",
    "\n",
    "$x_{new}:=x_{old}-\\eta*\\frac{df(x)}{x}$\n",
    "\n",
    "$\\frac{d(f(x))}{dx}=2x-4$"
   ]
  },
  {
   "cell_type": "code",
   "execution_count": 1,
   "id": "0cedf94a-8527-45dd-bbd2-98d55c08327b",
   "metadata": {},
   "outputs": [],
   "source": [
    "def gradient(x):\n",
    "    return 2*x-4"
   ]
  },
  {
   "cell_type": "code",
   "execution_count": 2,
   "id": "a77fad7a-02bb-45c7-9078-262ed5018970",
   "metadata": {
    "collapsed": true,
    "jupyter": {
     "outputs_hidden": true
    },
    "tags": []
   },
   "outputs": [
    {
     "name": "stdout",
     "output_type": "stream",
     "text": [
      "1.02\n",
      "1.0396\n",
      "1.058808\n",
      "1.07763184\n",
      "1.0960792032\n",
      "1.1141576191359999\n",
      "1.1318744667532799\n",
      "1.1492369774182143\n",
      "1.16625223786985\n",
      "1.1829271931124532\n",
      "1.199268649250204\n",
      "1.2152832762652\n",
      "1.230977610739896\n",
      "1.246358058525098\n",
      "1.261430897354596\n",
      "1.276202279407504\n",
      "1.290678233819354\n",
      "1.304864669142967\n",
      "1.3187673757601077\n",
      "1.3323920282449055\n",
      "1.3457441876800074\n",
      "1.3588293039264072\n",
      "1.371652717847879\n",
      "1.3842196634909214\n",
      "1.396535270221103\n",
      "1.408604564816681\n",
      "1.4204324735203473\n",
      "1.4320238240499403\n",
      "1.4433833475689415\n",
      "1.4545156806175628\n",
      "1.4654253670052115\n",
      "1.4761168596651073\n",
      "1.4865945224718051\n",
      "1.496862632022369\n",
      "1.5069253793819217\n",
      "1.5167868717942834\n",
      "1.5264511343583977\n",
      "1.5359221116712298\n",
      "1.5452036694378053\n",
      "1.554299596049049\n",
      "1.5632136041280682\n",
      "1.571949332045507\n",
      "1.5805103454045968\n",
      "1.588900138496505\n",
      "1.5971221357265748\n",
      "1.6051796930120432\n",
      "1.6130760991518023\n",
      "1.6208145771687663\n",
      "1.628398285625391\n",
      "1.6358303199128832\n",
      "1.6431137135146254\n",
      "1.6502514392443328\n",
      "1.6572464104594462\n",
      "1.6641014822502573\n",
      "1.6708194526052522\n",
      "1.6774030635531472\n",
      "1.6838550022820842\n",
      "1.6901779022364425\n",
      "1.6963743441917136\n",
      "1.7024468573078793\n",
      "1.7083979201617217\n",
      "1.7142299617584873\n",
      "1.7199453625233176\n",
      "1.7255464552728512\n",
      "1.7310355261673942\n",
      "1.7364148156440464\n",
      "1.7416865193311655\n",
      "1.7468527889445422\n",
      "1.7519157331656514\n",
      "1.7568774185023384\n",
      "1.7617398701322915\n",
      "1.7665050727296456\n",
      "1.7711749712750526\n",
      "1.7757514718495515\n",
      "1.7802364424125605\n",
      "1.7846317135643093\n",
      "1.788939079293023\n",
      "1.7931602977071626\n",
      "1.7972970917530193\n",
      "1.8013511499179589\n",
      "1.8053241269195996\n",
      "1.8092176443812076\n",
      "1.8130332914935834\n",
      "1.8167726256637118\n",
      "1.8204371731504376\n",
      "1.824028429687429\n",
      "1.8275478610936804\n",
      "1.8309969038718068\n",
      "1.8343769657943707\n",
      "1.8376894264784833\n",
      "1.8409356379489137\n",
      "1.8441169251899354\n",
      "1.8472345866861366\n",
      "1.8502898949524138\n",
      "1.8532840970533655\n",
      "1.8562184151122982\n",
      "1.8590940468100523\n",
      "1.8619121658738513\n",
      "1.8646739225563742\n",
      "1.8673804441052466\n"
     ]
    }
   ],
   "source": [
    "x_old = 1\n",
    "eta = 0.01\n",
    "for i in range(100):\n",
    "    grad = gradient(x_old)\n",
    "    x_new = x_old-eta*grad\n",
    "    x_old = x_new\n",
    "    print(x_old)"
   ]
  },
  {
   "cell_type": "code",
   "execution_count": 7,
   "id": "f388367a-a3bd-457a-827d-20dd15d4e7a9",
   "metadata": {
    "tags": []
   },
   "outputs": [
    {
     "name": "stdout",
     "output_type": "stream",
     "text": [
      "1.995172925709588\n"
     ]
    }
   ],
   "source": [
    "def f(x):\n",
    "    return x**2-4*x+8    \n",
    "x_old = 1\n",
    "eta = 0.01\n",
    "converged = False\n",
    "tol = 0.0001\n",
    "values = []\n",
    "iters = []\n",
    "itr = 0\n",
    "while not converged:\n",
    "    grad = gradient(x_old)\n",
    "    x_new = x_old-eta*grad\n",
    "    if abs(x_new-x_old)<=tol:\n",
    "        converged = True\n",
    "    x_old = x_new\n",
    "    values.append(f(x_old))\n",
    "    itr+=1\n",
    "    iters.append(itr)\n",
    "print(x_old)"
   ]
  },
  {
   "cell_type": "code",
   "execution_count": 5,
   "id": "c8331526-6d71-4c89-bbfb-82a071c0b5d2",
   "metadata": {},
   "outputs": [],
   "source": [
    "import matplotlib.pyplot as plt\n",
    "%matplotlib inline"
   ]
  },
  {
   "cell_type": "code",
   "execution_count": 6,
   "id": "9a5749f6-6b27-4689-9760-5a0d947c3fc9",
   "metadata": {},
   "outputs": [
    {
     "data": {
      "text/plain": [
       "[<matplotlib.lines.Line2D at 0x12ebc7df0>]"
      ]
     },
     "execution_count": 6,
     "metadata": {},
     "output_type": "execute_result"
    },
    {
     "data": {
      "image/png": "[encoded data removed]",
      "text/plain": [
       "<Figure size 432x288 with 1 Axes>"
      ]
     },
     "metadata": {
      "needs_background": "light"
     },
     "output_type": "display_data"
    }
   ],
   "source": [
    "plt.plot(iters,values)"
   ]
  },
  {
   "cell_type": "code",
   "execution_count": 10,
   "id": "335cbe09-5c88-44ac-9af4-a73fb0ce15f9",
   "metadata": {},
   "outputs": [
    {
     "name": "stdout",
     "output_type": "stream",
     "text": [
      "0.5008985051499573\n"
     ]
    },
    {
     "data": {
      "text/plain": [
       "[<matplotlib.lines.Line2D at 0x12ee92610>]"
      ]
     },
     "execution_count": 10,
     "metadata": {},
     "output_type": "execute_result"
    },
    {
     "data": {
      "image/png": "[encoded data removed]",
      "text/plain": [
       "<Figure size 432x288 with 1 Axes>"
      ]
     },
     "metadata": {
      "needs_background": "light"
     },
     "output_type": "display_data"
    }
   ],
   "source": [
    "## Class Excercise\n",
    "def cost(x):\n",
    "    c = (x-0)**2+(x-0.2)**2+(x-0.4)**2+(x-0.9)**2+(x-1)**2\n",
    "    return c\n",
    "\n",
    "def gradient(x):\n",
    "    g = 2*x+2*(x-0.2)+2*(x-0.4)+2*(x-0.9)+2*(x-1)\n",
    "    return g\n",
    "\n",
    "x_old = 1\n",
    "eta = 0.01\n",
    "converged = False\n",
    "tol = 0.0001\n",
    "values = []\n",
    "iters = []\n",
    "itr = 0\n",
    "while not converged:\n",
    "    grad = gradient(x_old)\n",
    "    x_new = x_old-eta*grad\n",
    "    if abs(x_new-x_old)<=tol:\n",
    "        converged = True\n",
    "    x_old = x_new\n",
    "    values.append(cost(x_old))\n",
    "    itr+=1\n",
    "    iters.append(itr)\n",
    "print(x_old)\n",
    "plt.plot(iters,values)"
   ]
  },
  {
   "cell_type": "markdown",
   "id": "f9abef30-0561-4f91-a318-ca1bd0db0319",
   "metadata": {},
   "source": [
    "### Gradient Descent when two variables are involved\n",
    "\n",
    "$f(x,y) = xy+y^2+2x^2+3y$\n",
    "\n",
    "$\\frac{\\partial(f(x,y))}{\\partial(x)} = y+4x$\n",
    "\n",
    "$\\frac{\\partial(f(x,y))}{\\partial(y)} = x+2y+3$"
   ]
  },
  {
   "cell_type": "code",
   "execution_count": 11,
   "id": "79816c97-7167-416f-abdb-9abd504d8140",
   "metadata": {},
   "outputs": [
    {
     "name": "stdout",
     "output_type": "stream",
     "text": [
      "0.4049901765145468 -1.6572038236339517\n"
     ]
    }
   ],
   "source": [
    "def f(x,y):\n",
    "    return x*y+y**2+2*x**2+3*y\n",
    "def grad_x(x,y):\n",
    "    return y+4*x\n",
    "def grad_y(x,y):\n",
    "    return x+2*y+3\n",
    "\n",
    "x_old = 1\n",
    "y_old = 1\n",
    "eta = 0.01\n",
    "converged = False\n",
    "tol = 0.0001\n",
    "values = []\n",
    "iters = []\n",
    "itr = 0\n",
    "while not converged:\n",
    "    g_x = grad_x(x_old,y_old)\n",
    "    g_y = grad_y(x_old,y_old)\n",
    "    x_new = x_old-eta*g_x\n",
    "    y_new = y_old-eta*g_y\n",
    "    f_new = f(x_new,y_new)\n",
    "    f_old = f(x_old,y_old)\n",
    "    if abs(f_new-f_old)<=tol:\n",
    "        converged = True\n",
    "    x_old = x_new\n",
    "    y_old = y_new\n",
    "    values.append(f_new)\n",
    "    itr+=1\n",
    "    iters.append(itr)\n",
    "print(x_old,y_old)"
   ]
  },
  {
   "cell_type": "code",
   "execution_count": 12,
   "id": "760c9179-6e21-4fd3-95ea-7c723f24f11a",
   "metadata": {},
   "outputs": [
    {
     "data": {
      "text/plain": [
       "[<matplotlib.lines.Line2D at 0x12ef4e9a0>]"
      ]
     },
     "execution_count": 12,
     "metadata": {},
     "output_type": "execute_result"
    },
    {
     "data": {
      "image/png": "[encoded data removed]",
      "text/plain": [
       "<Figure size 432x288 with 1 Axes>"
      ]
     },
     "metadata": {
      "needs_background": "light"
     },
     "output_type": "display_data"
    }
   ],
   "source": [
    "plt.plot(iters,values)"
   ]
  },
  {
   "cell_type": "code",
   "execution_count": null,
   "id": "9d7fe632-1178-4ac9-8d5e-7427c349833a",
   "metadata": {},
   "outputs": [],
   "source": []
  }
 ],
 "metadata": {
  "kernelspec": {
   "display_name": "Python 3 (ipykernel)",
   "language": "python",
   "name": "python3"
  },
  "language_info": {
   "codemirror_mode": {
    "name": "ipython",
    "version": 3
   },
   "file_extension": ".py",
   "mimetype": "text/x-python",
   "name": "python",
   "nbconvert_exporter": "python",
   "pygments_lexer": "ipython3",
   "version": "3.9.9"
  }
 },
 "nbformat": 4,
 "nbformat_minor": 5
}
