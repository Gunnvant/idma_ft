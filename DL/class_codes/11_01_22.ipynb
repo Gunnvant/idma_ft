{
 "cells": [
  {
   "cell_type": "markdown",
   "id": "d1717e2c-e2e5-41f0-8625-7cabe439830e",
   "metadata": {},
   "source": [
    "## Pytorch: Training loop for a simple neural network"
   ]
  },
  {
   "cell_type": "code",
   "execution_count": 1,
   "id": "f9558359-aea1-4098-90a7-14b591f9c605",
   "metadata": {},
   "outputs": [],
   "source": [
    "import numpy as np\n",
    "import pandas as pd\n",
    "local_path_mnist_train = \"/Users/gunnvantsaini/OneDrive/project_codes/content/dl_basics/vision/sony/data/mnist_train.csv\"\n",
    "local_path_mnist_test = \"/Users/gunnvantsaini/OneDrive/project_codes/content/dl_basics/vision/sony/data/mnist_test.csv\"\n",
    "train = pd.read_csv(local_path_mnist_train)\n",
    "test = pd.read_csv(local_path_mnist_test)"
   ]
  },
  {
   "cell_type": "code",
   "execution_count": 2,
   "id": "44d3954a-d774-4173-b5cf-7571b73888ee",
   "metadata": {},
   "outputs": [],
   "source": [
    "## Define our model\n",
    "from torch import nn\n",
    "\n",
    "\n",
    "class Model(nn.Module):\n",
    "    def __init__(self):\n",
    "        super().__init__()\n",
    "        ## define the layers and activations\n",
    "        self.activation1 = nn.Sigmoid()\n",
    "        self.layer1 = nn.Linear(784,3)\n",
    "        self.layer2 = nn.Linear(3,10)\n",
    "        self.activation2 = nn.Softmax()        \n",
    "    def forward(self,X):\n",
    "        ## define the forward pass\n",
    "        z = self.layer1(X)\n",
    "        h = self.activation1(z)\n",
    "        z = self.layer2(h)\n",
    "        probs = self.activation2(z)\n",
    "        return probs"
   ]
  },
  {
   "cell_type": "code",
   "execution_count": 3,
   "id": "6966608c-2897-4456-a4bb-7615bc433088",
   "metadata": {},
   "outputs": [],
   "source": [
    "## Create a dataloader\n",
    "## Need to define a datatset->dataloader\n",
    "import torch\n",
    "from torch.utils.data import Dataset, DataLoader\n",
    "## Need to write a training loop"
   ]
  },
  {
   "cell_type": "code",
   "execution_count": 4,
   "id": "00e15e3c-1cd2-4cd4-ba36-44fd45a5175f",
   "metadata": {},
   "outputs": [],
   "source": [
    "class MnistData(Dataset):\n",
    "    # __init__, specify the source of raw data\n",
    "    # __len__, logic to give the total number of samples in our dataste\n",
    "    #__getitem__, logic to obtain one sample from our raw data\n",
    "    \n",
    "    def __init__(self,df):\n",
    "        self.X = df.drop('label',axis=1).values/255.0\n",
    "        self.y = df['label'].values\n",
    "    def __len__(self):\n",
    "        return self.X.shape[0]\n",
    "    def __getitem__(self,idx):\n",
    "        x = self.X[idx]\n",
    "        actual = self.y[idx]\n",
    "        #sample = [x,actual]\n",
    "        sample = {'X':x,'y':actual}\n",
    "        #sample = (x,actual)\n",
    "        return sample\n",
    "        "
   ]
  },
  {
   "cell_type": "code",
   "execution_count": 5,
   "id": "388b6224-8cb8-4323-94ad-d1f1f088cb49",
   "metadata": {},
   "outputs": [],
   "source": [
    "mnist_dataset_pytorch = MnistData(train)\n",
    "mnist_batched = DataLoader(mnist_dataset_pytorch,batch_size=20)"
   ]
  },
  {
   "cell_type": "markdown",
   "id": "0170f456-db04-4f1d-86f9-e54e5dd3e692",
   "metadata": {},
   "source": [
    "### Training loop\n",
    "```python\n",
    "for x,y in dataloader:\n",
    "    probs = model(x) ## forward\n",
    "    loss  =  loss_fn(y,probs)\n",
    "    loss.backward()\n",
    "    optimizer.step()\n",
    "    optimizer.zero_grad()\n",
    "    '''with torch.no_grad():\n",
    "        update_wts()\n",
    "        zero_grad()'''\n",
    "    print(loss,acc)\n",
    "   \n",
    "```"
   ]
  },
  {
   "cell_type": "code",
   "execution_count": 6,
   "id": "93611724-14e2-4613-a9fb-7efa14c82d5c",
   "metadata": {},
   "outputs": [],
   "source": [
    "## Use the predifined pytorch function to calulate the loss\n",
    "loss_fn = torch.nn.CrossEntropyLoss()\n",
    "## Define the optimizer to update the weights in backward pass\n",
    "mod = Model()"
   ]
  },
  {
   "cell_type": "code",
   "execution_count": 9,
   "id": "659a8fe7-35c1-454a-a229-c1510ef143d9",
   "metadata": {},
   "outputs": [
    {
     "data": {
      "text/plain": [
       "[Parameter containing:\n",
       " tensor([[-0.0330,  0.0123,  0.0071,  ...,  0.0096, -0.0114,  0.0146],\n",
       "         [ 0.0011, -0.0054,  0.0254,  ..., -0.0224,  0.0289, -0.0138],\n",
       "         [ 0.0177, -0.0216,  0.0079,  ...,  0.0053,  0.0091,  0.0003]],\n",
       "        requires_grad=True),\n",
       " Parameter containing:\n",
       " tensor([0.0097, 0.0253, 0.0105], requires_grad=True),\n",
       " Parameter containing:\n",
       " tensor([[ 0.1061, -0.0544, -0.4065],\n",
       "         [ 0.4149, -0.4103,  0.2283],\n",
       "         [-0.0717, -0.0133, -0.0577],\n",
       "         [-0.5387, -0.5692, -0.2181],\n",
       "         [-0.4720, -0.0647,  0.5554],\n",
       "         [-0.1463,  0.4207,  0.0304],\n",
       "         [-0.4009, -0.3487,  0.3090],\n",
       "         [-0.4108, -0.4176, -0.5003],\n",
       "         [ 0.2553, -0.3827,  0.5291],\n",
       "         [-0.2433,  0.2578,  0.5442]], requires_grad=True),\n",
       " Parameter containing:\n",
       " tensor([ 0.3994, -0.3766, -0.3025, -0.2944, -0.3524,  0.2495,  0.5662,  0.4128,\n",
       "          0.0897, -0.5661], requires_grad=True)]"
      ]
     },
     "execution_count": 9,
     "metadata": {},
     "output_type": "execute_result"
    }
   ],
   "source": [
    "[p for p in mod.parameters()]"
   ]
  },
  {
   "cell_type": "code",
   "execution_count": 10,
   "id": "d2a3c6bf-6f12-4d09-b8c4-b2af2fccbdf0",
   "metadata": {},
   "outputs": [],
   "source": [
    "import torch.optim as optim"
   ]
  },
  {
   "cell_type": "code",
   "execution_count": 11,
   "id": "49927446-9411-48df-9c1c-c691e8dfe1fb",
   "metadata": {},
   "outputs": [],
   "source": [
    "opt = optim.SGD(mod.parameters(),lr = 0.01)"
   ]
  },
  {
   "cell_type": "code",
   "execution_count": 27,
   "id": "45d6faae-4e11-4947-8398-1976afadf687",
   "metadata": {
    "tags": []
   },
   "outputs": [
    {
     "name": "stderr",
     "output_type": "stream",
     "text": [
      "/var/folders/7h/01sjg2sx6tl3y72r2klm24c80000gn/T/ipykernel_27595/4257125903.py:18: UserWarning: Implicit dimension choice for softmax has been deprecated. Change the call to include dim=X as an argument.\n",
      "  probs = self.activation2(z)\n"
     ]
    },
    {
     "name": "stdout",
     "output_type": "stream",
     "text": [
      "Epoch 0, loss 2.0229775671731858, acc 0.4774047631273667\n",
      "Epoch 1, loss 2.018493793067478, acc 0.47840476315645947\n",
      "Epoch 2, loss 2.014512245144163, acc 0.4795238108223393\n",
      "Epoch 3, loss 2.010971406982059, acc 0.48066666788288526\n",
      "Epoch 4, loss 2.0078140796933854, acc 0.48111904887216433\n",
      "Epoch 5, loss 2.0049892501036326, acc 0.4817380965536549\n",
      "Epoch 6, loss 2.0024520602112723, acc 0.48228571560411226\n",
      "Epoch 7, loss 2.0001638223443714, acc 0.48266666803331604\n",
      "Epoch 8, loss 1.9980914253280275, acc 0.4828809537419251\n",
      "Epoch 9, loss 1.9962066287086124, acc 0.48340476327708787\n"
     ]
    }
   ],
   "source": [
    "epochs = 10\n",
    "for epoch in range(epochs):\n",
    "    Acc = []\n",
    "    Loss = []\n",
    "    for itr,batch in enumerate(mnist_batched):\n",
    "        x = batch['X'].float()\n",
    "        y = batch['y']\n",
    "        p = mod(x)\n",
    "        loss = loss_fn(p,y)\n",
    "        loss.backward()\n",
    "        Loss.append(loss.item())\n",
    "        pred_cls = p.argmax(axis=1)\n",
    "        acc = (pred_cls == y).float().mean().item()\n",
    "        Acc.append(acc)\n",
    "        opt.step()\n",
    "        opt.zero_grad()\n",
    "    avg_acc = np.array(Acc).mean()\n",
    "    avg_loss = np.array(Loss).mean()\n",
    "    print(f'Epoch {epoch}, loss {avg_loss}, acc {avg_acc}')"
   ]
  },
  {
   "cell_type": "code",
   "execution_count": 12,
   "id": "9e271f43-1812-44a5-9f30-458309d1e6c3",
   "metadata": {},
   "outputs": [],
   "source": [
    "pred_probs = np.array([0.3,0.5,0.2])"
   ]
  },
  {
   "cell_type": "code",
   "execution_count": 13,
   "id": "66942e85-aa84-4da1-9d33-dd78fdd6466d",
   "metadata": {},
   "outputs": [
    {
     "data": {
      "text/plain": [
       "1"
      ]
     },
     "execution_count": 13,
     "metadata": {},
     "output_type": "execute_result"
    }
   ],
   "source": [
    "pred_probs.argmax()"
   ]
  },
  {
   "cell_type": "code",
   "execution_count": 14,
   "id": "57b3f19f-4257-4b24-a48d-d08f0d2d8733",
   "metadata": {},
   "outputs": [],
   "source": [
    "pred_class = np.array([5,6,8,0])\n",
    "actual_class = np.array([5,6,0,0])"
   ]
  },
  {
   "cell_type": "code",
   "execution_count": 18,
   "id": "92a1bb1a-07a0-4dfd-a81b-0312e2275575",
   "metadata": {},
   "outputs": [
    {
     "data": {
      "text/plain": [
       "array([ True,  True, False,  True])"
      ]
     },
     "execution_count": 18,
     "metadata": {},
     "output_type": "execute_result"
    }
   ],
   "source": [
    "(pred_class == actual_class)"
   ]
  },
  {
   "cell_type": "code",
   "execution_count": 22,
   "id": "542f555d-16a0-4eb8-baba-e3fb39951ce7",
   "metadata": {},
   "outputs": [
    {
     "data": {
      "text/plain": [
       "3"
      ]
     },
     "execution_count": 22,
     "metadata": {},
     "output_type": "execute_result"
    }
   ],
   "source": [
    "(pred_class == actual_class).sum()"
   ]
  },
  {
   "cell_type": "code",
   "execution_count": 20,
   "id": "90d8c097-0471-4f05-96c4-9fccd32427a4",
   "metadata": {},
   "outputs": [
    {
     "data": {
      "text/plain": [
       "0.75"
      ]
     },
     "execution_count": 20,
     "metadata": {},
     "output_type": "execute_result"
    }
   ],
   "source": [
    "(pred_class == actual_class).mean()"
   ]
  },
  {
   "cell_type": "markdown",
   "id": "c7fbfbe1-162e-4725-b3e0-06e453e035f9",
   "metadata": {},
   "source": [
    "## Convolutional NN\n",
    "\n",
    "- Tensorflow API: Keras\n",
    "- PyTorch"
   ]
  },
  {
   "cell_type": "code",
   "execution_count": 28,
   "id": "ef6ca015-ec26-45db-abc9-ee885d836660",
   "metadata": {},
   "outputs": [
    {
     "data": {
      "text/html": [
       "<div>\n",
       "<style scoped>\n",
       "    .dataframe tbody tr th:only-of-type {\n",
       "        vertical-align: middle;\n",
       "    }\n",
       "\n",
       "    .dataframe tbody tr th {\n",
       "        vertical-align: top;\n",
       "    }\n",
       "\n",
       "    .dataframe thead th {\n",
       "        text-align: right;\n",
       "    }\n",
       "</style>\n",
       "<table border=\"1\" class=\"dataframe\">\n",
       "  <thead>\n",
       "    <tr style=\"text-align: right;\">\n",
       "      <th></th>\n",
       "      <th>label</th>\n",
       "      <th>pixel0</th>\n",
       "      <th>pixel1</th>\n",
       "      <th>pixel2</th>\n",
       "      <th>pixel3</th>\n",
       "      <th>pixel4</th>\n",
       "      <th>pixel5</th>\n",
       "      <th>pixel6</th>\n",
       "      <th>pixel7</th>\n",
       "      <th>pixel8</th>\n",
       "      <th>...</th>\n",
       "      <th>pixel774</th>\n",
       "      <th>pixel775</th>\n",
       "      <th>pixel776</th>\n",
       "      <th>pixel777</th>\n",
       "      <th>pixel778</th>\n",
       "      <th>pixel779</th>\n",
       "      <th>pixel780</th>\n",
       "      <th>pixel781</th>\n",
       "      <th>pixel782</th>\n",
       "      <th>pixel783</th>\n",
       "    </tr>\n",
       "  </thead>\n",
       "  <tbody>\n",
       "    <tr>\n",
       "      <th>0</th>\n",
       "      <td>1</td>\n",
       "      <td>0</td>\n",
       "      <td>0</td>\n",
       "      <td>0</td>\n",
       "      <td>0</td>\n",
       "      <td>0</td>\n",
       "      <td>0</td>\n",
       "      <td>0</td>\n",
       "      <td>0</td>\n",
       "      <td>0</td>\n",
       "      <td>...</td>\n",
       "      <td>0</td>\n",
       "      <td>0</td>\n",
       "      <td>0</td>\n",
       "      <td>0</td>\n",
       "      <td>0</td>\n",
       "      <td>0</td>\n",
       "      <td>0</td>\n",
       "      <td>0</td>\n",
       "      <td>0</td>\n",
       "      <td>0</td>\n",
       "    </tr>\n",
       "    <tr>\n",
       "      <th>1</th>\n",
       "      <td>0</td>\n",
       "      <td>0</td>\n",
       "      <td>0</td>\n",
       "      <td>0</td>\n",
       "      <td>0</td>\n",
       "      <td>0</td>\n",
       "      <td>0</td>\n",
       "      <td>0</td>\n",
       "      <td>0</td>\n",
       "      <td>0</td>\n",
       "      <td>...</td>\n",
       "      <td>0</td>\n",
       "      <td>0</td>\n",
       "      <td>0</td>\n",
       "      <td>0</td>\n",
       "      <td>0</td>\n",
       "      <td>0</td>\n",
       "      <td>0</td>\n",
       "      <td>0</td>\n",
       "      <td>0</td>\n",
       "      <td>0</td>\n",
       "    </tr>\n",
       "  </tbody>\n",
       "</table>\n",
       "<p>2 rows × 785 columns</p>\n",
       "</div>"
      ],
      "text/plain": [
       "   label  pixel0  pixel1  pixel2  pixel3  pixel4  pixel5  pixel6  pixel7  \\\n",
       "0      1       0       0       0       0       0       0       0       0   \n",
       "1      0       0       0       0       0       0       0       0       0   \n",
       "\n",
       "   pixel8  ...  pixel774  pixel775  pixel776  pixel777  pixel778  pixel779  \\\n",
       "0       0  ...         0         0         0         0         0         0   \n",
       "1       0  ...         0         0         0         0         0         0   \n",
       "\n",
       "   pixel780  pixel781  pixel782  pixel783  \n",
       "0         0         0         0         0  \n",
       "1         0         0         0         0  \n",
       "\n",
       "[2 rows x 785 columns]"
      ]
     },
     "execution_count": 28,
     "metadata": {},
     "output_type": "execute_result"
    }
   ],
   "source": [
    "train.head(2)"
   ]
  },
  {
   "cell_type": "code",
   "execution_count": 29,
   "id": "5d56c041-19b7-4a27-bf24-30ed64d3e971",
   "metadata": {},
   "outputs": [],
   "source": [
    "X,y = train.drop('label',axis=1).values/255.0, train['label'].values"
   ]
  },
  {
   "cell_type": "code",
   "execution_count": 30,
   "id": "ab63fb20-7efe-4a7c-a0c4-c41fa96896d9",
   "metadata": {},
   "outputs": [
    {
     "data": {
      "text/plain": [
       "(42000, 784)"
      ]
     },
     "execution_count": 30,
     "metadata": {},
     "output_type": "execute_result"
    }
   ],
   "source": [
    "X.shape"
   ]
  },
  {
   "cell_type": "code",
   "execution_count": 31,
   "id": "440350d8-ac7f-4a19-a777-d8f3cd48b664",
   "metadata": {},
   "outputs": [
    {
     "data": {
      "text/plain": [
       "(42000, 28, 28)"
      ]
     },
     "execution_count": 31,
     "metadata": {},
     "output_type": "execute_result"
    }
   ],
   "source": [
    "X.reshape((42000,28,28)).shape"
   ]
  },
  {
   "cell_type": "code",
   "execution_count": 32,
   "id": "2b4b26d1-0241-4159-9e72-eed33f843697",
   "metadata": {},
   "outputs": [],
   "source": [
    "import tensorflow as tf"
   ]
  },
  {
   "cell_type": "code",
   "execution_count": 33,
   "id": "5a442dde-3fb4-42fc-81d2-15353a615422",
   "metadata": {},
   "outputs": [
    {
     "name": "stderr",
     "output_type": "stream",
     "text": [
      "2022-01-11 14:23:11.189092: I tensorflow/core/common_runtime/pluggable_device/pluggable_device_factory.cc:305] Could not identify NUMA node of platform GPU ID 0, defaulting to 0. Your kernel may not have been built with NUMA support.\n",
      "2022-01-11 14:23:11.189985: I tensorflow/core/common_runtime/pluggable_device/pluggable_device_factory.cc:271] Created TensorFlow device (/job:localhost/replica:0/task:0/device:GPU:0 with 0 MB memory) -> physical PluggableDevice (device: 0, name: METAL, pci bus id: <undefined>)\n"
     ]
    },
    {
     "name": "stdout",
     "output_type": "stream",
     "text": [
      "Metal device set to: Apple M1\n"
     ]
    }
   ],
   "source": [
    "model = tf.keras.Sequential(\n",
    "\n",
    "[\n",
    "    tf.keras.layers.Conv2D(filters=6,kernel_size = (3,3),input_shape=(28,28,1)),## h,w,c\n",
    "    tf.keras.layers.MaxPool2D(),\n",
    "    tf.keras.layers.Conv2D(filters=16,kernel_size = (3,3)),\n",
    "    tf.keras.layers.MaxPool2D(),\n",
    "    tf.keras.layers.Flatten(),\n",
    "    tf.keras.layers.Dense(units=120,activation='tanh'),\n",
    "    tf.keras.layers.Dense(units=84,activation='tanh'),\n",
    "    tf.keras.layers.Dense(units=10,activation='softmax')\n",
    "]\n",
    "\n",
    ")"
   ]
  },
  {
   "cell_type": "code",
   "execution_count": 34,
   "id": "bbb49aa9-a128-4bbd-9c64-7f86446979e5",
   "metadata": {},
   "outputs": [
    {
     "name": "stdout",
     "output_type": "stream",
     "text": [
      "Model: \"sequential\"\n",
      "_________________________________________________________________\n",
      "Layer (type)                 Output Shape              Param #   \n",
      "=================================================================\n",
      "conv2d (Conv2D)              (None, 26, 26, 6)         60        \n",
      "_________________________________________________________________\n",
      "max_pooling2d (MaxPooling2D) (None, 13, 13, 6)         0         \n",
      "_________________________________________________________________\n",
      "conv2d_1 (Conv2D)            (None, 11, 11, 16)        880       \n",
      "_________________________________________________________________\n",
      "max_pooling2d_1 (MaxPooling2 (None, 5, 5, 16)          0         \n",
      "_________________________________________________________________\n",
      "flatten (Flatten)            (None, 400)               0         \n",
      "_________________________________________________________________\n",
      "dense (Dense)                (None, 120)               48120     \n",
      "_________________________________________________________________\n",
      "dense_1 (Dense)              (None, 84)                10164     \n",
      "_________________________________________________________________\n",
      "dense_2 (Dense)              (None, 10)                850       \n",
      "=================================================================\n",
      "Total params: 60,074\n",
      "Trainable params: 60,074\n",
      "Non-trainable params: 0\n",
      "_________________________________________________________________\n"
     ]
    }
   ],
   "source": [
    "model.summary()"
   ]
  },
  {
   "cell_type": "code",
   "execution_count": 35,
   "id": "e373a8bf-bd3b-442d-8df9-a3d13c32a4f8",
   "metadata": {},
   "outputs": [],
   "source": [
    "model.compile(loss=\"sparse_categorical_crossentropy\",\n",
    "                optimizer = \"sgd\",\n",
    "             metrics = ['accuracy'])"
   ]
  },
  {
   "cell_type": "code",
   "execution_count": 37,
   "id": "6c64e54b-4dde-4f60-8dac-5bb0857e875e",
   "metadata": {},
   "outputs": [],
   "source": [
    "X = X.reshape((42000,28,28,1))"
   ]
  },
  {
   "cell_type": "code",
   "execution_count": 39,
   "id": "75add5f6-552a-4ff4-8385-17ba75dec7a1",
   "metadata": {},
   "outputs": [],
   "source": [
    "X = tf.constant(X,dtype = 'float')\n",
    "y = tf.constant(y,dtype = 'float')"
   ]
  },
  {
   "cell_type": "code",
   "execution_count": 40,
   "id": "e3fd2795-f235-4b10-aafb-2a6a3cd12745",
   "metadata": {},
   "outputs": [],
   "source": [
    "mnsit_data = tf.data.Dataset.from_tensor_slices((X,y))"
   ]
  },
  {
   "cell_type": "code",
   "execution_count": 42,
   "id": "1685c60b-0d00-4dd4-982b-2a6b6203bd21",
   "metadata": {},
   "outputs": [],
   "source": [
    "mnsit_data = mnsit_data.batch(64)"
   ]
  },
  {
   "cell_type": "code",
   "execution_count": 43,
   "id": "ad314da0-8110-4136-af8b-08de6f0b1673",
   "metadata": {},
   "outputs": [
    {
     "name": "stdout",
     "output_type": "stream",
     "text": [
      "Epoch 1/10\n"
     ]
    },
    {
     "name": "stderr",
     "output_type": "stream",
     "text": [
      "2022-01-11 14:28:36.168266: W tensorflow/core/platform/profile_utils/cpu_utils.cc:128] Failed to get CPU frequency: 0 Hz\n",
      "2022-01-11 14:28:36.169211: I tensorflow/core/grappler/optimizers/custom_graph_optimizer_registry.cc:112] Plugin optimizer for device_type GPU is enabled.\n"
     ]
    },
    {
     "name": "stdout",
     "output_type": "stream",
     "text": [
      "657/657 [==============================] - 8s 10ms/step - loss: 0.9102 - accuracy: 0.7632\n",
      "Epoch 2/10\n",
      "657/657 [==============================] - 6s 10ms/step - loss: 0.3011 - accuracy: 0.9179\n",
      "Epoch 3/10\n",
      "657/657 [==============================] - 6s 10ms/step - loss: 0.2243 - accuracy: 0.9362\n",
      "Epoch 4/10\n",
      "657/657 [==============================] - 7s 10ms/step - loss: 0.1829 - accuracy: 0.9471\n",
      "Epoch 5/10\n",
      "657/657 [==============================] - 6s 10ms/step - loss: 0.1556 - accuracy: 0.9549\n",
      "Epoch 6/10\n",
      "657/657 [==============================] - 7s 10ms/step - loss: 0.1358 - accuracy: 0.9608\n",
      "Epoch 7/10\n",
      "657/657 [==============================] - 7s 10ms/step - loss: 0.1208 - accuracy: 0.9653\n",
      "Epoch 8/10\n",
      "657/657 [==============================] - 7s 10ms/step - loss: 0.1089 - accuracy: 0.9686\n",
      "Epoch 9/10\n",
      "657/657 [==============================] - 6s 10ms/step - loss: 0.0993 - accuracy: 0.9716\n",
      "Epoch 10/10\n",
      "657/657 [==============================] - 6s 10ms/step - loss: 0.0913 - accuracy: 0.9740\n"
     ]
    },
    {
     "data": {
      "text/plain": [
       "<keras.callbacks.History at 0x147290e50>"
      ]
     },
     "execution_count": 43,
     "metadata": {},
     "output_type": "execute_result"
    }
   ],
   "source": [
    "model.fit(mnsit_data,epochs = 10,)"
   ]
  },
  {
   "cell_type": "code",
   "execution_count": 48,
   "id": "62649d6a-3b57-4f60-8d3a-e7b9935e397f",
   "metadata": {},
   "outputs": [
    {
     "data": {
      "text/plain": [
       "(3, 3, 1, 6)"
      ]
     },
     "execution_count": 48,
     "metadata": {},
     "output_type": "execute_result"
    }
   ],
   "source": [
    "model.get_weights()[0].shape"
   ]
  },
  {
   "cell_type": "code",
   "execution_count": 55,
   "id": "267329cb-80cd-481c-8e4f-2a007d731d89",
   "metadata": {},
   "outputs": [
    {
     "data": {
      "text/plain": [
       "(3, 3, 1)"
      ]
     },
     "execution_count": 55,
     "metadata": {},
     "output_type": "execute_result"
    }
   ],
   "source": [
    "model.get_weights()[0][:,:,:,0].shape"
   ]
  },
  {
   "cell_type": "code",
   "execution_count": 62,
   "id": "6760f8d6-1587-470e-9d98-16e435137453",
   "metadata": {},
   "outputs": [
    {
     "data": {
      "text/plain": [
       "array([[[-0.01409336],\n",
       "        [ 0.00228957],\n",
       "        [ 0.18896261]],\n",
       "\n",
       "       [[-0.29381236],\n",
       "        [-0.17852564],\n",
       "        [ 0.35202098]],\n",
       "\n",
       "       [[-0.35687378],\n",
       "        [-0.13874947],\n",
       "        [ 0.30939418]]], dtype=float32)"
      ]
     },
     "execution_count": 62,
     "metadata": {},
     "output_type": "execute_result"
    }
   ],
   "source": [
    "model.get_weights()[0][:,:,:,5]"
   ]
  },
  {
   "cell_type": "code",
   "execution_count": 64,
   "id": "27ffcd00-7389-4caf-b809-d3748da89ae6",
   "metadata": {},
   "outputs": [],
   "source": [
    "### How to use a validation dataset and see the fitting behaviour of the model\n",
    "from sklearn.model_selection import train_test_split\n",
    "X,y = train.drop('label',axis=1).values/255.0, train['label'].values\n",
    "X = X.reshape((42000,28,28,1))\n",
    "X_train,X_val,y_train,y_val = train_test_split(X,y,test_size = 0.10, random_state=42)"
   ]
  },
  {
   "cell_type": "code",
   "execution_count": 65,
   "id": "fd8a4e07-3ec7-4d22-ac7a-61f8a3f9688f",
   "metadata": {},
   "outputs": [],
   "source": [
    "X_train = tf.constant(X_train,dtype = 'float')\n",
    "y_train = tf.constant(y_train,dtype = 'float')\n",
    "X_val = tf.constant(X_val,dtype = 'float')\n",
    "y_val = tf.constant(y_val,dtype = 'float')"
   ]
  },
  {
   "cell_type": "code",
   "execution_count": 67,
   "id": "282e7440-ceeb-443b-9cc7-00f931e4ee78",
   "metadata": {},
   "outputs": [],
   "source": [
    "mnist_train = tf.data.Dataset.from_tensor_slices((X_train,y_train))\n",
    "mnist_val = tf.data.Dataset.from_tensor_slices((X_val,y_val))"
   ]
  },
  {
   "cell_type": "code",
   "execution_count": 68,
   "id": "66092a96-87fb-4b86-a919-cb518935a806",
   "metadata": {},
   "outputs": [],
   "source": [
    "mnist_train = mnist_train.batch(64)\n",
    "mnist_val = mnist_val.batch(64)"
   ]
  },
  {
   "cell_type": "code",
   "execution_count": 69,
   "id": "7d0bc35b-dc0d-4670-a64d-63f9f3820f44",
   "metadata": {},
   "outputs": [],
   "source": [
    "model = tf.keras.Sequential(\n",
    "\n",
    "[\n",
    "    tf.keras.layers.Conv2D(filters=6,kernel_size = (3,3),input_shape=(28,28,1)),\n",
    "    tf.keras.layers.MaxPool2D(),\n",
    "    tf.keras.layers.Conv2D(filters=16,kernel_size = (3,3)),\n",
    "    tf.keras.layers.MaxPool2D(),\n",
    "    tf.keras.layers.Flatten(),\n",
    "    tf.keras.layers.Dense(units=120,activation='tanh'),\n",
    "    tf.keras.layers.Dense(units=84,activation='tanh'),\n",
    "    tf.keras.layers.Dense(units=10,activation='softmax')\n",
    "]\n",
    "\n",
    ")\n",
    "\n",
    "model.compile(loss=\"sparse_categorical_crossentropy\",\n",
    "                optimizer = \"sgd\",\n",
    "             metrics = ['accuracy'])"
   ]
  },
  {
   "cell_type": "code",
   "execution_count": 70,
   "id": "a8fa2158-cd08-419b-91a6-6bdee6aa63c2",
   "metadata": {},
   "outputs": [
    {
     "name": "stdout",
     "output_type": "stream",
     "text": [
      "Epoch 1/10\n",
      "  1/591 [..............................] - ETA: 2:45 - loss: 2.3189 - accuracy: 0.0938"
     ]
    },
    {
     "name": "stderr",
     "output_type": "stream",
     "text": [
      "2022-01-11 14:45:10.559113: I tensorflow/core/grappler/optimizers/custom_graph_optimizer_registry.cc:112] Plugin optimizer for device_type GPU is enabled.\n"
     ]
    },
    {
     "name": "stdout",
     "output_type": "stream",
     "text": [
      "590/591 [============================>.] - ETA: 0s - loss: 0.9672 - accuracy: 0.7468"
     ]
    },
    {
     "name": "stderr",
     "output_type": "stream",
     "text": [
      "2022-01-11 14:45:16.658676: I tensorflow/core/grappler/optimizers/custom_graph_optimizer_registry.cc:112] Plugin optimizer for device_type GPU is enabled.\n"
     ]
    },
    {
     "name": "stdout",
     "output_type": "stream",
     "text": [
      "591/591 [==============================] - 6s 10ms/step - loss: 0.9665 - accuracy: 0.7471 - val_loss: 0.4069 - val_accuracy: 0.8943\n",
      "Epoch 2/10\n",
      "591/591 [==============================] - 6s 10ms/step - loss: 0.3171 - accuracy: 0.9135 - val_loss: 0.2834 - val_accuracy: 0.9226\n",
      "Epoch 3/10\n",
      "591/591 [==============================] - 6s 10ms/step - loss: 0.2360 - accuracy: 0.9332 - val_loss: 0.2316 - val_accuracy: 0.9350\n",
      "Epoch 4/10\n",
      "591/591 [==============================] - 6s 10ms/step - loss: 0.1929 - accuracy: 0.9440 - val_loss: 0.1993 - val_accuracy: 0.9431\n",
      "Epoch 5/10\n",
      "591/591 [==============================] - 6s 10ms/step - loss: 0.1642 - accuracy: 0.9524 - val_loss: 0.1768 - val_accuracy: 0.9495\n",
      "Epoch 6/10\n",
      "591/591 [==============================] - 6s 10ms/step - loss: 0.1434 - accuracy: 0.9587 - val_loss: 0.1601 - val_accuracy: 0.9533\n",
      "Epoch 7/10\n",
      "591/591 [==============================] - 6s 10ms/step - loss: 0.1276 - accuracy: 0.9640 - val_loss: 0.1469 - val_accuracy: 0.9571\n",
      "Epoch 8/10\n",
      "591/591 [==============================] - 6s 10ms/step - loss: 0.1152 - accuracy: 0.9675 - val_loss: 0.1363 - val_accuracy: 0.9600\n",
      "Epoch 9/10\n",
      "591/591 [==============================] - 6s 10ms/step - loss: 0.1052 - accuracy: 0.9705 - val_loss: 0.1276 - val_accuracy: 0.9619\n",
      "Epoch 10/10\n",
      "591/591 [==============================] - 6s 10ms/step - loss: 0.0969 - accuracy: 0.9725 - val_loss: 0.1203 - val_accuracy: 0.9636\n"
     ]
    },
    {
     "data": {
      "text/plain": [
       "<keras.callbacks.History at 0x16e9bc160>"
      ]
     },
     "execution_count": 70,
     "metadata": {},
     "output_type": "execute_result"
    }
   ],
   "source": [
    "model.fit(mnist_train, epochs = 10,validation_data=mnist_val)"
   ]
  },
  {
   "cell_type": "markdown",
   "id": "f0e47e3a-75fa-4481-b90c-331d8c33bfa8",
   "metadata": {},
   "source": [
    "### Find the configuration of each convolutional layer in lenet 5:\n",
    "- Kernel Size\n",
    "- Stride Len\n",
    "- Zero Padding that you will have to do\n",
    "\n",
    "\n",
    "$$n_{out} = \\frac{(n_{in}+2p-k)}{s}+1$$\n",
    "\n",
    "- Layer 1 Conv2D:\n",
    "    - Kernel Size: (5,5)\n",
    "    - Stride: 1\n",
    "    - Padding: 0\n",
    "- Layer 2 Pool:\n",
    "    - Kernel Size: (15,15)\n",
    "    - Stride: 1\n",
    "    - Padding: 0\n",
    "- Layer 3 Conv2D:\n",
    "    - Kernel Size: (5,5)\n",
    "    - Stride: 1\n",
    "    - Padding: 0\n",
    "- Layer 4 Pool:\n",
    "    - Kernel Size:6\n",
    "    - Stride: 1\n",
    "    - Padding: 0"
   ]
  },
  {
   "cell_type": "code",
   "execution_count": 71,
   "id": "5b2e16ff-733c-4499-a72d-5580c375f9ed",
   "metadata": {},
   "outputs": [],
   "source": [
    "### Pytorch Model\n",
    "\n",
    "class Lenet(nn.Module):\n",
    "    def __init__(self):\n",
    "        super().__init__()\n",
    "        self.conv1 = nn.Conv2d(in_channels = 1,out_channels=6,padding=0,stride = 1,kernel_size=(5,5))\n",
    "        self.pool1 = nn.MaxPool2d(kernel_size=(15,15),padding=0,stride=1)\n",
    "        self.conv2 = nn.Conv2d(in_channels = 6, out_channels=16,padding=0,stride=1,kernel_size=(5,5))\n",
    "        self.pool2 = nn.MaxPool2d(kernel_size = (6,6),stride=1,padding=0)\n",
    "        self.linear1 = nn.Linear(in_features = 16*5*5,out_features=120)\n",
    "        self.linear2 = nn.Linear(in_features=120,out_features=64)\n",
    "        self.linear3 = nn.Linear(in_features=64,out_features=10)\n",
    "        self.relu = nn.ReLU()\n",
    "        self.softmax = nn.Softmax()\n",
    "    def forward(self,x):\n",
    "        x = self.conv1(x)\n",
    "        x = self.pool1(x)\n",
    "        x = self.conv2(x)\n",
    "        x = self.pool2(x)\n",
    "        x = x.view(-1,16*5*5)\n",
    "        x = self.linear1(x)\n",
    "        x = self.relu(x)\n",
    "        x = self.linear2(x)\n",
    "        x = self.relu(x)\n",
    "        x = self.linear3(x)\n",
    "        x = self.softmax(x)\n",
    "        return x\n",
    "    def __call__(self):\n",
    "        return self.forward()\n",
    "        "
   ]
  },
  {
   "cell_type": "code",
   "execution_count": 83,
   "id": "5fa384aa-2687-412d-8ea9-4b6c437b2261",
   "metadata": {},
   "outputs": [],
   "source": [
    "x = torch.randn(size = (20,1,32,32)) ## b,c,h,w"
   ]
  },
  {
   "cell_type": "code",
   "execution_count": 84,
   "id": "00678384-ab84-4409-8645-0c2a8a4d0025",
   "metadata": {},
   "outputs": [
    {
     "data": {
      "text/plain": [
       "torch.Size([20, 1, 32, 32])"
      ]
     },
     "execution_count": 84,
     "metadata": {},
     "output_type": "execute_result"
    }
   ],
   "source": [
    "x.shape"
   ]
  },
  {
   "cell_type": "code",
   "execution_count": 85,
   "id": "82519fc5-40ed-4a69-946a-173032c023c9",
   "metadata": {},
   "outputs": [],
   "source": [
    "mod = Lenet()"
   ]
  },
  {
   "cell_type": "code",
   "execution_count": 86,
   "id": "241844be-e6c2-40c6-80ae-9cda7d354e07",
   "metadata": {},
   "outputs": [
    {
     "name": "stderr",
     "output_type": "stream",
     "text": [
      "/var/folders/7h/01sjg2sx6tl3y72r2klm24c80000gn/T/ipykernel_27595/1211227434.py:26: UserWarning: Implicit dimension choice for softmax has been deprecated. Change the call to include dim=X as an argument.\n",
      "  x = self.softmax(x)\n"
     ]
    },
    {
     "data": {
      "text/plain": [
       "tensor([[0.1014, 0.1065, 0.1186, 0.1028, 0.0779, 0.1033, 0.0933, 0.0908, 0.1027,\n",
       "         0.1027],\n",
       "        [0.1000, 0.1077, 0.1175, 0.1009, 0.0782, 0.1049, 0.0942, 0.0920, 0.1021,\n",
       "         0.1025],\n",
       "        [0.1005, 0.1073, 0.1205, 0.1025, 0.0777, 0.1024, 0.0937, 0.0910, 0.1023,\n",
       "         0.1020],\n",
       "        [0.0998, 0.1081, 0.1184, 0.1009, 0.0761, 0.1051, 0.0933, 0.0937, 0.1023,\n",
       "         0.1024],\n",
       "        [0.1005, 0.1070, 0.1177, 0.1027, 0.0780, 0.1036, 0.0933, 0.0915, 0.1014,\n",
       "         0.1042],\n",
       "        [0.1010, 0.1080, 0.1189, 0.1023, 0.0761, 0.1030, 0.0938, 0.0906, 0.1024,\n",
       "         0.1039],\n",
       "        [0.1000, 0.1079, 0.1171, 0.1018, 0.0783, 0.1044, 0.0938, 0.0923, 0.1016,\n",
       "         0.1027],\n",
       "        [0.1005, 0.1076, 0.1179, 0.1016, 0.0782, 0.1037, 0.0938, 0.0914, 0.1027,\n",
       "         0.1025],\n",
       "        [0.0997, 0.1086, 0.1184, 0.0996, 0.0768, 0.1040, 0.0940, 0.0924, 0.1029,\n",
       "         0.1037],\n",
       "        [0.1018, 0.1063, 0.1203, 0.1013, 0.0762, 0.1034, 0.0930, 0.0909, 0.1029,\n",
       "         0.1038],\n",
       "        [0.1021, 0.1043, 0.1209, 0.1047, 0.0780, 0.1034, 0.0923, 0.0898, 0.1037,\n",
       "         0.1008],\n",
       "        [0.1003, 0.1076, 0.1178, 0.1004, 0.0776, 0.1040, 0.0940, 0.0916, 0.1024,\n",
       "         0.1043],\n",
       "        [0.0985, 0.1089, 0.1202, 0.1018, 0.0785, 0.1029, 0.0940, 0.0919, 0.1023,\n",
       "         0.1011],\n",
       "        [0.0993, 0.1081, 0.1180, 0.1006, 0.0785, 0.1033, 0.0942, 0.0920, 0.1025,\n",
       "         0.1035],\n",
       "        [0.1009, 0.1067, 0.1207, 0.1029, 0.0764, 0.1025, 0.0932, 0.0919, 0.1030,\n",
       "         0.1019],\n",
       "        [0.0998, 0.1080, 0.1188, 0.1018, 0.0786, 0.1035, 0.0935, 0.0916, 0.1021,\n",
       "         0.1021],\n",
       "        [0.0998, 0.1076, 0.1194, 0.1011, 0.0768, 0.1049, 0.0934, 0.0921, 0.1025,\n",
       "         0.1024],\n",
       "        [0.0998, 0.1076, 0.1189, 0.1019, 0.0786, 0.1022, 0.0938, 0.0914, 0.1023,\n",
       "         0.1035],\n",
       "        [0.0997, 0.1075, 0.1187, 0.1017, 0.0777, 0.1034, 0.0940, 0.0920, 0.1024,\n",
       "         0.1027],\n",
       "        [0.0991, 0.1087, 0.1192, 0.0997, 0.0772, 0.1033, 0.0934, 0.0931, 0.1027,\n",
       "         0.1036]], grad_fn=<SoftmaxBackward0>)"
      ]
     },
     "execution_count": 86,
     "metadata": {},
     "output_type": "execute_result"
    }
   ],
   "source": [
    "mod(x)"
   ]
  },
  {
   "cell_type": "code",
   "execution_count": null,
   "id": "afc20ba2-ba0b-4052-9f89-681ea4c64999",
   "metadata": {},
   "outputs": [],
   "source": []
  }
 ],
 "metadata": {
  "kernelspec": {
   "display_name": "Python 3 (ipykernel)",
   "language": "python",
   "name": "python3"
  },
  "language_info": {
   "codemirror_mode": {
    "name": "ipython",
    "version": 3
   },
   "file_extension": ".py",
   "mimetype": "text/x-python",
   "name": "python",
   "nbconvert_exporter": "python",
   "pygments_lexer": "ipython3",
   "version": "3.9.9"
  }
 },
 "nbformat": 4,
 "nbformat_minor": 5
}
