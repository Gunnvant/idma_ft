{
 "cells": [
  {
   "cell_type": "markdown",
   "id": "f9ec4a72-2cfa-4dbf-ab13-f6a20ba1a116",
   "metadata": {},
   "source": [
    "## pytorch basics:\n",
    "\n",
    "- How to compute gradients (derivatives) of simple functions\n",
    "- How to do gradient descent using pytorch\n",
    "\n",
    "## tensorflow basics:\n",
    "\n",
    "- How to compute gradients (derivatives) of simple functions\n",
    "- How to do gradient descent using tf"
   ]
  },
  {
   "cell_type": "markdown",
   "id": "8ef839c1-f9b0-4565-b153-caadd0106220",
   "metadata": {},
   "source": [
    "\n",
    "Minimize $X^2+X$"
   ]
  },
  {
   "cell_type": "code",
   "execution_count": 1,
   "id": "f3b0c639-d5b5-4442-a6b0-497e201ba0e2",
   "metadata": {},
   "outputs": [],
   "source": [
    "import torch"
   ]
  },
  {
   "cell_type": "code",
   "execution_count": 2,
   "id": "6a756509-35ee-49b3-a4f7-88f57b06c2e3",
   "metadata": {},
   "outputs": [],
   "source": [
    "x = torch.tensor(0.0,requires_grad=True)"
   ]
  },
  {
   "cell_type": "markdown",
   "id": "c9408600-8bde-4f91-9a6a-e1502f2c96cc",
   "metadata": {},
   "source": [
    "x = x -lr*grad (Disable any gradient computations)"
   ]
  },
  {
   "cell_type": "code",
   "execution_count": 3,
   "id": "82f2913e-4b2e-42e7-81e8-e6fdb90699f8",
   "metadata": {},
   "outputs": [
    {
     "data": {
      "text/plain": [
       "tensor(0., requires_grad=True)"
      ]
     },
     "execution_count": 3,
     "metadata": {},
     "output_type": "execute_result"
    }
   ],
   "source": [
    "x"
   ]
  },
  {
   "cell_type": "code",
   "execution_count": 4,
   "id": "33a5871f-82a5-4dba-aded-ac9c1d867e8c",
   "metadata": {},
   "outputs": [],
   "source": [
    "z = x**2+x ### forward pass"
   ]
  },
  {
   "cell_type": "code",
   "execution_count": 5,
   "id": "d1f60d07-63df-4404-9006-53ddd64426b1",
   "metadata": {},
   "outputs": [],
   "source": [
    "z.backward()"
   ]
  },
  {
   "cell_type": "code",
   "execution_count": 6,
   "id": "3214d1c3-a556-4e02-809c-0385deb06d1b",
   "metadata": {},
   "outputs": [
    {
     "data": {
      "text/plain": [
       "tensor(1.)"
      ]
     },
     "execution_count": 6,
     "metadata": {},
     "output_type": "execute_result"
    }
   ],
   "source": [
    "x.grad"
   ]
  },
  {
   "cell_type": "markdown",
   "id": "0e136866-2415-44d0-a35c-732edd216397",
   "metadata": {},
   "source": [
    "$\\frac{dz}{dx} = 2x+1$"
   ]
  },
  {
   "cell_type": "code",
   "execution_count": 7,
   "id": "0fc332b3-53b1-4555-9a9e-594e0f309121",
   "metadata": {},
   "outputs": [],
   "source": [
    "z = x**2+x ## forward pass"
   ]
  },
  {
   "cell_type": "code",
   "execution_count": 8,
   "id": "6c8ae1d2-86da-455c-9ffb-568198bdda8b",
   "metadata": {},
   "outputs": [],
   "source": [
    "z.backward()"
   ]
  },
  {
   "cell_type": "code",
   "execution_count": 9,
   "id": "570ce5d9-a777-4574-ab5e-002070f2e743",
   "metadata": {},
   "outputs": [
    {
     "data": {
      "text/plain": [
       "tensor(2.)"
      ]
     },
     "execution_count": 9,
     "metadata": {},
     "output_type": "execute_result"
    }
   ],
   "source": [
    "x.grad"
   ]
  },
  {
   "cell_type": "markdown",
   "id": "6f50cdcd-0672-4fb8-9612-877ce3871cf1",
   "metadata": {},
   "source": [
    "$\\frac{dz}{dx}_{iter1}+\\frac{dz}{dx}_{iter2}$"
   ]
  },
  {
   "cell_type": "code",
   "execution_count": 10,
   "id": "1fcb58b8-a0ce-4182-a94d-f6579740a43d",
   "metadata": {},
   "outputs": [
    {
     "name": "stdout",
     "output_type": "stream",
     "text": [
      "tensor(1.)\n",
      "tensor(1.)\n"
     ]
    }
   ],
   "source": [
    "### Rewrite again\n",
    "x = torch.tensor(0.0,requires_grad=True)\n",
    "z = x**2+x ### forward pass\n",
    "z.backward()\n",
    "print(x.grad)\n",
    "x.grad.zero_() ### cleared the gradients from the previous forward pass\n",
    "z = x**2+x ### forward pass\n",
    "z.backward()\n",
    "print(x.grad)"
   ]
  },
  {
   "cell_type": "markdown",
   "id": "0e371442-2a8c-4a68-82be-670deb81e972",
   "metadata": {},
   "source": [
    "$z = X^2+4X-8$\n",
    "\n",
    "$y = x-lr*x.grad$\n",
    "\n",
    "dont want $\\frac{dy}{dx}$ to be computed\n",
    "\n",
    "Use pytorch and find the $\\frac{dz}{dx}_{x=4}$\n",
    "\n",
    "Once you have computed the gradient, try to do gradient descent and minimize z\n",
    "\n",
    "Update equation for gradient descent:\n",
    "\n",
    "$x := x - \\eta*grad$\n",
    "\n",
    "$f(x_1,x_2,x_3)$\n",
    "$f.backward()$\n",
    "$\\frac{\\partial(f)}{x_1}$\n",
    "$\\frac{\\partial(f)}{x_2}$\n",
    "$\\frac{\\partial(f)}{x_3}$"
   ]
  },
  {
   "cell_type": "code",
   "execution_count": 11,
   "id": "653a9996-21d3-41e1-9266-a897bb90c46f",
   "metadata": {},
   "outputs": [
    {
     "name": "stdout",
     "output_type": "stream",
     "text": [
      "z :24.0 x: 3.880000114440918\n",
      "z :22.57440185546875 x: 3.7624001502990723\n",
      "z :21.20525550842285 x: 3.6471521854400635\n",
      "z :19.89032745361328 x: 3.5342092514038086\n",
      "z :18.627471923828125 x: 3.423525094985962\n",
      "z :17.414623260498047 x: 3.3150546550750732\n",
      "z :16.249805450439453 x: 3.2087535858154297\n",
      "z :15.131114959716797 x: 3.1045784950256348\n",
      "z :14.056720733642578 x: 3.0024869441986084\n",
      "z :13.02487564086914 x: 2.902437210083008\n"
     ]
    }
   ],
   "source": [
    "x = torch.tensor(4.0,requires_grad=True)\n",
    "eta = 0.01\n",
    "for i in range(10):\n",
    "    z = x**2+4*x-8\n",
    "    z.backward()\n",
    "    with torch.no_grad():## stop any kind of gradient tracking\n",
    "        x -= eta*x.grad ## can't write x=x-lr*grad\n",
    "        x.grad.zero_() ## clear the gradients\n",
    "    print(f\"z :{z} x: {x}\")"
   ]
  },
  {
   "cell_type": "markdown",
   "id": "9fdb8b0a-970d-4240-9ad1-e146bb80375b",
   "metadata": {},
   "source": [
    "Convert the for loop given above into a while loop and terminate that loop based on some thershold value"
   ]
  },
  {
   "cell_type": "code",
   "execution_count": 12,
   "id": "632c5204-659c-48aa-9003-6b170ff44fb0",
   "metadata": {},
   "outputs": [
    {
     "name": "stdout",
     "output_type": "stream",
     "text": [
      "tensor(-11.9975, grad_fn=<SubBackward0>) tensor(-1.9510, requires_grad=True)\n"
     ]
    }
   ],
   "source": [
    "x = torch.tensor(4.0,requires_grad=True) \n",
    "eta = 0.01\n",
    "converged = False\n",
    "tol = 0.0001\n",
    "while not converged:\n",
    "    z = x**2+4*x-8 # z=f(x)\n",
    "    y = z**3\n",
    "    z.backward() ## dz/dx\n",
    "    with torch.no_grad():## stop any kind of gradient tracking\n",
    "        x -= eta*x.grad ## can't write x=x-lr*grad ## y=x-eta*grad, i am not tracking the gradients for any calcluation done in this block, !dy/dx\n",
    "        x.grad.zero_()\n",
    "        z_new = x**2+4*x-8\n",
    "    if abs(z_new-z)<=tol:\n",
    "        converged = True\n",
    "print(z,x)  "
   ]
  },
  {
   "cell_type": "markdown",
   "id": "ee06af15-15ca-48d5-a37e-3c34944398ad",
   "metadata": {},
   "source": [
    "### Linear Regression using pytorch\n",
    "$y = w_0 + w_1x$\n",
    "\n",
    "- Define a tensor for $w_0$ and $w_1$\n",
    "- You want to calculate $\\frac{dLoss}{dw_0}$ and $\\frac{dLoss}{dw_1}$\n",
    "- Define an expression for loss, so that can call loss.backward(), and then find out $w_0.grad$ and $w_1.grad$\n"
   ]
  },
  {
   "cell_type": "code",
   "execution_count": 13,
   "id": "7ffcc201-0d18-4271-979f-972bc8d3916b",
   "metadata": {},
   "outputs": [],
   "source": [
    "import pandas as pd"
   ]
  },
  {
   "cell_type": "code",
   "execution_count": 14,
   "id": "1a0ed4cc-f527-4f45-b648-1d65cf4ae9ad",
   "metadata": {},
   "outputs": [],
   "source": [
    "data = pd.read_csv(\"../Codes/data/regression.csv\")"
   ]
  },
  {
   "cell_type": "code",
   "execution_count": 15,
   "id": "900f0813-53e4-4ad8-a647-adefd75df386",
   "metadata": {},
   "outputs": [
    {
     "data": {
      "text/plain": [
       "mpg             0\n",
       "cylinders       0\n",
       "displacement    0\n",
       "horsepower      6\n",
       "weight          0\n",
       "acceleration    0\n",
       "year            0\n",
       "origin          0\n",
       "dtype: int64"
      ]
     },
     "execution_count": 15,
     "metadata": {},
     "output_type": "execute_result"
    }
   ],
   "source": [
    "data.isnull().sum()"
   ]
  },
  {
   "cell_type": "code",
   "execution_count": 16,
   "id": "ac834856-9b8f-4833-94f2-e619bc51e849",
   "metadata": {},
   "outputs": [
    {
     "data": {
      "text/html": [
       "<div>\n",
       "<style scoped>\n",
       "    .dataframe tbody tr th:only-of-type {\n",
       "        vertical-align: middle;\n",
       "    }\n",
       "\n",
       "    .dataframe tbody tr th {\n",
       "        vertical-align: top;\n",
       "    }\n",
       "\n",
       "    .dataframe thead th {\n",
       "        text-align: right;\n",
       "    }\n",
       "</style>\n",
       "<table border=\"1\" class=\"dataframe\">\n",
       "  <thead>\n",
       "    <tr style=\"text-align: right;\">\n",
       "      <th></th>\n",
       "      <th>mpg</th>\n",
       "      <th>cylinders</th>\n",
       "      <th>displacement</th>\n",
       "      <th>horsepower</th>\n",
       "      <th>weight</th>\n",
       "      <th>acceleration</th>\n",
       "      <th>year</th>\n",
       "      <th>origin</th>\n",
       "    </tr>\n",
       "  </thead>\n",
       "  <tbody>\n",
       "    <tr>\n",
       "      <th>0</th>\n",
       "      <td>18.0</td>\n",
       "      <td>8.0</td>\n",
       "      <td>307.0</td>\n",
       "      <td>130.0</td>\n",
       "      <td>3504.0</td>\n",
       "      <td>12.0</td>\n",
       "      <td>70.0</td>\n",
       "      <td>1.0</td>\n",
       "    </tr>\n",
       "    <tr>\n",
       "      <th>1</th>\n",
       "      <td>15.0</td>\n",
       "      <td>8.0</td>\n",
       "      <td>350.0</td>\n",
       "      <td>165.0</td>\n",
       "      <td>3693.0</td>\n",
       "      <td>11.5</td>\n",
       "      <td>70.0</td>\n",
       "      <td>1.0</td>\n",
       "    </tr>\n",
       "  </tbody>\n",
       "</table>\n",
       "</div>"
      ],
      "text/plain": [
       "    mpg  cylinders  displacement  horsepower  weight  acceleration  year  \\\n",
       "0  18.0        8.0         307.0       130.0  3504.0          12.0  70.0   \n",
       "1  15.0        8.0         350.0       165.0  3693.0          11.5  70.0   \n",
       "\n",
       "   origin  \n",
       "0     1.0  \n",
       "1     1.0  "
      ]
     },
     "execution_count": 16,
     "metadata": {},
     "output_type": "execute_result"
    }
   ],
   "source": [
    "data.head(2)"
   ]
  },
  {
   "cell_type": "code",
   "execution_count": 20,
   "id": "df841f69-13de-44e1-8f02-6ecc5f794f53",
   "metadata": {},
   "outputs": [],
   "source": [
    "X,y = data['cylinders'].values, data['mpg'].values"
   ]
  },
  {
   "cell_type": "code",
   "execution_count": 21,
   "id": "ba2679f3-40eb-4295-aaf1-50c692f12d28",
   "metadata": {},
   "outputs": [],
   "source": [
    "X = torch.tensor(X)\n",
    "y = torch.tensor(y)"
   ]
  },
  {
   "cell_type": "code",
   "execution_count": 27,
   "id": "b1eeee13-3065-4da2-b4db-d7f56144978b",
   "metadata": {},
   "outputs": [
    {
     "name": "stdout",
     "output_type": "stream",
     "text": [
      "tensor(27.1987, dtype=torch.float64, grad_fn=<MeanBackward0>) tensor(37.2327, requires_grad=True) tensor(-2.6050, requires_grad=True)\n"
     ]
    }
   ],
   "source": [
    "w0 = torch.tensor(1.0,requires_grad=True)\n",
    "w1 = torch.tensor(1.0,requires_grad=True)\n",
    "def predict(w0,w1,x):\n",
    "    return w0+w1*x \n",
    "def loss_fn(actual,preds):\n",
    "    error = (actual-preds)\n",
    "    error = error**2\n",
    "    return error.mean()\n",
    "converged = False\n",
    "tol = 0.01\n",
    "lr = 0.01\n",
    "while not converged:\n",
    "    preds = predict(w0,w1,X)\n",
    "    loss = loss_fn(y,preds)\n",
    "    loss.backward()\n",
    "    with torch.no_grad():\n",
    "        w0-=lr*w0.grad\n",
    "        w1-=lr*w1.grad\n",
    "        w0.grad.zero_()\n",
    "        w1.grad.zero_()\n",
    "        new_loss = loss_fn(y,predict(w0,w1,X))\n",
    "    if abs(new_loss-loss)<=tol:\n",
    "        converged = True\n",
    "print(loss,w0,w1)"
   ]
  },
  {
   "cell_type": "markdown",
   "id": "8fa677ce-75f3-4828-8354-ba8539c0948d",
   "metadata": {},
   "source": [
    "W = [w0,\n",
    "     w1,\n",
    "     w2,\n",
    "     w3]\n",
    "X = [[1],cylinders,displacement,hp]\n",
    "preds = XW\n",
    "loss.backward()\n",
    "W.grad = []"
   ]
  },
  {
   "cell_type": "code",
   "execution_count": 28,
   "id": "7d5df38b-d32c-415b-a599-e0a379bf11b9",
   "metadata": {},
   "outputs": [],
   "source": [
    "X = data[['cylinders','displacement']]\n",
    "y = data['mpg'].values"
   ]
  },
  {
   "cell_type": "code",
   "execution_count": 30,
   "id": "6773f4c3-cb05-48cb-acb2-29bd71afb406",
   "metadata": {},
   "outputs": [
    {
     "name": "stderr",
     "output_type": "stream",
     "text": [
      "/var/folders/7h/01sjg2sx6tl3y72r2klm24c80000gn/T/ipykernel_8789/151896054.py:1: SettingWithCopyWarning: \n",
      "A value is trying to be set on a copy of a slice from a DataFrame.\n",
      "Try using .loc[row_indexer,col_indexer] = value instead\n",
      "\n",
      "See the caveats in the documentation: https://pandas.pydata.org/pandas-docs/stable/user_guide/indexing.html#returning-a-view-versus-a-copy\n",
      "  X['ones'] = 1\n"
     ]
    }
   ],
   "source": [
    "X['ones'] = 1"
   ]
  },
  {
   "cell_type": "code",
   "execution_count": 33,
   "id": "4bbaaf39-861c-48b2-b33b-e450f4418b8e",
   "metadata": {},
   "outputs": [],
   "source": [
    "X = X[['ones','cylinders','displacement']].values"
   ]
  },
  {
   "cell_type": "code",
   "execution_count": 35,
   "id": "441cb8f6-23ff-49bc-9dee-fc36fa7bf267",
   "metadata": {},
   "outputs": [],
   "source": [
    "W = torch.ones(3,1,requires_grad=True)"
   ]
  },
  {
   "cell_type": "code",
   "execution_count": 42,
   "id": "d88ce820-86d2-4836-8fd5-255779cf6824",
   "metadata": {},
   "outputs": [
    {
     "data": {
      "text/plain": [
       "torch.float32"
      ]
     },
     "execution_count": 42,
     "metadata": {},
     "output_type": "execute_result"
    }
   ],
   "source": [
    "W"
   ]
  },
  {
   "cell_type": "code",
   "execution_count": 44,
   "id": "f85ce83f-a447-4c04-aaf4-ed662e1f88cf",
   "metadata": {},
   "outputs": [
    {
     "name": "stderr",
     "output_type": "stream",
     "text": [
      "/var/folders/7h/01sjg2sx6tl3y72r2klm24c80000gn/T/ipykernel_8789/3379825405.py:1: UserWarning: To copy construct from a tensor, it is recommended to use sourceTensor.clone().detach() or sourceTensor.clone().detach().requires_grad_(True), rather than torch.tensor(sourceTensor).\n",
      "  X = torch.tensor(X,dtype=torch.float)\n"
     ]
    }
   ],
   "source": [
    "X = torch.tensor(X,dtype=torch.float)"
   ]
  },
  {
   "cell_type": "code",
   "execution_count": 46,
   "id": "3fe13eae-bb71-4262-ba06-3202bcf40d78",
   "metadata": {},
   "outputs": [],
   "source": [
    "preds = X@W"
   ]
  },
  {
   "cell_type": "code",
   "execution_count": 47,
   "id": "c1d4c365-f884-4245-8a22-a8b4289a3620",
   "metadata": {},
   "outputs": [],
   "source": [
    "y = torch.tensor(y,dtype=torch.float)"
   ]
  },
  {
   "cell_type": "code",
   "execution_count": 49,
   "id": "d2bc93ad-3c74-4096-88a9-60ad253045a2",
   "metadata": {},
   "outputs": [],
   "source": [
    "l = loss_fn(y,preds)"
   ]
  },
  {
   "cell_type": "code",
   "execution_count": 50,
   "id": "9ae02042-6185-4016-a2ba-d90762c31dc1",
   "metadata": {},
   "outputs": [],
   "source": [
    "l.backward()"
   ]
  },
  {
   "cell_type": "code",
   "execution_count": 51,
   "id": "c80d50e9-7ac5-4a8f-a437-4db29fac830b",
   "metadata": {},
   "outputs": [
    {
     "data": {
      "text/plain": [
       "tensor([[  352.7322],\n",
       "        [ 2266.2466],\n",
       "        [90253.7266]])"
      ]
     },
     "execution_count": 51,
     "metadata": {},
     "output_type": "execute_result"
    }
   ],
   "source": [
    "W.grad"
   ]
  },
  {
   "cell_type": "markdown",
   "id": "2453e6ed-33a0-4759-aa5f-fe7fd055c736",
   "metadata": {},
   "source": [
    "### tensorflow"
   ]
  },
  {
   "cell_type": "code",
   "execution_count": 52,
   "id": "9ae59df1-2862-4860-8b1e-bff17dafb462",
   "metadata": {},
   "outputs": [],
   "source": [
    "import tensorflow as tf"
   ]
  },
  {
   "cell_type": "code",
   "execution_count": 57,
   "id": "41b4b741-a458-4664-bd41-62ca511bafa4",
   "metadata": {},
   "outputs": [
    {
     "data": {
      "text/plain": [
       "'2.7.0'"
      ]
     },
     "execution_count": 57,
     "metadata": {},
     "output_type": "execute_result"
    }
   ],
   "source": [
    "tf.__version__"
   ]
  },
  {
   "cell_type": "markdown",
   "id": "4a6a75e5-9ca9-4a5a-88a0-23f467327fec",
   "metadata": {},
   "source": [
    "Minimize $X^2+X$"
   ]
  },
  {
   "cell_type": "code",
   "execution_count": 53,
   "id": "39600cd4-fdfa-41af-a349-f70e5373ed6a",
   "metadata": {},
   "outputs": [
    {
     "name": "stdout",
     "output_type": "stream",
     "text": [
      "Metal device set to: Apple M1\n"
     ]
    },
    {
     "name": "stderr",
     "output_type": "stream",
     "text": [
      "2022-01-07 14:50:37.680593: I tensorflow/core/common_runtime/pluggable_device/pluggable_device_factory.cc:305] Could not identify NUMA node of platform GPU ID 0, defaulting to 0. Your kernel may not have been built with NUMA support.\n",
      "2022-01-07 14:50:37.681536: I tensorflow/core/common_runtime/pluggable_device/pluggable_device_factory.cc:271] Created TensorFlow device (/job:localhost/replica:0/task:0/device:GPU:0 with 0 MB memory) -> physical PluggableDevice (device: 0, name: METAL, pci bus id: <undefined>)\n"
     ]
    }
   ],
   "source": [
    "x = tf.Variable(0.0)"
   ]
  },
  {
   "cell_type": "code",
   "execution_count": 54,
   "id": "41d725f5-a775-4ef1-96ed-e025aa69b0c9",
   "metadata": {},
   "outputs": [],
   "source": [
    "with tf.GradientTape() as tape:\n",
    "    y = x**2+x"
   ]
  },
  {
   "cell_type": "code",
   "execution_count": 55,
   "id": "44e4bff2-bc31-4a0b-ba22-7a891185b708",
   "metadata": {},
   "outputs": [],
   "source": [
    "dy_dx = tape.gradient(y,x) ## dy/dx"
   ]
  },
  {
   "cell_type": "code",
   "execution_count": 56,
   "id": "99afc456-c21e-4a80-aa93-91335fec5afe",
   "metadata": {},
   "outputs": [
    {
     "data": {
      "text/plain": [
       "1.0"
      ]
     },
     "execution_count": 56,
     "metadata": {},
     "output_type": "execute_result"
    }
   ],
   "source": [
    "dy_dx.numpy()"
   ]
  },
  {
   "cell_type": "markdown",
   "id": "c304e0eb-9c4f-4286-82e6-896583e93b70",
   "metadata": {},
   "source": [
    "x = x -lr*grad"
   ]
  },
  {
   "cell_type": "code",
   "execution_count": null,
   "id": "007e4ac2-f016-4b31-a97e-9b8ea066c840",
   "metadata": {},
   "outputs": [],
   "source": [
    "lr = 0.01\n",
    "x.assign_sub(lr*dy_dx) # "
   ]
  }
 ],
 "metadata": {
  "kernelspec": {
   "display_name": "Python 3 (ipykernel)",
   "language": "python",
   "name": "python3"
  },
  "language_info": {
   "codemirror_mode": {
    "name": "ipython",
    "version": 3
   },
   "file_extension": ".py",
   "mimetype": "text/x-python",
   "name": "python",
   "nbconvert_exporter": "python",
   "pygments_lexer": "ipython3",
   "version": "3.9.9"
  }
 },
 "nbformat": 4,
 "nbformat_minor": 5
}
