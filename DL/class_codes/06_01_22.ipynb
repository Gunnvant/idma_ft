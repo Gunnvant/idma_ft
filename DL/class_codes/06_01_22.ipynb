{
 "cells": [
  {
   "cell_type": "markdown",
   "id": "2c7b3551-c098-49e9-b9a5-60cecc5b55b3",
   "metadata": {},
   "source": [
    "**Backpropagation Algorithm**\n",
    "\n",
    "This notebook illustrates the backprop algorithm for a relatively simple dataset. The network architecture is as follows:\n",
    "\n",
    "1. $z_1 = w_1x$\n",
    "2. $h_1 = tanh(z_1)$\n",
    "3. $z_2 = w_2h_1+b$\n",
    "4. $h_2 =tanh(z_2)$\n",
    "5. $C = \\frac{1}{2}(y-h_2)^2$\n",
    "\n",
    "Now the gradients needed would be for the following parameters:\n",
    "\n",
    "1. $w_1$\n",
    "2. $w_2$\n",
    "3. $b$"
   ]
  },
  {
   "cell_type": "code",
   "execution_count": null,
   "id": "1e035e08-63bc-4b74-9e37-c5f1efc5f0fc",
   "metadata": {},
   "outputs": [],
   "source": []
  }
 ],
 "metadata": {
  "kernelspec": {
   "display_name": "Python 3 (ipykernel)",
   "language": "python",
   "name": "python3"
  },
  "language_info": {
   "codemirror_mode": {
    "name": "ipython",
    "version": 3
   },
   "file_extension": ".py",
   "mimetype": "text/x-python",
   "name": "python",
   "nbconvert_exporter": "python",
   "pygments_lexer": "ipython3",
   "version": "3.9.9"
  }
 },
 "nbformat": 4,
 "nbformat_minor": 5
}
