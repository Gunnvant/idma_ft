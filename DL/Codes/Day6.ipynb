{
 "cells": [
  {
   "cell_type": "code",
   "execution_count": 1,
   "id": "992e2ac8-eca7-4dfc-9941-5433b3011833",
   "metadata": {},
   "outputs": [],
   "source": [
    "import pandas as pd\n",
    "import tensorflow as tf"
   ]
  },
  {
   "cell_type": "code",
   "execution_count": 2,
   "id": "18d07911-701a-42fb-b568-48e87cea5678",
   "metadata": {},
   "outputs": [],
   "source": [
    "local_path_mnist_train = \"/Users/gunnvantsaini/OneDrive/project_codes/content/dl_basics/vision/sony/data/mnist_train.csv\"\n",
    "local_path_mnist_test = \"/Users/gunnvantsaini/OneDrive/project_codes/content/dl_basics/vision/sony/data/mnist_test.csv\""
   ]
  },
  {
   "cell_type": "code",
   "execution_count": 3,
   "id": "7594b332-51df-478a-ad21-98e87f189c08",
   "metadata": {},
   "outputs": [],
   "source": [
    "mnist_train = pd.read_csv(local_path_mnist_train)\n",
    "mnist_test = pd.read_csv(local_path_mnist_test)"
   ]
  },
  {
   "cell_type": "code",
   "execution_count": 4,
   "id": "71defa33-be1f-4599-a1d0-5bd6130baac2",
   "metadata": {},
   "outputs": [],
   "source": [
    "X=mnist_train.drop('label',axis=1).values/255.0\n",
    "y=mnist_train['label'].values"
   ]
  },
  {
   "cell_type": "code",
   "execution_count": 5,
   "id": "66214a52-d8e0-41ac-8340-508a02dc1ec5",
   "metadata": {},
   "outputs": [
    {
     "name": "stdout",
     "output_type": "stream",
     "text": [
      "Metal device set to: Apple M1\n"
     ]
    },
    {
     "name": "stderr",
     "output_type": "stream",
     "text": [
      "2021-12-30 17:59:31.926050: I tensorflow/core/common_runtime/pluggable_device/pluggable_device_factory.cc:305] Could not identify NUMA node of platform GPU ID 0, defaulting to 0. Your kernel may not have been built with NUMA support.\n",
      "2021-12-30 17:59:31.926165: I tensorflow/core/common_runtime/pluggable_device/pluggable_device_factory.cc:271] Created TensorFlow device (/job:localhost/replica:0/task:0/device:GPU:0 with 0 MB memory) -> physical PluggableDevice (device: 0, name: METAL, pci bus id: <undefined>)\n"
     ]
    }
   ],
   "source": [
    "### Create a simple cnn\n",
    "model = tf.keras.Sequential()\n",
    "model.add(tf.keras.layers.Conv2D(filters=6,kernel_size=(3,3),padding='same',input_shape=(28,28,1)))\n",
    "model.add(tf.keras.layers.MaxPooling2D(pool_size=(2,2)))\n",
    "model.add(tf.keras.layers.Conv2D(filters=16,kernel_size=(3,3),padding='valid'))\n",
    "model.add(tf.keras.layers.MaxPooling2D(pool_size=(2,2)))\n",
    "model.add(tf.keras.layers.Flatten())\n",
    "model.add(tf.keras.layers.Dense(120,activation='relu'))\n",
    "model.add(tf.keras.layers.Dense(84,activation='relu'))\n",
    "model.add(tf.keras.layers.Dense(10,activation='softmax'))"
   ]
  },
  {
   "cell_type": "code",
   "execution_count": 6,
   "id": "517375e4-6542-4d5e-8e11-678d1917e15e",
   "metadata": {},
   "outputs": [
    {
     "name": "stdout",
     "output_type": "stream",
     "text": [
      "Model: \"sequential\"\n",
      "_________________________________________________________________\n",
      "Layer (type)                 Output Shape              Param #   \n",
      "=================================================================\n",
      "conv2d (Conv2D)              (None, 28, 28, 6)         60        \n",
      "_________________________________________________________________\n",
      "max_pooling2d (MaxPooling2D) (None, 14, 14, 6)         0         \n",
      "_________________________________________________________________\n",
      "conv2d_1 (Conv2D)            (None, 12, 12, 16)        880       \n",
      "_________________________________________________________________\n",
      "max_pooling2d_1 (MaxPooling2 (None, 6, 6, 16)          0         \n",
      "_________________________________________________________________\n",
      "flatten (Flatten)            (None, 576)               0         \n",
      "_________________________________________________________________\n",
      "dense (Dense)                (None, 120)               69240     \n",
      "_________________________________________________________________\n",
      "dense_1 (Dense)              (None, 84)                10164     \n",
      "_________________________________________________________________\n",
      "dense_2 (Dense)              (None, 10)                850       \n",
      "=================================================================\n",
      "Total params: 81,194\n",
      "Trainable params: 81,194\n",
      "Non-trainable params: 0\n",
      "_________________________________________________________________\n"
     ]
    }
   ],
   "source": [
    "model.summary()"
   ]
  },
  {
   "cell_type": "code",
   "execution_count": 7,
   "id": "9958ca86-3462-4b6d-8bf0-df1db6ff1366",
   "metadata": {},
   "outputs": [],
   "source": [
    "model.compile(loss='sparse_categorical_crossentropy',\n",
    "              optimizer='sgd',\n",
    "              metrics=['accuracy'])"
   ]
  },
  {
   "cell_type": "code",
   "execution_count": 8,
   "id": "998c05b9-57a5-4847-a7c0-cb8c8fcc76f4",
   "metadata": {},
   "outputs": [],
   "source": [
    "X = X.reshape((X.shape[0],28,28,1))"
   ]
  },
  {
   "cell_type": "code",
   "execution_count": 9,
   "id": "ed653f33-62c6-4f41-80dd-4cc26dcf1916",
   "metadata": {},
   "outputs": [
    {
     "data": {
      "text/plain": [
       "(42000, 28, 28, 1)"
      ]
     },
     "execution_count": 9,
     "metadata": {},
     "output_type": "execute_result"
    }
   ],
   "source": [
    "X.shape"
   ]
  },
  {
   "cell_type": "code",
   "execution_count": 10,
   "id": "a011a771-c434-4e55-bf53-a1740995f2a7",
   "metadata": {},
   "outputs": [],
   "source": [
    "X = tf.constant(X,dtype='float32')\n",
    "y = tf.constant(y,dtype='float32')\n",
    "mnist_data = tf.data.Dataset.from_tensor_slices((X,y))"
   ]
  },
  {
   "cell_type": "code",
   "execution_count": 11,
   "id": "c3c1e567-9363-4fd8-950b-9674f58454ff",
   "metadata": {},
   "outputs": [],
   "source": [
    "mnist_data = mnist_data.batch(64)"
   ]
  },
  {
   "cell_type": "code",
   "execution_count": 12,
   "id": "21d0ed99-ed8c-40c1-8b41-5d2cd8a3b128",
   "metadata": {},
   "outputs": [
    {
     "name": "stdout",
     "output_type": "stream",
     "text": [
      "Epoch 1/10\n",
      "  4/657 [..............................] - ETA: 11s - loss: 2.3132 - accuracy: 0.0352 "
     ]
    },
    {
     "name": "stderr",
     "output_type": "stream",
     "text": [
      "2021-12-30 17:59:32.376748: W tensorflow/core/platform/profile_utils/cpu_utils.cc:128] Failed to get CPU frequency: 0 Hz\n",
      "2021-12-30 17:59:32.376817: I tensorflow/core/grappler/optimizers/custom_graph_optimizer_registry.cc:112] Plugin optimizer for device_type GPU is enabled.\n"
     ]
    },
    {
     "name": "stdout",
     "output_type": "stream",
     "text": [
      "657/657 [==============================] - 7s 10ms/step - loss: 1.0633 - accuracy: 0.6855\n",
      "Epoch 2/10\n",
      "657/657 [==============================] - 6s 10ms/step - loss: 0.2656 - accuracy: 0.9185\n",
      "Epoch 3/10\n",
      "657/657 [==============================] - 6s 10ms/step - loss: 0.1923 - accuracy: 0.9409\n",
      "Epoch 4/10\n",
      "657/657 [==============================] - 7s 10ms/step - loss: 0.1537 - accuracy: 0.9531\n",
      "Epoch 5/10\n",
      "657/657 [==============================] - 7s 10ms/step - loss: 0.1296 - accuracy: 0.9611\n",
      "Epoch 6/10\n",
      "657/657 [==============================] - 7s 10ms/step - loss: 0.1126 - accuracy: 0.9661\n",
      "Epoch 7/10\n",
      "657/657 [==============================] - 7s 10ms/step - loss: 0.0999 - accuracy: 0.9699\n",
      "Epoch 8/10\n",
      "657/657 [==============================] - 6s 10ms/step - loss: 0.0901 - accuracy: 0.9726\n",
      "Epoch 9/10\n",
      "657/657 [==============================] - 6s 10ms/step - loss: 0.0821 - accuracy: 0.9749\n",
      "Epoch 10/10\n",
      "657/657 [==============================] - 6s 9ms/step - loss: 0.0755 - accuracy: 0.9770\n"
     ]
    },
    {
     "data": {
      "text/plain": [
       "<keras.callbacks.History at 0x17a2d57c0>"
      ]
     },
     "execution_count": 12,
     "metadata": {},
     "output_type": "execute_result"
    }
   ],
   "source": [
    "model.fit(mnist_data,epochs=10)"
   ]
  },
  {
   "cell_type": "markdown",
   "id": "9aa9d938-b60c-40d6-9626-8126c4d7c456",
   "metadata": {},
   "source": [
    "**CNN**\n",
    "- Padding,Filter Size and stride\n",
    "- Lenet 5 architecture"
   ]
  },
  {
   "cell_type": "markdown",
   "id": "57d8f756-a47e-4dca-8a7d-c92bc4d57d9c",
   "metadata": {},
   "source": [
    "The output from a convolution filter depends on the input size, kernel size, padding and stride. The relationship is:\n",
    "$O=\\frac{(I-K+2P)}{S}+1$ (https://adeshpande3.github.io/A-Beginner%27s-Guide-To-Understanding-Convolutional-Neural-Networks-Part-2/ )\n",
    "\n",
    "With this in mind we will create a model for very common CNN architecture known as Lenet5 (https://engmrk.com/lenet-5-a-classic-cnn-architecture/)"
   ]
  },
  {
   "cell_type": "code",
   "execution_count": 13,
   "id": "6a6cf92c-9b62-4de7-bb2f-f40d4aaad809",
   "metadata": {},
   "outputs": [],
   "source": [
    "import torch\n",
    "from torch import nn\n",
    "from torch.utils.data import DataLoader,Dataset\n",
    "from torch import optim"
   ]
  },
  {
   "cell_type": "code",
   "execution_count": 14,
   "id": "1076f421-fd5a-4e1c-9ae6-ba98a29e0503",
   "metadata": {},
   "outputs": [],
   "source": [
    "def O(I,K,P,S):\n",
    "    return ((I-K+2*P)/(S))+1"
   ]
  },
  {
   "cell_type": "code",
   "execution_count": 15,
   "id": "b686866a-7794-492c-8798-d936426860cf",
   "metadata": {},
   "outputs": [
    {
     "data": {
      "text/plain": [
       "24.0"
      ]
     },
     "execution_count": 15,
     "metadata": {},
     "output_type": "execute_result"
    }
   ],
   "source": [
    "O(28,5,0,1)"
   ]
  },
  {
   "cell_type": "code",
   "execution_count": 16,
   "id": "48874901-7fcf-49a0-8702-ce6957da8e3a",
   "metadata": {},
   "outputs": [
    {
     "data": {
      "text/plain": [
       "12.0"
      ]
     },
     "execution_count": 16,
     "metadata": {},
     "output_type": "execute_result"
    }
   ],
   "source": [
    "O(24,2,0,2)"
   ]
  },
  {
   "cell_type": "code",
   "execution_count": 17,
   "id": "19a7c5ef-cbfd-48ea-9ec7-c411779f33cb",
   "metadata": {},
   "outputs": [
    {
     "data": {
      "text/plain": [
       "8.0"
      ]
     },
     "execution_count": 17,
     "metadata": {},
     "output_type": "execute_result"
    }
   ],
   "source": [
    "O(12,5,0,1)"
   ]
  },
  {
   "cell_type": "code",
   "execution_count": 18,
   "id": "44b22eeb-c901-4a40-bd6f-7c299a7eab4d",
   "metadata": {},
   "outputs": [
    {
     "data": {
      "text/plain": [
       "4.0"
      ]
     },
     "execution_count": 18,
     "metadata": {},
     "output_type": "execute_result"
    }
   ],
   "source": [
    "O(8,2,0,2)"
   ]
  },
  {
   "cell_type": "code",
   "execution_count": 19,
   "id": "93d33a94-17e6-4b22-a20f-4908f83432ea",
   "metadata": {},
   "outputs": [],
   "source": [
    "########### Define Model #########\n",
    "class Lenet(nn.Module):\n",
    "    def __init__(self):\n",
    "        super().__init__()\n",
    "        self.conv1=nn.Conv2d(in_channels=1,out_channels=6,padding=0,stride=1,kernel_size=(5,5))\n",
    "        self.pool1=nn.MaxPool2d(kernel_size=(2,2),padding=0,stride=2)\n",
    "        self.conv2=nn.Conv2d(in_channels=6,out_channels=16,padding=0,stride=1,kernel_size=(5,5))\n",
    "        self.pool2=nn.MaxPool2d(kernel_size=(2,2),padding=0,stride=2)\n",
    "        self.linear1=nn.Linear(4*4*16,120)\n",
    "        self.linear2=nn.Linear(120,84)\n",
    "        self.linear3=nn.Linear(84,10)\n",
    "    def forward(self,X):\n",
    "        x=self.conv1(X)\n",
    "        x=nn.functional.tanh(x)\n",
    "        x=self.pool1(x)\n",
    "        x=self.conv2(x)\n",
    "        x=nn.functional.tanh(x)\n",
    "        x=self.pool2(x)\n",
    "        x=x.view(-1,16*4*4)\n",
    "        x=self.linear1(x)\n",
    "        x=nn.functional.tanh(x)\n",
    "        x=self.linear2(x)\n",
    "        x=nn.functional.tanh(x)\n",
    "        x=self.linear3(x)\n",
    "        x=nn.functional.softmax(x,dim=1)\n",
    "        return x        "
   ]
  },
  {
   "cell_type": "code",
   "execution_count": 20,
   "id": "2b59683e-ae78-42e7-83a0-f98f425e50ef",
   "metadata": {},
   "outputs": [],
   "source": [
    "class Mnist(Dataset):\n",
    "    def __init__(self,X,y):\n",
    "        self.X=X\n",
    "        self.y=y\n",
    "    def __len__(self):\n",
    "        return len(self.y)\n",
    "    def __getitem__(self,idx):\n",
    "        X=self.X[idx,].reshape((28,28))\n",
    "        y=self.y[idx]\n",
    "        batch={'X':X,'y':y}\n",
    "        return batch"
   ]
  },
  {
   "cell_type": "code",
   "execution_count": 21,
   "id": "fa959aa3-809e-4af7-b19a-6e3398ce8554",
   "metadata": {},
   "outputs": [],
   "source": [
    "X=mnist_train.drop('label',axis=1).values/255.0\n",
    "y=mnist_train['label'].values"
   ]
  },
  {
   "cell_type": "code",
   "execution_count": 22,
   "id": "d565309d-a983-40d3-abad-5c216affb0c2",
   "metadata": {},
   "outputs": [],
   "source": [
    "mnist=Mnist(X,y)"
   ]
  },
  {
   "cell_type": "code",
   "execution_count": 23,
   "id": "4e830359-741c-4c95-9c95-2d62348d5900",
   "metadata": {},
   "outputs": [],
   "source": [
    "data=DataLoader(mnist,batch_size=128,shuffle=True)"
   ]
  },
  {
   "cell_type": "code",
   "execution_count": 24,
   "id": "9210dd2a-20fe-4983-827d-8c688ae6c446",
   "metadata": {},
   "outputs": [],
   "source": [
    "criterion=nn.CrossEntropyLoss()"
   ]
  },
  {
   "cell_type": "code",
   "execution_count": 25,
   "id": "9ebe6327-fffe-4bc0-86d3-12eafe9b12b1",
   "metadata": {},
   "outputs": [],
   "source": [
    "mod=Lenet()\n",
    "opt=optim.Adam(mod.parameters(),lr=0.001)"
   ]
  },
  {
   "cell_type": "code",
   "execution_count": 27,
   "id": "8956fdd2-ea89-4088-903c-4016f58776f9",
   "metadata": {
    "tags": []
   },
   "outputs": [
    {
     "name": "stderr",
     "output_type": "stream",
     "text": [
      "/Users/gunnvantsaini/miniforge3/envs/dl/lib/python3.9/site-packages/torch/nn/functional.py:1795: UserWarning: nn.functional.tanh is deprecated. Use torch.tanh instead.\n",
      "  warnings.warn(\"nn.functional.tanh is deprecated. Use torch.tanh instead.\")\n"
     ]
    },
    {
     "name": "stdout",
     "output_type": "stream",
     "text": [
      "Epoch 1, iter 1, acc 0.14, loss 2.3\n",
      "Epoch 1, iter 101, acc 0.89, loss 1.61\n",
      "Epoch 1, iter 201, acc 0.95, loss 1.52\n",
      "Epoch 1, iter 301, acc 0.95, loss 1.52\n",
      "Epoch 2, iter 1, acc 0.95, loss 1.51\n",
      "Epoch 2, iter 101, acc 0.94, loss 1.53\n",
      "Epoch 2, iter 201, acc 0.97, loss 1.5\n",
      "Epoch 2, iter 301, acc 0.98, loss 1.49\n",
      "Epoch 3, iter 1, acc 0.96, loss 1.49\n",
      "Epoch 3, iter 101, acc 0.98, loss 1.49\n",
      "Epoch 3, iter 201, acc 0.98, loss 1.47\n",
      "Epoch 3, iter 301, acc 0.95, loss 1.51\n",
      "Epoch 4, iter 1, acc 0.98, loss 1.48\n",
      "Epoch 4, iter 101, acc 0.98, loss 1.48\n",
      "Epoch 4, iter 201, acc 0.99, loss 1.48\n",
      "Epoch 4, iter 301, acc 0.99, loss 1.47\n"
     ]
    }
   ],
   "source": [
    "num_epochs=4\n",
    "Losses=[]\n",
    "for i in range(num_epochs):\n",
    "    for j,batch in enumerate(data):\n",
    "        X=batch['X'].float()\n",
    "        X=X.reshape(-1,1,28,28)\n",
    "        y=batch['y'].long()\n",
    "        probs=mod(X)\n",
    "        loss=criterion(probs,y)\n",
    "        Losses.append(loss.item())\n",
    "        loss.backward()\n",
    "        acc=(probs.argmax(axis=1)==y).float().mean().item()\n",
    "        if j%100==0:\n",
    "            print(f\"Epoch {i+1}, iter {j+1}, acc {round(acc,2)}, loss {round(loss.item(),2)}\")\n",
    "        opt.step()\n",
    "        opt.zero_grad()"
   ]
  },
  {
   "cell_type": "code",
   "execution_count": 28,
   "id": "bb0d43f1-a9b5-4214-bcdb-83716e1844ca",
   "metadata": {},
   "outputs": [],
   "source": [
    "####### One can also use nn.sequential() to represent architectures better ######\n",
    "class Lenet(nn.Module):\n",
    "    def __init__(self):\n",
    "        super().__init__()\n",
    "        self.features=nn.Sequential(nn.Conv2d(in_channels=1,out_channels=6,padding=0,stride=1,kernel_size=(5,5)),\n",
    "                                   nn.Tanh(),\n",
    "                                   nn.MaxPool2d(kernel_size=(2,2),padding=0,stride=2),\n",
    "                                   nn.Conv2d(in_channels=6,out_channels=16,padding=0,stride=1,kernel_size=(5,5)),\n",
    "                                   nn.Tanh(),\n",
    "                                   nn.MaxPool2d(kernel_size=(2,2),padding=0,stride=2))\n",
    "        self.classifier=nn.Sequential(nn.Linear(4*4*16,120),\n",
    "                                     nn.Tanh(),\n",
    "                                     nn.Linear(120,84),\n",
    "                                     nn.Tanh(),\n",
    "                                     nn.Linear(84,10))\n",
    "    def forward(self,X):\n",
    "        X=self.features(X)\n",
    "        X=X.view(-1,16*4*4)\n",
    "        X=self.classifier(X)\n",
    "        X=nn.functional.softmax(X,dim=1)\n",
    "        return X"
   ]
  },
  {
   "cell_type": "code",
   "execution_count": 29,
   "id": "16f343a7-2a1c-4391-8b84-93888e4200bb",
   "metadata": {},
   "outputs": [],
   "source": [
    "mod=Lenet()\n",
    "opt=optim.Adam(mod.parameters(),lr=0.001)\n",
    "criterion=nn.CrossEntropyLoss()"
   ]
  },
  {
   "cell_type": "code",
   "execution_count": 30,
   "id": "e89d880a-b013-4ce4-875d-14331d29aad0",
   "metadata": {
    "tags": []
   },
   "outputs": [
    {
     "name": "stdout",
     "output_type": "stream",
     "text": [
      "Epoch 1, iter 1, acc 0.1, loss 2.3\n",
      "Epoch 1, iter 101, acc 0.91, loss 1.61\n",
      "Epoch 1, iter 201, acc 0.92, loss 1.54\n",
      "Epoch 1, iter 301, acc 0.95, loss 1.51\n",
      "Epoch 2, iter 1, acc 0.95, loss 1.52\n",
      "Epoch 2, iter 101, acc 0.98, loss 1.49\n",
      "Epoch 2, iter 201, acc 0.97, loss 1.49\n",
      "Epoch 2, iter 301, acc 0.93, loss 1.54\n",
      "Epoch 3, iter 1, acc 0.97, loss 1.5\n",
      "Epoch 3, iter 101, acc 0.99, loss 1.47\n",
      "Epoch 3, iter 201, acc 0.97, loss 1.5\n",
      "Epoch 3, iter 301, acc 0.95, loss 1.52\n",
      "Epoch 4, iter 1, acc 0.98, loss 1.48\n",
      "Epoch 4, iter 101, acc 0.97, loss 1.5\n",
      "Epoch 4, iter 201, acc 0.95, loss 1.5\n",
      "Epoch 4, iter 301, acc 1.0, loss 1.47\n"
     ]
    }
   ],
   "source": [
    "num_epochs=4\n",
    "Losses=[]\n",
    "for i in range(num_epochs):\n",
    "    for j,batch in enumerate(data):\n",
    "        X=batch['X'].float()\n",
    "        X=X.reshape(-1,1,28,28)\n",
    "        y=batch['y'].long()\n",
    "        probs=mod(X)\n",
    "        loss=criterion(probs,y)\n",
    "        Losses.append(loss.item())\n",
    "        loss.backward()\n",
    "        acc=(probs.argmax(axis=1)==y).float().mean().item()\n",
    "        if j%100==0:\n",
    "            print(f\"Epoch {i+1}, iter {j+1}, acc {round(acc,2)}, loss {round(loss.item(),2)}\")\n",
    "        opt.step()\n",
    "        opt.zero_grad()"
   ]
  },
  {
   "cell_type": "code",
   "execution_count": null,
   "id": "0b61d55c-d0a4-4799-b72b-0bbadaf9f909",
   "metadata": {},
   "outputs": [],
   "source": []
  }
 ],
 "metadata": {
  "kernelspec": {
   "display_name": "Python 3 (ipykernel)",
   "language": "python",
   "name": "python3"
  },
  "language_info": {
   "codemirror_mode": {
    "name": "ipython",
    "version": 3
   },
   "file_extension": ".py",
   "mimetype": "text/x-python",
   "name": "python",
   "nbconvert_exporter": "python",
   "pygments_lexer": "ipython3",
   "version": "3.9.9"
  }
 },
 "nbformat": 4,
 "nbformat_minor": 5
}
