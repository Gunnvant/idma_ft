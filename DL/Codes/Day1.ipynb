{
 "cells": [
  {
   "cell_type": "markdown",
   "id": "513889b2-14a1-431f-9dac-712d49c3765f",
   "metadata": {},
   "source": [
    "## Day1:\n",
    "- Artificial Neuron\n",
    "- Feedforward neural network\n",
    "- Measuring Loss "
   ]
  },
  {
   "cell_type": "code",
   "execution_count": 1,
   "id": "2c723104-6e16-4254-a321-01473f87ef6a",
   "metadata": {},
   "outputs": [],
   "source": [
    "import numpy as np\n",
    "\n",
    "def relu(z):\n",
    "    return max(z,0)\n",
    "\n",
    "def sigmoid(z):\n",
    "    return 1/(1+np.exp(-z))\n",
    "\n",
    "def neuron(x,w, activation):\n",
    "    if len(x)+1!=len(w):\n",
    "        raise(\"The input and the weights supplied should have compatible dimensions\")\n",
    "    z = 0\n",
    "    for data,wt in zip(x,w[1:]):\n",
    "        z+=data*wt\n",
    "    return activation(z)"
   ]
  },
  {
   "cell_type": "code",
   "execution_count": 2,
   "id": "8c974709-13e7-427c-8ca1-ee70992b10ee",
   "metadata": {},
   "outputs": [
    {
     "data": {
      "text/plain": [
       "276"
      ]
     },
     "execution_count": 2,
     "metadata": {},
     "output_type": "execute_result"
    }
   ],
   "source": [
    "data = [3,8,9,11]\n",
    "weights = [6,7,8,9,10]\n",
    "neuron(data,weights,relu)"
   ]
  },
  {
   "cell_type": "markdown",
   "id": "2cf09dcc-01c8-431a-af82-a426b7d961fa",
   "metadata": {},
   "source": [
    "**Coding a forward pass**\n",
    "\n",
    "The forward pass of any neural network can be easily represented as a sequence of matrix multiplication steps.\n",
    "\n",
    "![](./imgs/nn.png)\n",
    "\n",
    "This network can be described as follows:\n",
    "\n",
    "- Input vector = $X = (x1,x2)$\n",
    "$$X = \\begin{bmatrix}\n",
    "x1\\\\\n",
    "x2\\\\\n",
    "\\end{bmatrix}\n",
    "$$\n",
    "- Weight Matrix (hidden layer) = $$W = \\begin{bmatrix}\n",
    "W_{11}&&W_{21}\\\\\n",
    "W_{12}&&W_{22}\\\\\n",
    "W_{13}&&W_{23}\\\\\n",
    "W_{14}&&W_{24}\\\\\n",
    "\\end{bmatrix}\n",
    "$$\n",
    "*note the subscripts are being mapped to weights in the figure\n",
    "\n",
    "- Bias/offset Matrix (hidden layer) = $$\n",
    "W_0 = \\begin{bmatrix}\n",
    "W_{01}\\\\\n",
    "W_{02}\\\\\n",
    "W_{03}\\\\\n",
    "W_{04}\\\\\n",
    "\\end{bmatrix}\n",
    "$$\n",
    "\n",
    "Now the forward pass for the hidden layer can be described as \n",
    "\n",
    "$$W \\times X + W_0= Z = \\begin{bmatrix}\n",
    "z_{1}\\\\\n",
    "z_{2}\\\\\n",
    "z_3\\\\\n",
    "z_4\\\\\n",
    "\\end{bmatrix}\n",
    "$$\n",
    "\n",
    "Applying the activation function $f$ over the matrix $Z$ will complete the forward pass.\n",
    "\n",
    "$$f(W \\times X + W_0)= f(Z) = f(\\begin{bmatrix}\n",
    "z_{1}\\\\\n",
    "z_{2}\\\\\n",
    "z_3\\\\\n",
    "z_4\\\\\n",
    "\\end{bmatrix}) = \n",
    "\\begin{bmatrix}\n",
    "f(z_{1})\\\\\n",
    "f(z_{2})\\\\\n",
    "f(z_3)\\\\\n",
    "f(z_4)\\\\\n",
    "\\end{bmatrix}\n",
    "$$\n",
    "\n",
    "For the output layer:\n",
    "\n",
    "- The weight matrix is $$V = \\begin{bmatrix}\n",
    "V_{11}&&V_{21}&&V_{31}&&V_{41}\\\\\n",
    "V_{12}&&V_{22}&&V_{32}&&V_{42}\\\\\n",
    "\\end{bmatrix}\n",
    "$$\n",
    "\n",
    "- The bias/offset matrix is $$V_0 = \\begin{bmatrix}\n",
    "V_{01}\\\\\n",
    "V_{02}\\\\\n",
    "\\end{bmatrix}\n",
    "$$\n",
    "\n",
    "The rest of the forward pass can be described as follows:\n",
    "\n",
    "$$softmax(V \\times f(Z) + V_0) = softmax(U) = \\begin{bmatrix} \n",
    "\\frac{e^{(u_1)}}{e^{(u_1)}+e^{(u_2)}}\\\\\n",
    "\\frac{e^{(u_2)}}{e^(u_1)+e^{(u_2)}}\\\\\n",
    "\\end{bmatrix}\n",
    "$$\n",
    "\n",
    "\n",
    "Lets see a piece of code to impliment the above math"
   ]
  },
  {
   "cell_type": "code",
   "execution_count": 3,
   "id": "0a61a193-b064-477b-990c-44661a688169",
   "metadata": {},
   "outputs": [],
   "source": [
    "X = np.matrix([[3,14]])\n",
    "W = np.matrix([[1,0],\n",
    "             [0,1],\n",
    "             [-1,0],\n",
    "             [0,-1]])\n",
    "W0 = np.matrix([[-1,-1,-1,-1]])\n",
    "V = np.matrix([[1,1,1,1],\n",
    "             [-1,-1,-1,-1]])\n",
    "V0 = np.matrix([[0,2]])\n",
    "\n",
    "def relu(z):\n",
    "    z[z<0]=0\n",
    "    return z\n",
    "\n",
    "def softmax(z):\n",
    "    z = np.exp(z)\n",
    "    z = z/z.sum(axis=0)\n",
    "    return z"
   ]
  },
  {
   "cell_type": "code",
   "execution_count": 4,
   "id": "678e56fc-2cfa-452c-977b-b7e1a7351d1f",
   "metadata": {},
   "outputs": [
    {
     "data": {
      "text/plain": [
       "(1, 2)"
      ]
     },
     "execution_count": 4,
     "metadata": {},
     "output_type": "execute_result"
    }
   ],
   "source": [
    "X.shape"
   ]
  },
  {
   "cell_type": "code",
   "execution_count": 5,
   "id": "9c2c6883-3640-492a-b09e-3acb4e56fb31",
   "metadata": {},
   "outputs": [
    {
     "data": {
      "text/plain": [
       "matrix([[ 3, 14]])"
      ]
     },
     "execution_count": 5,
     "metadata": {},
     "output_type": "execute_result"
    }
   ],
   "source": [
    "X"
   ]
  },
  {
   "cell_type": "code",
   "execution_count": 6,
   "id": "4cdc3b9e-398d-493c-90fa-42cb64d9228f",
   "metadata": {},
   "outputs": [],
   "source": [
    "X = X.reshape((2,1))"
   ]
  },
  {
   "cell_type": "code",
   "execution_count": 7,
   "id": "dce9d5d5-5b2e-4c6e-a56b-d4c1f0bdee06",
   "metadata": {},
   "outputs": [
    {
     "data": {
      "text/plain": [
       "matrix([[ 3],\n",
       "        [14]])"
      ]
     },
     "execution_count": 7,
     "metadata": {},
     "output_type": "execute_result"
    }
   ],
   "source": [
    "X"
   ]
  },
  {
   "cell_type": "code",
   "execution_count": 8,
   "id": "86c6bbd3-504a-429d-b87b-91ff8ad6dff4",
   "metadata": {},
   "outputs": [
    {
     "data": {
      "text/plain": [
       "(4, 2)"
      ]
     },
     "execution_count": 8,
     "metadata": {},
     "output_type": "execute_result"
    }
   ],
   "source": [
    "W.shape"
   ]
  },
  {
   "cell_type": "code",
   "execution_count": 9,
   "id": "1e6afe4a-fa86-4029-9dda-a00380d95810",
   "metadata": {},
   "outputs": [
    {
     "data": {
      "text/plain": [
       "(1, 4)"
      ]
     },
     "execution_count": 9,
     "metadata": {},
     "output_type": "execute_result"
    }
   ],
   "source": [
    "W0.shape"
   ]
  },
  {
   "cell_type": "code",
   "execution_count": 10,
   "id": "ed7451c5-3b27-4c7d-9ec2-d08ed208ee89",
   "metadata": {},
   "outputs": [],
   "source": [
    "W0 = W0.reshape((4,1))"
   ]
  },
  {
   "cell_type": "code",
   "execution_count": 11,
   "id": "ae709063-9dda-4572-8e32-8c77eff92d77",
   "metadata": {},
   "outputs": [],
   "source": [
    "Z = W@X+W0"
   ]
  },
  {
   "cell_type": "code",
   "execution_count": 12,
   "id": "d2c2c275-d1a0-4007-aee1-de48c7231a34",
   "metadata": {},
   "outputs": [
    {
     "data": {
      "text/plain": [
       "matrix([[  2],\n",
       "        [ 13],\n",
       "        [ -4],\n",
       "        [-15]])"
      ]
     },
     "execution_count": 12,
     "metadata": {},
     "output_type": "execute_result"
    }
   ],
   "source": [
    "Z"
   ]
  },
  {
   "cell_type": "code",
   "execution_count": 13,
   "id": "330ccd42-6363-4df3-ac3f-a6c28677f8a9",
   "metadata": {},
   "outputs": [
    {
     "data": {
      "text/plain": [
       "(4, 1)"
      ]
     },
     "execution_count": 13,
     "metadata": {},
     "output_type": "execute_result"
    }
   ],
   "source": [
    "Z.shape"
   ]
  },
  {
   "cell_type": "code",
   "execution_count": 14,
   "id": "19c2beb3-19e1-4f39-b655-bd799bd3b9bb",
   "metadata": {},
   "outputs": [
    {
     "data": {
      "text/plain": [
       "(2, 4)"
      ]
     },
     "execution_count": 14,
     "metadata": {},
     "output_type": "execute_result"
    }
   ],
   "source": [
    "V.shape"
   ]
  },
  {
   "cell_type": "code",
   "execution_count": 15,
   "id": "f10687de-8920-4b95-9cf4-4de62c5ea9fe",
   "metadata": {},
   "outputs": [
    {
     "data": {
      "text/plain": [
       "matrix([[-4],\n",
       "        [ 4]])"
      ]
     },
     "execution_count": 15,
     "metadata": {},
     "output_type": "execute_result"
    }
   ],
   "source": [
    "V@Z"
   ]
  },
  {
   "cell_type": "code",
   "execution_count": 16,
   "id": "f7f8f930-f27c-48a0-84a4-3bb0328e80dc",
   "metadata": {},
   "outputs": [
    {
     "data": {
      "text/plain": [
       "(1, 2)"
      ]
     },
     "execution_count": 16,
     "metadata": {},
     "output_type": "execute_result"
    }
   ],
   "source": [
    "V0.shape"
   ]
  },
  {
   "cell_type": "code",
   "execution_count": 17,
   "id": "3ea7fd40-ce36-4e0d-8bca-7bc5a957aaa0",
   "metadata": {},
   "outputs": [],
   "source": [
    "V0 = V0.reshape((2,1))"
   ]
  },
  {
   "cell_type": "code",
   "execution_count": 18,
   "id": "dd960c5c-aed8-4e2b-b1a6-5087ac61e9b2",
   "metadata": {},
   "outputs": [
    {
     "data": {
      "text/plain": [
       "matrix([[-4],\n",
       "        [ 6]])"
      ]
     },
     "execution_count": 18,
     "metadata": {},
     "output_type": "execute_result"
    }
   ],
   "source": [
    "V@Z+V0"
   ]
  },
  {
   "cell_type": "code",
   "execution_count": 19,
   "id": "b07c5991-c014-40f5-80d4-475fa54b2944",
   "metadata": {},
   "outputs": [
    {
     "data": {
      "text/plain": [
       "matrix([[ 15],\n",
       "        [-13]])"
      ]
     },
     "execution_count": 19,
     "metadata": {},
     "output_type": "execute_result"
    }
   ],
   "source": [
    "V@relu(Z)+V0"
   ]
  },
  {
   "cell_type": "code",
   "execution_count": 20,
   "id": "2b960507-fcad-41dd-b5d2-af9aa4e7baec",
   "metadata": {},
   "outputs": [
    {
     "data": {
      "text/plain": [
       "matrix([[15],\n",
       "        [ 0]])"
      ]
     },
     "execution_count": 20,
     "metadata": {},
     "output_type": "execute_result"
    }
   ],
   "source": [
    "relu(V@relu(Z)+V0)"
   ]
  },
  {
   "cell_type": "code",
   "execution_count": 21,
   "id": "dedd7c0b-1839-4ca9-9246-9fd08f6ac9bd",
   "metadata": {},
   "outputs": [],
   "source": [
    "class NN():\n",
    "    def __init__(self,X):\n",
    "        self.W = np.matrix([[1,0],\n",
    "                             [0,1],\n",
    "                             [-1,0],\n",
    "                             [0,-1]])\n",
    "        self.W0 = np.matrix([[-1,-1,-1,-1]]).reshape((4,1))\n",
    "        self.V = np.matrix([[1,1,1,1],\n",
    "                         [-1,-1,-1,-1]])\n",
    "        self.V0 = np.matrix([[0,2]]).reshape((2,1))\n",
    "        self.X = X\n",
    "    def _relu(self,z):\n",
    "        z[z<0]=0\n",
    "        return z\n",
    "    def forward(self):\n",
    "        Z = W@X+W0\n",
    "        f_Z = self._relu(Z)\n",
    "        U = V@f_Z+V0\n",
    "        f_U = self._relu(U)\n",
    "        return f_U"
   ]
  },
  {
   "cell_type": "code",
   "execution_count": 22,
   "id": "547e4ffa-f9ad-4a36-9ae9-184b23c014da",
   "metadata": {},
   "outputs": [],
   "source": [
    "model = NN(X)"
   ]
  },
  {
   "cell_type": "code",
   "execution_count": 23,
   "id": "b0be6ae7-38c1-413f-ba5e-ac89e28f6069",
   "metadata": {},
   "outputs": [
    {
     "data": {
      "text/plain": [
       "matrix([[15],\n",
       "        [ 0]])"
      ]
     },
     "execution_count": 23,
     "metadata": {},
     "output_type": "execute_result"
    }
   ],
   "source": [
    "model.forward()"
   ]
  },
  {
   "cell_type": "markdown",
   "id": "d011a19d-c8f7-458e-9b75-79207860ec54",
   "metadata": {},
   "source": [
    "## Measuring loss\n",
    "\n",
    "**Mean squared loss**\n",
    "$MSL = \\frac{1}{N}*\\sum^{N}_{i = 1}(yhat_i-y_i)^2$\n",
    "\n",
    "**Cross entropy loss**\n",
    "For an observation $o$, the loss is defined as\n",
    "$CEL = -\\sum^{m}_{c=1}y_{o,c}log(p_{o,c})$"
   ]
  },
  {
   "cell_type": "code",
   "execution_count": 24,
   "id": "c7141d2d-dce1-4ee8-95f9-b763e607d635",
   "metadata": {},
   "outputs": [],
   "source": [
    "y_hat_reg = [10,12,11.5,9.8]\n",
    "y_reg = [9,11,13,10]\n",
    "y_hat_cls = [[0.3,0.3,0.4],[0.9,0.05,0.05],[0.10,0.8,0.10],[0.20,0.10,0.70]]\n",
    "y_cls = [[0,0,1],[1,0,0],[1,0,0],[0,0,1]]"
   ]
  },
  {
   "cell_type": "code",
   "execution_count": 27,
   "id": "4baddcda-b363-4926-9b3c-e9552036647c",
   "metadata": {},
   "outputs": [],
   "source": [
    "def mse(y,y_hat):\n",
    "    err = 0\n",
    "    for actual,pred in zip(y,y_hat):\n",
    "        err+=(actual-pred)**2\n",
    "    return err/len(y)      "
   ]
  },
  {
   "cell_type": "code",
   "execution_count": 28,
   "id": "c64c8bec-27de-453c-998e-464cff8d7a22",
   "metadata": {},
   "outputs": [
    {
     "data": {
      "text/plain": [
       "1.0725"
      ]
     },
     "execution_count": 28,
     "metadata": {},
     "output_type": "execute_result"
    }
   ],
   "source": [
    "mse(y_reg,y_hat_reg)"
   ]
  },
  {
   "cell_type": "code",
   "execution_count": 29,
   "id": "66569e9c-a917-403b-80bb-2400ecbb14b9",
   "metadata": {},
   "outputs": [],
   "source": [
    "import math\n",
    "def ce(y,y_hat):\n",
    "    err = 0 \n",
    "    for actuals,preds in zip(y,y_hat):\n",
    "        for actual,pred in zip(actuals,preds):\n",
    "            err+=actual*math.log(pred)\n",
    "    err = err/len(y)\n",
    "    return err       "
   ]
  },
  {
   "cell_type": "code",
   "execution_count": 30,
   "id": "75d20882-8881-42bd-b5de-775fa0139e93",
   "metadata": {},
   "outputs": [
    {
     "data": {
      "text/plain": [
       "-0.9202278211161898"
      ]
     },
     "execution_count": 30,
     "metadata": {},
     "output_type": "execute_result"
    }
   ],
   "source": [
    "ce(y_cls,y_hat_cls)"
   ]
  },
  {
   "cell_type": "code",
   "execution_count": null,
   "id": "30326425-345e-4d3d-b166-993358922096",
   "metadata": {},
   "outputs": [],
   "source": []
  }
 ],
 "metadata": {
  "kernelspec": {
   "display_name": "Python 3 (ipykernel)",
   "language": "python",
   "name": "python3"
  },
  "language_info": {
   "codemirror_mode": {
    "name": "ipython",
    "version": 3
   },
   "file_extension": ".py",
   "mimetype": "text/x-python",
   "name": "python",
   "nbconvert_exporter": "python",
   "pygments_lexer": "ipython3",
   "version": "3.9.9"
  }
 },
 "nbformat": 4,
 "nbformat_minor": 5
}
