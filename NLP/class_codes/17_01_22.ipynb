{
 "cells": [
  {
   "cell_type": "markdown",
   "id": "fa51aaa1-4428-45c7-8a46-b08cc4d14fa7",
   "metadata": {},
   "source": [
    "# Text representation\n",
    "- Bow: Count Matrix\n",
    "- Bow: Tfidf Matrix\n",
    "- Extract Keywords\n",
    "- Find document similarity"
   ]
  },
  {
   "cell_type": "code",
   "execution_count": 1,
   "id": "930a124b-5fa1-427c-97f8-d45c2f8c63a5",
   "metadata": {},
   "outputs": [],
   "source": [
    "### Count Matrix\n",
    "from sklearn.feature_extraction import text"
   ]
  },
  {
   "cell_type": "code",
   "execution_count": 2,
   "id": "e969236b-3e67-4f61-9d10-473ffeeb3784",
   "metadata": {},
   "outputs": [],
   "source": [
    "corpus = [\"This is document one\",\n",
    "\"This is document two\",\n",
    "\"This is document three\",\n",
    "\"This is document four\"\n",
    "] ##List of documents"
   ]
  },
  {
   "cell_type": "code",
   "execution_count": 3,
   "id": "69dba066-502c-4dbb-86e6-e90c7a86fc33",
   "metadata": {},
   "outputs": [],
   "source": [
    "cv=text.CountVectorizer(input = corpus) ## this step only creates a python object and not the matrix"
   ]
  },
  {
   "cell_type": "code",
   "execution_count": 4,
   "id": "d11a1dc9-3bd3-4a6e-a5cb-f98f48b289cb",
   "metadata": {},
   "outputs": [],
   "source": [
    "count_matrix=cv.fit_transform(corpus)"
   ]
  },
  {
   "cell_type": "code",
   "execution_count": 5,
   "id": "cc9ccb0b-a215-4ff5-aea1-1733786462fa",
   "metadata": {},
   "outputs": [
    {
     "data": {
      "text/plain": [
       "<4x7 sparse matrix of type '<class 'numpy.int64'>'\n",
       "\twith 16 stored elements in Compressed Sparse Row format>"
      ]
     },
     "execution_count": 5,
     "metadata": {},
     "output_type": "execute_result"
    }
   ],
   "source": [
    "count_matrix"
   ]
  },
  {
   "cell_type": "code",
   "execution_count": 6,
   "id": "7ba46317-b4eb-4734-b1c1-40cd2335b84e",
   "metadata": {},
   "outputs": [
    {
     "data": {
      "text/plain": [
       "array([[1, 0, 1, 1, 1, 0, 0],\n",
       "       [1, 0, 1, 0, 1, 0, 1],\n",
       "       [1, 0, 1, 0, 1, 1, 0],\n",
       "       [1, 1, 1, 0, 1, 0, 0]])"
      ]
     },
     "execution_count": 6,
     "metadata": {},
     "output_type": "execute_result"
    }
   ],
   "source": [
    "count_matrix.toarray()"
   ]
  },
  {
   "cell_type": "code",
   "execution_count": 7,
   "id": "f61bcbb3-3183-42a0-9763-e96cfcba7a0d",
   "metadata": {},
   "outputs": [],
   "source": [
    "class CountVectorizer():\n",
    "    def __init__(self,input):\n",
    "        self.input = input\n",
    "    def fit_transform(self):\n",
    "        print(\"This is fit_transform\")"
   ]
  },
  {
   "cell_type": "code",
   "execution_count": 10,
   "id": "f39a5a11-ebda-4006-bc7d-326b5ea96c99",
   "metadata": {},
   "outputs": [],
   "source": [
    "c = CountVectorizer(input=corpus)"
   ]
  },
  {
   "cell_type": "code",
   "execution_count": 11,
   "id": "e240d8a5-569e-42aa-923e-c4625fb56b6c",
   "metadata": {},
   "outputs": [
    {
     "name": "stdout",
     "output_type": "stream",
     "text": [
      "This is fit_transform\n"
     ]
    }
   ],
   "source": [
    "c.fit_transform()"
   ]
  },
  {
   "cell_type": "code",
   "execution_count": 15,
   "id": "0f3186ca-eb1c-451c-a2ab-4fbaac239d85",
   "metadata": {},
   "outputs": [
    {
     "name": "stderr",
     "output_type": "stream",
     "text": [
      "/Users/gunnvantsaini/miniforge3/envs/dl/lib/python3.9/site-packages/sklearn/utils/deprecation.py:87: FutureWarning: Function get_feature_names is deprecated; get_feature_names is deprecated in 1.0 and will be removed in 1.2. Please use get_feature_names_out instead.\n",
      "  warnings.warn(msg, category=FutureWarning)\n"
     ]
    },
    {
     "data": {
      "text/plain": [
       "['document', 'four', 'is', 'one', 'this', 'three', 'two']"
      ]
     },
     "execution_count": 15,
     "metadata": {},
     "output_type": "execute_result"
    }
   ],
   "source": [
    "cv.get_feature_names()"
   ]
  },
  {
   "cell_type": "code",
   "execution_count": 13,
   "id": "4664f9b9-0950-4958-b472-6fd6fe536fd4",
   "metadata": {},
   "outputs": [
    {
     "data": {
      "text/html": [
       "<div>\n",
       "<style scoped>\n",
       "    .dataframe tbody tr th:only-of-type {\n",
       "        vertical-align: middle;\n",
       "    }\n",
       "\n",
       "    .dataframe tbody tr th {\n",
       "        vertical-align: top;\n",
       "    }\n",
       "\n",
       "    .dataframe thead th {\n",
       "        text-align: right;\n",
       "    }\n",
       "</style>\n",
       "<table border=\"1\" class=\"dataframe\">\n",
       "  <thead>\n",
       "    <tr style=\"text-align: right;\">\n",
       "      <th></th>\n",
       "      <th>document</th>\n",
       "      <th>four</th>\n",
       "      <th>is</th>\n",
       "      <th>one</th>\n",
       "      <th>this</th>\n",
       "      <th>three</th>\n",
       "      <th>two</th>\n",
       "    </tr>\n",
       "  </thead>\n",
       "  <tbody>\n",
       "    <tr>\n",
       "      <th>0</th>\n",
       "      <td>1</td>\n",
       "      <td>0</td>\n",
       "      <td>1</td>\n",
       "      <td>1</td>\n",
       "      <td>1</td>\n",
       "      <td>0</td>\n",
       "      <td>0</td>\n",
       "    </tr>\n",
       "    <tr>\n",
       "      <th>1</th>\n",
       "      <td>1</td>\n",
       "      <td>0</td>\n",
       "      <td>1</td>\n",
       "      <td>0</td>\n",
       "      <td>1</td>\n",
       "      <td>0</td>\n",
       "      <td>1</td>\n",
       "    </tr>\n",
       "    <tr>\n",
       "      <th>2</th>\n",
       "      <td>1</td>\n",
       "      <td>0</td>\n",
       "      <td>1</td>\n",
       "      <td>0</td>\n",
       "      <td>1</td>\n",
       "      <td>1</td>\n",
       "      <td>0</td>\n",
       "    </tr>\n",
       "    <tr>\n",
       "      <th>3</th>\n",
       "      <td>1</td>\n",
       "      <td>1</td>\n",
       "      <td>1</td>\n",
       "      <td>0</td>\n",
       "      <td>1</td>\n",
       "      <td>0</td>\n",
       "      <td>0</td>\n",
       "    </tr>\n",
       "  </tbody>\n",
       "</table>\n",
       "</div>"
      ],
      "text/plain": [
       "   document  four  is  one  this  three  two\n",
       "0         1     0   1    1     1      0    0\n",
       "1         1     0   1    0     1      0    1\n",
       "2         1     0   1    0     1      1    0\n",
       "3         1     1   1    0     1      0    0"
      ]
     },
     "execution_count": 13,
     "metadata": {},
     "output_type": "execute_result"
    }
   ],
   "source": [
    "import pandas as pd\n",
    "pd.DataFrame(count_matrix.toarray(),columns=cv.get_feature_names_out())"
   ]
  },
  {
   "cell_type": "code",
   "execution_count": 14,
   "id": "42a1f3d1-3567-4981-8ba9-e6d667758c8c",
   "metadata": {},
   "outputs": [
    {
     "data": {
      "text/plain": [
       "'1.0.1'"
      ]
     },
     "execution_count": 14,
     "metadata": {},
     "output_type": "execute_result"
    }
   ],
   "source": [
    "import sklearn\n",
    "sklearn.__version__"
   ]
  },
  {
   "cell_type": "code",
   "execution_count": 16,
   "id": "541c8472-9286-4cc1-8bd4-91a20f14182c",
   "metadata": {},
   "outputs": [],
   "source": [
    "doc = ['This is document five']"
   ]
  },
  {
   "cell_type": "code",
   "execution_count": 18,
   "id": "957aeb48-8421-4fc6-bf40-7b11baed96d1",
   "metadata": {},
   "outputs": [
    {
     "data": {
      "text/plain": [
       "array([[1, 0, 1, 0, 1, 0, 0]])"
      ]
     },
     "execution_count": 18,
     "metadata": {},
     "output_type": "execute_result"
    }
   ],
   "source": [
    "cv.transform(doc).toarray() ### .transform() method will ignore new words in the dataset"
   ]
  },
  {
   "cell_type": "code",
   "execution_count": 19,
   "id": "1eadcb4c-7e50-46bc-bc09-1a4e148812f4",
   "metadata": {},
   "outputs": [
    {
     "data": {
      "text/html": [
       "<div>\n",
       "<style scoped>\n",
       "    .dataframe tbody tr th:only-of-type {\n",
       "        vertical-align: middle;\n",
       "    }\n",
       "\n",
       "    .dataframe tbody tr th {\n",
       "        vertical-align: top;\n",
       "    }\n",
       "\n",
       "    .dataframe thead th {\n",
       "        text-align: right;\n",
       "    }\n",
       "</style>\n",
       "<table border=\"1\" class=\"dataframe\">\n",
       "  <thead>\n",
       "    <tr style=\"text-align: right;\">\n",
       "      <th></th>\n",
       "      <th>document</th>\n",
       "      <th>four</th>\n",
       "      <th>is</th>\n",
       "      <th>one</th>\n",
       "      <th>this</th>\n",
       "      <th>three</th>\n",
       "      <th>two</th>\n",
       "    </tr>\n",
       "  </thead>\n",
       "  <tbody>\n",
       "    <tr>\n",
       "      <th>0</th>\n",
       "      <td>1</td>\n",
       "      <td>0</td>\n",
       "      <td>1</td>\n",
       "      <td>0</td>\n",
       "      <td>1</td>\n",
       "      <td>0</td>\n",
       "      <td>0</td>\n",
       "    </tr>\n",
       "  </tbody>\n",
       "</table>\n",
       "</div>"
      ],
      "text/plain": [
       "   document  four  is  one  this  three  two\n",
       "0         1     0   1    0     1      0    0"
      ]
     },
     "execution_count": 19,
     "metadata": {},
     "output_type": "execute_result"
    }
   ],
   "source": [
    "pd.DataFrame(cv.transform(doc).toarray(),columns=cv.get_feature_names_out())"
   ]
  },
  {
   "cell_type": "markdown",
   "id": "24eb3a3d-634c-42fe-8b67-0694357291cc",
   "metadata": {},
   "source": [
    "### Class Excercise\n",
    "- Use this data https://drive.google.com/file/d/11jIco80zFY_nEfVApqo-DD4UXx8J5wGs/view?usp=sharing\n",
    "- Choose the first 500 rows from the column transcripts\n",
    "- Create a count matrix for these 500 rows\n",
    "- Need to create a count matrix using transform() method for rows 501-700 (new data)"
   ]
  },
  {
   "cell_type": "code",
   "execution_count": 20,
   "id": "3b684311-514a-470a-bad7-7eeb9cc68c62",
   "metadata": {},
   "outputs": [
    {
     "data": {
      "text/html": [
       "<div>\n",
       "<style scoped>\n",
       "    .dataframe tbody tr th:only-of-type {\n",
       "        vertical-align: middle;\n",
       "    }\n",
       "\n",
       "    .dataframe tbody tr th {\n",
       "        vertical-align: top;\n",
       "    }\n",
       "\n",
       "    .dataframe thead th {\n",
       "        text-align: right;\n",
       "    }\n",
       "</style>\n",
       "<table border=\"1\" class=\"dataframe\">\n",
       "  <thead>\n",
       "    <tr style=\"text-align: right;\">\n",
       "      <th></th>\n",
       "      <th>transcript</th>\n",
       "      <th>url</th>\n",
       "    </tr>\n",
       "  </thead>\n",
       "  <tbody>\n",
       "    <tr>\n",
       "      <th>0</th>\n",
       "      <td>Good morning. How are you?(Laughter)It's been ...</td>\n",
       "      <td>https://www.ted.com/talks/ken_robinson_says_sc...</td>\n",
       "    </tr>\n",
       "    <tr>\n",
       "      <th>1</th>\n",
       "      <td>Thank you so much, Chris. And it's truly a gre...</td>\n",
       "      <td>https://www.ted.com/talks/al_gore_on_averting_...</td>\n",
       "    </tr>\n",
       "  </tbody>\n",
       "</table>\n",
       "</div>"
      ],
      "text/plain": [
       "                                          transcript  \\\n",
       "0  Good morning. How are you?(Laughter)It's been ...   \n",
       "1  Thank you so much, Chris. And it's truly a gre...   \n",
       "\n",
       "                                                 url  \n",
       "0  https://www.ted.com/talks/ken_robinson_says_sc...  \n",
       "1  https://www.ted.com/talks/al_gore_on_averting_...  "
      ]
     },
     "execution_count": 20,
     "metadata": {},
     "output_type": "execute_result"
    }
   ],
   "source": [
    "path = '/Users/gunnvantsaini/Documents/Data/Kaggle/ted-data/transcripts.csv'\n",
    "data = pd.read_csv(path)\n",
    "data.head(2)"
   ]
  },
  {
   "cell_type": "code",
   "execution_count": 21,
   "id": "c26048ab-1b41-4182-b7b1-3f88955b8b97",
   "metadata": {},
   "outputs": [],
   "source": [
    "trans = data['transcript'].tolist()[0:500]"
   ]
  },
  {
   "cell_type": "code",
   "execution_count": 22,
   "id": "d7227523-7a42-4469-8c03-d5f8d06b9a5b",
   "metadata": {},
   "outputs": [],
   "source": [
    "cv = text.CountVectorizer(input = trans)\n",
    "matrix = cv.fit_transform(trans)###"
   ]
  },
  {
   "cell_type": "code",
   "execution_count": 23,
   "id": "f3362df1-f409-4cf6-a1e1-fd41070fc64f",
   "metadata": {},
   "outputs": [],
   "source": [
    "trans_new = data['transcript'].iloc[501:700].tolist()"
   ]
  },
  {
   "cell_type": "code",
   "execution_count": 24,
   "id": "14a8e24f-557d-4589-b52e-341fae96e441",
   "metadata": {},
   "outputs": [],
   "source": [
    "matrix_new = cv.transform(trans_new) ###"
   ]
  },
  {
   "cell_type": "markdown",
   "id": "083013ec-5158-4dad-9cde-b44903724390",
   "metadata": {},
   "source": [
    "tfidf [link](https://en.wikipedia.org/wiki/Tf–idf)"
   ]
  },
  {
   "cell_type": "markdown",
   "id": "ad6085bb-444a-4542-b807-0b70c09fd526",
   "metadata": {},
   "source": [
    "### Compute tfidf"
   ]
  },
  {
   "cell_type": "code",
   "execution_count": 25,
   "id": "0ede8bd4-3f63-4e7c-8c44-f3b27eddef44",
   "metadata": {},
   "outputs": [],
   "source": [
    "corpus = [\"This is document one\",\n",
    "\"This is document two\",\n",
    "\"This is document three\",\n",
    "\"This is document four\"\n",
    "] ##List of documents"
   ]
  },
  {
   "cell_type": "code",
   "execution_count": 26,
   "id": "4c35f38d-0d9c-4f11-826d-5a8185d1e6a3",
   "metadata": {},
   "outputs": [],
   "source": [
    "tfidf = text.TfidfVectorizer(input = corpus)"
   ]
  },
  {
   "cell_type": "code",
   "execution_count": 27,
   "id": "ae015c57-eecf-4c01-ba08-30ece77fa277",
   "metadata": {},
   "outputs": [],
   "source": [
    "matrix = tfidf.fit_transform(corpus)"
   ]
  },
  {
   "cell_type": "code",
   "execution_count": 28,
   "id": "43e16f29-a7c2-4bdc-9ca7-f27cc51310b1",
   "metadata": {},
   "outputs": [
    {
     "data": {
      "text/plain": [
       "<4x7 sparse matrix of type '<class 'numpy.float64'>'\n",
       "\twith 16 stored elements in Compressed Sparse Row format>"
      ]
     },
     "execution_count": 28,
     "metadata": {},
     "output_type": "execute_result"
    }
   ],
   "source": [
    "matrix"
   ]
  },
  {
   "cell_type": "code",
   "execution_count": 31,
   "id": "55818c6f-1d8a-4fd6-8963-037d86713bbc",
   "metadata": {
    "collapsed": true,
    "jupyter": {
     "outputs_hidden": true
    },
    "tags": []
   },
   "outputs": [
    {
     "data": {
      "text/plain": [
       "array([[0.38713857, 0.        , 0.38713857, 0.74187006, 0.38713857,\n",
       "        0.        , 0.        ],\n",
       "       [0.38713857, 0.        , 0.38713857, 0.        , 0.38713857,\n",
       "        0.        , 0.74187006],\n",
       "       [0.38713857, 0.        , 0.38713857, 0.        , 0.38713857,\n",
       "        0.74187006, 0.        ],\n",
       "       [0.38713857, 0.74187006, 0.38713857, 0.        , 0.38713857,\n",
       "        0.        , 0.        ]])"
      ]
     },
     "execution_count": 31,
     "metadata": {},
     "output_type": "execute_result"
    }
   ],
   "source": [
    "matrix.toarray()"
   ]
  },
  {
   "cell_type": "code",
   "execution_count": 32,
   "id": "cdbc93ea-0789-4151-a747-ad9fb81133ce",
   "metadata": {},
   "outputs": [
    {
     "data": {
      "text/plain": [
       "array(['document', 'four', 'is', 'one', 'this', 'three', 'two'],\n",
       "      dtype=object)"
      ]
     },
     "execution_count": 32,
     "metadata": {},
     "output_type": "execute_result"
    }
   ],
   "source": [
    "tfidf.get_feature_names_out()"
   ]
  },
  {
   "cell_type": "code",
   "execution_count": 33,
   "id": "f9f4283a-6fef-4596-8b48-8f6c211fc475",
   "metadata": {
    "tags": []
   },
   "outputs": [
    {
     "data": {
      "text/html": [
       "<div>\n",
       "<style scoped>\n",
       "    .dataframe tbody tr th:only-of-type {\n",
       "        vertical-align: middle;\n",
       "    }\n",
       "\n",
       "    .dataframe tbody tr th {\n",
       "        vertical-align: top;\n",
       "    }\n",
       "\n",
       "    .dataframe thead th {\n",
       "        text-align: right;\n",
       "    }\n",
       "</style>\n",
       "<table border=\"1\" class=\"dataframe\">\n",
       "  <thead>\n",
       "    <tr style=\"text-align: right;\">\n",
       "      <th></th>\n",
       "      <th>document</th>\n",
       "      <th>four</th>\n",
       "      <th>is</th>\n",
       "      <th>one</th>\n",
       "      <th>this</th>\n",
       "      <th>three</th>\n",
       "      <th>two</th>\n",
       "    </tr>\n",
       "  </thead>\n",
       "  <tbody>\n",
       "    <tr>\n",
       "      <th>0</th>\n",
       "      <td>0.387139</td>\n",
       "      <td>0.00000</td>\n",
       "      <td>0.387139</td>\n",
       "      <td>0.74187</td>\n",
       "      <td>0.387139</td>\n",
       "      <td>0.00000</td>\n",
       "      <td>0.00000</td>\n",
       "    </tr>\n",
       "    <tr>\n",
       "      <th>1</th>\n",
       "      <td>0.387139</td>\n",
       "      <td>0.00000</td>\n",
       "      <td>0.387139</td>\n",
       "      <td>0.00000</td>\n",
       "      <td>0.387139</td>\n",
       "      <td>0.00000</td>\n",
       "      <td>0.74187</td>\n",
       "    </tr>\n",
       "    <tr>\n",
       "      <th>2</th>\n",
       "      <td>0.387139</td>\n",
       "      <td>0.00000</td>\n",
       "      <td>0.387139</td>\n",
       "      <td>0.00000</td>\n",
       "      <td>0.387139</td>\n",
       "      <td>0.74187</td>\n",
       "      <td>0.00000</td>\n",
       "    </tr>\n",
       "    <tr>\n",
       "      <th>3</th>\n",
       "      <td>0.387139</td>\n",
       "      <td>0.74187</td>\n",
       "      <td>0.387139</td>\n",
       "      <td>0.00000</td>\n",
       "      <td>0.387139</td>\n",
       "      <td>0.00000</td>\n",
       "      <td>0.00000</td>\n",
       "    </tr>\n",
       "  </tbody>\n",
       "</table>\n",
       "</div>"
      ],
      "text/plain": [
       "   document     four        is      one      this    three      two\n",
       "0  0.387139  0.00000  0.387139  0.74187  0.387139  0.00000  0.00000\n",
       "1  0.387139  0.00000  0.387139  0.00000  0.387139  0.00000  0.74187\n",
       "2  0.387139  0.00000  0.387139  0.00000  0.387139  0.74187  0.00000\n",
       "3  0.387139  0.74187  0.387139  0.00000  0.387139  0.00000  0.00000"
      ]
     },
     "execution_count": 33,
     "metadata": {},
     "output_type": "execute_result"
    }
   ],
   "source": [
    "pd.DataFrame(matrix.toarray(),columns=tfidf.get_feature_names_out())"
   ]
  },
  {
   "cell_type": "code",
   "execution_count": 37,
   "id": "c1e53e6c-f62f-4a5b-819c-b83da2c460c6",
   "metadata": {},
   "outputs": [
    {
     "data": {
      "text/plain": [
       "array([[0.57735027, 0.        , 0.57735027, 0.        , 0.57735027,\n",
       "        0.        , 0.        ]])"
      ]
     },
     "execution_count": 37,
     "metadata": {},
     "output_type": "execute_result"
    }
   ],
   "source": [
    "tfidf.transform(doc).toarray()"
   ]
  },
  {
   "cell_type": "markdown",
   "id": "93313c8e-8bb1-458a-813d-a00e4ac0e6d0",
   "metadata": {},
   "source": [
    "### Class Excercise\n",
    "- Use this data https://drive.google.com/file/d/11jIco80zFY_nEfVApqo-DD4UXx8J5wGs/view?usp=sharing\n",
    "- Choose the first 500 rows from the column transcripts\n",
    "- Create a tfidf matrix for these 500 rows\n",
    "- Need to create a tfidf matrix using transform() method for rows 501-700 (new data)"
   ]
  },
  {
   "cell_type": "code",
   "execution_count": 38,
   "id": "efcc3eb9-3093-43e2-bf46-84f76679667f",
   "metadata": {},
   "outputs": [
    {
     "data": {
      "text/html": [
       "<div>\n",
       "<style scoped>\n",
       "    .dataframe tbody tr th:only-of-type {\n",
       "        vertical-align: middle;\n",
       "    }\n",
       "\n",
       "    .dataframe tbody tr th {\n",
       "        vertical-align: top;\n",
       "    }\n",
       "\n",
       "    .dataframe thead th {\n",
       "        text-align: right;\n",
       "    }\n",
       "</style>\n",
       "<table border=\"1\" class=\"dataframe\">\n",
       "  <thead>\n",
       "    <tr style=\"text-align: right;\">\n",
       "      <th></th>\n",
       "      <th>transcript</th>\n",
       "      <th>url</th>\n",
       "    </tr>\n",
       "  </thead>\n",
       "  <tbody>\n",
       "    <tr>\n",
       "      <th>0</th>\n",
       "      <td>Good morning. How are you?(Laughter)It's been ...</td>\n",
       "      <td>https://www.ted.com/talks/ken_robinson_says_sc...</td>\n",
       "    </tr>\n",
       "    <tr>\n",
       "      <th>1</th>\n",
       "      <td>Thank you so much, Chris. And it's truly a gre...</td>\n",
       "      <td>https://www.ted.com/talks/al_gore_on_averting_...</td>\n",
       "    </tr>\n",
       "  </tbody>\n",
       "</table>\n",
       "</div>"
      ],
      "text/plain": [
       "                                          transcript  \\\n",
       "0  Good morning. How are you?(Laughter)It's been ...   \n",
       "1  Thank you so much, Chris. And it's truly a gre...   \n",
       "\n",
       "                                                 url  \n",
       "0  https://www.ted.com/talks/ken_robinson_says_sc...  \n",
       "1  https://www.ted.com/talks/al_gore_on_averting_...  "
      ]
     },
     "execution_count": 38,
     "metadata": {},
     "output_type": "execute_result"
    }
   ],
   "source": [
    "data.head(2)"
   ]
  },
  {
   "cell_type": "code",
   "execution_count": 39,
   "id": "a3bd73f0-35ab-4b58-8196-264b80eb102a",
   "metadata": {},
   "outputs": [],
   "source": [
    "trans = data['transcript'].tolist()[0:500]\n",
    "trans_new = data['transcript'].iloc[501:700].tolist()"
   ]
  },
  {
   "cell_type": "code",
   "execution_count": 40,
   "id": "283cb215-a12c-45f0-aed5-b951f17be814",
   "metadata": {},
   "outputs": [],
   "source": [
    "tfidf = text.TfidfVectorizer(input = trans)\n",
    "matrix = tfidf.fit_transform(trans)"
   ]
  },
  {
   "cell_type": "code",
   "execution_count": 41,
   "id": "3d8931d3-463f-4309-9b5a-225b6f2fa76a",
   "metadata": {},
   "outputs": [],
   "source": [
    "matrix_new = tfidf.transform(trans_new)"
   ]
  },
  {
   "cell_type": "code",
   "execution_count": 42,
   "id": "5339a928-d8dd-41ab-b705-9914fafd533f",
   "metadata": {},
   "outputs": [
    {
     "data": {
      "text/plain": [
       "(500, 31702)"
      ]
     },
     "execution_count": 42,
     "metadata": {},
     "output_type": "execute_result"
    }
   ],
   "source": [
    "matrix.shape"
   ]
  },
  {
   "cell_type": "code",
   "execution_count": 43,
   "id": "167fe825-3deb-41ed-b96c-5509d621bf84",
   "metadata": {},
   "outputs": [
    {
     "data": {
      "text/plain": [
       "(199, 31702)"
      ]
     },
     "execution_count": 43,
     "metadata": {},
     "output_type": "execute_result"
    }
   ],
   "source": [
    "matrix_new.shape"
   ]
  },
  {
   "cell_type": "code",
   "execution_count": 44,
   "id": "f0c4544e-41f9-4e9c-9662-b93b67be08d8",
   "metadata": {},
   "outputs": [
    {
     "data": {
      "text/plain": [
       "array([[0.        , 0.        , 0.        , ..., 0.        , 0.        ,\n",
       "        0.        ],\n",
       "       [0.        , 0.        , 0.        , ..., 0.        , 0.        ,\n",
       "        0.        ],\n",
       "       [0.        , 0.0044687 , 0.        , ..., 0.        , 0.        ,\n",
       "        0.        ],\n",
       "       ...,\n",
       "       [0.        , 0.0101057 , 0.        , ..., 0.        , 0.        ,\n",
       "        0.        ],\n",
       "       [0.        , 0.        , 0.        , ..., 0.        , 0.        ,\n",
       "        0.        ],\n",
       "       [0.        , 0.06435049, 0.        , ..., 0.        , 0.        ,\n",
       "        0.        ]])"
      ]
     },
     "execution_count": 44,
     "metadata": {},
     "output_type": "execute_result"
    }
   ],
   "source": [
    "matrix.toarray() ## the memory consumption increases drastically (toarray()->dense)"
   ]
  },
  {
   "cell_type": "code",
   "execution_count": 45,
   "id": "bd7090ef-4b53-4b19-9765-0b4b6f722656",
   "metadata": {},
   "outputs": [
    {
     "data": {
      "text/plain": [
       "<500x31702 sparse matrix of type '<class 'numpy.float64'>'\n",
       "\twith 331767 stored elements in Compressed Sparse Row format>"
      ]
     },
     "execution_count": 45,
     "metadata": {},
     "output_type": "execute_result"
    }
   ],
   "source": [
    "matrix ### remember the locations where there is zero value"
   ]
  },
  {
   "cell_type": "code",
   "execution_count": 46,
   "id": "29639bca-6e63-4692-b82c-053e6f285bae",
   "metadata": {},
   "outputs": [
    {
     "data": {
      "text/html": [
       "<div>\n",
       "<style scoped>\n",
       "    .dataframe tbody tr th:only-of-type {\n",
       "        vertical-align: middle;\n",
       "    }\n",
       "\n",
       "    .dataframe tbody tr th {\n",
       "        vertical-align: top;\n",
       "    }\n",
       "\n",
       "    .dataframe thead th {\n",
       "        text-align: right;\n",
       "    }\n",
       "</style>\n",
       "<table border=\"1\" class=\"dataframe\">\n",
       "  <thead>\n",
       "    <tr style=\"text-align: right;\">\n",
       "      <th></th>\n",
       "      <th>transcript</th>\n",
       "      <th>url</th>\n",
       "    </tr>\n",
       "  </thead>\n",
       "  <tbody>\n",
       "    <tr>\n",
       "      <th>0</th>\n",
       "      <td>Good morning. How are you?(Laughter)It's been ...</td>\n",
       "      <td>https://www.ted.com/talks/ken_robinson_says_sc...</td>\n",
       "    </tr>\n",
       "    <tr>\n",
       "      <th>1</th>\n",
       "      <td>Thank you so much, Chris. And it's truly a gre...</td>\n",
       "      <td>https://www.ted.com/talks/al_gore_on_averting_...</td>\n",
       "    </tr>\n",
       "  </tbody>\n",
       "</table>\n",
       "</div>"
      ],
      "text/plain": [
       "                                          transcript  \\\n",
       "0  Good morning. How are you?(Laughter)It's been ...   \n",
       "1  Thank you so much, Chris. And it's truly a gre...   \n",
       "\n",
       "                                                 url  \n",
       "0  https://www.ted.com/talks/ken_robinson_says_sc...  \n",
       "1  https://www.ted.com/talks/al_gore_on_averting_...  "
      ]
     },
     "execution_count": 46,
     "metadata": {},
     "output_type": "execute_result"
    }
   ],
   "source": [
    "data.head(2)"
   ]
  },
  {
   "cell_type": "code",
   "execution_count": 47,
   "id": "b7659f53-3b76-4577-bd41-0486c2b65da1",
   "metadata": {},
   "outputs": [
    {
     "data": {
      "text/plain": [
       "'https://www.ted.com/talks/ken_robinson_says_schools_kill_creativity\\n'"
      ]
     },
     "execution_count": 47,
     "metadata": {},
     "output_type": "execute_result"
    }
   ],
   "source": [
    "data['url'].iloc[0]"
   ]
  },
  {
   "cell_type": "code",
   "execution_count": 48,
   "id": "21bbeda6-765b-4006-a332-e133bd72752d",
   "metadata": {},
   "outputs": [
    {
     "data": {
      "text/plain": [
       "'https://www.ted.com/talks/al_gore_on_averting_climate_crisis\\n'"
      ]
     },
     "execution_count": 48,
     "metadata": {},
     "output_type": "execute_result"
    }
   ],
   "source": [
    "data['url'].iloc[1]"
   ]
  },
  {
   "cell_type": "code",
   "execution_count": 49,
   "id": "6860e67f-b936-4fea-9d3b-7f522667ebd7",
   "metadata": {},
   "outputs": [
    {
     "data": {
      "text/plain": [
       "'https://www.ted.com/talks/david_pogue_says_simplicity_sells\\n'"
      ]
     },
     "execution_count": 49,
     "metadata": {},
     "output_type": "execute_result"
    }
   ],
   "source": [
    "data['url'].iloc[2]"
   ]
  },
  {
   "cell_type": "code",
   "execution_count": 51,
   "id": "113f93cd-5772-4177-aa01-c3924acc296e",
   "metadata": {},
   "outputs": [
    {
     "data": {
      "text/plain": [
       "'Thank you so much, Chris. And it\\'s truly a great honor to have the opportunity to come to this stage twice; I\\'m extremely grateful. I have been blown away by this conference, and I want to thank all of you for the many nice comments about what I had to say the other night. And I say that sincerely, partly because (Mock sob) I need that.(Laughter)Put yourselves in my position.(Laughter)I flew on Air Force Two for eight years.(Laughter)Now I have to take off my shoes or boots to get on an airplane!(Laughter)(Applause)I\\'ll tell you one quick story to illustrate what that\\'s been like for me.(Laughter)It\\'s a true story — every bit of this is true.Soon after Tipper and I left the — (Mock sob) White House —(Laughter)we were driving from our home in Nashville to a little farm we have 50 miles east of Nashville. Driving ourselves.(Laughter)I know it sounds like a little thing to you, but —(Laughter)I looked in the rear-view mirror and all of a sudden it just hit me. There was no motorcade back there.(Laughter)You\\'ve heard of phantom limb pain?(Laughter)This was a rented Ford Taurus.(Laughter)It was dinnertime, and we started looking for a place to eat. We were on I-40. We got to Exit 238, Lebanon, Tennessee. We got off the exit, we found a Shoney\\'s restaurant. Low-cost family restaurant chain, for those of you who don\\'t know it. We went in and sat down at the booth, and the waitress came over, made a big commotion over Tipper.(Laughter)She took our order, and then went to the couple in the booth next to us, and she lowered her voice so much, I had to really strain to hear what she was saying. And she said \"Yes, that\\'s former Vice President Al Gore and his wife, Tipper.\" And the man said, \"He\\'s come down a long way, hasn\\'t he?\"(Laughter)(Applause)There\\'s been kind of a series of epiphanies.(Laughter)The very next day, continuing the totally true story, I got on a G-V to fly to Africa to make a speech in Nigeria, in the city of Lagos, on the topic of energy. And I began the speech by telling them the story of what had just happened the day before in Nashville. And I told it pretty much the same way I\\'ve just shared it with you: Tipper and I were driving ourselves, Shoney\\'s, low-cost family restaurant chain, what the man said — they laughed. I gave my speech, then went back out to the airport to fly back home. I fell asleep on the plane until, during the middle of the night, we landed on the Azores Islands for refueling. I woke up, they opened the door, I went out to get some fresh air, and I looked, and there was a man running across the runway. And he was waving a piece of paper, and he was yelling, \"Call Washington! Call Washington!\" And I thought to myself, in the middle of the night, in the middle of the Atlantic, what in the world could be wrong in Washington? Then I remembered it could be a bunch of things.(Laughter)But what it turned out to be, was that my staff was extremely upset because one of the wire services in Nigeria had already written a story about my speech, and it had already been printed in cities all across the United States of America. It was printed in Monterey, I checked.(Laughter)And the story began, \"Former Vice President Al Gore announced in Nigeria yesterday,\" quote: \\'My wife Tipper and I have opened a low-cost family restaurant\\'\" —(Laughter)\"\\'named Shoney\\'s, and we are running it ourselves.\\'\"(Laughter)Before I could get back to U.S. soil, David Letterman and Jay Leno had already started in on — one of them had me in a big white chef\\'s hat, Tipper was saying, \"One more burger with fries!\"(Laughter)Three days later, I got a nice, long, handwritten letter from my friend and partner and colleague Bill Clinton, saying, \"Congratulations on the new restaurant, Al!\"(Laughter)We like to celebrate each other\\'s successes in life.(Laughter)I was going to talk about information ecology. But I was thinking that, since I plan to make a lifelong habit of coming back to TED, that maybe I could talk about that another time.(Applause)Chris Anderson: It\\'s a deal!(Applause)Al Gore: I want to focus on what many of you have said you would like me to elaborate on: What can you do about the climate crisis? I want to start with a couple of — I\\'m going to show some new images, and I\\'m going to recapitulate just four or five. Now, the slide show. I update the slide show every time I give it. I add new images, because I learn more about it every time I give it. It\\'s like beach-combing, you know? Every time the tide comes in and out, you find some more shells. Just in the last two days, we got the new temperature records in January. This is just for the United States of America. Historical average for Januarys is 31 degrees; last month was 39.5 degrees.Now, I know that you wanted some more bad news about the environment — I\\'m kidding. But these are the recapitulation slides, and then I\\'m going to go into new material about what you can do. But I wanted to elaborate on a couple of these. First of all, this is where we\\'re projected to go with the U.S. contribution to global warming, under business as usual. Efficiency in end-use electricity and end-use of all energy is the low-hanging fruit. Efficiency and conservation — it\\'s not a cost; it\\'s a profit. The sign is wrong. It\\'s not negative; it\\'s positive. These are investments that pay for themselves. But they are also very effective in deflecting our path.Cars and trucks — I talked about that in the slideshow, but I want you to put it in perspective. It\\'s an easy, visible target of concern — and it should be — but there is more global warming pollution that comes from buildings than from cars and trucks. Cars and trucks are very significant, and we have the lowest standards in the world. And so we should address that. But it\\'s part of the puzzle. Other transportation efficiency is as important as cars and trucks. Renewables at the current levels of technological efficiency can make this much difference. And with what Vinod, and John Doerr and others, many of you here — there are a lot of people directly involved in this — this wedge is going to grow much more rapidly than the current projection shows it. Carbon Capture and Sequestration — that\\'s what CCS stands for — is likely to become the killer app that will enable us to continue to use fossil fuels in a way that is safe. Not quite there yet. OK. Now, what can you do?Reduce emissions in your home. Most of these expenditures are also profitable. Insulation, better design. Buy green electricity where you can. I mentioned automobiles — buy a hybrid. Use light rail. Figure out some of the other options that are much better. It\\'s important.Be a green consumer. You have choices with everything you buy, between things that have a harsh effect, or a much less harsh effect on the global climate crisis. Consider this: Make a decision to live a carbon-neutral life. Those of you who are good at branding, I\\'d love to get your advice and help on how to say this in a way that connects with the most people. It is easier than you think. It really is. A lot of us in here have made that decision, and it is really pretty easy. It means reduce your carbon dioxide emissions with the full range of choices that you make, and then purchase or acquire offsets for the remainder that you have not completely reduced. And what it means is elaborated at climatecrisis.net.There is a carbon calculator. Participant Productions convened — with my active involvement — the leading software writers in the world, on this arcane science of carbon calculation, to construct a consumer-friendly carbon calculator. You can very precisely calculate what your CO2 emissions are, and then you will be given options to reduce. And by the time the movie comes out in May, this will be updated to 2.0, and we will have click-through purchases of offsets.Next, consider making your business carbon-neutral. Again, some of us have done that, and it\\'s not as hard as you think. Integrate climate solutions into all of your innovations, whether you are from the technology, or entertainment, or design and architecture community. Invest sustainably. Majora mentioned this. Listen, if you have invested money with managers who you compensate on the basis of their annual performance, don\\'t ever again complain about quarterly report CEO management. Over time, people do what you pay them to do. And if they judge how much they\\'re going to get paid on your capital that they\\'ve invested, based on the short-term returns, you\\'re going to get short-term decisions. A lot more to be said about that.Become a catalyst of change. Teach others, learn about it, talk about it. The movie is a movie version of the slideshow I gave two nights ago, except it\\'s a lot more entertaining. And it comes out in May. Many of you here have the opportunity to ensure that a lot of people see it. Consider sending somebody to Nashville. Pick well. And I am personally going to train people to give this slideshow — re-purposed, with some of the personal stories obviously replaced with a generic approach, and it\\'s not just the slides, it\\'s what they mean. And it\\'s how they link together. And so I\\'m going to be conducting a course this summer for a group of people that are nominated by different folks to come and then give it en masse, in communities all across the country, and we\\'re going to update the slideshow for all of them every single week, to keep it right on the cutting edge. Working with Larry Lessig, it will be, somewhere in that process, posted with tools and limited-use copyrights, so that young people can remix it and do it in their own way.(Applause)Where did anybody get the idea that you ought to stay arm\\'s length from politics? It doesn\\'t mean that if you\\'re a Republican, that I\\'m trying to convince you to be a Democrat. We need Republicans as well. This used to be a bipartisan issue, and I know that in this group it really is. Become politically active. Make our democracy work the way it\\'s supposed to work. Support the idea of capping carbon dioxide emissions — global warming pollution — and trading it. Here\\'s why: as long as the United States is out of the world system, it\\'s not a closed system. Once it becomes a closed system, with U.S. participation, then everybody who\\'s on a board of directors — how many people here serve on the board of directors of a corporation? Once it\\'s a closed system, you will have legal liability if you do not urge your CEO to get the maximum income from reducing and trading the carbon emissions that can be avoided. The market will work to solve this problem — if we can accomplish this. Help with the mass persuasion campaign that will start this spring. We have to change the minds of the American people. Because presently, the politicians do not have permission to do what needs to be done.And in our modern country, the role of logic and reason no longer includes mediating between wealth and power the way it once did. It\\'s now repetition of short, hot-button, 30-second, 28-second television ads. We have to buy a lot of those ads. Let\\'s re-brand global warming, as many of you have suggested. I like \"climate crisis\" instead of \"climate collapse,\" but again, those of you who are good at branding, I need your help on this. Somebody said the test we\\'re facing now, a scientist told me, is whether the combination of an opposable thumb and a neocortex is a viable combination.(Laughter)That\\'s really true.I said the other night, and I\\'ll repeat now: this is not a political issue. Again, the Republicans here — this shouldn\\'t be partisan. You have more influence than some of us who are Democrats do. This is an opportunity. Not just this, but connected to the ideas that are here, to bring more coherence to them. We are one.Thank you very much, I appreciate it.(Applause)'"
      ]
     },
     "execution_count": 51,
     "metadata": {},
     "output_type": "execute_result"
    }
   ],
   "source": [
    "data['transcript'].iloc[1]"
   ]
  },
  {
   "cell_type": "code",
   "execution_count": 52,
   "id": "58b7abee-fcc0-4be7-ac77-06b2007bf095",
   "metadata": {},
   "outputs": [
    {
     "data": {
      "text/plain": [
       "(2467, 2)"
      ]
     },
     "execution_count": 52,
     "metadata": {},
     "output_type": "execute_result"
    }
   ],
   "source": [
    "### Can we use tfidf information to extract the important words in each ted-talk?\n",
    "data.shape"
   ]
  },
  {
   "cell_type": "markdown",
   "id": "c5e35ffa-d3e0-4a39-9444-a63898a836d8",
   "metadata": {},
   "source": [
    "## tfidf matrix-->find the top 5 words per doc in each row of the tfidf matrix by their tfidf value"
   ]
  },
  {
   "cell_type": "code",
   "execution_count": null,
   "id": "c64d214c-cf64-4a90-8e35-12528f29052d",
   "metadata": {},
   "outputs": [],
   "source": []
  }
 ],
 "metadata": {
  "kernelspec": {
   "display_name": "Python 3 (ipykernel)",
   "language": "python",
   "name": "python3"
  },
  "language_info": {
   "codemirror_mode": {
    "name": "ipython",
    "version": 3
   },
   "file_extension": ".py",
   "mimetype": "text/x-python",
   "name": "python",
   "nbconvert_exporter": "python",
   "pygments_lexer": "ipython3",
   "version": "3.9.9"
  }
 },
 "nbformat": 4,
 "nbformat_minor": 5
}
