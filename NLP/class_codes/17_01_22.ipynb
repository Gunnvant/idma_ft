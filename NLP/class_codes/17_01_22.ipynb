{
 "cells": [
  {
   "cell_type": "markdown",
   "id": "fa51aaa1-4428-45c7-8a46-b08cc4d14fa7",
   "metadata": {},
   "source": [
    "# Text representation\n",
    "- Bow: Count Matrix\n",
    "- Bow: Tfidf Matrix\n",
    "- Extract Keywords\n",
    "- Find document similarity"
   ]
  },
  {
   "cell_type": "code",
   "execution_count": 1,
   "id": "930a124b-5fa1-427c-97f8-d45c2f8c63a5",
   "metadata": {},
   "outputs": [],
   "source": [
    "### Count Matrix\n",
    "from sklearn.feature_extraction import text"
   ]
  },
  {
   "cell_type": "code",
   "execution_count": 2,
   "id": "e969236b-3e67-4f61-9d10-473ffeeb3784",
   "metadata": {},
   "outputs": [],
   "source": [
    "corpus = [\"This is document one\",\n",
    "\"This is document two\",\n",
    "\"This is document three\",\n",
    "\"This is document four\"\n",
    "] ##List of documents"
   ]
  },
  {
   "cell_type": "code",
   "execution_count": 3,
   "id": "69dba066-502c-4dbb-86e6-e90c7a86fc33",
   "metadata": {},
   "outputs": [],
   "source": [
    "cv=text.CountVectorizer(input = corpus) ## this step only creates a python object and not the matrix"
   ]
  },
  {
   "cell_type": "code",
   "execution_count": 4,
   "id": "d11a1dc9-3bd3-4a6e-a5cb-f98f48b289cb",
   "metadata": {},
   "outputs": [],
   "source": [
    "count_matrix=cv.fit_transform(corpus)"
   ]
  },
  {
   "cell_type": "code",
   "execution_count": 5,
   "id": "cc9ccb0b-a215-4ff5-aea1-1733786462fa",
   "metadata": {},
   "outputs": [
    {
     "data": {
      "text/plain": [
       "<4x7 sparse matrix of type '<class 'numpy.int64'>'\n",
       "\twith 16 stored elements in Compressed Sparse Row format>"
      ]
     },
     "execution_count": 5,
     "metadata": {},
     "output_type": "execute_result"
    }
   ],
   "source": [
    "count_matrix"
   ]
  },
  {
   "cell_type": "code",
   "execution_count": 6,
   "id": "7ba46317-b4eb-4734-b1c1-40cd2335b84e",
   "metadata": {},
   "outputs": [
    {
     "data": {
      "text/plain": [
       "array([[1, 0, 1, 1, 1, 0, 0],\n",
       "       [1, 0, 1, 0, 1, 0, 1],\n",
       "       [1, 0, 1, 0, 1, 1, 0],\n",
       "       [1, 1, 1, 0, 1, 0, 0]])"
      ]
     },
     "execution_count": 6,
     "metadata": {},
     "output_type": "execute_result"
    }
   ],
   "source": [
    "count_matrix.toarray()"
   ]
  },
  {
   "cell_type": "code",
   "execution_count": 7,
   "id": "f61bcbb3-3183-42a0-9763-e96cfcba7a0d",
   "metadata": {},
   "outputs": [],
   "source": [
    "class CountVectorizer():\n",
    "    def __init__(self,input):\n",
    "        self.input = input\n",
    "    def fit_transform(self):\n",
    "        print(\"This is fit_transform\")"
   ]
  },
  {
   "cell_type": "code",
   "execution_count": 10,
   "id": "f39a5a11-ebda-4006-bc7d-326b5ea96c99",
   "metadata": {},
   "outputs": [],
   "source": [
    "c = CountVectorizer(input=corpus)"
   ]
  },
  {
   "cell_type": "code",
   "execution_count": 11,
   "id": "e240d8a5-569e-42aa-923e-c4625fb56b6c",
   "metadata": {},
   "outputs": [
    {
     "name": "stdout",
     "output_type": "stream",
     "text": [
      "This is fit_transform\n"
     ]
    }
   ],
   "source": [
    "c.fit_transform()"
   ]
  },
  {
   "cell_type": "code",
   "execution_count": 15,
   "id": "0f3186ca-eb1c-451c-a2ab-4fbaac239d85",
   "metadata": {},
   "outputs": [
    {
     "name": "stderr",
     "output_type": "stream",
     "text": [
      "/Users/gunnvantsaini/miniforge3/envs/dl/lib/python3.9/site-packages/sklearn/utils/deprecation.py:87: FutureWarning: Function get_feature_names is deprecated; get_feature_names is deprecated in 1.0 and will be removed in 1.2. Please use get_feature_names_out instead.\n",
      "  warnings.warn(msg, category=FutureWarning)\n"
     ]
    },
    {
     "data": {
      "text/plain": [
       "['document', 'four', 'is', 'one', 'this', 'three', 'two']"
      ]
     },
     "execution_count": 15,
     "metadata": {},
     "output_type": "execute_result"
    }
   ],
   "source": [
    "cv.get_feature_names()"
   ]
  },
  {
   "cell_type": "code",
   "execution_count": 13,
   "id": "4664f9b9-0950-4958-b472-6fd6fe536fd4",
   "metadata": {},
   "outputs": [
    {
     "data": {
      "text/html": [
       "<div>\n",
       "<style scoped>\n",
       "    .dataframe tbody tr th:only-of-type {\n",
       "        vertical-align: middle;\n",
       "    }\n",
       "\n",
       "    .dataframe tbody tr th {\n",
       "        vertical-align: top;\n",
       "    }\n",
       "\n",
       "    .dataframe thead th {\n",
       "        text-align: right;\n",
       "    }\n",
       "</style>\n",
       "<table border=\"1\" class=\"dataframe\">\n",
       "  <thead>\n",
       "    <tr style=\"text-align: right;\">\n",
       "      <th></th>\n",
       "      <th>document</th>\n",
       "      <th>four</th>\n",
       "      <th>is</th>\n",
       "      <th>one</th>\n",
       "      <th>this</th>\n",
       "      <th>three</th>\n",
       "      <th>two</th>\n",
       "    </tr>\n",
       "  </thead>\n",
       "  <tbody>\n",
       "    <tr>\n",
       "      <th>0</th>\n",
       "      <td>1</td>\n",
       "      <td>0</td>\n",
       "      <td>1</td>\n",
       "      <td>1</td>\n",
       "      <td>1</td>\n",
       "      <td>0</td>\n",
       "      <td>0</td>\n",
       "    </tr>\n",
       "    <tr>\n",
       "      <th>1</th>\n",
       "      <td>1</td>\n",
       "      <td>0</td>\n",
       "      <td>1</td>\n",
       "      <td>0</td>\n",
       "      <td>1</td>\n",
       "      <td>0</td>\n",
       "      <td>1</td>\n",
       "    </tr>\n",
       "    <tr>\n",
       "      <th>2</th>\n",
       "      <td>1</td>\n",
       "      <td>0</td>\n",
       "      <td>1</td>\n",
       "      <td>0</td>\n",
       "      <td>1</td>\n",
       "      <td>1</td>\n",
       "      <td>0</td>\n",
       "    </tr>\n",
       "    <tr>\n",
       "      <th>3</th>\n",
       "      <td>1</td>\n",
       "      <td>1</td>\n",
       "      <td>1</td>\n",
       "      <td>0</td>\n",
       "      <td>1</td>\n",
       "      <td>0</td>\n",
       "      <td>0</td>\n",
       "    </tr>\n",
       "  </tbody>\n",
       "</table>\n",
       "</div>"
      ],
      "text/plain": [
       "   document  four  is  one  this  three  two\n",
       "0         1     0   1    1     1      0    0\n",
       "1         1     0   1    0     1      0    1\n",
       "2         1     0   1    0     1      1    0\n",
       "3         1     1   1    0     1      0    0"
      ]
     },
     "execution_count": 13,
     "metadata": {},
     "output_type": "execute_result"
    }
   ],
   "source": [
    "import pandas as pd\n",
    "pd.DataFrame(count_matrix.toarray(),columns=cv.get_feature_names_out())"
   ]
  },
  {
   "cell_type": "code",
   "execution_count": 14,
   "id": "42a1f3d1-3567-4981-8ba9-e6d667758c8c",
   "metadata": {},
   "outputs": [
    {
     "data": {
      "text/plain": [
       "'1.0.1'"
      ]
     },
     "execution_count": 14,
     "metadata": {},
     "output_type": "execute_result"
    }
   ],
   "source": [
    "import sklearn\n",
    "sklearn.__version__"
   ]
  },
  {
   "cell_type": "code",
   "execution_count": 16,
   "id": "541c8472-9286-4cc1-8bd4-91a20f14182c",
   "metadata": {},
   "outputs": [],
   "source": [
    "doc = ['This is document five']"
   ]
  },
  {
   "cell_type": "code",
   "execution_count": 18,
   "id": "957aeb48-8421-4fc6-bf40-7b11baed96d1",
   "metadata": {},
   "outputs": [
    {
     "data": {
      "text/plain": [
       "array([[1, 0, 1, 0, 1, 0, 0]])"
      ]
     },
     "execution_count": 18,
     "metadata": {},
     "output_type": "execute_result"
    }
   ],
   "source": [
    "cv.transform(doc).toarray() ### .transform() method will ignore new words in the dataset"
   ]
  },
  {
   "cell_type": "code",
   "execution_count": 19,
   "id": "1eadcb4c-7e50-46bc-bc09-1a4e148812f4",
   "metadata": {},
   "outputs": [
    {
     "data": {
      "text/html": [
       "<div>\n",
       "<style scoped>\n",
       "    .dataframe tbody tr th:only-of-type {\n",
       "        vertical-align: middle;\n",
       "    }\n",
       "\n",
       "    .dataframe tbody tr th {\n",
       "        vertical-align: top;\n",
       "    }\n",
       "\n",
       "    .dataframe thead th {\n",
       "        text-align: right;\n",
       "    }\n",
       "</style>\n",
       "<table border=\"1\" class=\"dataframe\">\n",
       "  <thead>\n",
       "    <tr style=\"text-align: right;\">\n",
       "      <th></th>\n",
       "      <th>document</th>\n",
       "      <th>four</th>\n",
       "      <th>is</th>\n",
       "      <th>one</th>\n",
       "      <th>this</th>\n",
       "      <th>three</th>\n",
       "      <th>two</th>\n",
       "    </tr>\n",
       "  </thead>\n",
       "  <tbody>\n",
       "    <tr>\n",
       "      <th>0</th>\n",
       "      <td>1</td>\n",
       "      <td>0</td>\n",
       "      <td>1</td>\n",
       "      <td>0</td>\n",
       "      <td>1</td>\n",
       "      <td>0</td>\n",
       "      <td>0</td>\n",
       "    </tr>\n",
       "  </tbody>\n",
       "</table>\n",
       "</div>"
      ],
      "text/plain": [
       "   document  four  is  one  this  three  two\n",
       "0         1     0   1    0     1      0    0"
      ]
     },
     "execution_count": 19,
     "metadata": {},
     "output_type": "execute_result"
    }
   ],
   "source": [
    "pd.DataFrame(cv.transform(doc).toarray(),columns=cv.get_feature_names_out())"
   ]
  },
  {
   "cell_type": "markdown",
   "id": "24eb3a3d-634c-42fe-8b67-0694357291cc",
   "metadata": {},
   "source": [
    "### Class Excercise\n",
    "- Use this data https://drive.google.com/file/d/11jIco80zFY_nEfVApqo-DD4UXx8J5wGs/view?usp=sharing\n",
    "- Choose the first 500 rows from the column transcripts\n",
    "- Create a count matrix for these 500 rows\n",
    "- Need to create a count matrix using transform() method for rows 501-700 (new data)"
   ]
  },
  {
   "cell_type": "code",
   "execution_count": 20,
   "id": "3b684311-514a-470a-bad7-7eeb9cc68c62",
   "metadata": {},
   "outputs": [
    {
     "data": {
      "text/html": [
       "<div>\n",
       "<style scoped>\n",
       "    .dataframe tbody tr th:only-of-type {\n",
       "        vertical-align: middle;\n",
       "    }\n",
       "\n",
       "    .dataframe tbody tr th {\n",
       "        vertical-align: top;\n",
       "    }\n",
       "\n",
       "    .dataframe thead th {\n",
       "        text-align: right;\n",
       "    }\n",
       "</style>\n",
       "<table border=\"1\" class=\"dataframe\">\n",
       "  <thead>\n",
       "    <tr style=\"text-align: right;\">\n",
       "      <th></th>\n",
       "      <th>transcript</th>\n",
       "      <th>url</th>\n",
       "    </tr>\n",
       "  </thead>\n",
       "  <tbody>\n",
       "    <tr>\n",
       "      <th>0</th>\n",
       "      <td>Good morning. How are you?(Laughter)It's been ...</td>\n",
       "      <td>https://www.ted.com/talks/ken_robinson_says_sc...</td>\n",
       "    </tr>\n",
       "    <tr>\n",
       "      <th>1</th>\n",
       "      <td>Thank you so much, Chris. And it's truly a gre...</td>\n",
       "      <td>https://www.ted.com/talks/al_gore_on_averting_...</td>\n",
       "    </tr>\n",
       "  </tbody>\n",
       "</table>\n",
       "</div>"
      ],
      "text/plain": [
       "                                          transcript  \\\n",
       "0  Good morning. How are you?(Laughter)It's been ...   \n",
       "1  Thank you so much, Chris. And it's truly a gre...   \n",
       "\n",
       "                                                 url  \n",
       "0  https://www.ted.com/talks/ken_robinson_says_sc...  \n",
       "1  https://www.ted.com/talks/al_gore_on_averting_...  "
      ]
     },
     "execution_count": 20,
     "metadata": {},
     "output_type": "execute_result"
    }
   ],
   "source": [
    "path = '/Users/gunnvantsaini/Documents/Data/Kaggle/ted-data/transcripts.csv'\n",
    "data = pd.read_csv(path)\n",
    "data.head(2)"
   ]
  },
  {
   "cell_type": "code",
   "execution_count": 21,
   "id": "c26048ab-1b41-4182-b7b1-3f88955b8b97",
   "metadata": {},
   "outputs": [],
   "source": [
    "trans = data['transcript'].tolist()[0:500]"
   ]
  },
  {
   "cell_type": "code",
   "execution_count": 22,
   "id": "d7227523-7a42-4469-8c03-d5f8d06b9a5b",
   "metadata": {},
   "outputs": [],
   "source": [
    "cv = text.CountVectorizer(input = trans)\n",
    "matrix = cv.fit_transform(trans)###"
   ]
  },
  {
   "cell_type": "code",
   "execution_count": 23,
   "id": "f3362df1-f409-4cf6-a1e1-fd41070fc64f",
   "metadata": {},
   "outputs": [],
   "source": [
    "trans_new = data['transcript'].iloc[501:700].tolist()"
   ]
  },
  {
   "cell_type": "code",
   "execution_count": 24,
   "id": "14a8e24f-557d-4589-b52e-341fae96e441",
   "metadata": {},
   "outputs": [],
   "source": [
    "matrix_new = cv.transform(trans_new) ###"
   ]
  },
  {
   "cell_type": "markdown",
   "id": "083013ec-5158-4dad-9cde-b44903724390",
   "metadata": {},
   "source": [
    "tfidf [link](https://en.wikipedia.org/wiki/Tf–idf)"
   ]
  },
  {
   "cell_type": "markdown",
   "id": "ad6085bb-444a-4542-b807-0b70c09fd526",
   "metadata": {},
   "source": [
    "### Compute tfidf"
   ]
  },
  {
   "cell_type": "code",
   "execution_count": 25,
   "id": "0ede8bd4-3f63-4e7c-8c44-f3b27eddef44",
   "metadata": {},
   "outputs": [],
   "source": [
    "corpus = [\"This is document one\",\n",
    "\"This is document two\",\n",
    "\"This is document three\",\n",
    "\"This is document four\"\n",
    "] ##List of documents"
   ]
  },
  {
   "cell_type": "code",
   "execution_count": 26,
   "id": "4c35f38d-0d9c-4f11-826d-5a8185d1e6a3",
   "metadata": {},
   "outputs": [],
   "source": [
    "tfidf = text.TfidfVectorizer(input = corpus)"
   ]
  },
  {
   "cell_type": "code",
   "execution_count": 27,
   "id": "ae015c57-eecf-4c01-ba08-30ece77fa277",
   "metadata": {},
   "outputs": [],
   "source": [
    "matrix = tfidf.fit_transform(corpus)"
   ]
  },
  {
   "cell_type": "code",
   "execution_count": 28,
   "id": "43e16f29-a7c2-4bdc-9ca7-f27cc51310b1",
   "metadata": {},
   "outputs": [
    {
     "data": {
      "text/plain": [
       "<4x7 sparse matrix of type '<class 'numpy.float64'>'\n",
       "\twith 16 stored elements in Compressed Sparse Row format>"
      ]
     },
     "execution_count": 28,
     "metadata": {},
     "output_type": "execute_result"
    }
   ],
   "source": [
    "matrix"
   ]
  },
  {
   "cell_type": "code",
   "execution_count": 31,
   "id": "55818c6f-1d8a-4fd6-8963-037d86713bbc",
   "metadata": {
    "collapsed": true,
    "jupyter": {
     "outputs_hidden": true
    },
    "tags": []
   },
   "outputs": [
    {
     "data": {
      "text/plain": [
       "array([[0.38713857, 0.        , 0.38713857, 0.74187006, 0.38713857,\n",
       "        0.        , 0.        ],\n",
       "       [0.38713857, 0.        , 0.38713857, 0.        , 0.38713857,\n",
       "        0.        , 0.74187006],\n",
       "       [0.38713857, 0.        , 0.38713857, 0.        , 0.38713857,\n",
       "        0.74187006, 0.        ],\n",
       "       [0.38713857, 0.74187006, 0.38713857, 0.        , 0.38713857,\n",
       "        0.        , 0.        ]])"
      ]
     },
     "execution_count": 31,
     "metadata": {},
     "output_type": "execute_result"
    }
   ],
   "source": [
    "matrix.toarray()"
   ]
  },
  {
   "cell_type": "code",
   "execution_count": 32,
   "id": "cdbc93ea-0789-4151-a747-ad9fb81133ce",
   "metadata": {},
   "outputs": [
    {
     "data": {
      "text/plain": [
       "array(['document', 'four', 'is', 'one', 'this', 'three', 'two'],\n",
       "      dtype=object)"
      ]
     },
     "execution_count": 32,
     "metadata": {},
     "output_type": "execute_result"
    }
   ],
   "source": [
    "tfidf.get_feature_names_out()"
   ]
  },
  {
   "cell_type": "code",
   "execution_count": 33,
   "id": "f9f4283a-6fef-4596-8b48-8f6c211fc475",
   "metadata": {
    "tags": []
   },
   "outputs": [
    {
     "data": {
      "text/html": [
       "<div>\n",
       "<style scoped>\n",
       "    .dataframe tbody tr th:only-of-type {\n",
       "        vertical-align: middle;\n",
       "    }\n",
       "\n",
       "    .dataframe tbody tr th {\n",
       "        vertical-align: top;\n",
       "    }\n",
       "\n",
       "    .dataframe thead th {\n",
       "        text-align: right;\n",
       "    }\n",
       "</style>\n",
       "<table border=\"1\" class=\"dataframe\">\n",
       "  <thead>\n",
       "    <tr style=\"text-align: right;\">\n",
       "      <th></th>\n",
       "      <th>document</th>\n",
       "      <th>four</th>\n",
       "      <th>is</th>\n",
       "      <th>one</th>\n",
       "      <th>this</th>\n",
       "      <th>three</th>\n",
       "      <th>two</th>\n",
       "    </tr>\n",
       "  </thead>\n",
       "  <tbody>\n",
       "    <tr>\n",
       "      <th>0</th>\n",
       "      <td>0.387139</td>\n",
       "      <td>0.00000</td>\n",
       "      <td>0.387139</td>\n",
       "      <td>0.74187</td>\n",
       "      <td>0.387139</td>\n",
       "      <td>0.00000</td>\n",
       "      <td>0.00000</td>\n",
       "    </tr>\n",
       "    <tr>\n",
       "      <th>1</th>\n",
       "      <td>0.387139</td>\n",
       "      <td>0.00000</td>\n",
       "      <td>0.387139</td>\n",
       "      <td>0.00000</td>\n",
       "      <td>0.387139</td>\n",
       "      <td>0.00000</td>\n",
       "      <td>0.74187</td>\n",
       "    </tr>\n",
       "    <tr>\n",
       "      <th>2</th>\n",
       "      <td>0.387139</td>\n",
       "      <td>0.00000</td>\n",
       "      <td>0.387139</td>\n",
       "      <td>0.00000</td>\n",
       "      <td>0.387139</td>\n",
       "      <td>0.74187</td>\n",
       "      <td>0.00000</td>\n",
       "    </tr>\n",
       "    <tr>\n",
       "      <th>3</th>\n",
       "      <td>0.387139</td>\n",
       "      <td>0.74187</td>\n",
       "      <td>0.387139</td>\n",
       "      <td>0.00000</td>\n",
       "      <td>0.387139</td>\n",
       "      <td>0.00000</td>\n",
       "      <td>0.00000</td>\n",
       "    </tr>\n",
       "  </tbody>\n",
       "</table>\n",
       "</div>"
      ],
      "text/plain": [
       "   document     four        is      one      this    three      two\n",
       "0  0.387139  0.00000  0.387139  0.74187  0.387139  0.00000  0.00000\n",
       "1  0.387139  0.00000  0.387139  0.00000  0.387139  0.00000  0.74187\n",
       "2  0.387139  0.00000  0.387139  0.00000  0.387139  0.74187  0.00000\n",
       "3  0.387139  0.74187  0.387139  0.00000  0.387139  0.00000  0.00000"
      ]
     },
     "execution_count": 33,
     "metadata": {},
     "output_type": "execute_result"
    }
   ],
   "source": [
    "pd.DataFrame(matrix.toarray(),columns=tfidf.get_feature_names_out())"
   ]
  },
  {
   "cell_type": "code",
   "execution_count": 37,
   "id": "c1e53e6c-f62f-4a5b-819c-b83da2c460c6",
   "metadata": {},
   "outputs": [
    {
     "data": {
      "text/plain": [
       "array([[0.57735027, 0.        , 0.57735027, 0.        , 0.57735027,\n",
       "        0.        , 0.        ]])"
      ]
     },
     "execution_count": 37,
     "metadata": {},
     "output_type": "execute_result"
    }
   ],
   "source": [
    "tfidf.transform(doc).toarray()"
   ]
  },
  {
   "cell_type": "markdown",
   "id": "93313c8e-8bb1-458a-813d-a00e4ac0e6d0",
   "metadata": {},
   "source": [
    "### Class Excercise\n",
    "- Use this data https://drive.google.com/file/d/11jIco80zFY_nEfVApqo-DD4UXx8J5wGs/view?usp=sharing\n",
    "- Choose the first 500 rows from the column transcripts\n",
    "- Create a tfidf matrix for these 500 rows\n",
    "- Need to create a tfidf matrix using transform() method for rows 501-700 (new data)"
   ]
  },
  {
   "cell_type": "code",
   "execution_count": 38,
   "id": "efcc3eb9-3093-43e2-bf46-84f76679667f",
   "metadata": {},
   "outputs": [
    {
     "data": {
      "text/html": [
       "<div>\n",
       "<style scoped>\n",
       "    .dataframe tbody tr th:only-of-type {\n",
       "        vertical-align: middle;\n",
       "    }\n",
       "\n",
       "    .dataframe tbody tr th {\n",
       "        vertical-align: top;\n",
       "    }\n",
       "\n",
       "    .dataframe thead th {\n",
       "        text-align: right;\n",
       "    }\n",
       "</style>\n",
       "<table border=\"1\" class=\"dataframe\">\n",
       "  <thead>\n",
       "    <tr style=\"text-align: right;\">\n",
       "      <th></th>\n",
       "      <th>transcript</th>\n",
       "      <th>url</th>\n",
       "    </tr>\n",
       "  </thead>\n",
       "  <tbody>\n",
       "    <tr>\n",
       "      <th>0</th>\n",
       "      <td>Good morning. How are you?(Laughter)It's been ...</td>\n",
       "      <td>https://www.ted.com/talks/ken_robinson_says_sc...</td>\n",
       "    </tr>\n",
       "    <tr>\n",
       "      <th>1</th>\n",
       "      <td>Thank you so much, Chris. And it's truly a gre...</td>\n",
       "      <td>https://www.ted.com/talks/al_gore_on_averting_...</td>\n",
       "    </tr>\n",
       "  </tbody>\n",
       "</table>\n",
       "</div>"
      ],
      "text/plain": [
       "                                          transcript  \\\n",
       "0  Good morning. How are you?(Laughter)It's been ...   \n",
       "1  Thank you so much, Chris. And it's truly a gre...   \n",
       "\n",
       "                                                 url  \n",
       "0  https://www.ted.com/talks/ken_robinson_says_sc...  \n",
       "1  https://www.ted.com/talks/al_gore_on_averting_...  "
      ]
     },
     "execution_count": 38,
     "metadata": {},
     "output_type": "execute_result"
    }
   ],
   "source": [
    "data.head(2)"
   ]
  },
  {
   "cell_type": "code",
   "execution_count": 39,
   "id": "a3bd73f0-35ab-4b58-8196-264b80eb102a",
   "metadata": {},
   "outputs": [],
   "source": [
    "trans = data['transcript'].tolist()[0:500]\n",
    "trans_new = data['transcript'].iloc[501:700].tolist()"
   ]
  },
  {
   "cell_type": "code",
   "execution_count": 40,
   "id": "283cb215-a12c-45f0-aed5-b951f17be814",
   "metadata": {},
   "outputs": [],
   "source": [
    "tfidf = text.TfidfVectorizer(input = trans)\n",
    "matrix = tfidf.fit_transform(trans)"
   ]
  },
  {
   "cell_type": "code",
   "execution_count": 41,
   "id": "3d8931d3-463f-4309-9b5a-225b6f2fa76a",
   "metadata": {},
   "outputs": [],
   "source": [
    "matrix_new = tfidf.transform(trans_new)"
   ]
  },
  {
   "cell_type": "code",
   "execution_count": 42,
   "id": "5339a928-d8dd-41ab-b705-9914fafd533f",
   "metadata": {},
   "outputs": [
    {
     "data": {
      "text/plain": [
       "(500, 31702)"
      ]
     },
     "execution_count": 42,
     "metadata": {},
     "output_type": "execute_result"
    }
   ],
   "source": [
    "matrix.shape"
   ]
  },
  {
   "cell_type": "code",
   "execution_count": 43,
   "id": "167fe825-3deb-41ed-b96c-5509d621bf84",
   "metadata": {},
   "outputs": [
    {
     "data": {
      "text/plain": [
       "(199, 31702)"
      ]
     },
     "execution_count": 43,
     "metadata": {},
     "output_type": "execute_result"
    }
   ],
   "source": [
    "matrix_new.shape"
   ]
  },
  {
   "cell_type": "code",
   "execution_count": 44,
   "id": "f0c4544e-41f9-4e9c-9662-b93b67be08d8",
   "metadata": {},
   "outputs": [
    {
     "data": {
      "text/plain": [
       "array([[0.        , 0.        , 0.        , ..., 0.        , 0.        ,\n",
       "        0.        ],\n",
       "       [0.        , 0.        , 0.        , ..., 0.        , 0.        ,\n",
       "        0.        ],\n",
       "       [0.        , 0.0044687 , 0.        , ..., 0.        , 0.        ,\n",
       "        0.        ],\n",
       "       ...,\n",
       "       [0.        , 0.0101057 , 0.        , ..., 0.        , 0.        ,\n",
       "        0.        ],\n",
       "       [0.        , 0.        , 0.        , ..., 0.        , 0.        ,\n",
       "        0.        ],\n",
       "       [0.        , 0.06435049, 0.        , ..., 0.        , 0.        ,\n",
       "        0.        ]])"
      ]
     },
     "execution_count": 44,
     "metadata": {},
     "output_type": "execute_result"
    }
   ],
   "source": [
    "matrix.toarray() ## the memory consumption increases drastically (toarray()->dense)"
   ]
  },
  {
   "cell_type": "code",
   "execution_count": 45,
   "id": "bd7090ef-4b53-4b19-9765-0b4b6f722656",
   "metadata": {},
   "outputs": [
    {
     "data": {
      "text/plain": [
       "<500x31702 sparse matrix of type '<class 'numpy.float64'>'\n",
       "\twith 331767 stored elements in Compressed Sparse Row format>"
      ]
     },
     "execution_count": 45,
     "metadata": {},
     "output_type": "execute_result"
    }
   ],
   "source": [
    "matrix ### remember the locations where there is zero value"
   ]
  },
  {
   "cell_type": "code",
   "execution_count": 46,
   "id": "29639bca-6e63-4692-b82c-053e6f285bae",
   "metadata": {},
   "outputs": [
    {
     "data": {
      "text/html": [
       "<div>\n",
       "<style scoped>\n",
       "    .dataframe tbody tr th:only-of-type {\n",
       "        vertical-align: middle;\n",
       "    }\n",
       "\n",
       "    .dataframe tbody tr th {\n",
       "        vertical-align: top;\n",
       "    }\n",
       "\n",
       "    .dataframe thead th {\n",
       "        text-align: right;\n",
       "    }\n",
       "</style>\n",
       "<table border=\"1\" class=\"dataframe\">\n",
       "  <thead>\n",
       "    <tr style=\"text-align: right;\">\n",
       "      <th></th>\n",
       "      <th>transcript</th>\n",
       "      <th>url</th>\n",
       "    </tr>\n",
       "  </thead>\n",
       "  <tbody>\n",
       "    <tr>\n",
       "      <th>0</th>\n",
       "      <td>Good morning. How are you?(Laughter)It's been ...</td>\n",
       "      <td>https://www.ted.com/talks/ken_robinson_says_sc...</td>\n",
       "    </tr>\n",
       "    <tr>\n",
       "      <th>1</th>\n",
       "      <td>Thank you so much, Chris. And it's truly a gre...</td>\n",
       "      <td>https://www.ted.com/talks/al_gore_on_averting_...</td>\n",
       "    </tr>\n",
       "  </tbody>\n",
       "</table>\n",
       "</div>"
      ],
      "text/plain": [
       "                                          transcript  \\\n",
       "0  Good morning. How are you?(Laughter)It's been ...   \n",
       "1  Thank you so much, Chris. And it's truly a gre...   \n",
       "\n",
       "                                                 url  \n",
       "0  https://www.ted.com/talks/ken_robinson_says_sc...  \n",
       "1  https://www.ted.com/talks/al_gore_on_averting_...  "
      ]
     },
     "execution_count": 46,
     "metadata": {},
     "output_type": "execute_result"
    }
   ],
   "source": [
    "data.head(2)"
   ]
  },
  {
   "cell_type": "code",
   "execution_count": 47,
   "id": "b7659f53-3b76-4577-bd41-0486c2b65da1",
   "metadata": {},
   "outputs": [
    {
     "data": {
      "text/plain": [
       "'https://www.ted.com/talks/ken_robinson_says_schools_kill_creativity\\n'"
      ]
     },
     "execution_count": 47,
     "metadata": {},
     "output_type": "execute_result"
    }
   ],
   "source": [
    "data['url'].iloc[0]"
   ]
  },
  {
   "cell_type": "code",
   "execution_count": 48,
   "id": "21bbeda6-765b-4006-a332-e133bd72752d",
   "metadata": {},
   "outputs": [
    {
     "data": {
      "text/plain": [
       "'https://www.ted.com/talks/al_gore_on_averting_climate_crisis\\n'"
      ]
     },
     "execution_count": 48,
     "metadata": {},
     "output_type": "execute_result"
    }
   ],
   "source": [
    "data['url'].iloc[1]"
   ]
  },
  {
   "cell_type": "code",
   "execution_count": 49,
   "id": "6860e67f-b936-4fea-9d3b-7f522667ebd7",
   "metadata": {},
   "outputs": [
    {
     "data": {
      "text/plain": [
       "'https://www.ted.com/talks/david_pogue_says_simplicity_sells\\n'"
      ]
     },
     "execution_count": 49,
     "metadata": {},
     "output_type": "execute_result"
    }
   ],
   "source": [
    "data['url'].iloc[2]"
   ]
  },
  {
   "cell_type": "code",
   "execution_count": 76,
   "id": "113f93cd-5772-4177-aa01-c3924acc296e",
   "metadata": {},
   "outputs": [
    {
     "data": {
      "text/html": [
       "<div>\n",
       "<style scoped>\n",
       "    .dataframe tbody tr th:only-of-type {\n",
       "        vertical-align: middle;\n",
       "    }\n",
       "\n",
       "    .dataframe tbody tr th {\n",
       "        vertical-align: top;\n",
       "    }\n",
       "\n",
       "    .dataframe thead th {\n",
       "        text-align: right;\n",
       "    }\n",
       "</style>\n",
       "<table border=\"1\" class=\"dataframe\">\n",
       "  <thead>\n",
       "    <tr style=\"text-align: right;\">\n",
       "      <th></th>\n",
       "      <th>transcript</th>\n",
       "      <th>url</th>\n",
       "    </tr>\n",
       "  </thead>\n",
       "  <tbody>\n",
       "    <tr>\n",
       "      <th>0</th>\n",
       "      <td>Good morning. How are you?(Laughter)It's been ...</td>\n",
       "      <td>https://www.ted.com/talks/ken_robinson_says_sc...</td>\n",
       "    </tr>\n",
       "    <tr>\n",
       "      <th>1</th>\n",
       "      <td>Thank you so much, Chris. And it's truly a gre...</td>\n",
       "      <td>https://www.ted.com/talks/al_gore_on_averting_...</td>\n",
       "    </tr>\n",
       "    <tr>\n",
       "      <th>2</th>\n",
       "      <td>(Music: \"The Sound of Silence,\" Simon &amp; Garfun...</td>\n",
       "      <td>https://www.ted.com/talks/david_pogue_says_sim...</td>\n",
       "    </tr>\n",
       "    <tr>\n",
       "      <th>3</th>\n",
       "      <td>If you're here today — and I'm very happy that...</td>\n",
       "      <td>https://www.ted.com/talks/majora_carter_s_tale...</td>\n",
       "    </tr>\n",
       "    <tr>\n",
       "      <th>4</th>\n",
       "      <td>About 10 years ago, I took on the task to teac...</td>\n",
       "      <td>https://www.ted.com/talks/hans_rosling_shows_t...</td>\n",
       "    </tr>\n",
       "  </tbody>\n",
       "</table>\n",
       "</div>"
      ],
      "text/plain": [
       "                                          transcript  \\\n",
       "0  Good morning. How are you?(Laughter)It's been ...   \n",
       "1  Thank you so much, Chris. And it's truly a gre...   \n",
       "2  (Music: \"The Sound of Silence,\" Simon & Garfun...   \n",
       "3  If you're here today — and I'm very happy that...   \n",
       "4  About 10 years ago, I took on the task to teac...   \n",
       "\n",
       "                                                 url  \n",
       "0  https://www.ted.com/talks/ken_robinson_says_sc...  \n",
       "1  https://www.ted.com/talks/al_gore_on_averting_...  \n",
       "2  https://www.ted.com/talks/david_pogue_says_sim...  \n",
       "3  https://www.ted.com/talks/majora_carter_s_tale...  \n",
       "4  https://www.ted.com/talks/hans_rosling_shows_t...  "
      ]
     },
     "execution_count": 76,
     "metadata": {},
     "output_type": "execute_result"
    }
   ],
   "source": [
    "data.head()"
   ]
  },
  {
   "cell_type": "code",
   "execution_count": 52,
   "id": "58b7abee-fcc0-4be7-ac77-06b2007bf095",
   "metadata": {},
   "outputs": [
    {
     "data": {
      "text/plain": [
       "(2467, 2)"
      ]
     },
     "execution_count": 52,
     "metadata": {},
     "output_type": "execute_result"
    }
   ],
   "source": [
    "### Can we use tfidf information to extract the important words in each ted-talk?\n",
    "data.shape"
   ]
  },
  {
   "cell_type": "markdown",
   "id": "c5e35ffa-d3e0-4a39-9444-a63898a836d8",
   "metadata": {},
   "source": [
    "## tfidf matrix-->find the top 5 words per doc in each row of the tfidf matrix by their tfidf value"
   ]
  },
  {
   "cell_type": "code",
   "execution_count": 54,
   "id": "c64d214c-cf64-4a90-8e35-12528f29052d",
   "metadata": {},
   "outputs": [],
   "source": [
    "tfidf = text.TfidfVectorizer(input = data['transcript'].tolist(),stop_words='english')\n",
    "matrix = tfidf.fit_transform(data['transcript'].tolist())"
   ]
  },
  {
   "cell_type": "code",
   "execution_count": 55,
   "id": "f9fea0f6-6515-4539-ae5c-d9251fe8bdfc",
   "metadata": {},
   "outputs": [
    {
     "data": {
      "text/plain": [
       "(2467, 58489)"
      ]
     },
     "execution_count": 55,
     "metadata": {},
     "output_type": "execute_result"
    }
   ],
   "source": [
    "matrix.shape"
   ]
  },
  {
   "cell_type": "code",
   "execution_count": 59,
   "id": "78bba85f-f15f-4785-ab18-aea5486f0568",
   "metadata": {},
   "outputs": [],
   "source": [
    "tfidf_df = pd.DataFrame(matrix.toarray(),columns = tfidf.get_feature_names_out())"
   ]
  },
  {
   "cell_type": "code",
   "execution_count": 60,
   "id": "2e810b1c-13e6-4c61-89e1-e22f32ef6f8c",
   "metadata": {},
   "outputs": [
    {
     "data": {
      "text/html": [
       "<div>\n",
       "<style scoped>\n",
       "    .dataframe tbody tr th:only-of-type {\n",
       "        vertical-align: middle;\n",
       "    }\n",
       "\n",
       "    .dataframe tbody tr th {\n",
       "        vertical-align: top;\n",
       "    }\n",
       "\n",
       "    .dataframe thead th {\n",
       "        text-align: right;\n",
       "    }\n",
       "</style>\n",
       "<table border=\"1\" class=\"dataframe\">\n",
       "  <thead>\n",
       "    <tr style=\"text-align: right;\">\n",
       "      <th></th>\n",
       "      <th>00</th>\n",
       "      <th>000</th>\n",
       "      <th>0000</th>\n",
       "      <th>000000004</th>\n",
       "      <th>0000001</th>\n",
       "      <th>000001</th>\n",
       "      <th>00001</th>\n",
       "      <th>000042</th>\n",
       "      <th>0001</th>\n",
       "      <th>0009</th>\n",
       "      <th>...</th>\n",
       "      <th>ālep</th>\n",
       "      <th>čapek</th>\n",
       "      <th>ōfunato</th>\n",
       "      <th>ʾan</th>\n",
       "      <th>ʾilla</th>\n",
       "      <th>ʾilāha</th>\n",
       "      <th>อย</th>\n",
       "      <th>อยman</th>\n",
       "      <th>อร</th>\n",
       "      <th>送你葱</th>\n",
       "    </tr>\n",
       "  </thead>\n",
       "  <tbody>\n",
       "    <tr>\n",
       "      <th>0</th>\n",
       "      <td>0.0</td>\n",
       "      <td>0.0</td>\n",
       "      <td>0.0</td>\n",
       "      <td>0.0</td>\n",
       "      <td>0.0</td>\n",
       "      <td>0.0</td>\n",
       "      <td>0.0</td>\n",
       "      <td>0.0</td>\n",
       "      <td>0.0</td>\n",
       "      <td>0.0</td>\n",
       "      <td>...</td>\n",
       "      <td>0.0</td>\n",
       "      <td>0.0</td>\n",
       "      <td>0.0</td>\n",
       "      <td>0.0</td>\n",
       "      <td>0.0</td>\n",
       "      <td>0.0</td>\n",
       "      <td>0.0</td>\n",
       "      <td>0.0</td>\n",
       "      <td>0.0</td>\n",
       "      <td>0.0</td>\n",
       "    </tr>\n",
       "    <tr>\n",
       "      <th>1</th>\n",
       "      <td>0.0</td>\n",
       "      <td>0.0</td>\n",
       "      <td>0.0</td>\n",
       "      <td>0.0</td>\n",
       "      <td>0.0</td>\n",
       "      <td>0.0</td>\n",
       "      <td>0.0</td>\n",
       "      <td>0.0</td>\n",
       "      <td>0.0</td>\n",
       "      <td>0.0</td>\n",
       "      <td>...</td>\n",
       "      <td>0.0</td>\n",
       "      <td>0.0</td>\n",
       "      <td>0.0</td>\n",
       "      <td>0.0</td>\n",
       "      <td>0.0</td>\n",
       "      <td>0.0</td>\n",
       "      <td>0.0</td>\n",
       "      <td>0.0</td>\n",
       "      <td>0.0</td>\n",
       "      <td>0.0</td>\n",
       "    </tr>\n",
       "  </tbody>\n",
       "</table>\n",
       "<p>2 rows × 58489 columns</p>\n",
       "</div>"
      ],
      "text/plain": [
       "    00  000  0000  000000004  0000001  000001  00001  000042  0001  0009  ...  \\\n",
       "0  0.0  0.0   0.0        0.0      0.0     0.0    0.0     0.0   0.0   0.0  ...   \n",
       "1  0.0  0.0   0.0        0.0      0.0     0.0    0.0     0.0   0.0   0.0  ...   \n",
       "\n",
       "   ālep  čapek  ōfunato  ʾan  ʾilla  ʾilāha   อย  อยman   อร  送你葱  \n",
       "0   0.0    0.0      0.0  0.0    0.0     0.0  0.0    0.0  0.0  0.0  \n",
       "1   0.0    0.0      0.0  0.0    0.0     0.0  0.0    0.0  0.0  0.0  \n",
       "\n",
       "[2 rows x 58489 columns]"
      ]
     },
     "execution_count": 60,
     "metadata": {},
     "output_type": "execute_result"
    }
   ],
   "source": [
    "tfidf_df.head(2)"
   ]
  },
  {
   "cell_type": "code",
   "execution_count": 66,
   "id": "0b17be5b-589c-451c-b043-a86cd26a62e9",
   "metadata": {},
   "outputs": [
    {
     "data": {
      "text/html": [
       "<div>\n",
       "<style scoped>\n",
       "    .dataframe tbody tr th:only-of-type {\n",
       "        vertical-align: middle;\n",
       "    }\n",
       "\n",
       "    .dataframe tbody tr th {\n",
       "        vertical-align: top;\n",
       "    }\n",
       "\n",
       "    .dataframe thead th {\n",
       "        text-align: right;\n",
       "    }\n",
       "</style>\n",
       "<table border=\"1\" class=\"dataframe\">\n",
       "  <thead>\n",
       "    <tr style=\"text-align: right;\">\n",
       "      <th></th>\n",
       "      <th>00</th>\n",
       "      <th>000</th>\n",
       "      <th>0000</th>\n",
       "      <th>000000004</th>\n",
       "      <th>0000001</th>\n",
       "      <th>000001</th>\n",
       "      <th>00001</th>\n",
       "      <th>000042</th>\n",
       "      <th>0001</th>\n",
       "      <th>0009</th>\n",
       "      <th>...</th>\n",
       "      <th>ālep</th>\n",
       "      <th>čapek</th>\n",
       "      <th>ōfunato</th>\n",
       "      <th>ʾan</th>\n",
       "      <th>ʾilla</th>\n",
       "      <th>ʾilāha</th>\n",
       "      <th>อย</th>\n",
       "      <th>อยman</th>\n",
       "      <th>อร</th>\n",
       "      <th>送你葱</th>\n",
       "    </tr>\n",
       "  </thead>\n",
       "  <tbody>\n",
       "    <tr>\n",
       "      <th>0</th>\n",
       "      <td>0.0</td>\n",
       "      <td>0.0</td>\n",
       "      <td>0.0</td>\n",
       "      <td>0.0</td>\n",
       "      <td>0.0</td>\n",
       "      <td>0.0</td>\n",
       "      <td>0.0</td>\n",
       "      <td>0.0</td>\n",
       "      <td>0.0</td>\n",
       "      <td>0.0</td>\n",
       "      <td>...</td>\n",
       "      <td>0.0</td>\n",
       "      <td>0.0</td>\n",
       "      <td>0.0</td>\n",
       "      <td>0.0</td>\n",
       "      <td>0.0</td>\n",
       "      <td>0.0</td>\n",
       "      <td>0.0</td>\n",
       "      <td>0.0</td>\n",
       "      <td>0.0</td>\n",
       "      <td>0.0</td>\n",
       "    </tr>\n",
       "    <tr>\n",
       "      <th>1</th>\n",
       "      <td>0.0</td>\n",
       "      <td>0.0</td>\n",
       "      <td>0.0</td>\n",
       "      <td>0.0</td>\n",
       "      <td>0.0</td>\n",
       "      <td>0.0</td>\n",
       "      <td>0.0</td>\n",
       "      <td>0.0</td>\n",
       "      <td>0.0</td>\n",
       "      <td>0.0</td>\n",
       "      <td>...</td>\n",
       "      <td>0.0</td>\n",
       "      <td>0.0</td>\n",
       "      <td>0.0</td>\n",
       "      <td>0.0</td>\n",
       "      <td>0.0</td>\n",
       "      <td>0.0</td>\n",
       "      <td>0.0</td>\n",
       "      <td>0.0</td>\n",
       "      <td>0.0</td>\n",
       "      <td>0.0</td>\n",
       "    </tr>\n",
       "  </tbody>\n",
       "</table>\n",
       "<p>2 rows × 58489 columns</p>\n",
       "</div>"
      ],
      "text/plain": [
       "    00  000  0000  000000004  0000001  000001  00001  000042  0001  0009  ...  \\\n",
       "0  0.0  0.0   0.0        0.0      0.0     0.0    0.0     0.0   0.0   0.0  ...   \n",
       "1  0.0  0.0   0.0        0.0      0.0     0.0    0.0     0.0   0.0   0.0  ...   \n",
       "\n",
       "   ālep  čapek  ōfunato  ʾan  ʾilla  ʾilāha   อย  อยman   อร  送你葱  \n",
       "0   0.0    0.0      0.0  0.0    0.0     0.0  0.0    0.0  0.0  0.0  \n",
       "1   0.0    0.0      0.0  0.0    0.0     0.0  0.0    0.0  0.0  0.0  \n",
       "\n",
       "[2 rows x 58489 columns]"
      ]
     },
     "execution_count": 66,
     "metadata": {},
     "output_type": "execute_result"
    }
   ],
   "source": [
    "tfidf_df.head(2)"
   ]
  },
  {
   "cell_type": "code",
   "execution_count": 71,
   "id": "d7c55cb6-0563-4ccf-8a19-8d3867aa58ad",
   "metadata": {},
   "outputs": [
    {
     "data": {
      "text/plain": [
       "['education', 'gillian', 'laughter', 'said', 'think']"
      ]
     },
     "execution_count": 71,
     "metadata": {},
     "output_type": "execute_result"
    }
   ],
   "source": [
    "tfidf_df.iloc[0].sort_values(ascending=False).head(5).index.tolist()"
   ]
  },
  {
   "cell_type": "code",
   "execution_count": 77,
   "id": "3bcf8d1b-c5b0-4fe3-ab3d-373b00d48ccf",
   "metadata": {},
   "outputs": [],
   "source": [
    "keywords = []\n",
    "for i in range(tfidf_df.shape[0]):\n",
    "    kw=tfidf_df.iloc[i].sort_values(ascending=False).head(5).index.tolist()\n",
    "    kw = \",\".join(kw)\n",
    "    keywords.append(kw)"
   ]
  },
  {
   "cell_type": "code",
   "execution_count": 75,
   "id": "cdfa2d9e-fbe0-4849-8722-328586599ae0",
   "metadata": {},
   "outputs": [
    {
     "data": {
      "text/plain": [
       "'education,gillian,laughter,said,think'"
      ]
     },
     "execution_count": 75,
     "metadata": {},
     "output_type": "execute_result"
    }
   ],
   "source": [
    "\",\".join(['education', 'gillian', 'laughter', 'said', 'think'])"
   ]
  },
  {
   "cell_type": "code",
   "execution_count": 79,
   "id": "12b66254-0af0-4c51-847c-bc5e9cf0757d",
   "metadata": {},
   "outputs": [],
   "source": [
    "data['keywords']=keywords"
   ]
  },
  {
   "cell_type": "code",
   "execution_count": 80,
   "id": "2c523b57-6f6e-4d93-bd9b-6f75d8f9d0c3",
   "metadata": {},
   "outputs": [
    {
     "data": {
      "text/html": [
       "<div>\n",
       "<style scoped>\n",
       "    .dataframe tbody tr th:only-of-type {\n",
       "        vertical-align: middle;\n",
       "    }\n",
       "\n",
       "    .dataframe tbody tr th {\n",
       "        vertical-align: top;\n",
       "    }\n",
       "\n",
       "    .dataframe thead th {\n",
       "        text-align: right;\n",
       "    }\n",
       "</style>\n",
       "<table border=\"1\" class=\"dataframe\">\n",
       "  <thead>\n",
       "    <tr style=\"text-align: right;\">\n",
       "      <th></th>\n",
       "      <th>transcript</th>\n",
       "      <th>url</th>\n",
       "      <th>keywords</th>\n",
       "    </tr>\n",
       "  </thead>\n",
       "  <tbody>\n",
       "    <tr>\n",
       "      <th>0</th>\n",
       "      <td>Good morning. How are you?(Laughter)It's been ...</td>\n",
       "      <td>https://www.ted.com/talks/ken_robinson_says_sc...</td>\n",
       "      <td>education,gillian,laughter,said,think</td>\n",
       "    </tr>\n",
       "    <tr>\n",
       "      <th>1</th>\n",
       "      <td>Thank you so much, Chris. And it's truly a gre...</td>\n",
       "      <td>https://www.ted.com/talks/al_gore_on_averting_...</td>\n",
       "      <td>tipper,carbon,slideshow,laughter,nashville</td>\n",
       "    </tr>\n",
       "    <tr>\n",
       "      <th>2</th>\n",
       "      <td>(Music: \"The Sound of Silence,\" Simon &amp; Garfun...</td>\n",
       "      <td>https://www.ted.com/talks/david_pogue_says_sim...</td>\n",
       "      <td>microsoft,software,laughter,features,apple</td>\n",
       "    </tr>\n",
       "    <tr>\n",
       "      <th>3</th>\n",
       "      <td>If you're here today — and I'm very happy that...</td>\n",
       "      <td>https://www.ted.com/talks/majora_carter_s_tale...</td>\n",
       "      <td>bronx,south,environmental,community,waterfront</td>\n",
       "    </tr>\n",
       "    <tr>\n",
       "      <th>4</th>\n",
       "      <td>About 10 years ago, I took on the task to teac...</td>\n",
       "      <td>https://www.ted.com/talks/hans_rosling_shows_t...</td>\n",
       "      <td>countries,data,africa,world,income</td>\n",
       "    </tr>\n",
       "  </tbody>\n",
       "</table>\n",
       "</div>"
      ],
      "text/plain": [
       "                                          transcript  \\\n",
       "0  Good morning. How are you?(Laughter)It's been ...   \n",
       "1  Thank you so much, Chris. And it's truly a gre...   \n",
       "2  (Music: \"The Sound of Silence,\" Simon & Garfun...   \n",
       "3  If you're here today — and I'm very happy that...   \n",
       "4  About 10 years ago, I took on the task to teac...   \n",
       "\n",
       "                                                 url  \\\n",
       "0  https://www.ted.com/talks/ken_robinson_says_sc...   \n",
       "1  https://www.ted.com/talks/al_gore_on_averting_...   \n",
       "2  https://www.ted.com/talks/david_pogue_says_sim...   \n",
       "3  https://www.ted.com/talks/majora_carter_s_tale...   \n",
       "4  https://www.ted.com/talks/hans_rosling_shows_t...   \n",
       "\n",
       "                                         keywords  \n",
       "0           education,gillian,laughter,said,think  \n",
       "1      tipper,carbon,slideshow,laughter,nashville  \n",
       "2      microsoft,software,laughter,features,apple  \n",
       "3  bronx,south,environmental,community,waterfront  \n",
       "4              countries,data,africa,world,income  "
      ]
     },
     "execution_count": 80,
     "metadata": {},
     "output_type": "execute_result"
    }
   ],
   "source": [
    "data.head()"
   ]
  },
  {
   "cell_type": "code",
   "execution_count": 84,
   "id": "2d747604-8f38-4607-8c3e-ab196770ec7c",
   "metadata": {},
   "outputs": [
    {
     "data": {
      "text/plain": [
       "'ken_robinson_says_schools_kill_creativity'"
      ]
     },
     "execution_count": 84,
     "metadata": {},
     "output_type": "execute_result"
    }
   ],
   "source": [
    "data['url'].iloc[0].split(\"/\")[-1].strip()"
   ]
  },
  {
   "cell_type": "code",
   "execution_count": 85,
   "id": "c5bcfbc8-2383-40b8-82c2-9365ec9ae952",
   "metadata": {},
   "outputs": [],
   "source": [
    "def get_talk_name(row):\n",
    "    return row.split(\"/\")[-1].strip()"
   ]
  },
  {
   "cell_type": "code",
   "execution_count": 87,
   "id": "03c4e182-8fd8-4d7f-a41b-125b52fcf4f8",
   "metadata": {},
   "outputs": [],
   "source": [
    "data['talk_name']=data['url'].map(get_talk_name)"
   ]
  },
  {
   "cell_type": "code",
   "execution_count": 88,
   "id": "4be9721b-3ccb-4dd5-941c-4e6d9c009f65",
   "metadata": {},
   "outputs": [
    {
     "data": {
      "text/html": [
       "<div>\n",
       "<style scoped>\n",
       "    .dataframe tbody tr th:only-of-type {\n",
       "        vertical-align: middle;\n",
       "    }\n",
       "\n",
       "    .dataframe tbody tr th {\n",
       "        vertical-align: top;\n",
       "    }\n",
       "\n",
       "    .dataframe thead th {\n",
       "        text-align: right;\n",
       "    }\n",
       "</style>\n",
       "<table border=\"1\" class=\"dataframe\">\n",
       "  <thead>\n",
       "    <tr style=\"text-align: right;\">\n",
       "      <th></th>\n",
       "      <th>transcript</th>\n",
       "      <th>url</th>\n",
       "      <th>keywords</th>\n",
       "      <th>talk_name</th>\n",
       "    </tr>\n",
       "  </thead>\n",
       "  <tbody>\n",
       "    <tr>\n",
       "      <th>0</th>\n",
       "      <td>Good morning. How are you?(Laughter)It's been ...</td>\n",
       "      <td>https://www.ted.com/talks/ken_robinson_says_sc...</td>\n",
       "      <td>education,gillian,laughter,said,think</td>\n",
       "      <td>ken_robinson_says_schools_kill_creativity</td>\n",
       "    </tr>\n",
       "    <tr>\n",
       "      <th>1</th>\n",
       "      <td>Thank you so much, Chris. And it's truly a gre...</td>\n",
       "      <td>https://www.ted.com/talks/al_gore_on_averting_...</td>\n",
       "      <td>tipper,carbon,slideshow,laughter,nashville</td>\n",
       "      <td>al_gore_on_averting_climate_crisis</td>\n",
       "    </tr>\n",
       "    <tr>\n",
       "      <th>2</th>\n",
       "      <td>(Music: \"The Sound of Silence,\" Simon &amp; Garfun...</td>\n",
       "      <td>https://www.ted.com/talks/david_pogue_says_sim...</td>\n",
       "      <td>microsoft,software,laughter,features,apple</td>\n",
       "      <td>david_pogue_says_simplicity_sells</td>\n",
       "    </tr>\n",
       "    <tr>\n",
       "      <th>3</th>\n",
       "      <td>If you're here today — and I'm very happy that...</td>\n",
       "      <td>https://www.ted.com/talks/majora_carter_s_tale...</td>\n",
       "      <td>bronx,south,environmental,community,waterfront</td>\n",
       "      <td>majora_carter_s_tale_of_urban_renewal</td>\n",
       "    </tr>\n",
       "    <tr>\n",
       "      <th>4</th>\n",
       "      <td>About 10 years ago, I took on the task to teac...</td>\n",
       "      <td>https://www.ted.com/talks/hans_rosling_shows_t...</td>\n",
       "      <td>countries,data,africa,world,income</td>\n",
       "      <td>hans_rosling_shows_the_best_stats_you_ve_ever_...</td>\n",
       "    </tr>\n",
       "  </tbody>\n",
       "</table>\n",
       "</div>"
      ],
      "text/plain": [
       "                                          transcript  \\\n",
       "0  Good morning. How are you?(Laughter)It's been ...   \n",
       "1  Thank you so much, Chris. And it's truly a gre...   \n",
       "2  (Music: \"The Sound of Silence,\" Simon & Garfun...   \n",
       "3  If you're here today — and I'm very happy that...   \n",
       "4  About 10 years ago, I took on the task to teac...   \n",
       "\n",
       "                                                 url  \\\n",
       "0  https://www.ted.com/talks/ken_robinson_says_sc...   \n",
       "1  https://www.ted.com/talks/al_gore_on_averting_...   \n",
       "2  https://www.ted.com/talks/david_pogue_says_sim...   \n",
       "3  https://www.ted.com/talks/majora_carter_s_tale...   \n",
       "4  https://www.ted.com/talks/hans_rosling_shows_t...   \n",
       "\n",
       "                                         keywords  \\\n",
       "0           education,gillian,laughter,said,think   \n",
       "1      tipper,carbon,slideshow,laughter,nashville   \n",
       "2      microsoft,software,laughter,features,apple   \n",
       "3  bronx,south,environmental,community,waterfront   \n",
       "4              countries,data,africa,world,income   \n",
       "\n",
       "                                           talk_name  \n",
       "0          ken_robinson_says_schools_kill_creativity  \n",
       "1                 al_gore_on_averting_climate_crisis  \n",
       "2                  david_pogue_says_simplicity_sells  \n",
       "3              majora_carter_s_tale_of_urban_renewal  \n",
       "4  hans_rosling_shows_the_best_stats_you_ve_ever_...  "
      ]
     },
     "execution_count": 88,
     "metadata": {},
     "output_type": "execute_result"
    }
   ],
   "source": [
    "data.head()"
   ]
  },
  {
   "cell_type": "code",
   "execution_count": 89,
   "id": "485d0f85-2eff-4183-b6d7-9fcc7790c4bb",
   "metadata": {},
   "outputs": [
    {
     "data": {
      "text/plain": [
       "0               ken_robinson_says_schools_kill_creativity\n",
       "1                      al_gore_on_averting_climate_crisis\n",
       "2                       david_pogue_says_simplicity_sells\n",
       "3                   majora_carter_s_tale_of_urban_renewal\n",
       "4       hans_rosling_shows_the_best_stats_you_ve_ever_...\n",
       "                              ...                        \n",
       "2462    duarte_geraldino_what_we_re_missing_in_the_deb...\n",
       "2463    armando_azua_bustos_the_most_martian_place_on_...\n",
       "2464    radhika_nagpal_what_intelligent_machines_can_l...\n",
       "2465    theo_e_j_wilson_a_black_man_goes_undercover_in...\n",
       "2466    karoliina_korppoo_how_a_video_game_might_help_...\n",
       "Name: url, Length: 2467, dtype: object"
      ]
     },
     "execution_count": 89,
     "metadata": {},
     "output_type": "execute_result"
    }
   ],
   "source": [
    "data['url'].apply(get_talk_name)"
   ]
  },
  {
   "cell_type": "code",
   "execution_count": 90,
   "id": "e25e2b3d-7819-4fb8-bcb7-efc02cb35d2d",
   "metadata": {},
   "outputs": [
    {
     "data": {
      "text/plain": [
       "<2467x58489 sparse matrix of type '<class 'numpy.float64'>'\n",
       "\twith 1166796 stored elements in Compressed Sparse Row format>"
      ]
     },
     "execution_count": 90,
     "metadata": {},
     "output_type": "execute_result"
    }
   ],
   "source": [
    "### Explore the idea of text similarity and then we will build a reccommendation system, just using tfidf information\n",
    "\n",
    "## raw_text ---> tfidf matrix ---> cosine similarity matrix ---> data manipulation to find out the similar talks\n",
    "\n",
    "matrix ## tfidf matrix"
   ]
  },
  {
   "cell_type": "code",
   "execution_count": 91,
   "id": "c2eeb767-87fa-4924-a6b4-b8be3ab4f3dc",
   "metadata": {},
   "outputs": [],
   "source": [
    "## cosine similarity matrix\n",
    "from sklearn.metrics.pairwise import cosine_similarity"
   ]
  },
  {
   "cell_type": "code",
   "execution_count": 92,
   "id": "643c1eab-db48-43d8-b12b-81b3c1b40547",
   "metadata": {},
   "outputs": [
    {
     "data": {
      "text/plain": [
       "(2467, 58489)"
      ]
     },
     "execution_count": 92,
     "metadata": {},
     "output_type": "execute_result"
    }
   ],
   "source": [
    "matrix.shape"
   ]
  },
  {
   "cell_type": "code",
   "execution_count": 93,
   "id": "c01410a7-acc2-450b-884b-e36d6f522ae0",
   "metadata": {},
   "outputs": [],
   "source": [
    "sim_matrix = cosine_similarity(matrix)"
   ]
  },
  {
   "cell_type": "code",
   "execution_count": 94,
   "id": "b2cfd450-f682-4c60-bed8-fd5351acacb0",
   "metadata": {},
   "outputs": [
    {
     "data": {
      "text/plain": [
       "(2467, 2467)"
      ]
     },
     "execution_count": 94,
     "metadata": {},
     "output_type": "execute_result"
    }
   ],
   "source": [
    "sim_matrix.shape"
   ]
  },
  {
   "cell_type": "code",
   "execution_count": 103,
   "id": "9feb5d74-9bf8-42ef-a18e-75c23afb3378",
   "metadata": {},
   "outputs": [
    {
     "data": {
      "text/plain": [
       "array([1.        , 0.15310631, 0.17626477, ..., 0.07427816, 0.1408498 ,\n",
       "       0.06360819])"
      ]
     },
     "execution_count": 103,
     "metadata": {},
     "output_type": "execute_result"
    }
   ],
   "source": [
    "sim_matrix[0]"
   ]
  },
  {
   "cell_type": "code",
   "execution_count": 119,
   "id": "884432a0-c452-42f9-b449-fd59484cb869",
   "metadata": {},
   "outputs": [
    {
     "data": {
      "text/plain": [
       "array([1832,  557, 1968,  663, 1421])"
      ]
     },
     "execution_count": 119,
     "metadata": {},
     "output_type": "execute_result"
    }
   ],
   "source": [
    "sim_matrix[0].argsort()[-6:-1]"
   ]
  },
  {
   "cell_type": "code",
   "execution_count": 101,
   "id": "11aaad27-f55a-48ee-83df-f5889a678197",
   "metadata": {},
   "outputs": [
    {
     "data": {
      "text/plain": [
       "array([ 34, 100,  56])"
      ]
     },
     "execution_count": 101,
     "metadata": {},
     "output_type": "execute_result"
    }
   ],
   "source": [
    "import numpy as np\n",
    "np.array([34,100,56])"
   ]
  },
  {
   "cell_type": "code",
   "execution_count": 102,
   "id": "cdaa1bc2-2e22-48d3-b027-d087023bc4ef",
   "metadata": {},
   "outputs": [
    {
     "data": {
      "text/plain": [
       "array([0, 2, 1])"
      ]
     },
     "execution_count": 102,
     "metadata": {},
     "output_type": "execute_result"
    }
   ],
   "source": [
    "np.array([34,100,56]).argsort()"
   ]
  },
  {
   "cell_type": "code",
   "execution_count": 104,
   "id": "20bf79bc-ce73-48cc-b055-dae5dad7b764",
   "metadata": {},
   "outputs": [
    {
     "data": {
      "text/html": [
       "<div>\n",
       "<style scoped>\n",
       "    .dataframe tbody tr th:only-of-type {\n",
       "        vertical-align: middle;\n",
       "    }\n",
       "\n",
       "    .dataframe tbody tr th {\n",
       "        vertical-align: top;\n",
       "    }\n",
       "\n",
       "    .dataframe thead th {\n",
       "        text-align: right;\n",
       "    }\n",
       "</style>\n",
       "<table border=\"1\" class=\"dataframe\">\n",
       "  <thead>\n",
       "    <tr style=\"text-align: right;\">\n",
       "      <th></th>\n",
       "      <th>transcript</th>\n",
       "      <th>url</th>\n",
       "      <th>keywords</th>\n",
       "      <th>talk_name</th>\n",
       "    </tr>\n",
       "  </thead>\n",
       "  <tbody>\n",
       "    <tr>\n",
       "      <th>0</th>\n",
       "      <td>Good morning. How are you?(Laughter)It's been ...</td>\n",
       "      <td>https://www.ted.com/talks/ken_robinson_says_sc...</td>\n",
       "      <td>education,gillian,laughter,said,think</td>\n",
       "      <td>ken_robinson_says_schools_kill_creativity</td>\n",
       "    </tr>\n",
       "    <tr>\n",
       "      <th>1</th>\n",
       "      <td>Thank you so much, Chris. And it's truly a gre...</td>\n",
       "      <td>https://www.ted.com/talks/al_gore_on_averting_...</td>\n",
       "      <td>tipper,carbon,slideshow,laughter,nashville</td>\n",
       "      <td>al_gore_on_averting_climate_crisis</td>\n",
       "    </tr>\n",
       "    <tr>\n",
       "      <th>2</th>\n",
       "      <td>(Music: \"The Sound of Silence,\" Simon &amp; Garfun...</td>\n",
       "      <td>https://www.ted.com/talks/david_pogue_says_sim...</td>\n",
       "      <td>microsoft,software,laughter,features,apple</td>\n",
       "      <td>david_pogue_says_simplicity_sells</td>\n",
       "    </tr>\n",
       "    <tr>\n",
       "      <th>3</th>\n",
       "      <td>If you're here today — and I'm very happy that...</td>\n",
       "      <td>https://www.ted.com/talks/majora_carter_s_tale...</td>\n",
       "      <td>bronx,south,environmental,community,waterfront</td>\n",
       "      <td>majora_carter_s_tale_of_urban_renewal</td>\n",
       "    </tr>\n",
       "    <tr>\n",
       "      <th>4</th>\n",
       "      <td>About 10 years ago, I took on the task to teac...</td>\n",
       "      <td>https://www.ted.com/talks/hans_rosling_shows_t...</td>\n",
       "      <td>countries,data,africa,world,income</td>\n",
       "      <td>hans_rosling_shows_the_best_stats_you_ve_ever_...</td>\n",
       "    </tr>\n",
       "  </tbody>\n",
       "</table>\n",
       "</div>"
      ],
      "text/plain": [
       "                                          transcript  \\\n",
       "0  Good morning. How are you?(Laughter)It's been ...   \n",
       "1  Thank you so much, Chris. And it's truly a gre...   \n",
       "2  (Music: \"The Sound of Silence,\" Simon & Garfun...   \n",
       "3  If you're here today — and I'm very happy that...   \n",
       "4  About 10 years ago, I took on the task to teac...   \n",
       "\n",
       "                                                 url  \\\n",
       "0  https://www.ted.com/talks/ken_robinson_says_sc...   \n",
       "1  https://www.ted.com/talks/al_gore_on_averting_...   \n",
       "2  https://www.ted.com/talks/david_pogue_says_sim...   \n",
       "3  https://www.ted.com/talks/majora_carter_s_tale...   \n",
       "4  https://www.ted.com/talks/hans_rosling_shows_t...   \n",
       "\n",
       "                                         keywords  \\\n",
       "0           education,gillian,laughter,said,think   \n",
       "1      tipper,carbon,slideshow,laughter,nashville   \n",
       "2      microsoft,software,laughter,features,apple   \n",
       "3  bronx,south,environmental,community,waterfront   \n",
       "4              countries,data,africa,world,income   \n",
       "\n",
       "                                           talk_name  \n",
       "0          ken_robinson_says_schools_kill_creativity  \n",
       "1                 al_gore_on_averting_climate_crisis  \n",
       "2                  david_pogue_says_simplicity_sells  \n",
       "3              majora_carter_s_tale_of_urban_renewal  \n",
       "4  hans_rosling_shows_the_best_stats_you_ve_ever_...  "
      ]
     },
     "execution_count": 104,
     "metadata": {},
     "output_type": "execute_result"
    }
   ],
   "source": [
    "data.head()"
   ]
  },
  {
   "cell_type": "code",
   "execution_count": 106,
   "id": "7c963dd7-8e5f-4ac8-86e7-466e9183a5c1",
   "metadata": {},
   "outputs": [
    {
     "data": {
      "text/plain": [
       "'ken_robinson_how_to_escape_education_s_death_valley'"
      ]
     },
     "execution_count": 106,
     "metadata": {},
     "output_type": "execute_result"
    }
   ],
   "source": [
    "data.iloc[1421]['talk_name']"
   ]
  },
  {
   "cell_type": "code",
   "execution_count": 107,
   "id": "1017ffe9-7620-40cf-b89c-5b4ea1d984b6",
   "metadata": {},
   "outputs": [
    {
     "data": {
      "text/plain": [
       "'ken_robinson_says_schools_kill_creativity'"
      ]
     },
     "execution_count": 107,
     "metadata": {},
     "output_type": "execute_result"
    }
   ],
   "source": [
    "data.iloc[0]['talk_name']"
   ]
  },
  {
   "cell_type": "code",
   "execution_count": 108,
   "id": "f0dddc66-2202-4e1c-8686-bed0594bb9f2",
   "metadata": {},
   "outputs": [
    {
     "data": {
      "text/plain": [
       "'sir_ken_robinson_bring_on_the_revolution'"
      ]
     },
     "execution_count": 108,
     "metadata": {},
     "output_type": "execute_result"
    }
   ],
   "source": [
    "data.iloc[663]['talk_name']"
   ]
  },
  {
   "cell_type": "code",
   "execution_count": 116,
   "id": "5d7c729c-af85-4785-a62a-0d8e5d54e4ca",
   "metadata": {},
   "outputs": [
    {
     "data": {
      "text/plain": [
       "['ricardo_semler_how_to_run_a_company_with_almost_no_rules',\n",
       " 'rory_bremner_s_one_man_world_summit',\n",
       " 'sakena_yacoobi_how_i_stopped_the_taliban_from_shutting_down_my_school',\n",
       " 'sir_ken_robinson_bring_on_the_revolution',\n",
       " 'ken_robinson_how_to_escape_education_s_death_valley']"
      ]
     },
     "execution_count": 116,
     "metadata": {},
     "output_type": "execute_result"
    }
   ],
   "source": [
    "data.iloc[sim_matrix[0].argsort()[-6:-1]]['talk_name'].tolist()"
   ]
  },
  {
   "cell_type": "code",
   "execution_count": 121,
   "id": "0f47923a-f7c8-4a31-8a56-f5c26536befc",
   "metadata": {},
   "outputs": [],
   "source": [
    "sim_talks = []\n",
    "for i in range(sim_matrix.shape[0]):\n",
    "    idx = sim_matrix[i].argsort()[-6:-1]\n",
    "    talks = data.iloc[idx]['talk_name'].tolist()\n",
    "    talks = \",\".join(talks)\n",
    "    sim_talks.append(talks)"
   ]
  },
  {
   "cell_type": "code",
   "execution_count": 123,
   "id": "054d6659-efa1-4c10-941a-4e58fbfa60c3",
   "metadata": {},
   "outputs": [],
   "source": [
    "data['sim_talks']=sim_talks"
   ]
  },
  {
   "cell_type": "code",
   "execution_count": 125,
   "id": "5495e909-1541-4c61-9be4-dd9b041bcc83",
   "metadata": {},
   "outputs": [
    {
     "data": {
      "text/html": [
       "<div>\n",
       "<style scoped>\n",
       "    .dataframe tbody tr th:only-of-type {\n",
       "        vertical-align: middle;\n",
       "    }\n",
       "\n",
       "    .dataframe tbody tr th {\n",
       "        vertical-align: top;\n",
       "    }\n",
       "\n",
       "    .dataframe thead th {\n",
       "        text-align: right;\n",
       "    }\n",
       "</style>\n",
       "<table border=\"1\" class=\"dataframe\">\n",
       "  <thead>\n",
       "    <tr style=\"text-align: right;\">\n",
       "      <th></th>\n",
       "      <th>transcript</th>\n",
       "      <th>url</th>\n",
       "      <th>keywords</th>\n",
       "      <th>talk_name</th>\n",
       "      <th>sim_talks</th>\n",
       "    </tr>\n",
       "  </thead>\n",
       "  <tbody>\n",
       "    <tr>\n",
       "      <th>0</th>\n",
       "      <td>Good morning. How are you?(Laughter)It's been ...</td>\n",
       "      <td>https://www.ted.com/talks/ken_robinson_says_sc...</td>\n",
       "      <td>education,gillian,laughter,said,think</td>\n",
       "      <td>ken_robinson_says_schools_kill_creativity</td>\n",
       "      <td>ricardo_semler_how_to_run_a_company_with_almos...</td>\n",
       "    </tr>\n",
       "    <tr>\n",
       "      <th>1</th>\n",
       "      <td>Thank you so much, Chris. And it's truly a gre...</td>\n",
       "      <td>https://www.ted.com/talks/al_gore_on_averting_...</td>\n",
       "      <td>tipper,carbon,slideshow,laughter,nashville</td>\n",
       "      <td>al_gore_on_averting_climate_crisis</td>\n",
       "      <td>david_carson_on_design,rory_bremner_s_one_man_...</td>\n",
       "    </tr>\n",
       "    <tr>\n",
       "      <th>2</th>\n",
       "      <td>(Music: \"The Sound of Silence,\" Simon &amp; Garfun...</td>\n",
       "      <td>https://www.ted.com/talks/david_pogue_says_sim...</td>\n",
       "      <td>microsoft,software,laughter,features,apple</td>\n",
       "      <td>david_pogue_says_simplicity_sells</td>\n",
       "      <td>john_maeda_on_the_simple_life,rory_bremner_s_o...</td>\n",
       "    </tr>\n",
       "  </tbody>\n",
       "</table>\n",
       "</div>"
      ],
      "text/plain": [
       "                                          transcript  \\\n",
       "0  Good morning. How are you?(Laughter)It's been ...   \n",
       "1  Thank you so much, Chris. And it's truly a gre...   \n",
       "2  (Music: \"The Sound of Silence,\" Simon & Garfun...   \n",
       "\n",
       "                                                 url  \\\n",
       "0  https://www.ted.com/talks/ken_robinson_says_sc...   \n",
       "1  https://www.ted.com/talks/al_gore_on_averting_...   \n",
       "2  https://www.ted.com/talks/david_pogue_says_sim...   \n",
       "\n",
       "                                     keywords  \\\n",
       "0       education,gillian,laughter,said,think   \n",
       "1  tipper,carbon,slideshow,laughter,nashville   \n",
       "2  microsoft,software,laughter,features,apple   \n",
       "\n",
       "                                   talk_name  \\\n",
       "0  ken_robinson_says_schools_kill_creativity   \n",
       "1         al_gore_on_averting_climate_crisis   \n",
       "2          david_pogue_says_simplicity_sells   \n",
       "\n",
       "                                           sim_talks  \n",
       "0  ricardo_semler_how_to_run_a_company_with_almos...  \n",
       "1  david_carson_on_design,rory_bremner_s_one_man_...  \n",
       "2  john_maeda_on_the_simple_life,rory_bremner_s_o...  "
      ]
     },
     "execution_count": 125,
     "metadata": {},
     "output_type": "execute_result"
    }
   ],
   "source": [
    "data.head(3)"
   ]
  },
  {
   "cell_type": "code",
   "execution_count": 126,
   "id": "5e476b6b-2499-413c-a2f2-0107069e5852",
   "metadata": {},
   "outputs": [
    {
     "data": {
      "text/plain": [
       "2467"
      ]
     },
     "execution_count": 126,
     "metadata": {},
     "output_type": "execute_result"
    }
   ],
   "source": [
    "sim_matrix.shape[0]"
   ]
  },
  {
   "cell_type": "code",
   "execution_count": 148,
   "id": "c4e961da-ed7f-4961-90d7-fafb859ac7fe",
   "metadata": {},
   "outputs": [
    {
     "data": {
      "text/plain": [
       "array([0, 2, 3, 1, 4])"
      ]
     },
     "execution_count": 148,
     "metadata": {},
     "output_type": "execute_result"
    }
   ],
   "source": [
    "np.array([30,100,56,78,102]).argsort()"
   ]
  },
  {
   "cell_type": "code",
   "execution_count": 149,
   "id": "0f82fce2-b5c3-4015-8f81-23b1133abb22",
   "metadata": {},
   "outputs": [],
   "source": [
    "ar = np.array([30,100,56,78,102])"
   ]
  },
  {
   "cell_type": "code",
   "execution_count": 150,
   "id": "2fda9ccf-732b-4d2f-8ff6-ff64475040d7",
   "metadata": {},
   "outputs": [
    {
     "data": {
      "text/plain": [
       "array([0, 2, 1, 3, 4])"
      ]
     },
     "execution_count": 150,
     "metadata": {},
     "output_type": "execute_result"
    }
   ],
   "source": [
    "ar.argpartition(1)"
   ]
  },
  {
   "cell_type": "code",
   "execution_count": 131,
   "id": "705aade2-0c20-435c-a8e6-09e0f055b5f7",
   "metadata": {},
   "outputs": [
    {
     "data": {
      "text/plain": [
       "\u001b[0;31mSignature:\u001b[0m \u001b[0mnp\u001b[0m\u001b[0;34m.\u001b[0m\u001b[0margpartition\u001b[0m\u001b[0;34m(\u001b[0m\u001b[0ma\u001b[0m\u001b[0;34m,\u001b[0m \u001b[0mkth\u001b[0m\u001b[0;34m,\u001b[0m \u001b[0maxis\u001b[0m\u001b[0;34m=\u001b[0m\u001b[0;34m-\u001b[0m\u001b[0;36m1\u001b[0m\u001b[0;34m,\u001b[0m \u001b[0mkind\u001b[0m\u001b[0;34m=\u001b[0m\u001b[0;34m'introselect'\u001b[0m\u001b[0;34m,\u001b[0m \u001b[0morder\u001b[0m\u001b[0;34m=\u001b[0m\u001b[0;32mNone\u001b[0m\u001b[0;34m)\u001b[0m\u001b[0;34m\u001b[0m\u001b[0;34m\u001b[0m\u001b[0m\n",
       "\u001b[0;31mDocstring:\u001b[0m\n",
       "Perform an indirect partition along the given axis using the\n",
       "algorithm specified by the `kind` keyword. It returns an array of\n",
       "indices of the same shape as `a` that index data along the given\n",
       "axis in partitioned order.\n",
       "\n",
       ".. versionadded:: 1.8.0\n",
       "\n",
       "Parameters\n",
       "----------\n",
       "a : array_like\n",
       "    Array to sort.\n",
       "kth : int or sequence of ints\n",
       "    Element index to partition by. The k-th element will be in its\n",
       "    final sorted position and all smaller elements will be moved\n",
       "    before it and all larger elements behind it. The order all\n",
       "    elements in the partitions is undefined. If provided with a\n",
       "    sequence of k-th it will partition all of them into their sorted\n",
       "    position at once.\n",
       "axis : int or None, optional\n",
       "    Axis along which to sort. The default is -1 (the last axis). If\n",
       "    None, the flattened array is used.\n",
       "kind : {'introselect'}, optional\n",
       "    Selection algorithm. Default is 'introselect'\n",
       "order : str or list of str, optional\n",
       "    When `a` is an array with fields defined, this argument\n",
       "    specifies which fields to compare first, second, etc. A single\n",
       "    field can be specified as a string, and not all fields need be\n",
       "    specified, but unspecified fields will still be used, in the\n",
       "    order in which they come up in the dtype, to break ties.\n",
       "\n",
       "Returns\n",
       "-------\n",
       "index_array : ndarray, int\n",
       "    Array of indices that partition `a` along the specified axis.\n",
       "    If `a` is one-dimensional, ``a[index_array]`` yields a partitioned `a`.\n",
       "    More generally, ``np.take_along_axis(a, index_array, axis=a)`` always\n",
       "    yields the partitioned `a`, irrespective of dimensionality.\n",
       "\n",
       "See Also\n",
       "--------\n",
       "partition : Describes partition algorithms used.\n",
       "ndarray.partition : Inplace partition.\n",
       "argsort : Full indirect sort.\n",
       "take_along_axis : Apply ``index_array`` from argpartition\n",
       "                  to an array as if by calling partition.\n",
       "\n",
       "Notes\n",
       "-----\n",
       "See `partition` for notes on the different selection algorithms.\n",
       "\n",
       "Examples\n",
       "--------\n",
       "One dimensional array:\n",
       "\n",
       ">>> x = np.array([3, 4, 2, 1])\n",
       ">>> x[np.argpartition(x, 3)]\n",
       "array([2, 1, 3, 4])\n",
       ">>> x[np.argpartition(x, (1, 3))]\n",
       "array([1, 2, 3, 4])\n",
       "\n",
       ">>> x = [3, 4, 2, 1]\n",
       ">>> np.array(x)[np.argpartition(x, 3)]\n",
       "array([2, 1, 3, 4])\n",
       "\n",
       "Multi-dimensional array:\n",
       "\n",
       ">>> x = np.array([[3, 4, 2], [1, 3, 1]])\n",
       ">>> index_array = np.argpartition(x, kth=1, axis=-1)\n",
       ">>> np.take_along_axis(x, index_array, axis=-1)  # same as np.partition(x, kth=1)\n",
       "array([[2, 3, 4],\n",
       "       [1, 1, 3]])\n",
       "\u001b[0;31mFile:\u001b[0m      ~/miniforge3/envs/dl/lib/python3.9/site-packages/numpy/core/fromnumeric.py\n",
       "\u001b[0;31mType:\u001b[0m      function\n"
      ]
     },
     "metadata": {},
     "output_type": "display_data"
    }
   ],
   "source": [
    "?np.argpartition"
   ]
  },
  {
   "cell_type": "code",
   "execution_count": null,
   "id": "423d40fa-f0ac-4d0c-9e9a-dc1de99f859b",
   "metadata": {},
   "outputs": [],
   "source": []
  }
 ],
 "metadata": {
  "kernelspec": {
   "display_name": "Python 3 (ipykernel)",
   "language": "python",
   "name": "python3"
  },
  "language_info": {
   "codemirror_mode": {
    "name": "ipython",
    "version": 3
   },
   "file_extension": ".py",
   "mimetype": "text/x-python",
   "name": "python",
   "nbconvert_exporter": "python",
   "pygments_lexer": "ipython3",
   "version": "3.9.9"
  }
 },
 "nbformat": 4,
 "nbformat_minor": 5
}
