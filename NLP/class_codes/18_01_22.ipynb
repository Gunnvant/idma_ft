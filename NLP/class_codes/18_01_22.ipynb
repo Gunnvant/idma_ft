{
 "cells": [
  {
   "cell_type": "code",
   "execution_count": 1,
   "id": "23bba67b-a3db-47f3-a4d0-ca7800d20e2a",
   "metadata": {},
   "outputs": [],
   "source": [
    "import pandas as pd\n",
    "import numpy as np\n",
    "path = '/Users/gunnvantsaini/Documents/Data/Kaggle/StackoverflowTags/stack-overflow-data.csv'"
   ]
  },
  {
   "cell_type": "code",
   "execution_count": 2,
   "id": "a02fa09d-f423-47ec-a7ee-b0959300cabd",
   "metadata": {},
   "outputs": [],
   "source": [
    "data = pd.read_csv(path)"
   ]
  },
  {
   "cell_type": "code",
   "execution_count": 3,
   "id": "44fdf1fa-5651-4cc8-bb74-760ec2e5b6f5",
   "metadata": {},
   "outputs": [
    {
     "data": {
      "text/html": [
       "<div>\n",
       "<style scoped>\n",
       "    .dataframe tbody tr th:only-of-type {\n",
       "        vertical-align: middle;\n",
       "    }\n",
       "\n",
       "    .dataframe tbody tr th {\n",
       "        vertical-align: top;\n",
       "    }\n",
       "\n",
       "    .dataframe thead th {\n",
       "        text-align: right;\n",
       "    }\n",
       "</style>\n",
       "<table border=\"1\" class=\"dataframe\">\n",
       "  <thead>\n",
       "    <tr style=\"text-align: right;\">\n",
       "      <th></th>\n",
       "      <th>post</th>\n",
       "      <th>tags</th>\n",
       "    </tr>\n",
       "  </thead>\n",
       "  <tbody>\n",
       "    <tr>\n",
       "      <th>0</th>\n",
       "      <td>what is causing this behavior  in our c# datet...</td>\n",
       "      <td>c#</td>\n",
       "    </tr>\n",
       "    <tr>\n",
       "      <th>1</th>\n",
       "      <td>have dynamic html load as if it was in an ifra...</td>\n",
       "      <td>asp.net</td>\n",
       "    </tr>\n",
       "    <tr>\n",
       "      <th>2</th>\n",
       "      <td>how to convert a float value in to min:sec  i ...</td>\n",
       "      <td>objective-c</td>\n",
       "    </tr>\n",
       "    <tr>\n",
       "      <th>3</th>\n",
       "      <td>.net framework 4 redistributable  just wonderi...</td>\n",
       "      <td>.net</td>\n",
       "    </tr>\n",
       "    <tr>\n",
       "      <th>4</th>\n",
       "      <td>trying to calculate and print the mean and its...</td>\n",
       "      <td>python</td>\n",
       "    </tr>\n",
       "  </tbody>\n",
       "</table>\n",
       "</div>"
      ],
      "text/plain": [
       "                                                post         tags\n",
       "0  what is causing this behavior  in our c# datet...           c#\n",
       "1  have dynamic html load as if it was in an ifra...      asp.net\n",
       "2  how to convert a float value in to min:sec  i ...  objective-c\n",
       "3  .net framework 4 redistributable  just wonderi...         .net\n",
       "4  trying to calculate and print the mean and its...       python"
      ]
     },
     "execution_count": 3,
     "metadata": {},
     "output_type": "execute_result"
    }
   ],
   "source": [
    "data.head()"
   ]
  },
  {
   "cell_type": "code",
   "execution_count": 5,
   "id": "32bfe0b2-612f-4fc3-8af6-5a8a5185e12d",
   "metadata": {},
   "outputs": [
    {
     "name": "stdout",
     "output_type": "stream",
     "text": [
      "what is causing this behavior  in our c# datetime type  <pre><code>[test] public void sadness() {    var datetime = datetime.utcnow;    assert.that(datetime  is.equalto(datetime.parse(datetime.tostring()))); } </code></pre>   failed :   <pre><code> expected: 2011-10-31 06:12:44.000  but was:  2011-10-31 06:12:44.350 </code></pre>   i wish to know what is happening behind the scenes in tostring() etc to cause this behavior.    edit after seeing jon s answer :   <pre><code>[test] public void newsadness() {     var datetime = datetime.utcnow;     assert.that(datetime  is.equalto(datetime.parse(datetime.tostring( o )))); } </code></pre>   result :   <pre><code>expected: 2011-10-31 12:03:04.161 but was:  2011-10-31 06:33:04.161 </code></pre>   same result with capital and small  o  . i m reading up the docs  but still unclear.\n"
     ]
    }
   ],
   "source": [
    "print(data['post'].iloc[0])"
   ]
  },
  {
   "cell_type": "code",
   "execution_count": 6,
   "id": "5a2423ce-5d2f-4703-9030-f6929574462f",
   "metadata": {},
   "outputs": [
    {
     "name": "stdout",
     "output_type": "stream",
     "text": [
      "how to chain expressions inside ngclass when using the {...}[] form  how can i add another expression to an <code>ng-class</code> directive that uses this form:   <pre><code>ng-class= {true: loading   false: loading-done }[data.loader===null]  </code></pre>   i d like to add something like this to the list:   <pre><code>{highlight:isspecial} </code></pre>   is it possible without expanding the first expression     thanks.\n"
     ]
    }
   ],
   "source": [
    "print(data['post'].iloc[30])"
   ]
  },
  {
   "cell_type": "code",
   "execution_count": 7,
   "id": "2d531141-18f6-47aa-858e-a3bf05983703",
   "metadata": {},
   "outputs": [
    {
     "data": {
      "text/plain": [
       "array(['c#', 'asp.net', 'objective-c', '.net', 'python', 'angularjs',\n",
       "       'iphone', 'ruby-on-rails', 'ios', 'c', 'sql', 'java', 'jquery',\n",
       "       'css', 'c++', 'php', 'android', 'mysql', 'javascript', 'html'],\n",
       "      dtype=object)"
      ]
     },
     "execution_count": 7,
     "metadata": {},
     "output_type": "execute_result"
    }
   ],
   "source": [
    "data['tags'].unique()"
   ]
  },
  {
   "cell_type": "code",
   "execution_count": 8,
   "id": "441b30bb-dcb7-4c7e-9c73-e45dcab2f854",
   "metadata": {},
   "outputs": [
    {
     "data": {
      "text/plain": [
       "(40000, 2)"
      ]
     },
     "execution_count": 8,
     "metadata": {},
     "output_type": "execute_result"
    }
   ],
   "source": [
    "data.shape"
   ]
  },
  {
   "cell_type": "code",
   "execution_count": 10,
   "id": "151e4592-6203-47cb-a0c2-1d0d0861e8ee",
   "metadata": {},
   "outputs": [
    {
     "data": {
      "text/plain": [
       "c#               0.05\n",
       "asp.net          0.05\n",
       "javascript       0.05\n",
       "mysql            0.05\n",
       "android          0.05\n",
       "php              0.05\n",
       "c++              0.05\n",
       "css              0.05\n",
       "jquery           0.05\n",
       "java             0.05\n",
       "sql              0.05\n",
       "c                0.05\n",
       "ios              0.05\n",
       "ruby-on-rails    0.05\n",
       "iphone           0.05\n",
       "angularjs        0.05\n",
       "python           0.05\n",
       ".net             0.05\n",
       "objective-c      0.05\n",
       "html             0.05\n",
       "Name: tags, dtype: float64"
      ]
     },
     "execution_count": 10,
     "metadata": {},
     "output_type": "execute_result"
    }
   ],
   "source": [
    "data['tags'].value_counts(normalize=True)"
   ]
  },
  {
   "cell_type": "code",
   "execution_count": 11,
   "id": "3d791c53-4b5b-4b57-9f52-2557c6bb24cd",
   "metadata": {},
   "outputs": [],
   "source": [
    "### split data into train-test\n",
    "train = data.sample(frac=0.80,random_state=100)"
   ]
  },
  {
   "cell_type": "code",
   "execution_count": 13,
   "id": "d478ff6c-c041-4f2f-bc8a-91a902d029c2",
   "metadata": {},
   "outputs": [],
   "source": [
    "test = data.drop(train.index,axis=0) "
   ]
  },
  {
   "cell_type": "code",
   "execution_count": 15,
   "id": "be9786b4-76e3-44f5-8c18-3a9a325ab8e4",
   "metadata": {},
   "outputs": [
    {
     "data": {
      "text/plain": [
       "Int64Index([37682, 31007, 13192,  2138, 13481, 19133, 14338, 16957, 26277,\n",
       "            10773,\n",
       "            ...\n",
       "            27337,  7964, 39698, 11262, 26962,  2346, 12711, 39512, 13902,\n",
       "            34151],\n",
       "           dtype='int64', length=32000)"
      ]
     },
     "execution_count": 15,
     "metadata": {},
     "output_type": "execute_result"
    }
   ],
   "source": [
    "train.index"
   ]
  },
  {
   "cell_type": "code",
   "execution_count": 16,
   "id": "5b31b822-caae-4ab7-b58f-12d6194ea150",
   "metadata": {},
   "outputs": [
    {
     "data": {
      "text/plain": [
       "ruby-on-rails    0.050906\n",
       "sql              0.050688\n",
       "c#               0.050656\n",
       "jquery           0.050563\n",
       "c++              0.050438\n",
       "objective-c      0.050375\n",
       "javascript       0.050344\n",
       "python           0.050313\n",
       "c                0.050281\n",
       ".net             0.050000\n",
       "php              0.049969\n",
       "asp.net          0.049844\n",
       "angularjs        0.049781\n",
       "java             0.049750\n",
       "css              0.049750\n",
       "mysql            0.049719\n",
       "iphone           0.049594\n",
       "ios              0.049531\n",
       "html             0.049406\n",
       "android          0.048094\n",
       "Name: tags, dtype: float64"
      ]
     },
     "execution_count": 16,
     "metadata": {},
     "output_type": "execute_result"
    }
   ],
   "source": [
    "train['tags'].value_counts(normalize=True)"
   ]
  },
  {
   "cell_type": "code",
   "execution_count": 17,
   "id": "ea56dbc0-7168-405a-9ecd-a43b62b466cd",
   "metadata": {},
   "outputs": [],
   "source": [
    "from sklearn.model_selection import train_test_split"
   ]
  },
  {
   "cell_type": "code",
   "execution_count": 19,
   "id": "29172c1f-b60c-4e24-9ec0-438c34679425",
   "metadata": {},
   "outputs": [],
   "source": [
    "### Create a new dataset where startification on classes is ensured; we will compare the model performace\n",
    "X,y = data['post'].values,data['tags'].values\n",
    "X_train,X_test,y_train,y_test = train_test_split(X,y,test_size=0.20,stratify=y)"
   ]
  },
  {
   "cell_type": "code",
   "execution_count": 23,
   "id": "f9cfa2ca-5ad9-4138-b294-9f3b5e0dd834",
   "metadata": {},
   "outputs": [],
   "source": [
    "####### Data Preparation ########\n",
    "### Build 4 tfidf matrices:\n",
    "# X_train (fit_transform())\n",
    "# X_test (transform())\n",
    "# Train (fit_transform)\n",
    "# Test (transform)\n",
    "from sklearn.feature_extraction import text"
   ]
  },
  {
   "cell_type": "code",
   "execution_count": 26,
   "id": "e06bbb35-1bfe-403b-9a71-53015e491571",
   "metadata": {},
   "outputs": [
    {
     "data": {
      "text/plain": [
       "(32000, 4000)"
      ]
     },
     "execution_count": 26,
     "metadata": {},
     "output_type": "execute_result"
    }
   ],
   "source": [
    "tfidf_df = text.TfidfVectorizer(input = train['post'].tolist(),stop_words='english',max_features=4000)\n",
    "matrix_train_df = tfidf_df.fit_transform(train['post'].tolist())\n",
    "matrix_train_df.shape"
   ]
  },
  {
   "cell_type": "code",
   "execution_count": 27,
   "id": "48c0bc99-2372-40f2-a85f-7d57bbb25300",
   "metadata": {},
   "outputs": [],
   "source": [
    "matrix_test_df = tfidf_df.transform(test['post'].tolist())"
   ]
  },
  {
   "cell_type": "code",
   "execution_count": 28,
   "id": "16fee01f-6b25-4aac-a77e-521a3b135f58",
   "metadata": {},
   "outputs": [
    {
     "data": {
      "text/plain": [
       "(8000, 4000)"
      ]
     },
     "execution_count": 28,
     "metadata": {},
     "output_type": "execute_result"
    }
   ],
   "source": [
    "matrix_test_df.shape"
   ]
  },
  {
   "cell_type": "code",
   "execution_count": 29,
   "id": "2a87a08b-9fb8-4b8b-85fa-21bcf91c9137",
   "metadata": {},
   "outputs": [],
   "source": [
    "tfidf_np = text.TfidfVectorizer(input = X_train.tolist(),stop_words='english',max_features=4000)\n",
    "matrix_train_np = tfidf_np.fit_transform(X_train.tolist())\n",
    "matrix_test_np = tfidf_np.transform(X_test.tolist())"
   ]
  },
  {
   "cell_type": "code",
   "execution_count": 31,
   "id": "dc117098-05c1-4428-9ce9-da1815f87abf",
   "metadata": {},
   "outputs": [],
   "source": [
    "from sklearn.preprocessing import LabelEncoder"
   ]
  },
  {
   "cell_type": "code",
   "execution_count": 33,
   "id": "b2c330ba-9e1e-44d5-9438-68a31f2ea5bd",
   "metadata": {},
   "outputs": [],
   "source": [
    "enc_df = LabelEncoder()\n",
    "y_train_df = enc_df.fit_transform(train['tags'])\n",
    "y_test_df = enc_df.transform(test['tags'])"
   ]
  },
  {
   "cell_type": "code",
   "execution_count": 34,
   "id": "ec075ce6-9040-4dd2-a6fc-9242be200b28",
   "metadata": {},
   "outputs": [],
   "source": [
    "enc_np = LabelEncoder()\n",
    "y_train_np = enc_np.fit_transform(y_train)\n",
    "y_test_np = enc_np.transform(y_test)"
   ]
  },
  {
   "cell_type": "code",
   "execution_count": 35,
   "id": "19f34bd4-3744-4ca5-8c8e-ac581800b9ae",
   "metadata": {},
   "outputs": [
    {
     "data": {
      "text/plain": [
       "20"
      ]
     },
     "execution_count": 35,
     "metadata": {},
     "output_type": "execute_result"
    }
   ],
   "source": [
    "len(train['tags'].unique())"
   ]
  },
  {
   "cell_type": "code",
   "execution_count": 36,
   "id": "2ac36972-cc91-42e4-aea8-72d0c3aa1911",
   "metadata": {},
   "outputs": [
    {
     "data": {
      "text/plain": [
       "(8000, 4000)"
      ]
     },
     "execution_count": 36,
     "metadata": {},
     "output_type": "execute_result"
    }
   ],
   "source": [
    "matrix_test_np.shape"
   ]
  },
  {
   "cell_type": "code",
   "execution_count": 37,
   "id": "725ce778-7de2-432d-9bb3-a64cb8085354",
   "metadata": {},
   "outputs": [
    {
     "data": {
      "text/plain": [
       "(32000, 4000)"
      ]
     },
     "execution_count": 37,
     "metadata": {},
     "output_type": "execute_result"
    }
   ],
   "source": [
    "matrix_train_df.shape"
   ]
  },
  {
   "cell_type": "code",
   "execution_count": 39,
   "id": "556f859e-beb7-4c11-91cf-bf2d7ddc30d4",
   "metadata": {},
   "outputs": [],
   "source": [
    "##### Neural Network Model #####"
   ]
  },
  {
   "cell_type": "code",
   "execution_count": 38,
   "id": "1a63d58f-f513-437e-88a7-04a139897006",
   "metadata": {},
   "outputs": [],
   "source": [
    "import tensorflow as tf"
   ]
  },
  {
   "cell_type": "code",
   "execution_count": 41,
   "id": "418e9cd7-9e75-44ea-82c1-8c0a59366434",
   "metadata": {},
   "outputs": [],
   "source": [
    "## Model 1\n",
    "inputs =tf.keras.Input(shape=(4000,))  ##4000 columns in X\n",
    "h1 = tf.keras.layers.Dense(units=128,activation='relu')(inputs)   ## 128 neurons in hidden layer with 784 inputs to each of the neurons\n",
    "h2 = tf.keras.layers.Dense(units=64,activation='relu')(h1)\n",
    "h3 = tf.keras.layers.Dense(units=32,activation='relu')(h2)\n",
    "probs = tf.keras.layers.Dense(units=20,activation='softmax')(h3)  ##20 output neurons for predicted probability of 20 classes\n",
    "model1 = tf.keras.Model(inputs,probs)"
   ]
  },
  {
   "cell_type": "code",
   "execution_count": 42,
   "id": "d545a4a5-8051-497a-b6c8-29a4681effd9",
   "metadata": {},
   "outputs": [],
   "source": [
    "## Model 2\n",
    "inputs =tf.keras.Input(shape=(4000,))  ##4000 columns in X\n",
    "h1 = tf.keras.layers.Dense(units=128,activation='relu')(inputs)   ## 128 neurons in hidden layer with 784 inputs to each of the neurons\n",
    "h2 = tf.keras.layers.Dense(units=64,activation='relu')(h1)\n",
    "h3 = tf.keras.layers.Dense(units=32,activation='relu')(h2)\n",
    "probs = tf.keras.layers.Dense(units=20,activation='softmax')(h3)  ##20 output neurons for predicted probability of 20 classes\n",
    "model2 = tf.keras.Model(inputs,probs)"
   ]
  },
  {
   "cell_type": "code",
   "execution_count": 43,
   "id": "a5d9074d-cf4f-473d-b104-543468ff1aad",
   "metadata": {},
   "outputs": [],
   "source": [
    "## Compile Models\n",
    "model1.compile(loss = 'sparse_categorical_crossentropy',metrics = ['acc'])\n",
    "model2.compile(loss = 'sparse_categorical_crossentropy',metrics = ['acc'])"
   ]
  },
  {
   "cell_type": "code",
   "execution_count": 45,
   "id": "b2d1915e-8a08-43e7-b3e1-3a6abddc91af",
   "metadata": {},
   "outputs": [
    {
     "name": "stderr",
     "output_type": "stream",
     "text": [
      "2022-01-18 11:21:04.038821: W tensorflow/core/platform/profile_utils/cpu_utils.cc:128] Failed to get CPU frequency: 0 Hz\n",
      "2022-01-18 11:21:04.220770: I tensorflow/core/grappler/optimizers/custom_graph_optimizer_registry.cc:112] Plugin optimizer for device_type GPU is enabled.\n"
     ]
    },
    {
     "name": "stdout",
     "output_type": "stream",
     "text": [
      "Epoch 1/10\n",
      "892/900 [============================>.] - ETA: 0s - loss: 1.1808 - acc: 0.6671"
     ]
    },
    {
     "name": "stderr",
     "output_type": "stream",
     "text": [
      "2022-01-18 11:21:09.376608: I tensorflow/core/grappler/optimizers/custom_graph_optimizer_registry.cc:112] Plugin optimizer for device_type GPU is enabled.\n"
     ]
    },
    {
     "name": "stdout",
     "output_type": "stream",
     "text": [
      "900/900 [==============================] - 6s 6ms/step - loss: 1.1763 - acc: 0.6680 - val_loss: 0.6752 - val_acc: 0.7816\n",
      "Epoch 2/10\n",
      "900/900 [==============================] - 5s 5ms/step - loss: 0.5790 - acc: 0.8169 - val_loss: 0.6180 - val_acc: 0.8025\n",
      "Epoch 3/10\n",
      "900/900 [==============================] - 5s 5ms/step - loss: 0.4939 - acc: 0.8441 - val_loss: 0.6465 - val_acc: 0.7959\n",
      "Epoch 4/10\n",
      "900/900 [==============================] - 5s 6ms/step - loss: 0.4397 - acc: 0.8617 - val_loss: 0.6329 - val_acc: 0.8012\n",
      "Epoch 5/10\n",
      "900/900 [==============================] - 5s 6ms/step - loss: 0.3954 - acc: 0.8764 - val_loss: 0.6716 - val_acc: 0.8012\n",
      "Epoch 6/10\n",
      "900/900 [==============================] - 5s 5ms/step - loss: 0.3571 - acc: 0.8880 - val_loss: 0.6809 - val_acc: 0.8031\n",
      "Epoch 7/10\n",
      "900/900 [==============================] - 5s 5ms/step - loss: 0.3244 - acc: 0.8994 - val_loss: 0.7234 - val_acc: 0.7972\n",
      "Epoch 8/10\n",
      "900/900 [==============================] - 5s 6ms/step - loss: 0.2926 - acc: 0.9095 - val_loss: 0.7353 - val_acc: 0.8044\n",
      "Epoch 9/10\n",
      "900/900 [==============================] - 5s 6ms/step - loss: 0.2634 - acc: 0.9186 - val_loss: 0.7650 - val_acc: 0.8016\n",
      "Epoch 10/10\n",
      "900/900 [==============================] - 5s 6ms/step - loss: 0.2357 - acc: 0.9273 - val_loss: 0.8008 - val_acc: 0.8050\n"
     ]
    },
    {
     "data": {
      "text/plain": [
       "<keras.callbacks.History at 0x2870dc3a0>"
      ]
     },
     "execution_count": 45,
     "metadata": {},
     "output_type": "execute_result"
    }
   ],
   "source": [
    "### Fit model 1 on df data (Non Stratified Data)\n",
    "model1.fit(matrix_train_df.toarray(),y_train_df,epochs=10,batch_size=32,validation_split=0.10)"
   ]
  },
  {
   "cell_type": "code",
   "execution_count": 46,
   "id": "968c64e8-8982-4ed1-8135-27e14e1b1cc4",
   "metadata": {},
   "outputs": [
    {
     "name": "stdout",
     "output_type": "stream",
     "text": [
      "Epoch 1/10\n",
      "  8/900 [..............................] - ETA: 6s - loss: 2.9910 - acc: 0.0781  "
     ]
    },
    {
     "name": "stderr",
     "output_type": "stream",
     "text": [
      "2022-01-18 11:22:03.725371: I tensorflow/core/grappler/optimizers/custom_graph_optimizer_registry.cc:112] Plugin optimizer for device_type GPU is enabled.\n"
     ]
    },
    {
     "name": "stdout",
     "output_type": "stream",
     "text": [
      "896/900 [============================>.] - ETA: 0s - loss: 1.1707 - acc: 0.6673"
     ]
    },
    {
     "name": "stderr",
     "output_type": "stream",
     "text": [
      "2022-01-18 11:22:08.832912: I tensorflow/core/grappler/optimizers/custom_graph_optimizer_registry.cc:112] Plugin optimizer for device_type GPU is enabled.\n"
     ]
    },
    {
     "name": "stdout",
     "output_type": "stream",
     "text": [
      "900/900 [==============================] - 6s 6ms/step - loss: 1.1682 - acc: 0.6680 - val_loss: 0.7034 - val_acc: 0.7731\n",
      "Epoch 2/10\n",
      "900/900 [==============================] - 5s 6ms/step - loss: 0.5762 - acc: 0.8204 - val_loss: 0.6665 - val_acc: 0.7884\n",
      "Epoch 3/10\n",
      "900/900 [==============================] - 5s 6ms/step - loss: 0.4932 - acc: 0.8450 - val_loss: 0.6813 - val_acc: 0.7862\n",
      "Epoch 4/10\n",
      "900/900 [==============================] - 5s 6ms/step - loss: 0.4410 - acc: 0.8633 - val_loss: 0.6918 - val_acc: 0.7891\n",
      "Epoch 5/10\n",
      "900/900 [==============================] - 5s 5ms/step - loss: 0.4004 - acc: 0.8743 - val_loss: 0.7204 - val_acc: 0.7878\n",
      "Epoch 6/10\n",
      "900/900 [==============================] - 5s 5ms/step - loss: 0.3638 - acc: 0.8864 - val_loss: 0.7393 - val_acc: 0.7847\n",
      "Epoch 7/10\n",
      "900/900 [==============================] - 5s 5ms/step - loss: 0.3318 - acc: 0.8978 - val_loss: 0.7439 - val_acc: 0.7887\n",
      "Epoch 8/10\n",
      "900/900 [==============================] - 5s 5ms/step - loss: 0.3002 - acc: 0.9057 - val_loss: 0.8011 - val_acc: 0.7853\n",
      "Epoch 9/10\n",
      "900/900 [==============================] - 5s 6ms/step - loss: 0.2713 - acc: 0.9181 - val_loss: 0.8379 - val_acc: 0.7791\n",
      "Epoch 10/10\n",
      "900/900 [==============================] - 5s 6ms/step - loss: 0.2423 - acc: 0.9263 - val_loss: 0.8865 - val_acc: 0.7781\n"
     ]
    },
    {
     "data": {
      "text/plain": [
       "<keras.callbacks.History at 0x28702b040>"
      ]
     },
     "execution_count": 46,
     "metadata": {},
     "output_type": "execute_result"
    }
   ],
   "source": [
    "### Fit model 2 on df data (Stratified Data)\n",
    "model2.fit(matrix_train_np.toarray(),y_train_np,epochs=10,batch_size=32,validation_split=0.10)"
   ]
  },
  {
   "cell_type": "code",
   "execution_count": 50,
   "id": "04d091ef-74d1-463c-a279-c0a3f72463d0",
   "metadata": {},
   "outputs": [],
   "source": [
    "### Accuracy check on test set ###\n",
    "pred_non_stratified = model1.predict(matrix_test_df.toarray()).argmax(axis=1)"
   ]
  },
  {
   "cell_type": "code",
   "execution_count": 51,
   "id": "95010f79-e272-4a61-96cf-c15b63719eb2",
   "metadata": {},
   "outputs": [
    {
     "name": "stderr",
     "output_type": "stream",
     "text": [
      "2022-01-18 11:29:25.170530: I tensorflow/core/grappler/optimizers/custom_graph_optimizer_registry.cc:112] Plugin optimizer for device_type GPU is enabled.\n"
     ]
    }
   ],
   "source": [
    "pred_stratified = model2.predict(matrix_test_np.toarray()).argmax(axis=1)"
   ]
  },
  {
   "cell_type": "code",
   "execution_count": 53,
   "id": "b4c67639-f6eb-4a7e-9e79-da68ef58b7c2",
   "metadata": {},
   "outputs": [
    {
     "data": {
      "text/plain": [
       "0.78575"
      ]
     },
     "execution_count": 53,
     "metadata": {},
     "output_type": "execute_result"
    }
   ],
   "source": [
    "(pred_non_stratified == y_test_df).mean()"
   ]
  },
  {
   "cell_type": "code",
   "execution_count": 59,
   "id": "ce6d678c-a6b3-49d2-a21f-a449bb5dcbd1",
   "metadata": {},
   "outputs": [
    {
     "data": {
      "text/plain": [
       "0.795"
      ]
     },
     "execution_count": 59,
     "metadata": {},
     "output_type": "execute_result"
    }
   ],
   "source": [
    "(y_test_np == pred_stratified).mean()"
   ]
  },
  {
   "cell_type": "code",
   "execution_count": 81,
   "id": "52dcd367-2afd-41ab-b718-0689ea2bf12d",
   "metadata": {},
   "outputs": [],
   "source": [
    "#### Use our model on real text ###\n",
    "q1 = '''I am trying to run Django inside WordPress like WordPress at main url www.wptesting.com and Django at suburl www.wptesting.com/django . Django main root url Is working fine at www.wptesting.com/django but its suburl e.g., admin is not working as it should be www.wptesting.com/django/admin . However, whenever I tried to request admin url it goes converts into www.wptesting.comhttp%3a//wptesting.com/django/admin\n",
    "\n",
    "I am running WordPress and Django with Apache and mod_wsgi , my conf file for apache is as follows :\n",
    "\n",
    "<VirtualHost *:80>\n",
    "\n",
    "WSGIScriptAlias /django /path_to_project/wsgi.py\n",
    "\n",
    "ServerName wptesting.com\n",
    "ServerAlias www.wptesting.com\n",
    "\n",
    "DocumentRoot /var/www/html/wordpress\n",
    "\n",
    "<Directory /var/www/html/wordpress/>\n",
    "AllowOverride All\n",
    "Order allow,deny\n",
    "\n",
    "allow from all\n",
    "#            Options Indexes FollowSymLinks\n",
    "#            Require all granted\n",
    "</Directory>\n",
    "\n",
    "\n",
    "<Directory /path_to_project/>\n",
    "            Options Indexes FollowSymLinks\n",
    "            Require all granted\n",
    "</Directory>\n",
    "\n",
    "\n",
    "</VirtualHost>\n",
    "I have asked one question earlier about configuring Django from subdirectory of WordPress with Apache and wsgi -> you can see the question here\n",
    "\n",
    "Also If I tried to access any url which is not in Django project then it is giving the standard 404 not found error but when I try to access any valid url like admin it is giving the error mention above.\n",
    "\n",
    "Edited : My Urls.py file :\n",
    "\n",
    "from django.conf.urls import patterns, include, url\n",
    "from django.contrib import admin\n",
    "from django.views.generic import TemplateView\n",
    "\n",
    "urlpatterns = patterns('',\n",
    "    # Examples:\n",
    "    # url(r'^$', 'dev_redis.views.home', name='home'),\n",
    "    # url(r'^blog/', include('blog.urls')),\n",
    "\n",
    "    url(r'^$',TemplateView.as_view(template_name='index.html')),\n",
    "    url(r'^admin/', include(admin.site.urls)),\n",
    "\n",
    "    url(r'^cache/', 'redis_app.views.redisTest'),\n",
    "\n",
    ")'''"
   ]
  },
  {
   "cell_type": "code",
   "execution_count": 82,
   "id": "c41d58bf-92f8-40ea-af7b-baba483de7eb",
   "metadata": {},
   "outputs": [],
   "source": [
    "## Vectorize the text\n",
    "vec1 = tfidf_df.transform([q1])\n",
    "vec2 = tfidf_np.transform([q1])"
   ]
  },
  {
   "cell_type": "code",
   "execution_count": 96,
   "id": "96cf0643-d92a-41e7-8249-fff025b2bfd8",
   "metadata": {},
   "outputs": [
    {
     "data": {
      "text/plain": [
       "17"
      ]
     },
     "execution_count": 96,
     "metadata": {},
     "output_type": "execute_result"
    }
   ],
   "source": [
    "model1.predict(vec1.toarray()).argmax()"
   ]
  },
  {
   "cell_type": "code",
   "execution_count": 97,
   "id": "58cf27a8-ee32-4819-b59c-d62330ef1aad",
   "metadata": {},
   "outputs": [
    {
     "data": {
      "text/plain": [
       "17"
      ]
     },
     "execution_count": 97,
     "metadata": {},
     "output_type": "execute_result"
    }
   ],
   "source": [
    "model2.predict(vec2.toarray()).argmax()"
   ]
  },
  {
   "cell_type": "code",
   "execution_count": 98,
   "id": "908d13b2-c127-4791-8c80-751944b277d1",
   "metadata": {},
   "outputs": [
    {
     "data": {
      "text/plain": [
       "array(['python'], dtype=object)"
      ]
     },
     "execution_count": 98,
     "metadata": {},
     "output_type": "execute_result"
    }
   ],
   "source": [
    "enc_df.inverse_transform([17])"
   ]
  },
  {
   "cell_type": "code",
   "execution_count": 99,
   "id": "e4cbb5d8-6836-41dc-8874-6c69172e7c15",
   "metadata": {},
   "outputs": [
    {
     "data": {
      "text/plain": [
       "array(['python'], dtype=object)"
      ]
     },
     "execution_count": 99,
     "metadata": {},
     "output_type": "execute_result"
    }
   ],
   "source": [
    "enc_np.inverse_transform([17])"
   ]
  },
  {
   "cell_type": "code",
   "execution_count": 100,
   "id": "9063bbcb-5a54-4fe4-9c4b-aa4eaec3e0a2",
   "metadata": {},
   "outputs": [
    {
     "data": {
      "text/html": [
       "<div>\n",
       "<style scoped>\n",
       "    .dataframe tbody tr th:only-of-type {\n",
       "        vertical-align: middle;\n",
       "    }\n",
       "\n",
       "    .dataframe tbody tr th {\n",
       "        vertical-align: top;\n",
       "    }\n",
       "\n",
       "    .dataframe thead th {\n",
       "        text-align: right;\n",
       "    }\n",
       "</style>\n",
       "<table border=\"1\" class=\"dataframe\">\n",
       "  <thead>\n",
       "    <tr style=\"text-align: right;\">\n",
       "      <th></th>\n",
       "      <th>product_id</th>\n",
       "      <th>product_name</th>\n",
       "      <th>aisle_id</th>\n",
       "      <th>department_id</th>\n",
       "    </tr>\n",
       "  </thead>\n",
       "  <tbody>\n",
       "    <tr>\n",
       "      <th>0</th>\n",
       "      <td>1</td>\n",
       "      <td>Chocolate Sandwich Cookies</td>\n",
       "      <td>61</td>\n",
       "      <td>19</td>\n",
       "    </tr>\n",
       "    <tr>\n",
       "      <th>1</th>\n",
       "      <td>2</td>\n",
       "      <td>All-Seasons Salt</td>\n",
       "      <td>104</td>\n",
       "      <td>13</td>\n",
       "    </tr>\n",
       "    <tr>\n",
       "      <th>2</th>\n",
       "      <td>3</td>\n",
       "      <td>Robust Golden Unsweetened Oolong Tea</td>\n",
       "      <td>94</td>\n",
       "      <td>7</td>\n",
       "    </tr>\n",
       "    <tr>\n",
       "      <th>3</th>\n",
       "      <td>4</td>\n",
       "      <td>Smart Ones Classic Favorites Mini Rigatoni Wit...</td>\n",
       "      <td>38</td>\n",
       "      <td>1</td>\n",
       "    </tr>\n",
       "    <tr>\n",
       "      <th>4</th>\n",
       "      <td>5</td>\n",
       "      <td>Green Chile Anytime Sauce</td>\n",
       "      <td>5</td>\n",
       "      <td>13</td>\n",
       "    </tr>\n",
       "  </tbody>\n",
       "</table>\n",
       "</div>"
      ],
      "text/plain": [
       "   product_id                                       product_name  aisle_id  \\\n",
       "0           1                         Chocolate Sandwich Cookies        61   \n",
       "1           2                                   All-Seasons Salt       104   \n",
       "2           3               Robust Golden Unsweetened Oolong Tea        94   \n",
       "3           4  Smart Ones Classic Favorites Mini Rigatoni Wit...        38   \n",
       "4           5                          Green Chile Anytime Sauce         5   \n",
       "\n",
       "   department_id  \n",
       "0             19  \n",
       "1             13  \n",
       "2              7  \n",
       "3              1  \n",
       "4             13  "
      ]
     },
     "execution_count": 100,
     "metadata": {},
     "output_type": "execute_result"
    }
   ],
   "source": [
    "path = '/Users/gunnvantsaini/Documents/Work/Jigsaw Academy/Course Review/Textmining_casestudy/products.csv'\n",
    "data=pd.read_csv(path)\n",
    "data.head()"
   ]
  },
  {
   "cell_type": "code",
   "execution_count": 110,
   "id": "ccdd1ab0-f01f-468e-af7f-d7fbafe950c9",
   "metadata": {},
   "outputs": [],
   "source": [
    "### find out top 5 most similar products to each product given in the data\n",
    "tfidf = text.TfidfVectorizer(input = data['product_name'].tolist(),stop_words='english')\n",
    "matrix = tfidf.fit_transform(data['product_name'].tolist())"
   ]
  },
  {
   "cell_type": "code",
   "execution_count": 111,
   "id": "50d6647d-bf44-4b7e-96e6-6e343c589d2d",
   "metadata": {},
   "outputs": [],
   "source": [
    "from sklearn.metrics.pairwise import cosine_similarity"
   ]
  },
  {
   "cell_type": "code",
   "execution_count": 112,
   "id": "6f531388-bf48-4118-8686-5722c9101991",
   "metadata": {},
   "outputs": [],
   "source": [
    "sim = cosine_similarity(matrix,dense_output=False)"
   ]
  },
  {
   "cell_type": "code",
   "execution_count": 114,
   "id": "56277adb-3ad8-483c-b71c-fe2e44c90fae",
   "metadata": {},
   "outputs": [
    {
     "data": {
      "text/plain": [
       "<49688x49688 sparse matrix of type '<class 'numpy.float64'>'\n",
       "\twith 95510928 stored elements in Compressed Sparse Row format>"
      ]
     },
     "execution_count": 114,
     "metadata": {},
     "output_type": "execute_result"
    }
   ],
   "source": [
    "sim"
   ]
  },
  {
   "cell_type": "code",
   "execution_count": 129,
   "id": "2e044bbd-6e93-450c-895e-cd2625bd56f8",
   "metadata": {},
   "outputs": [
    {
     "name": "stderr",
     "output_type": "stream",
     "text": [
      "100%|█████████████████████████████████| 49688/49688 [00:42<00:00, 1166.74it/s]\n"
     ]
    }
   ],
   "source": [
    "from tqdm import tqdm\n",
    "sim_products = []\n",
    "for row in tqdm(sim,total=sim.shape[0]):\n",
    "    idx = row.toarray()[0].argsort()[-6:-1]\n",
    "    prods = data.iloc[idx]['product_name'].tolist()\n",
    "    prods = \",\".join(prods)\n",
    "    sim_products.append(prods)"
   ]
  },
  {
   "cell_type": "code",
   "execution_count": 130,
   "id": "a5c7c53a-5524-40fd-bb2b-8ccb242aedd4",
   "metadata": {},
   "outputs": [],
   "source": [
    "data['sim_products']=sim_products"
   ]
  },
  {
   "cell_type": "code",
   "execution_count": 132,
   "id": "8f6a3df5-25da-4431-b7a9-997fc0b25d24",
   "metadata": {},
   "outputs": [
    {
     "data": {
      "text/html": [
       "<div>\n",
       "<style scoped>\n",
       "    .dataframe tbody tr th:only-of-type {\n",
       "        vertical-align: middle;\n",
       "    }\n",
       "\n",
       "    .dataframe tbody tr th {\n",
       "        vertical-align: top;\n",
       "    }\n",
       "\n",
       "    .dataframe thead th {\n",
       "        text-align: right;\n",
       "    }\n",
       "</style>\n",
       "<table border=\"1\" class=\"dataframe\">\n",
       "  <thead>\n",
       "    <tr style=\"text-align: right;\">\n",
       "      <th></th>\n",
       "      <th>product_id</th>\n",
       "      <th>product_name</th>\n",
       "      <th>aisle_id</th>\n",
       "      <th>department_id</th>\n",
       "      <th>sim_products</th>\n",
       "    </tr>\n",
       "  </thead>\n",
       "  <tbody>\n",
       "    <tr>\n",
       "      <th>0</th>\n",
       "      <td>1</td>\n",
       "      <td>Chocolate Sandwich Cookies</td>\n",
       "      <td>61</td>\n",
       "      <td>19</td>\n",
       "      <td>Chocolate Mint Creme Sandwich Cookies,Reduced ...</td>\n",
       "    </tr>\n",
       "    <tr>\n",
       "      <th>1</th>\n",
       "      <td>2</td>\n",
       "      <td>All-Seasons Salt</td>\n",
       "      <td>104</td>\n",
       "      <td>13</td>\n",
       "      <td>Salt,Salsa For All Seasons Medium Chipotle Sal...</td>\n",
       "    </tr>\n",
       "    <tr>\n",
       "      <th>2</th>\n",
       "      <td>3</td>\n",
       "      <td>Robust Golden Unsweetened Oolong Tea</td>\n",
       "      <td>94</td>\n",
       "      <td>7</td>\n",
       "      <td>Oolong Tea Classic,Organic Oolong Tea,Unsweete...</td>\n",
       "    </tr>\n",
       "    <tr>\n",
       "      <th>3</th>\n",
       "      <td>4</td>\n",
       "      <td>Smart Ones Classic Favorites Mini Rigatoni Wit...</td>\n",
       "      <td>38</td>\n",
       "      <td>1</td>\n",
       "      <td>Smart Ones Spaghetti with Meat Sauce,Smart One...</td>\n",
       "    </tr>\n",
       "    <tr>\n",
       "      <th>4</th>\n",
       "      <td>5</td>\n",
       "      <td>Green Chile Anytime Sauce</td>\n",
       "      <td>5</td>\n",
       "      <td>13</td>\n",
       "      <td>Mild Enchilada Green Chile Sauce,Mild Green Ch...</td>\n",
       "    </tr>\n",
       "  </tbody>\n",
       "</table>\n",
       "</div>"
      ],
      "text/plain": [
       "   product_id                                       product_name  aisle_id  \\\n",
       "0           1                         Chocolate Sandwich Cookies        61   \n",
       "1           2                                   All-Seasons Salt       104   \n",
       "2           3               Robust Golden Unsweetened Oolong Tea        94   \n",
       "3           4  Smart Ones Classic Favorites Mini Rigatoni Wit...        38   \n",
       "4           5                          Green Chile Anytime Sauce         5   \n",
       "\n",
       "   department_id                                       sim_products  \n",
       "0             19  Chocolate Mint Creme Sandwich Cookies,Reduced ...  \n",
       "1             13  Salt,Salsa For All Seasons Medium Chipotle Sal...  \n",
       "2              7  Oolong Tea Classic,Organic Oolong Tea,Unsweete...  \n",
       "3              1  Smart Ones Spaghetti with Meat Sauce,Smart One...  \n",
       "4             13  Mild Enchilada Green Chile Sauce,Mild Green Ch...  "
      ]
     },
     "execution_count": 132,
     "metadata": {},
     "output_type": "execute_result"
    }
   ],
   "source": [
    "data.head(5)"
   ]
  },
  {
   "cell_type": "markdown",
   "id": "27700466-67ac-4268-bc7f-cac185a5ea8f",
   "metadata": {},
   "source": [
    "### NER"
   ]
  },
  {
   "cell_type": "code",
   "execution_count": 1,
   "id": "01df6c33-2c2a-4c47-a324-5c2dced12d9a",
   "metadata": {},
   "outputs": [],
   "source": [
    "import spacy"
   ]
  },
  {
   "cell_type": "code",
   "execution_count": 2,
   "id": "2e17c9ca-2657-44d0-8b7e-f8ce613ab4c7",
   "metadata": {},
   "outputs": [],
   "source": [
    "nlp=spacy.load(\"en_core_web_sm\") ### loaded the model"
   ]
  },
  {
   "cell_type": "code",
   "execution_count": 3,
   "id": "7513abd9-98ec-4390-a00f-471d47ccfed4",
   "metadata": {},
   "outputs": [],
   "source": [
    "text = \"Joe Biden visited China.\""
   ]
  },
  {
   "cell_type": "code",
   "execution_count": 4,
   "id": "a68aa4b5-814c-4a36-9054-68fa1b1e0202",
   "metadata": {},
   "outputs": [],
   "source": [
    "doc=nlp(text) ## obtained predictions from your model"
   ]
  },
  {
   "cell_type": "code",
   "execution_count": 6,
   "id": "5d1fd467-34bc-44ae-8d5e-aa7b8f86d735",
   "metadata": {},
   "outputs": [
    {
     "name": "stdout",
     "output_type": "stream",
     "text": [
      "Joe Biden PERSON\n",
      "China GPE\n"
     ]
    }
   ],
   "source": [
    "for ent in doc.ents:\n",
    "    print(ent.text,ent.label_)"
   ]
  },
  {
   "cell_type": "code",
   "execution_count": 7,
   "id": "6cb0fcef-18d8-43ff-a863-a9865a2966f4",
   "metadata": {},
   "outputs": [
    {
     "name": "stdout",
     "output_type": "stream",
     "text": [
      "Karen,\n",
      "\n",
      "Thank you for the update.  It looks like we'll plan on having the EBS/Avaya \n",
      "meetings on January 10th and 11th, 2001.  The first day will be a full day, \n",
      "the second will be 1/2 day, a.m. session.  You have asked me to provide a \n",
      "list of Enron attendees, titles, which day(s) they would likely attend, and \n",
      "some background information on the meeting(s) purposes.  An explanation of \n",
      "the meetings' proposed focus and probable attendees is in the attached \n",
      "meeting notes.  \n",
      "\n",
      "The notes are from the November meeting which we coordinated and held for \n",
      "Enron Broadband Services and Dave Johnson.  By copy of this note to Kim \n",
      "Godfrey, we'll update the EBS executives on the meetings, and work on \n",
      "arranging their calendar availability.  So far, we have had the EBS execs' \n",
      "calendars penciled in for the time slot of January 9-11.  At this point, I \n",
      "would expect that the EBS attendee list would look something like this:  \n",
      "\n",
      "Jim Crowder, VP, Enterprise Services; Enron Broadband Services - day 2 \n",
      "Everett Plante, VP and CIO, Enron Broadband Services - day 2\n",
      "Larry Ciscon, VP Software Architecture, EBS - day 1&2\n",
      "  (selected team members of Larry's organization - individuals TBD by Larry) \n",
      "- day 1  \n",
      "Steve Pearlman, VP, Strategic Development, EBS - day 2 and/or day 1\n",
      "Kim Godfrey, Director, East Origination, EBS - day 1&2  \n",
      "Jeff Youngflesh, Director, Business Development, Enron Global Strategic \n",
      "Sourcing - day 1&2  \n",
      "    (others as suggested by Kim Godfrey or other EBS executive)\n",
      "\n",
      "From Avaya, the EBS team would like to meet with Dave Johnson, Serge \n",
      "Minassian, John Stephenson, and their selected Avaya team members.  \n",
      "\n",
      "Per my conversation with you earlier today, the Enron Broadband Services \n",
      "meetings w/Avaya will need to be scheduled such that the overall agenda will \n",
      "\"flip-flop\" day 1 with day 2.  Originally, the first day was going to be a \n",
      "half-day executive strategizing meeting in the p.m. (allowing for travel to \n",
      "NJ), and the 2nd day to be more a product- or solutions-focused effort, with \n",
      "a full day's agenda.  Based on the fact that Dave Johnson will only be \n",
      "available the morning of the 11th, the meeting schedule will be reversed, \n",
      "such that the \"full day/products/solutions\" meetings will precede the \n",
      "half-day executive strategy sessions.  I have checked w/Barbara Korp, and \n",
      "Serge Minassian and John Stephenson are both available on the 11th, as well \n",
      "(John Stephenson would have a hard stop at 10:30).\n",
      "\n",
      "\n",
      "Thank you,\n",
      "\n",
      "Jeff Youngflesh\n",
      "713-345-5968\n",
      "\n",
      "\n",
      "\n",
      "\n",
      "----- Forwarded by Jeff Youngflesh/NA/Enron on 12/11/2000 01:29 PM -----\n",
      "\n",
      "\t\"Oswald, Karen R (Karen)\" <kroswald@avaya.com>\n",
      "\t12/11/2000 11:32 AM\n",
      "\t\t \n",
      "\t\t To: jeff.youngflesh@enron.com\n",
      "\t\t cc: \n",
      "\t\t Subject: Preliminary dates\n",
      "\n",
      "Jeff,\n",
      "\n",
      "So far these are the dates that associates in New Jersey are available -\n",
      "January 10 (full day) and January 11 (half day).\n",
      "\n",
      "Dave Johnson is only available on Thursday, January 11 in the morning.\n",
      "\n",
      "Please send the agenda and the list of participants so that I can forward\n",
      "that to Dave's office.\n",
      "\n",
      "Thank you,\n",
      "\n",
      "Karen Oswald\n",
      "\n"
     ]
    }
   ],
   "source": [
    "with open(\"../codes/data/data/4625.txt\",'r') as r:\n",
    "    text = r.read()\n",
    "print(text)\n",
    "### remove the name of the preson with a string 'masked'"
   ]
  },
  {
   "cell_type": "code",
   "execution_count": 13,
   "id": "bf45e438-ae56-42ca-901a-6148a4b0bdee",
   "metadata": {},
   "outputs": [],
   "source": [
    "doc = nlp(text)"
   ]
  },
  {
   "cell_type": "code",
   "execution_count": 14,
   "id": "2814a8f8-598a-44ed-8a8b-290f4844eedf",
   "metadata": {},
   "outputs": [],
   "source": [
    "mentions = []\n",
    "for ent in doc.ents:\n",
    "    if ent.label_==\"PERSON\":\n",
    "        if ent.text not in mentions:\n",
    "            mentions.append(ent.text)"
   ]
  },
  {
   "cell_type": "code",
   "execution_count": 15,
   "id": "831c4c99-fd30-4dd5-b9ec-6d6fd3fa800e",
   "metadata": {},
   "outputs": [
    {
     "data": {
      "text/plain": [
       "['Karen',\n",
       " 'Dave Johnson',\n",
       " 'Kim \\nGodfrey',\n",
       " 'Jim Crowder',\n",
       " 'Everett Plante',\n",
       " 'Larry Ciscon',\n",
       " 'Larry',\n",
       " 'Steve Pearlman',\n",
       " 'Kim Godfrey',\n",
       " 'Jeff Youngflesh',\n",
       " 'Serge \\nMinassian',\n",
       " 'John Stephenson',\n",
       " 'Barbara Korp',\n",
       " 'Serge Minassian',\n",
       " 'Oswald',\n",
       " 'Jeff',\n",
       " 'Dave',\n",
       " 'Karen Oswald']"
      ]
     },
     "execution_count": 15,
     "metadata": {},
     "output_type": "execute_result"
    }
   ],
   "source": [
    "mentions"
   ]
  },
  {
   "cell_type": "code",
   "execution_count": 16,
   "id": "f48fa1e3-eed6-411e-a7b0-821fe0fd5c15",
   "metadata": {},
   "outputs": [
    {
     "name": "stdout",
     "output_type": "stream",
     "text": [
      "masked,\n",
      "\n",
      "Thank you for the update.  It looks like we'll plan on having the EBS/Avaya \n",
      "meetings on January 10th and 11th, 2001.  The first day will be a full day, \n",
      "the second will be 1/2 day, a.m. session.  You have asked me to provide a \n",
      "list of Enron attendees, titles, which day(s) they would likely attend, and \n",
      "some background information on the meeting(s) purposes.  An explanation of \n",
      "the meetings' proposed focus and probable attendees is in the attached \n",
      "meeting notes.  \n",
      "\n",
      "The notes are from the November meeting which we coordinated and held for \n",
      "Enron Broadband Services and masked.  By copy of this note to masked, we'll update the EBS executives on the meetings, and work on \n",
      "arranging their calendar availability.  So far, we have had the EBS execs' \n",
      "calendars penciled in for the time slot of January 9-11.  At this point, I \n",
      "would expect that the EBS attendee list would look something like this:  \n",
      "\n",
      "masked, VP, Enterprise Services; Enron Broadband Services - day 2 \n",
      "masked, VP and CIO, Enron Broadband Services - day 2\n",
      "masked, VP Software Architecture, EBS - day 1&2\n",
      "  (selected team members of masked's organization - individuals TBD by masked) \n",
      "- day 1  \n",
      "masked, VP, Strategic Development, EBS - day 2 and/or day 1\n",
      "masked, Director, East Origination, EBS - day 1&2  \n",
      "masked, Director, Business Development, Enron Global Strategic \n",
      "Sourcing - day 1&2  \n",
      "    (others as suggested by masked or other EBS executive)\n",
      "\n",
      "From Avaya, the EBS team would like to meet with masked, masked, masked, and their selected Avaya team members.  \n",
      "\n",
      "Per my conversation with you earlier today, the Enron Broadband Services \n",
      "meetings w/Avaya will need to be scheduled such that the overall agenda will \n",
      "\"flip-flop\" day 1 with day 2.  Originally, the first day was going to be a \n",
      "half-day executive strategizing meeting in the p.m. (allowing for travel to \n",
      "NJ), and the 2nd day to be more a product- or solutions-focused effort, with \n",
      "a full day's agenda.  Based on the fact that masked will only be \n",
      "available the morning of the 11th, the meeting schedule will be reversed, \n",
      "such that the \"full day/products/solutions\" meetings will precede the \n",
      "half-day executive strategy sessions.  I have checked w/masked, and \n",
      "masked and masked are both available on the 11th, as well \n",
      "(masked would have a hard stop at 10:30).\n",
      "\n",
      "\n",
      "Thank you,\n",
      "\n",
      "masked\n",
      "713-345-5968\n",
      "\n",
      "\n",
      "\n",
      "\n",
      "----- Forwarded by masked/NA/Enron on 12/11/2000 01:29 PM -----\n",
      "\n",
      "\t\"masked, masked R (masked)\" <kroswald@avaya.com>\n",
      "\t12/11/2000 11:32 AM\n",
      "\t\t \n",
      "\t\t To: jeff.youngflesh@enron.com\n",
      "\t\t cc: \n",
      "\t\t Subject: Preliminary dates\n",
      "\n",
      "masked,\n",
      "\n",
      "So far these are the dates that associates in New Jersey are available -\n",
      "January 10 (full day) and January 11 (half day).\n",
      "\n",
      "masked is only available on Thursday, January 11 in the morning.\n",
      "\n",
      "Please send the agenda and the list of participants so that I can forward\n",
      "that to masked's office.\n",
      "\n",
      "Thank you,\n",
      "\n",
      "masked masked\n",
      "\n"
     ]
    }
   ],
   "source": [
    "for mention in mentions:\n",
    "    text = text.replace(mention,\"masked\")\n",
    "print(text)"
   ]
  },
  {
   "cell_type": "code",
   "execution_count": null,
   "id": "060676a9-1aa1-4366-9d1b-6552ea6168ec",
   "metadata": {},
   "outputs": [],
   "source": []
  }
 ],
 "metadata": {
  "kernelspec": {
   "display_name": "Python 3 (ipykernel)",
   "language": "python",
   "name": "python3"
  },
  "language_info": {
   "codemirror_mode": {
    "name": "ipython",
    "version": 3
   },
   "file_extension": ".py",
   "mimetype": "text/x-python",
   "name": "python",
   "nbconvert_exporter": "python",
   "pygments_lexer": "ipython3",
   "version": "3.9.7"
  }
 },
 "nbformat": 4,
 "nbformat_minor": 5
}
