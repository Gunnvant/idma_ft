{
 "cells": [
  {
   "cell_type": "code",
   "execution_count": 1,
   "id": "400e4806-219d-45a7-b5ed-5c58aaf8edb3",
   "metadata": {},
   "outputs": [],
   "source": [
    "import spacy\n",
    "import pandas as pd\n",
    "import numpy as np"
   ]
  },
  {
   "cell_type": "code",
   "execution_count": 2,
   "id": "8a21f2f2-8ef7-4b6c-bdcf-478f97563452",
   "metadata": {},
   "outputs": [],
   "source": [
    "text = \"The battery life on this phone is really good.\""
   ]
  },
  {
   "cell_type": "code",
   "execution_count": 3,
   "id": "1f994617-ed77-4e20-b881-e0dd984c456f",
   "metadata": {},
   "outputs": [],
   "source": [
    "nlp = spacy.load(\"en_core_web_sm\")"
   ]
  },
  {
   "cell_type": "code",
   "execution_count": 4,
   "id": "a8d365e9-600c-4878-bc4c-68bafed55e94",
   "metadata": {},
   "outputs": [],
   "source": [
    "doc = nlp(text)"
   ]
  },
  {
   "cell_type": "code",
   "execution_count": 5,
   "id": "36d1b76b-899b-4042-971a-881fec184bde",
   "metadata": {},
   "outputs": [
    {
     "name": "stdout",
     "output_type": "stream",
     "text": [
      "Text:The, POS:DET\n",
      "Text:battery, POS:NOUN\n",
      "Text:life, POS:NOUN\n",
      "Text:on, POS:ADP\n",
      "Text:this, POS:DET\n",
      "Text:phone, POS:NOUN\n",
      "Text:is, POS:AUX\n",
      "Text:really, POS:ADV\n",
      "Text:good, POS:ADJ\n",
      "Text:., POS:PUNCT\n"
     ]
    }
   ],
   "source": [
    "for word in doc:\n",
    "    print(f\"Text:{word.text}, POS:{word.pos_}\")"
   ]
  },
  {
   "cell_type": "code",
   "execution_count": 17,
   "id": "117adc81-16ca-4515-964f-5ee87875eeaa",
   "metadata": {},
   "outputs": [],
   "source": [
    "### Extract all the nouns used in a corpus of comment data\n",
    "with open(\"../codes/data/samsung.txt\",\"r\",encoding='utf-8') as r:\n",
    "    review_text = r.read()"
   ]
  },
  {
   "cell_type": "code",
   "execution_count": 18,
   "id": "619b4905-e4f9-44aa-bf91-35cba7752996",
   "metadata": {},
   "outputs": [
    {
     "data": {
      "text/plain": [
       "\"I feel so LUCKY to have found this used (phone to us & not used hard at all), phone on line from someone who upgraded and sold this one. My Son liked his old one that finally fell apart after 2.5+ years and didn't want an upgrade!! Thank you Seller, we really appreciate it & your honesty re: said us\""
      ]
     },
     "execution_count": 18,
     "metadata": {},
     "output_type": "execute_result"
    }
   ],
   "source": [
    "review_text[0:300]"
   ]
  },
  {
   "cell_type": "code",
   "execution_count": 19,
   "id": "220ac5d4-acb9-4350-bd86-2655f29231ce",
   "metadata": {},
   "outputs": [],
   "source": [
    "reviews = review_text.split(\"\\n\")"
   ]
  },
  {
   "cell_type": "code",
   "execution_count": 20,
   "id": "4376a5ab-854c-4db4-a899-978022cc6647",
   "metadata": {},
   "outputs": [
    {
     "data": {
      "text/plain": [
       "\"I feel so LUCKY to have found this used (phone to us & not used hard at all), phone on line from someone who upgraded and sold this one. My Son liked his old one that finally fell apart after 2.5+ years and didn't want an upgrade!! Thank you Seller, we really appreciate it & your honesty re: said used phone.I recommend this seller very highly & would but from them again!!\""
      ]
     },
     "execution_count": 20,
     "metadata": {},
     "output_type": "execute_result"
    }
   ],
   "source": [
    "reviews[0]"
   ]
  },
  {
   "cell_type": "code",
   "execution_count": 21,
   "id": "7f37b870-7265-48b8-81b9-1e4e4378ddf7",
   "metadata": {},
   "outputs": [
    {
     "data": {
      "text/plain": [
       "46355"
      ]
     },
     "execution_count": 21,
     "metadata": {},
     "output_type": "execute_result"
    }
   ],
   "source": [
    "len(reviews)"
   ]
  },
  {
   "cell_type": "code",
   "execution_count": 22,
   "id": "f5279551-d85e-4997-817c-fb7dd25666ea",
   "metadata": {},
   "outputs": [],
   "source": [
    "def print_pos(doc):\n",
    "    for word in doc:\n",
    "        print(f\"Text:{word.text}, POS:{word.pos_}\")"
   ]
  },
  {
   "cell_type": "code",
   "execution_count": 23,
   "id": "46db753e-d940-42da-b834-cf4de79058b5",
   "metadata": {},
   "outputs": [],
   "source": [
    "doc = nlp(reviews[0])"
   ]
  },
  {
   "cell_type": "code",
   "execution_count": 29,
   "id": "98bb3a1b-313c-41d8-ba5d-45d392993e23",
   "metadata": {},
   "outputs": [
    {
     "name": "stderr",
     "output_type": "stream",
     "text": [
      "100%|████████████████████████████████| 10000/10000 [01:15<00:00, 132.99it/s]\n"
     ]
    }
   ],
   "source": [
    "from tqdm import tqdm\n",
    "nouns = []\n",
    "for review in tqdm(reviews[0:10000]):\n",
    "    doc = nlp(review)\n",
    "    for word in doc:\n",
    "        if word.pos_==\"NOUN\":\n",
    "            nouns.append(word.lemma_)           "
   ]
  },
  {
   "cell_type": "markdown",
   "id": "562eb27d-503e-4aaa-b4ea-bbccd85d8f58",
   "metadata": {},
   "source": [
    "## Reasons we are slow\n",
    "- We are processing each word on a single thread, if we process on multiple threads\n",
    "- We are also running predictions from models that we don't need (NER, Dependency Parse)"
   ]
  },
  {
   "cell_type": "code",
   "execution_count": 30,
   "id": "db2dffa7-e6be-4321-b47f-b822ddb36ec3",
   "metadata": {},
   "outputs": [
    {
     "data": {
      "text/plain": [
       "phone      10774\n",
       "price       1174\n",
       "battery      958\n",
       "card         952\n",
       "time         926\n",
       "screen       903\n",
       "camera       845\n",
       "app          836\n",
       "product      747\n",
       "problem      671\n",
       "dtype: int64"
      ]
     },
     "execution_count": 30,
     "metadata": {},
     "output_type": "execute_result"
    }
   ],
   "source": [
    "pd.Series(nouns).value_counts().head(10)"
   ]
  },
  {
   "cell_type": "code",
   "execution_count": 31,
   "id": "f9142c79-2f95-448d-a976-58f74d786a35",
   "metadata": {},
   "outputs": [],
   "source": [
    "### Disable certain models in spacy\n",
    "nlp = spacy.load(\"en_core_web_sm\",disable = ['ner','parser'])"
   ]
  },
  {
   "cell_type": "code",
   "execution_count": 32,
   "id": "7568fbd8-8c84-40f1-a537-6c0534c19dcb",
   "metadata": {},
   "outputs": [
    {
     "name": "stderr",
     "output_type": "stream",
     "text": [
      "100%|████████████████████████████████| 10000/10000 [00:32<00:00, 310.15it/s]\n"
     ]
    }
   ],
   "source": [
    "nouns = []\n",
    "for review in tqdm(reviews[0:10000]):\n",
    "    doc = nlp(review)\n",
    "    for word in doc:\n",
    "        if word.pos_==\"NOUN\":\n",
    "            nouns.append(word.lemma_)    "
   ]
  },
  {
   "cell_type": "code",
   "execution_count": 37,
   "id": "e5177357-2ade-4769-9fbc-946233e51d88",
   "metadata": {},
   "outputs": [
    {
     "name": "stderr",
     "output_type": "stream",
     "text": [
      "100%|████████████████████████████████| 10000/10000 [00:18<00:00, 551.05it/s]\n"
     ]
    }
   ],
   "source": [
    "nouns = []\n",
    "for doc in tqdm(nlp.pipe(reviews[0:10000],batch_size=1,n_process=-1),total=10000):\n",
    "    for word in doc:\n",
    "        if word.pos_==\"NOUN\":\n",
    "            nouns.append(word.lemma_)"
   ]
  },
  {
   "cell_type": "code",
   "execution_count": 38,
   "id": "46a9877f-b475-4a06-abaf-48578bd8b86e",
   "metadata": {},
   "outputs": [
    {
     "name": "stderr",
     "output_type": "stream",
     "text": [
      "100%|████████████████████████████████| 46355/46355 [01:05<00:00, 705.03it/s]\n"
     ]
    }
   ],
   "source": [
    "nouns = []\n",
    "for doc in tqdm(nlp.pipe(reviews,batch_size=1,n_process=-1),total=len(reviews)):\n",
    "    for word in doc:\n",
    "        if word.pos_==\"NOUN\":\n",
    "            nouns.append(word.lemma_)"
   ]
  },
  {
   "cell_type": "code",
   "execution_count": 40,
   "id": "5a355d98-6728-45c5-ac78-e366e49f04d3",
   "metadata": {},
   "outputs": [
    {
     "data": {
      "text/plain": [
       "phone      42945\n",
       "battery     4261\n",
       "product     3894\n",
       "screen      3851\n",
       "time        3817\n",
       "card        3376\n",
       "price       3142\n",
       "problem     3137\n",
       "camera      2918\n",
       "app         2500\n",
       "dtype: int64"
      ]
     },
     "execution_count": 40,
     "metadata": {},
     "output_type": "execute_result"
    }
   ],
   "source": [
    "pd.Series(nouns).value_counts().head(10)"
   ]
  },
  {
   "cell_type": "code",
   "execution_count": null,
   "id": "730f8763-59c5-4d69-84b7-0bc25f8ad769",
   "metadata": {},
   "outputs": [],
   "source": [
    "### Now that we have the product features, we would want to know in which \n",
    "## context these features are being talked about?\n",
    "\"The battery life is bad\"\n",
    "\"The battery life is awesome\"\n",
    "\"The screen resolution is good\"\n",
    "### Find out the prefixes and suffixes to each keyword and then we will find out which are the most \n",
    "## freq prefixes or suffixes\n",
    "# How will you find prefixes and suffixes (Hint: Read about regular expressions)"
   ]
  }
 ],
 "metadata": {
  "kernelspec": {
   "display_name": "Python 3 (ipykernel)",
   "language": "python",
   "name": "python3"
  },
  "language_info": {
   "codemirror_mode": {
    "name": "ipython",
    "version": 3
   },
   "file_extension": ".py",
   "mimetype": "text/x-python",
   "name": "python",
   "nbconvert_exporter": "python",
   "pygments_lexer": "ipython3",
   "version": "3.9.7"
  }
 },
 "nbformat": 4,
 "nbformat_minor": 5
}
