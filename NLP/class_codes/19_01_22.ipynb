{
 "cells": [
  {
   "cell_type": "code",
   "execution_count": 1,
   "id": "400e4806-219d-45a7-b5ed-5c58aaf8edb3",
   "metadata": {},
   "outputs": [],
   "source": [
    "import spacy\n",
    "import pandas as pd\n",
    "import numpy as np"
   ]
  },
  {
   "cell_type": "code",
   "execution_count": 2,
   "id": "8a21f2f2-8ef7-4b6c-bdcf-478f97563452",
   "metadata": {},
   "outputs": [],
   "source": [
    "text = \"The battery life on this phone is really good.\""
   ]
  },
  {
   "cell_type": "code",
   "execution_count": 3,
   "id": "1f994617-ed77-4e20-b881-e0dd984c456f",
   "metadata": {},
   "outputs": [],
   "source": [
    "nlp = spacy.load(\"en_core_web_sm\")"
   ]
  },
  {
   "cell_type": "code",
   "execution_count": 4,
   "id": "a8d365e9-600c-4878-bc4c-68bafed55e94",
   "metadata": {},
   "outputs": [],
   "source": [
    "doc = nlp(text)"
   ]
  },
  {
   "cell_type": "code",
   "execution_count": 5,
   "id": "36d1b76b-899b-4042-971a-881fec184bde",
   "metadata": {},
   "outputs": [
    {
     "name": "stdout",
     "output_type": "stream",
     "text": [
      "Text:The, POS:DET\n",
      "Text:battery, POS:NOUN\n",
      "Text:life, POS:NOUN\n",
      "Text:on, POS:ADP\n",
      "Text:this, POS:DET\n",
      "Text:phone, POS:NOUN\n",
      "Text:is, POS:AUX\n",
      "Text:really, POS:ADV\n",
      "Text:good, POS:ADJ\n",
      "Text:., POS:PUNCT\n"
     ]
    }
   ],
   "source": [
    "for word in doc:\n",
    "    print(f\"Text:{word.text}, POS:{word.pos_}\")"
   ]
  },
  {
   "cell_type": "code",
   "execution_count": 17,
   "id": "117adc81-16ca-4515-964f-5ee87875eeaa",
   "metadata": {},
   "outputs": [],
   "source": [
    "### Extract all the nouns used in a corpus of comment data\n",
    "with open(\"../codes/data/samsung.txt\",\"r\",encoding='utf-8') as r:\n",
    "    review_text = r.read()"
   ]
  },
  {
   "cell_type": "code",
   "execution_count": 18,
   "id": "619b4905-e4f9-44aa-bf91-35cba7752996",
   "metadata": {},
   "outputs": [
    {
     "data": {
      "text/plain": [
       "\"I feel so LUCKY to have found this used (phone to us & not used hard at all), phone on line from someone who upgraded and sold this one. My Son liked his old one that finally fell apart after 2.5+ years and didn't want an upgrade!! Thank you Seller, we really appreciate it & your honesty re: said us\""
      ]
     },
     "execution_count": 18,
     "metadata": {},
     "output_type": "execute_result"
    }
   ],
   "source": [
    "review_text[0:300]"
   ]
  },
  {
   "cell_type": "code",
   "execution_count": 19,
   "id": "220ac5d4-acb9-4350-bd86-2655f29231ce",
   "metadata": {},
   "outputs": [],
   "source": [
    "reviews = review_text.split(\"\\n\")"
   ]
  },
  {
   "cell_type": "code",
   "execution_count": 20,
   "id": "4376a5ab-854c-4db4-a899-978022cc6647",
   "metadata": {},
   "outputs": [
    {
     "data": {
      "text/plain": [
       "\"I feel so LUCKY to have found this used (phone to us & not used hard at all), phone on line from someone who upgraded and sold this one. My Son liked his old one that finally fell apart after 2.5+ years and didn't want an upgrade!! Thank you Seller, we really appreciate it & your honesty re: said used phone.I recommend this seller very highly & would but from them again!!\""
      ]
     },
     "execution_count": 20,
     "metadata": {},
     "output_type": "execute_result"
    }
   ],
   "source": [
    "reviews[0]"
   ]
  },
  {
   "cell_type": "code",
   "execution_count": 21,
   "id": "7f37b870-7265-48b8-81b9-1e4e4378ddf7",
   "metadata": {},
   "outputs": [
    {
     "data": {
      "text/plain": [
       "46355"
      ]
     },
     "execution_count": 21,
     "metadata": {},
     "output_type": "execute_result"
    }
   ],
   "source": [
    "len(reviews)"
   ]
  },
  {
   "cell_type": "code",
   "execution_count": 22,
   "id": "f5279551-d85e-4997-817c-fb7dd25666ea",
   "metadata": {},
   "outputs": [],
   "source": [
    "def print_pos(doc):\n",
    "    for word in doc:\n",
    "        print(f\"Text:{word.text}, POS:{word.pos_}\")"
   ]
  },
  {
   "cell_type": "code",
   "execution_count": 23,
   "id": "46db753e-d940-42da-b834-cf4de79058b5",
   "metadata": {},
   "outputs": [],
   "source": [
    "doc = nlp(reviews[0])"
   ]
  },
  {
   "cell_type": "code",
   "execution_count": 29,
   "id": "98bb3a1b-313c-41d8-ba5d-45d392993e23",
   "metadata": {},
   "outputs": [
    {
     "name": "stderr",
     "output_type": "stream",
     "text": [
      "100%|████████████████████████████████| 10000/10000 [01:15<00:00, 132.99it/s]\n"
     ]
    }
   ],
   "source": [
    "from tqdm import tqdm\n",
    "nouns = []\n",
    "for review in tqdm(reviews[0:10000]):\n",
    "    doc = nlp(review)\n",
    "    for word in doc:\n",
    "        if word.pos_==\"NOUN\":\n",
    "            nouns.append(word.lemma_)           "
   ]
  },
  {
   "cell_type": "markdown",
   "id": "562eb27d-503e-4aaa-b4ea-bbccd85d8f58",
   "metadata": {},
   "source": [
    "## Reasons we are slow\n",
    "- We are processing each word on a single thread, if we process on multiple threads\n",
    "- We are also running predictions from models that we don't need (NER, Dependency Parse)"
   ]
  },
  {
   "cell_type": "code",
   "execution_count": 30,
   "id": "db2dffa7-e6be-4321-b47f-b822ddb36ec3",
   "metadata": {},
   "outputs": [
    {
     "data": {
      "text/plain": [
       "phone      10774\n",
       "price       1174\n",
       "battery      958\n",
       "card         952\n",
       "time         926\n",
       "screen       903\n",
       "camera       845\n",
       "app          836\n",
       "product      747\n",
       "problem      671\n",
       "dtype: int64"
      ]
     },
     "execution_count": 30,
     "metadata": {},
     "output_type": "execute_result"
    }
   ],
   "source": [
    "pd.Series(nouns).value_counts().head(10)"
   ]
  },
  {
   "cell_type": "code",
   "execution_count": 31,
   "id": "f9142c79-2f95-448d-a976-58f74d786a35",
   "metadata": {},
   "outputs": [],
   "source": [
    "### Disable certain models in spacy\n",
    "nlp = spacy.load(\"en_core_web_sm\",disable = ['ner','parser'])"
   ]
  },
  {
   "cell_type": "code",
   "execution_count": 32,
   "id": "7568fbd8-8c84-40f1-a537-6c0534c19dcb",
   "metadata": {},
   "outputs": [
    {
     "name": "stderr",
     "output_type": "stream",
     "text": [
      "100%|████████████████████████████████| 10000/10000 [00:32<00:00, 310.15it/s]\n"
     ]
    }
   ],
   "source": [
    "nouns = []\n",
    "for review in tqdm(reviews[0:10000]):\n",
    "    doc = nlp(review)\n",
    "    for word in doc:\n",
    "        if word.pos_==\"NOUN\":\n",
    "            nouns.append(word.lemma_)    "
   ]
  },
  {
   "cell_type": "code",
   "execution_count": 37,
   "id": "e5177357-2ade-4769-9fbc-946233e51d88",
   "metadata": {},
   "outputs": [
    {
     "name": "stderr",
     "output_type": "stream",
     "text": [
      "100%|████████████████████████████████| 10000/10000 [00:18<00:00, 551.05it/s]\n"
     ]
    }
   ],
   "source": [
    "nouns = []\n",
    "for doc in tqdm(nlp.pipe(reviews[0:10000],batch_size=1,n_process=-1),total=10000):\n",
    "    for word in doc:\n",
    "        if word.pos_==\"NOUN\":\n",
    "            nouns.append(word.lemma_)"
   ]
  },
  {
   "cell_type": "code",
   "execution_count": 38,
   "id": "46a9877f-b475-4a06-abaf-48578bd8b86e",
   "metadata": {},
   "outputs": [
    {
     "name": "stderr",
     "output_type": "stream",
     "text": [
      "100%|████████████████████████████████| 46355/46355 [01:05<00:00, 705.03it/s]\n"
     ]
    }
   ],
   "source": [
    "nouns = []\n",
    "for doc in tqdm(nlp.pipe(reviews,batch_size=1,n_process=-1),total=len(reviews)):\n",
    "    for word in doc:\n",
    "        if word.pos_==\"NOUN\":\n",
    "            nouns.append(word.lemma_)"
   ]
  },
  {
   "cell_type": "code",
   "execution_count": 40,
   "id": "5a355d98-6728-45c5-ac78-e366e49f04d3",
   "metadata": {},
   "outputs": [
    {
     "data": {
      "text/plain": [
       "phone      42945\n",
       "battery     4261\n",
       "product     3894\n",
       "screen      3851\n",
       "time        3817\n",
       "card        3376\n",
       "price       3142\n",
       "problem     3137\n",
       "camera      2918\n",
       "app         2500\n",
       "dtype: int64"
      ]
     },
     "execution_count": 40,
     "metadata": {},
     "output_type": "execute_result"
    }
   ],
   "source": [
    "pd.Series(nouns).value_counts().head(10)"
   ]
  },
  {
   "cell_type": "code",
   "execution_count": 41,
   "id": "730f8763-59c5-4d69-84b7-0bc25f8ad769",
   "metadata": {},
   "outputs": [
    {
     "data": {
      "text/plain": [
       "'The screen resolution is good'"
      ]
     },
     "execution_count": 41,
     "metadata": {},
     "output_type": "execute_result"
    }
   ],
   "source": [
    "### Now that we have the product features, we would want to know in which \n",
    "## context these features are being talked about?\n",
    "\"The battery life is bad\"\n",
    "\"The battery life is awesome\"\n",
    "\"The screen resolution is good\"\n",
    "### Find out the prefixes and suffixes to each keyword and then we will find out which are the most \n",
    "## freq prefixes or suffixes\n",
    "# How will you find prefixes and suffixes (Hint: Read about regular expressions)"
   ]
  },
  {
   "cell_type": "code",
   "execution_count": 46,
   "id": "05fba207-25e4-44e3-a78c-713c76c49ee5",
   "metadata": {},
   "outputs": [],
   "source": [
    "\"The battery life is awesome\"\n",
    "### Prefix<space>keyword<space>Suffix\n",
    "## Symbols to represent a word\n",
    "## Symbol to represent a <space>\n",
    "import re\n",
    "pattern_text = \"\\w+\\sbattery\\s\\w+\"\n",
    "pattern = re.compile(pattern_text)"
   ]
  },
  {
   "cell_type": "code",
   "execution_count": 47,
   "id": "395026f8-1f47-4424-b102-917a106f4138",
   "metadata": {},
   "outputs": [],
   "source": [
    "s1 = \"The battery life is awesome\""
   ]
  },
  {
   "cell_type": "code",
   "execution_count": 52,
   "id": "e09c84f4-91d9-4395-9880-95991071a190",
   "metadata": {},
   "outputs": [
    {
     "data": {
      "text/plain": [
       "['The', 'battery', 'life']"
      ]
     },
     "execution_count": 52,
     "metadata": {},
     "output_type": "execute_result"
    }
   ],
   "source": [
    "re.findall(pattern,s1)[0].split(\" \")"
   ]
  },
  {
   "cell_type": "code",
   "execution_count": 53,
   "id": "22df3746-7f9e-4bc8-8ddf-b7d92bd88a59",
   "metadata": {},
   "outputs": [
    {
     "data": {
      "text/plain": [
       "'The'"
      ]
     },
     "execution_count": 53,
     "metadata": {},
     "output_type": "execute_result"
    }
   ],
   "source": [
    "re.findall(pattern,s1)[0].split(\" \")[0]"
   ]
  },
  {
   "cell_type": "code",
   "execution_count": 54,
   "id": "796fb4ee-f82f-4b95-ac06-dfb115328be1",
   "metadata": {},
   "outputs": [
    {
     "data": {
      "text/plain": [
       "'life'"
      ]
     },
     "execution_count": 54,
     "metadata": {},
     "output_type": "execute_result"
    }
   ],
   "source": [
    "re.findall(pattern,s1)[0].split(\" \")[-1]"
   ]
  },
  {
   "cell_type": "code",
   "execution_count": 56,
   "id": "5da0a5f3-e584-4a07-bdf6-2ae77bbbf84a",
   "metadata": {},
   "outputs": [
    {
     "data": {
      "text/plain": [
       "list"
      ]
     },
     "execution_count": 56,
     "metadata": {},
     "output_type": "execute_result"
    }
   ],
   "source": [
    "type(reviews)"
   ]
  },
  {
   "cell_type": "code",
   "execution_count": 58,
   "id": "a94a9f15-70dc-4a19-92af-ee281dca150a",
   "metadata": {},
   "outputs": [],
   "source": [
    "triplets = re.findall(pattern,review_text)"
   ]
  },
  {
   "cell_type": "code",
   "execution_count": 59,
   "id": "cce567c6-4966-40bc-ac41-6f5e3a81bbe1",
   "metadata": {},
   "outputs": [
    {
     "data": {
      "text/plain": [
       "['that battery life',\n",
       " 'The battery was',\n",
       " 'great battery life',\n",
       " 'removable battery or']"
      ]
     },
     "execution_count": 59,
     "metadata": {},
     "output_type": "execute_result"
    }
   ],
   "source": [
    "triplets[0:4]"
   ]
  },
  {
   "cell_type": "code",
   "execution_count": 62,
   "id": "f062cd1b-0dcd-466c-a758-e86de98082aa",
   "metadata": {},
   "outputs": [],
   "source": [
    "### For all the triplets extract the prefix and suffix in separate lists\n",
    "prefixes = []\n",
    "suffixes = []\n",
    "for triplet in triplets:\n",
    "    pre = triplet.split(\" \")[0]\n",
    "    sufix = triplet.split(\" \")[-1]\n",
    "    prefixes.append(pre.lower())\n",
    "    suffixes.append(sufix.lower())"
   ]
  },
  {
   "cell_type": "code",
   "execution_count": 64,
   "id": "5ac69944-0473-4449-a39d-6205c87b6291",
   "metadata": {},
   "outputs": [
    {
     "data": {
      "text/plain": [
       "the      1396\n",
       "good      122\n",
       "great      90\n",
       "and        82\n",
       "long       60\n",
       "dtype: int64"
      ]
     },
     "execution_count": 64,
     "metadata": {},
     "output_type": "execute_result"
    }
   ],
   "source": [
    "pd.Series(prefixes).value_counts().head()"
   ]
  },
  {
   "cell_type": "code",
   "execution_count": 65,
   "id": "05def7c8-da3e-436e-8170-3d769fb3ee84",
   "metadata": {},
   "outputs": [
    {
     "data": {
      "text/plain": [
       "life     1052\n",
       "is        210\n",
       "and       146\n",
       "lasts      83\n",
       "was        66\n",
       "dtype: int64"
      ]
     },
     "execution_count": 65,
     "metadata": {},
     "output_type": "execute_result"
    }
   ],
   "source": [
    "pd.Series(suffixes).value_counts().head()"
   ]
  },
  {
   "cell_type": "code",
   "execution_count": 66,
   "id": "8e9a0e3c-6158-49dd-a39e-6a12f618a30e",
   "metadata": {},
   "outputs": [],
   "source": [
    "stopwords = [\"a\",\"about\",\"above\",\"after\",\"again\",\"against\",\"ain\",\"all\",\"am\",\"an\",\"and\",\"any\",\"are\",\"aren\",\"aren't\",\"as\",\"at\",\"be\",\"because\",\"been\",\"before\",\"being\",\"below\",\"between\",\"both\",\"but\",\"by\",\"can\",\"couldn\",\"couldn't\",\"d\",\"did\",\"didn\",\"didn't\",\"do\",\"does\",\"doesn\",\"doesn't\",\"doing\",\"don\",\"don't\",\"down\",\"during\",\"each\",\"few\",\"for\",\"from\",\"further\",\"had\",\"hadn\",\"hadn't\",\"has\",\"hasn\",\"hasn't\",\"have\",\"haven\",\"haven't\",\"having\",\"he\",\"her\",\"here\",\"hers\",\"herself\",\"him\",\"himself\",\"his\",\"how\",\"i\",\"if\",\"in\",\"into\",\"is\",\"isn\",\"isn't\",\"it\",\"it's\",\"its\",\"itself\",\"just\",\"ll\",\"m\",\"ma\",\"me\",\"mightn\",\"mightn't\",\"more\",\"most\",\"mustn\",\"mustn't\",\"my\",\"myself\",\"needn\",\"needn't\",\"no\",\"nor\",\"not\",\"now\",\"o\",\"of\",\"off\",\"on\",\"once\",\"only\",\"or\",\"other\",\"our\",\"ours\",\"ourselves\",\"out\",\"over\",\"own\",\"re\",\"s\",\"same\",\"shan\",\"shan't\",\"she\",\"she's\",\"should\",\"should've\",\"shouldn\",\"shouldn't\",\"so\",\"some\",\"such\",\"t\",\"than\",\"that\",\"that'll\",\"the\",\"their\",\"theirs\",\"them\",\"themselves\",\"then\",\"there\",\"these\",\"they\",\"this\",\"those\",\"through\",\"to\",\"too\",\"under\",\"until\",\"up\",\"ve\",\"very\",\"was\",\"wasn\",\"wasn't\",\"we\",\"were\",\"weren\",\"weren't\",\"what\",\"when\",\"where\",\"which\",\"while\",\"who\",\"whom\",\"why\",\"will\",\"with\",\"won\",\"won't\",\"wouldn\",\"wouldn't\",\"y\",\"you\",\"you'd\",\"you'll\",\"you're\",\"you've\",\"your\",\"yours\",\"yourself\",\"yourselves\",\"could\",\"he'd\",\"he'll\",\"he's\",\"here's\",\"how's\",\"i'd\",\"i'll\",\"i'm\",\"i've\",\"let's\",\"ought\",\"she'd\",\"she'll\",\"that's\",\"there's\",\"they'd\",\"they'll\",\"they're\",\"they've\",\"we'd\",\"we'll\",\"we're\",\"we've\",\"what's\",\"when's\",\"where's\",\"who's\",\"why's\",\"would\",\"able\",\"abst\",\"accordance\",\"according\",\"accordingly\",\"across\",\"act\",\"actually\",\"added\",\"adj\",\"affected\",\"affecting\",\"affects\",\"afterwards\",\"ah\",\"almost\",\"alone\",\"along\",\"already\",\"also\",\"although\",\"always\",\"among\",\"amongst\",\"announce\",\"another\",\"anybody\",\"anyhow\",\"anymore\",\"anyone\",\"anything\",\"anyway\",\"anyways\",\"anywhere\",\"apparently\",\"approximately\",\"arent\",\"arise\",\"around\",\"aside\",\"ask\",\"asking\",\"auth\",\"available\",\"away\",\"awfully\",\"b\",\"back\",\"became\",\"become\",\"becomes\",\"becoming\",\"beforehand\",\"begin\",\"beginning\",\"beginnings\",\"begins\",\"behind\",\"believe\",\"beside\",\"besides\",\"beyond\",\"biol\",\"brief\",\"briefly\",\"c\",\"ca\",\"came\",\"cannot\",\"can't\",\"cause\",\"causes\",\"certain\",\"certainly\",\"co\",\"com\",\"come\",\"comes\",\"contain\",\"containing\",\"contains\",\"couldnt\",\"date\",\"different\",\"done\",\"downwards\",\"due\",\"e\",\"ed\",\"edu\",\"effect\",\"eg\",\"eight\",\"eighty\",\"either\",\"else\",\"elsewhere\",\"end\",\"ending\",\"enough\",\"especially\",\"et\",\"etc\",\"even\",\"ever\",\"every\",\"everybody\",\"everyone\",\"everything\",\"everywhere\",\"ex\",\"except\",\"f\",\"far\",\"ff\",\"fifth\",\"first\",\"five\",\"fix\",\"followed\",\"following\",\"follows\",\"former\",\"formerly\",\"forth\",\"found\",\"four\",\"furthermore\",\"g\",\"gave\",\"get\",\"gets\",\"getting\",\"give\",\"given\",\"gives\",\"giving\",\"go\",\"goes\",\"gone\",\"got\",\"gotten\",\"h\",\"happens\",\"hardly\",\"hed\",\"hence\",\"hereafter\",\"hereby\",\"herein\",\"heres\",\"hereupon\",\"hes\",\"hi\",\"hid\",\"hither\",\"home\",\"howbeit\",\"however\",\"hundred\",\"id\",\"ie\",\"im\",\"immediate\",\"immediately\",\"importance\",\"important\",\"inc\",\"indeed\",\"index\",\"information\",\"instead\",\"invention\",\"inward\",\"itd\",\"it'll\",\"j\",\"k\",\"keep\",\"keeps\",\"kept\",\"kg\",\"km\",\"know\",\"known\",\"knows\",\"l\",\"largely\",\"last\",\"lately\",\"later\",\"latter\",\"latterly\",\"least\",\"less\",\"lest\",\"let\",\"lets\",\"like\",\"liked\",\"likely\",\"line\",\"little\",\"'ll\",\"look\",\"looking\",\"looks\",\"ltd\",\"made\",\"mainly\",\"make\",\"makes\",\"many\",\"may\",\"maybe\",\"mean\",\"means\",\"meantime\",\"meanwhile\",\"merely\",\"mg\",\"might\",\"million\",\"miss\",\"ml\",\"moreover\",\"mostly\",\"mr\",\"mrs\",\"much\",\"mug\",\"must\",\"n\",\"na\",\"name\",\"namely\",\"nay\",\"nd\",\"near\",\"nearly\",\"necessarily\",\"necessary\",\"need\",\"needs\",\"neither\",\"never\",\"nevertheless\",\"new\",\"next\",\"nine\",\"ninety\",\"nobody\",\"non\",\"none\",\"nonetheless\",\"noone\",\"normally\",\"nos\",\"noted\",\"nothing\",\"nowhere\",\"obtain\",\"obtained\",\"obviously\",\"often\",\"oh\",\"ok\",\"okay\",\"old\",\"omitted\",\"one\",\"ones\",\"onto\",\"ord\",\"others\",\"otherwise\",\"outside\",\"overall\",\"owing\",\"p\",\"page\",\"pages\",\"part\",\"particular\",\"particularly\",\"past\",\"per\",\"perhaps\",\"placed\",\"please\",\"plus\",\"poorly\",\"possible\",\"possibly\",\"potentially\",\"pp\",\"predominantly\",\"present\",\"previously\",\"primarily\",\"probably\",\"promptly\",\"proud\",\"provides\",\"put\",\"q\",\"que\",\"quickly\",\"quite\",\"qv\",\"r\",\"ran\",\"rather\",\"rd\",\"readily\",\"really\",\"recent\",\"recently\",\"ref\",\"refs\",\"regarding\",\"regardless\",\"regards\",\"related\",\"relatively\",\"research\",\"respectively\",\"resulted\",\"resulting\",\"results\",\"right\",\"run\",\"said\",\"saw\",\"say\",\"saying\",\"says\",\"sec\",\"section\",\"see\",\"seeing\",\"seem\",\"seemed\",\"seeming\",\"seems\",\"seen\",\"self\",\"selves\",\"sent\",\"seven\",\"several\",\"shall\",\"shed\",\"shes\",\"show\",\"showed\",\"shown\",\"showns\",\"shows\",\"significant\",\"significantly\",\"similar\",\"similarly\",\"since\",\"six\",\"slightly\",\"somebody\",\"somehow\",\"someone\",\"somethan\",\"something\",\"sometime\",\"sometimes\",\"somewhat\",\"somewhere\",\"soon\",\"sorry\",\"specifically\",\"specified\",\"specify\",\"specifying\",\"still\",\"stop\",\"strongly\",\"sub\",\"substantially\",\"successfully\",\"sufficiently\",\"suggest\",\"sup\",\"sure\",\"take\",\"taken\",\"taking\",\"tell\",\"tends\",\"th\",\"thank\",\"thanks\",\"thanx\",\"thats\",\"that've\",\"thence\",\"thereafter\",\"thereby\",\"thered\",\"therefore\",\"therein\",\"there'll\",\"thereof\",\"therere\",\"theres\",\"thereto\",\"thereupon\",\"there've\",\"theyd\",\"theyre\",\"think\",\"thou\",\"though\",\"thoughh\",\"thousand\",\"throug\",\"throughout\",\"thru\",\"thus\",\"til\",\"tip\",\"together\",\"took\",\"toward\",\"towards\",\"tried\",\"tries\",\"truly\",\"try\",\"trying\",\"ts\",\"twice\",\"two\",\"u\",\"un\",\"unfortunately\",\"unless\",\"unlike\",\"unlikely\",\"unto\",\"upon\",\"ups\",\"us\",\"use\",\"used\",\"useful\",\"usefully\",\"usefulness\",\"uses\",\"using\",\"usually\",\"v\",\"value\",\"various\",\"'ve\",\"via\",\"viz\",\"vol\",\"vols\",\"vs\",\"w\",\"want\",\"wants\",\"wasnt\",\"way\",\"wed\",\"welcome\",\"went\",\"werent\",\"whatever\",\"what'll\",\"whats\",\"whence\",\"whenever\",\"whereafter\",\"whereas\",\"whereby\",\"wherein\",\"wheres\",\"whereupon\",\"wherever\",\"whether\",\"whim\",\"whither\",\"whod\",\"whoever\",\"whole\",\"who'll\",\"whomever\",\"whos\",\"whose\",\"widely\",\"willing\",\"wish\",\"within\",\"without\",\"wont\",\"words\",\"world\",\"wouldnt\",\"www\",\"x\",\"yes\",\"yet\",\"youd\",\"youre\",\"z\",\"zero\",\"a's\",\"ain't\",\"allow\",\"allows\",\"apart\",\"appear\",\"appreciate\",\"appropriate\",\"associated\",\"best\",\"better\",\"c'mon\",\"c's\",\"cant\",\"changes\",\"clearly\",\"concerning\",\"consequently\",\"consider\",\"considering\",\"corresponding\",\"course\",\"currently\",\"definitely\",\"described\",\"despite\",\"entirely\",\"exactly\",\"example\",\"going\",\"greetings\",\"hello\",\"help\",\"hopefully\",\"ignored\",\"inasmuch\",\"indicate\",\"indicated\",\"indicates\",\"inner\",\"insofar\",\"it'd\",\"keep\",\"keeps\",\"novel\",\"presumably\",\"reasonably\",\"second\",\"secondly\",\"sensible\",\"serious\",\"seriously\",\"sure\",\"t's\",\"third\",\"thorough\",\"thoroughly\",\"three\",\"well\",\"wonder\"]"
   ]
  },
  {
   "cell_type": "code",
   "execution_count": 67,
   "id": "53914f58-7075-4701-b1fd-df6f02a2061c",
   "metadata": {},
   "outputs": [],
   "source": [
    "prefixes = [w for w in prefixes if w not in stopwords]\n",
    "suffixes = [w for w in suffixes if w not in stopwords]"
   ]
  },
  {
   "cell_type": "code",
   "execution_count": 73,
   "id": "84766838-dbbd-4ec2-88e6-209ae36b73ae",
   "metadata": {},
   "outputs": [
    {
     "data": {
      "text/plain": [
       "['good', 'great', 'long', 'removable', 'replaceable']"
      ]
     },
     "execution_count": 73,
     "metadata": {},
     "output_type": "execute_result"
    }
   ],
   "source": [
    "pd.Series(prefixes).value_counts().head(5).index.tolist()"
   ]
  },
  {
   "cell_type": "code",
   "execution_count": 69,
   "id": "a52ddb71-a6ed-49b5-8aa1-c89a0d9ca91d",
   "metadata": {},
   "outputs": [
    {
     "data": {
      "text/plain": [
       "life      1052\n",
       "lasts       83\n",
       "runs        31\n",
       "drains      28\n",
       "charge      21\n",
       "dtype: int64"
      ]
     },
     "execution_count": 69,
     "metadata": {},
     "output_type": "execute_result"
    }
   ],
   "source": [
    "pd.Series(suffixes).value_counts().head(5)"
   ]
  },
  {
   "cell_type": "code",
   "execution_count": 71,
   "id": "d65afcd9-f80b-43c0-ab32-9cefaef28999",
   "metadata": {},
   "outputs": [
    {
     "data": {
      "text/plain": [
       "'\\\\w+\\\\sscreen\\\\s\\\\w+'"
      ]
     },
     "execution_count": 71,
     "metadata": {},
     "output_type": "execute_result"
    }
   ],
   "source": [
    "keyword = \"screen\"\n",
    "f\"\\w+\\s{keyword}\\s\\w+\""
   ]
  },
  {
   "cell_type": "code",
   "execution_count": 84,
   "id": "73aee073-41fc-4557-82e4-2415184f16c7",
   "metadata": {},
   "outputs": [],
   "source": [
    "def get_prefix_suffix(keyword,review_text,stopwords,k=5):\n",
    "    review_text = review_text.replace(\"\\n\",\" \")\n",
    "    pattern = re.compile(f'\\w+\\s{keyword}\\s\\w+')\n",
    "    triplets = re.findall(pattern,review_text)\n",
    "    prefixes = [i.split(\" \")[0].lower() for i in triplets]\n",
    "    suffixes = [i.split(\" \")[-1].lower() for i in triplets]\n",
    "    prefixes = [w for w in prefixes if w not in stopwords]\n",
    "    suffixes = [w for w in suffixes if w not in stopwords]\n",
    "    p = pd.Series(prefixes).value_counts().head(k).index.tolist()\n",
    "    s = pd.Series(suffixes).value_counts().head(k).index.tolist()\n",
    "    r = pd.DataFrame({'prefix':p,'suffix':s})\n",
    "    r['kw'] = keyword\n",
    "    return r[['prefix','kw','suffix']]\n",
    "    \n",
    "    "
   ]
  },
  {
   "cell_type": "code",
   "execution_count": 81,
   "id": "a6477007-dab1-476d-8c42-104b5abafd35",
   "metadata": {},
   "outputs": [
    {
     "data": {
      "text/html": [
       "<div>\n",
       "<style scoped>\n",
       "    .dataframe tbody tr th:only-of-type {\n",
       "        vertical-align: middle;\n",
       "    }\n",
       "\n",
       "    .dataframe tbody tr th {\n",
       "        vertical-align: top;\n",
       "    }\n",
       "\n",
       "    .dataframe thead th {\n",
       "        text-align: right;\n",
       "    }\n",
       "</style>\n",
       "<table border=\"1\" class=\"dataframe\">\n",
       "  <thead>\n",
       "    <tr style=\"text-align: right;\">\n",
       "      <th></th>\n",
       "      <th>prefix</th>\n",
       "      <th>kw</th>\n",
       "      <th>suffix</th>\n",
       "    </tr>\n",
       "  </thead>\n",
       "  <tbody>\n",
       "    <tr>\n",
       "      <th>0</th>\n",
       "      <td>touch</td>\n",
       "      <td>screen</td>\n",
       "      <td>protector</td>\n",
       "    </tr>\n",
       "    <tr>\n",
       "      <th>1</th>\n",
       "      <td>big</td>\n",
       "      <td>screen</td>\n",
       "      <td>size</td>\n",
       "    </tr>\n",
       "    <tr>\n",
       "      <th>2</th>\n",
       "      <td>great</td>\n",
       "      <td>screen</td>\n",
       "      <td>resolution</td>\n",
       "    </tr>\n",
       "    <tr>\n",
       "      <th>3</th>\n",
       "      <td>large</td>\n",
       "      <td>screen</td>\n",
       "      <td>protectors</td>\n",
       "    </tr>\n",
       "    <tr>\n",
       "      <th>4</th>\n",
       "      <td>bigger</td>\n",
       "      <td>screen</td>\n",
       "      <td>quality</td>\n",
       "    </tr>\n",
       "  </tbody>\n",
       "</table>\n",
       "</div>"
      ],
      "text/plain": [
       "   prefix      kw      suffix\n",
       "0   touch  screen   protector\n",
       "1     big  screen        size\n",
       "2   great  screen  resolution\n",
       "3   large  screen  protectors\n",
       "4  bigger  screen     quality"
      ]
     },
     "execution_count": 81,
     "metadata": {},
     "output_type": "execute_result"
    }
   ],
   "source": [
    "get_prefix_suffix(\"screen\",review_text,stopwords,k=5)"
   ]
  },
  {
   "cell_type": "code",
   "execution_count": 82,
   "id": "d1d3ac1d-0aeb-4054-84d4-4df50b6d3b79",
   "metadata": {},
   "outputs": [
    {
     "data": {
      "text/html": [
       "<div>\n",
       "<style scoped>\n",
       "    .dataframe tbody tr th:only-of-type {\n",
       "        vertical-align: middle;\n",
       "    }\n",
       "\n",
       "    .dataframe tbody tr th {\n",
       "        vertical-align: top;\n",
       "    }\n",
       "\n",
       "    .dataframe thead th {\n",
       "        text-align: right;\n",
       "    }\n",
       "</style>\n",
       "<table border=\"1\" class=\"dataframe\">\n",
       "  <thead>\n",
       "    <tr style=\"text-align: right;\">\n",
       "      <th></th>\n",
       "      <th>prefix</th>\n",
       "      <th>kw</th>\n",
       "      <th>suffix</th>\n",
       "    </tr>\n",
       "  </thead>\n",
       "  <tbody>\n",
       "    <tr>\n",
       "      <th>0</th>\n",
       "      <td>good</td>\n",
       "      <td>battery</td>\n",
       "      <td>life</td>\n",
       "    </tr>\n",
       "    <tr>\n",
       "      <th>1</th>\n",
       "      <td>great</td>\n",
       "      <td>battery</td>\n",
       "      <td>lasts</td>\n",
       "    </tr>\n",
       "    <tr>\n",
       "      <th>2</th>\n",
       "      <td>long</td>\n",
       "      <td>battery</td>\n",
       "      <td>runs</td>\n",
       "    </tr>\n",
       "    <tr>\n",
       "      <th>3</th>\n",
       "      <td>removable</td>\n",
       "      <td>battery</td>\n",
       "      <td>drains</td>\n",
       "    </tr>\n",
       "    <tr>\n",
       "      <th>4</th>\n",
       "      <td>replaceable</td>\n",
       "      <td>battery</td>\n",
       "      <td>charge</td>\n",
       "    </tr>\n",
       "  </tbody>\n",
       "</table>\n",
       "</div>"
      ],
      "text/plain": [
       "        prefix       kw  suffix\n",
       "0         good  battery    life\n",
       "1        great  battery   lasts\n",
       "2         long  battery    runs\n",
       "3    removable  battery  drains\n",
       "4  replaceable  battery  charge"
      ]
     },
     "execution_count": 82,
     "metadata": {},
     "output_type": "execute_result"
    }
   ],
   "source": [
    "get_prefix_suffix(\"battery\",review_text,stopwords,k=5)"
   ]
  },
  {
   "cell_type": "code",
   "execution_count": 85,
   "id": "e30debff-2328-4aff-a1d5-7123564fb023",
   "metadata": {},
   "outputs": [
    {
     "data": {
      "text/html": [
       "<div>\n",
       "<style scoped>\n",
       "    .dataframe tbody tr th:only-of-type {\n",
       "        vertical-align: middle;\n",
       "    }\n",
       "\n",
       "    .dataframe tbody tr th {\n",
       "        vertical-align: top;\n",
       "    }\n",
       "\n",
       "    .dataframe thead th {\n",
       "        text-align: right;\n",
       "    }\n",
       "</style>\n",
       "<table border=\"1\" class=\"dataframe\">\n",
       "  <thead>\n",
       "    <tr style=\"text-align: right;\">\n",
       "      <th></th>\n",
       "      <th>prefix</th>\n",
       "      <th>kw</th>\n",
       "      <th>suffix</th>\n",
       "    </tr>\n",
       "  </thead>\n",
       "  <tbody>\n",
       "    <tr>\n",
       "      <th>0</th>\n",
       "      <td>good</td>\n",
       "      <td>product</td>\n",
       "      <td>arrived</td>\n",
       "    </tr>\n",
       "    <tr>\n",
       "      <th>1</th>\n",
       "      <td>excellent</td>\n",
       "      <td>product</td>\n",
       "      <td>excellent</td>\n",
       "    </tr>\n",
       "    <tr>\n",
       "      <th>2</th>\n",
       "      <td>great</td>\n",
       "      <td>product</td>\n",
       "      <td>good</td>\n",
       "    </tr>\n",
       "    <tr>\n",
       "      <th>3</th>\n",
       "      <td>excelent</td>\n",
       "      <td>product</td>\n",
       "      <td>great</td>\n",
       "    </tr>\n",
       "    <tr>\n",
       "      <th>4</th>\n",
       "      <td>quality</td>\n",
       "      <td>product</td>\n",
       "      <td>works</td>\n",
       "    </tr>\n",
       "  </tbody>\n",
       "</table>\n",
       "</div>"
      ],
      "text/plain": [
       "      prefix       kw     suffix\n",
       "0       good  product    arrived\n",
       "1  excellent  product  excellent\n",
       "2      great  product       good\n",
       "3   excelent  product      great\n",
       "4    quality  product      works"
      ]
     },
     "execution_count": 85,
     "metadata": {},
     "output_type": "execute_result"
    }
   ],
   "source": [
    "get_prefix_suffix(\"product\",review_text,stopwords,k=5)"
   ]
  },
  {
   "cell_type": "code",
   "execution_count": 86,
   "id": "e41242f2-7be0-4275-9ee3-9a1eafebaa24",
   "metadata": {},
   "outputs": [],
   "source": [
    "def get_nouns(reviews):\n",
    "    nouns = []\n",
    "    for review in tqdm(reviews):\n",
    "        doc = nlp(review)\n",
    "        for word in doc:\n",
    "            if word.pos_==\"NOUN\":\n",
    "                nouns.append(word.lemma_)\n",
    "    return pd.Series(nouns).value_counts().head(5).index.tolist()"
   ]
  },
  {
   "cell_type": "code",
   "execution_count": 88,
   "id": "3ef10fed-9df9-4fd5-8202-9a84406147ce",
   "metadata": {},
   "outputs": [],
   "source": [
    "R = [\"Sold kidney bought this, now not feeling well but the number of days I am alive with one kidney will enjoy using this phone. Guys be careful if you rich it’s ok else sell something else but not kidney it hurts\",\n",
    "    '''Worst battery performance.\n",
    "Iphone 11 is far better den this..\n",
    "In 4 hour battery will come down from 100 to 15 percent.\n",
    "Please dont buy this product at this price.''',\n",
    "    '''Another beauty from Apple. I was upgraded from iPhone X and it was great experience with all the latest specs and flawlessly smooth. Thanks to all new A14 Bionic chip.\n",
    "Build quality was great as always from Apple.\n",
    "Phone feels light on hands due to aluminium body. I chose Blue colour because wanted to go for different colour than routine Black and white iPhones so initially I was bit skeptical but after seeing the phone in person I’m happy with the blue colour “ not bad at all and not too flashy”\n",
    "Grip and feel perfect. Phone comes with iOS 14.1. Camera quality was excellent and sufficient as a normal user.\n",
    "If you are from iOS ecosystem nothing will go wrong here.\n",
    "There is nothing to question about the quality and interface from Apple ( it’s my personal opinion as a long time apple user)\n",
    "As you all know iPhone 12 won’t comes with earphones and charging brick( adapter)\n",
    "I bought separately 20w apple adapter from new Apple India online store for Rs.1900\n",
    "I don’t judge here apple because of accessories removal and the price tag. I hope apple can justify this.\n",
    "I only hope and wanted to see so badly Made in India IPhones so that we all can enjoy lower priced ( at least a better priced) iPhones in the future.\n",
    "A big thanks to Appario Retail Pvt. Ltd and Amazon for delivering genuine iPhone as always in perfect condition. Delivered way before the promised date.\n",
    "Update: (01/12/2020) After testing 25 days especially on battery life of this iPhone 12, results were amazing and I’m completely satisfied with the battery performance. On Moderate gaming, Moderate Video Content, heavy on calls and heavy on browsing this iPhone 12 battery life is sufficient for your regular Day.\n",
    "My conclusion is definitely a better and improved battery performer than the previous iPhone model.\n",
    "Thank you Apple India\n",
    "Thank you Appario Retail Pvt. Ltd.\n",
    "Thank you Amazon India.\n",
    "( Note: charger brick was shown in my video was bought myself from Apple India online store because it won’t comes with the phone)''',\n",
    "    '''This was my first switch to an ios device after using an android untill now. And I am not disappointed. The build quality, the responsive touch, the display, the camera, the battery life are just exceptional.\n",
    "Been using for about 10 days now, and consistently giving around 7h of screen on time.\n",
    "The camera is just way too good. Espeecially the night mode impressed me a lot.\n",
    "Only issue when switching from Android to iPhone I encountered was to be not able to restore my whatsapp chats. There are no official/free ways for doing this.\n",
    "The phone is simple amazing.''',\n",
    "    '''xtremely disappointed with this phone. It’s a seemingly average phone which is over priced by 4 to 5 times at least. This phone is a joke in comparison with any Samsung flagship phone. I am shocked that so many fools like me are falling for apple’s trickery and gimmickry.\n",
    "\n",
    "The battery doesn’t last half a day. Screen size is average. Thickness of this phone will constantly remind you that this phone belongs to another era. 64gb space won’t be enough for anyone.\n",
    "\n",
    "And then there are other apple quirks - won’t come with a SD card, won’t come with a charging brick or a set of head phones. Your headphones with the regular audio pin won’t work with this one. Face ID won’t work with masks on. So your forced to remove your masks when you’re out and vulnerable. This phone won’t allow you set google maps as default. So you continue to suffer using their apple map which I bet even Tim Cook doesn’t use. You won’t be able to set google chrome as your default browser as iOS won’t let you.\n",
    "\n",
    "Overall the phone is overpriced and overrated. Anybody with half the wit will figure that this phone is a joke and a mere marketing gimmick. An ordinary phone like this shouldn’t cost you more than 12 to 14K.\n",
    "\n",
    "Apple is going down!\n",
    "\n",
    "Amazon won’t take this phone back as they have a 10 day return policy. So I am pretty much stuck with this damn excuse for a phone till I get to upgrade to a Samsung phone.''',\n",
    "    '''If you are planning to buy an iphone then please buy from stores only.\n",
    "I got a defective product and when I complain about it to amazon customer care and requested for replacement they simply deny to replace it.\n",
    "Don't waste your money.''',\n",
    "    '''Hello there,\n",
    "I am writing this review after 3-4 days of usage, Iphone 12 is a beast in terms of:-\n",
    "Memory\n",
    "Build quality\n",
    "Camera\n",
    "Processor\n",
    "Display\n",
    "Except battery there’s rumour going on that iPhone 12 battery is bad or worst, so i am here to clarify all your doubts,\n",
    "iPhone battery will last easily a day but not more than that and here’s some condition that you should aware about\n",
    "1. If you are using your phone on wifi than it will last a day easily without any problem.\n",
    "2. If you are on 4g than it will not last a day for example, if you fully charged your phone at 8 am than it will last till 8 pm not more than that and this happen if you’re on 4g continuously otherwise it will last about 10 pm.\n",
    "Here’s some tip you should do after buying iPhone 12, watch video on YouTube to know “How to save battery on iPhone 12” this will help you increase your battery life as well battery health.\n",
    "For my experience, i think you should go for this device without any second thoughts & those who don’t have any tech knowledge and thinking of buying this then I recommend you to go for android because iOS has complicate settings than android...you will regret after buying it.\n",
    "\n",
    "Got original product Btw!!!!!''']"
   ]
  },
  {
   "cell_type": "code",
   "execution_count": null,
   "id": "e313e4ee-3c42-4615-ab97-f8cf71daa127",
   "metadata": {},
   "outputs": [],
   "source": [
    "get_nouns"
   ]
  }
 ],
 "metadata": {
  "kernelspec": {
   "display_name": "Python 3 (ipykernel)",
   "language": "python",
   "name": "python3"
  },
  "language_info": {
   "codemirror_mode": {
    "name": "ipython",
    "version": 3
   },
   "file_extension": ".py",
   "mimetype": "text/x-python",
   "name": "python",
   "nbconvert_exporter": "python",
   "pygments_lexer": "ipython3",
   "version": "3.9.7"
  }
 },
 "nbformat": 4,
 "nbformat_minor": 5
}
