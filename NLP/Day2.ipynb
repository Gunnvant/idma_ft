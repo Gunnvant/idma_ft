{
 "cells": [
  {
   "cell_type": "markdown",
   "id": "28ce9656-745a-4296-b06c-a400c507dcc0",
   "metadata": {},
   "source": [
    "# Agenda\n",
    "- Text Classification\n",
    "- Review of text similarity\n",
    "- POS Tagging Case Study\n",
    "\n",
    "Data [link](https://drive.google.com/file/d/1V9zmH0y3WXXk689Emn3kDZv7TL35_USP/view?usp=sharing)"
   ]
  },
  {
   "cell_type": "code",
   "execution_count": 1,
   "id": "0242026b-85f1-4873-a375-2a5de9e5f307",
   "metadata": {},
   "outputs": [],
   "source": [
    "import pandas as pd\n",
    "import numpy as np\n",
    "path = '/Users/gunnvantsaini/Documents/Data/Kaggle/StackoverflowTags/stack-overflow-data.csv'\n",
    "data = pd.read_csv(path)"
   ]
  },
  {
   "cell_type": "code",
   "execution_count": 2,
   "id": "557ca40b-3da6-44f7-804a-847cc8142038",
   "metadata": {},
   "outputs": [
    {
     "data": {
      "text/html": [
       "<div>\n",
       "<style scoped>\n",
       "    .dataframe tbody tr th:only-of-type {\n",
       "        vertical-align: middle;\n",
       "    }\n",
       "\n",
       "    .dataframe tbody tr th {\n",
       "        vertical-align: top;\n",
       "    }\n",
       "\n",
       "    .dataframe thead th {\n",
       "        text-align: right;\n",
       "    }\n",
       "</style>\n",
       "<table border=\"1\" class=\"dataframe\">\n",
       "  <thead>\n",
       "    <tr style=\"text-align: right;\">\n",
       "      <th></th>\n",
       "      <th>post</th>\n",
       "      <th>tags</th>\n",
       "    </tr>\n",
       "  </thead>\n",
       "  <tbody>\n",
       "    <tr>\n",
       "      <th>0</th>\n",
       "      <td>what is causing this behavior  in our c# datet...</td>\n",
       "      <td>c#</td>\n",
       "    </tr>\n",
       "    <tr>\n",
       "      <th>1</th>\n",
       "      <td>have dynamic html load as if it was in an ifra...</td>\n",
       "      <td>asp.net</td>\n",
       "    </tr>\n",
       "  </tbody>\n",
       "</table>\n",
       "</div>"
      ],
      "text/plain": [
       "                                                post     tags\n",
       "0  what is causing this behavior  in our c# datet...       c#\n",
       "1  have dynamic html load as if it was in an ifra...  asp.net"
      ]
     },
     "execution_count": 2,
     "metadata": {},
     "output_type": "execute_result"
    }
   ],
   "source": [
    "data.head(2)"
   ]
  },
  {
   "cell_type": "code",
   "execution_count": 3,
   "id": "1ba25c63-d528-4f14-8970-996458cbf830",
   "metadata": {},
   "outputs": [],
   "source": [
    "from sklearn.feature_extraction import text"
   ]
  },
  {
   "cell_type": "code",
   "execution_count": 4,
   "id": "e9411d99-3fc5-4871-82d2-c4bca3604a5f",
   "metadata": {},
   "outputs": [],
   "source": [
    "### Coding question asked on stackoverflow\n",
    "tfidf=text.TfidfVectorizer(input=data['post'].tolist(),stop_words='english',max_features=4000)\n",
    "tfidf_matrix=tfidf.fit_transform(data['post'])"
   ]
  },
  {
   "cell_type": "code",
   "execution_count": 5,
   "id": "daa24473-dbd0-44ac-a941-94e7cd6211ff",
   "metadata": {},
   "outputs": [
    {
     "data": {
      "text/plain": [
       "(40000, 4000)"
      ]
     },
     "execution_count": 5,
     "metadata": {},
     "output_type": "execute_result"
    }
   ],
   "source": [
    "tfidf_matrix.shape"
   ]
  },
  {
   "cell_type": "code",
   "execution_count": 6,
   "id": "134cfee8-9b3a-4994-a08e-a3b789d50f3e",
   "metadata": {},
   "outputs": [],
   "source": [
    "X=tfidf_matrix"
   ]
  },
  {
   "cell_type": "code",
   "execution_count": 7,
   "id": "c487c60c-58af-4ccf-8655-50e757b3d3f9",
   "metadata": {},
   "outputs": [
    {
     "data": {
      "text/plain": [
       "20"
      ]
     },
     "execution_count": 7,
     "metadata": {},
     "output_type": "execute_result"
    }
   ],
   "source": [
    "##### MLP to do document classification ####\n",
    "len(data['tags'].unique())"
   ]
  },
  {
   "cell_type": "code",
   "execution_count": 8,
   "id": "033c7c95-5ff7-4f1b-acb3-688f51ea3a5b",
   "metadata": {},
   "outputs": [
    {
     "data": {
      "text/plain": [
       "array(['c#', 'asp.net', 'objective-c', '.net', 'python', 'angularjs',\n",
       "       'iphone', 'ruby-on-rails', 'ios', 'c', 'sql', 'java', 'jquery',\n",
       "       'css', 'c++', 'php', 'android', 'mysql', 'javascript', 'html'],\n",
       "      dtype=object)"
      ]
     },
     "execution_count": 8,
     "metadata": {},
     "output_type": "execute_result"
    }
   ],
   "source": [
    "data['tags'].unique()"
   ]
  },
  {
   "cell_type": "code",
   "execution_count": 9,
   "id": "ed699620-ef8b-41a5-8e58-099ab9342e3c",
   "metadata": {},
   "outputs": [],
   "source": [
    "from sklearn.preprocessing import LabelEncoder"
   ]
  },
  {
   "cell_type": "code",
   "execution_count": 10,
   "id": "fc2de55a-859a-4c33-aa9a-889e9e9e5549",
   "metadata": {},
   "outputs": [],
   "source": [
    "enc=LabelEncoder()"
   ]
  },
  {
   "cell_type": "code",
   "execution_count": 11,
   "id": "fe2123a6-b3d6-43c8-a84e-d9ddc49d2e97",
   "metadata": {},
   "outputs": [],
   "source": [
    "y=enc.fit_transform(data['tags'])"
   ]
  },
  {
   "cell_type": "code",
   "execution_count": 12,
   "id": "a2a54235-0d34-4a13-968a-166922192066",
   "metadata": {},
   "outputs": [
    {
     "data": {
      "text/plain": [
       "array([ 5,  3, 15, ...,  4,  2,  1])"
      ]
     },
     "execution_count": 12,
     "metadata": {},
     "output_type": "execute_result"
    }
   ],
   "source": [
    "y"
   ]
  },
  {
   "cell_type": "code",
   "execution_count": 13,
   "id": "e9d897e9-d6c4-4338-b9a0-465b0a7c0813",
   "metadata": {},
   "outputs": [
    {
     "data": {
      "text/plain": [
       "array(['.net', 'android', 'angularjs', 'asp.net', 'c', 'c#', 'c++', 'css',\n",
       "       'html', 'ios', 'iphone', 'java', 'javascript', 'jquery', 'mysql',\n",
       "       'objective-c', 'php', 'python', 'ruby-on-rails', 'sql'],\n",
       "      dtype=object)"
      ]
     },
     "execution_count": 13,
     "metadata": {},
     "output_type": "execute_result"
    }
   ],
   "source": [
    "enc.classes_"
   ]
  },
  {
   "cell_type": "code",
   "execution_count": 14,
   "id": "216b293f-4827-4cfe-8794-22921f34762c",
   "metadata": {},
   "outputs": [],
   "source": [
    "##### Train - test split\n",
    "from sklearn.model_selection import train_test_split"
   ]
  },
  {
   "cell_type": "code",
   "execution_count": 15,
   "id": "9b1c5828-22d9-4afc-838c-110d6331d3d4",
   "metadata": {},
   "outputs": [],
   "source": [
    "X_train,X_test,y_train,y_test=train_test_split(X,y,test_size=0.20)"
   ]
  },
  {
   "cell_type": "code",
   "execution_count": 16,
   "id": "1fdd89dd-45f3-44ee-877a-5f2d6ae738a2",
   "metadata": {},
   "outputs": [],
   "source": [
    "import tensorflow as tf"
   ]
  },
  {
   "cell_type": "code",
   "execution_count": 17,
   "id": "f6fb73ef-b463-4b78-913e-f8171cc11cd0",
   "metadata": {},
   "outputs": [
    {
     "name": "stdout",
     "output_type": "stream",
     "text": [
      "Metal device set to: Apple M1\n"
     ]
    },
    {
     "name": "stderr",
     "output_type": "stream",
     "text": [
      "2022-01-14 17:45:50.193378: I tensorflow/core/common_runtime/pluggable_device/pluggable_device_factory.cc:305] Could not identify NUMA node of platform GPU ID 0, defaulting to 0. Your kernel may not have been built with NUMA support.\n",
      "2022-01-14 17:45:50.193922: I tensorflow/core/common_runtime/pluggable_device/pluggable_device_factory.cc:271] Created TensorFlow device (/job:localhost/replica:0/task:0/device:GPU:0 with 0 MB memory) -> physical PluggableDevice (device: 0, name: METAL, pci bus id: <undefined>)\n"
     ]
    }
   ],
   "source": [
    "mod=tf.keras.models.Sequential()"
   ]
  },
  {
   "cell_type": "code",
   "execution_count": 18,
   "id": "d352fb33-4ba8-4e22-84d9-24d304eeeaad",
   "metadata": {},
   "outputs": [],
   "source": [
    "mod.add(tf.keras.layers.Dense(units=128,activation='relu',input_shape=(4000,)))\n",
    "mod.add(tf.keras.layers.Dense(units=64,activation='relu'))\n",
    "mod.add(tf.keras.layers.Dense(units=32,activation='relu'))\n",
    "mod.add(tf.keras.layers.Dense(units=20,activation='softmax'))"
   ]
  },
  {
   "cell_type": "code",
   "execution_count": 19,
   "id": "efe06cb3-4b9d-4f15-b5e3-aae90cdd1b69",
   "metadata": {},
   "outputs": [],
   "source": [
    "mod.compile(loss=\"sparse_categorical_crossentropy\",metrics=['acc'])"
   ]
  },
  {
   "cell_type": "code",
   "execution_count": 20,
   "id": "41c2d900-85d1-45d6-9d7d-95650cb5dc0b",
   "metadata": {},
   "outputs": [
    {
     "name": "stdout",
     "output_type": "stream",
     "text": [
      "Model: \"sequential\"\n",
      "_________________________________________________________________\n",
      "Layer (type)                 Output Shape              Param #   \n",
      "=================================================================\n",
      "dense (Dense)                (None, 128)               512128    \n",
      "_________________________________________________________________\n",
      "dense_1 (Dense)              (None, 64)                8256      \n",
      "_________________________________________________________________\n",
      "dense_2 (Dense)              (None, 32)                2080      \n",
      "_________________________________________________________________\n",
      "dense_3 (Dense)              (None, 20)                660       \n",
      "=================================================================\n",
      "Total params: 523,124\n",
      "Trainable params: 523,124\n",
      "Non-trainable params: 0\n",
      "_________________________________________________________________\n"
     ]
    }
   ],
   "source": [
    "mod.summary()"
   ]
  },
  {
   "cell_type": "code",
   "execution_count": 21,
   "id": "83064657-eaec-4f7d-bb89-d2a357c9db6e",
   "metadata": {},
   "outputs": [
    {
     "data": {
      "text/plain": [
       "<32000x4000 sparse matrix of type '<class 'numpy.float64'>'\n",
       "\twith 1197143 stored elements in Compressed Sparse Row format>"
      ]
     },
     "execution_count": 21,
     "metadata": {},
     "output_type": "execute_result"
    }
   ],
   "source": [
    "X_train"
   ]
  },
  {
   "cell_type": "code",
   "execution_count": 22,
   "id": "957b1be6-7df8-4234-8d1d-b2131edc243b",
   "metadata": {},
   "outputs": [
    {
     "name": "stderr",
     "output_type": "stream",
     "text": [
      "2022-01-14 17:46:27.720430: W tensorflow/core/platform/profile_utils/cpu_utils.cc:128] Failed to get CPU frequency: 0 Hz\n",
      "2022-01-14 17:46:27.921899: I tensorflow/core/grappler/optimizers/custom_graph_optimizer_registry.cc:112] Plugin optimizer for device_type GPU is enabled.\n"
     ]
    },
    {
     "name": "stdout",
     "output_type": "stream",
     "text": [
      "Epoch 1/10\n",
      "1000/1000 [==============================] - 6s 6ms/step - loss: 1.1669 - acc: 0.6632\n",
      "Epoch 2/10\n",
      "1000/1000 [==============================] - 5s 5ms/step - loss: 0.5786 - acc: 0.8197\n",
      "Epoch 3/10\n",
      "1000/1000 [==============================] - 5s 5ms/step - loss: 0.4930 - acc: 0.8455\n",
      "Epoch 4/10\n",
      "1000/1000 [==============================] - 5s 5ms/step - loss: 0.4424 - acc: 0.8618\n",
      "Epoch 5/10\n",
      "1000/1000 [==============================] - 5s 5ms/step - loss: 0.4020 - acc: 0.8745\n",
      "Epoch 6/10\n",
      "1000/1000 [==============================] - 5s 5ms/step - loss: 0.3692 - acc: 0.8872\n",
      "Epoch 7/10\n",
      "1000/1000 [==============================] - 5s 5ms/step - loss: 0.3368 - acc: 0.8960\n",
      "Epoch 8/10\n",
      "1000/1000 [==============================] - 5s 5ms/step - loss: 0.3065 - acc: 0.9048\n",
      "Epoch 9/10\n",
      "1000/1000 [==============================] - 5s 5ms/step - loss: 0.2776 - acc: 0.9157\n",
      "Epoch 10/10\n",
      "1000/1000 [==============================] - 5s 5ms/step - loss: 0.2517 - acc: 0.9239\n"
     ]
    },
    {
     "data": {
      "text/plain": [
       "<keras.callbacks.History at 0x292a614c0>"
      ]
     },
     "execution_count": 22,
     "metadata": {},
     "output_type": "execute_result"
    }
   ],
   "source": [
    "mod.fit(X_train.toarray(),y_train,epochs=10,batch_size=32)"
   ]
  },
  {
   "cell_type": "code",
   "execution_count": 23,
   "id": "53c16540-598d-45c5-8414-23d8e4c8350b",
   "metadata": {},
   "outputs": [],
   "source": [
    "text='''I have a Winforms application which uses WCF service (also part of the solution) I am using the Visual Studio 2017 with .Net Framework 4.52 and everything was working fine. I upgraded the project to .Net Framework 4.61 (all projects in current solution including WCF project) after the upgrade I am unable to update service reference in WinForms project and keep getting below error\n",
    "\n",
    "The current project does not support service references. To enable windows communication foundation support, change the target version of the Microsoft .Net Framework\n",
    "\n",
    "I trying restarting Visual Studio and my machine but still no luck. I can assure that there is no error in any of the projects because if I downgrade project back to .Net Framework 4.52 then I am able to update service reference successfully so something Visual Studio don't like about 4.61!!\n",
    "\n",
    "Do any of you have similar error, can someone please provide a way to fix this?'''"
   ]
  },
  {
   "cell_type": "code",
   "execution_count": 26,
   "id": "21083e6a-6c49-4da1-a880-7f838689134d",
   "metadata": {},
   "outputs": [
    {
     "data": {
      "text/plain": [
       "0"
      ]
     },
     "execution_count": 26,
     "metadata": {},
     "output_type": "execute_result"
    }
   ],
   "source": [
    "vector_doc=tfidf.transform([text])\n",
    "vec=vector_doc.toarray()\n",
    "mod.predict(vec).argmax()"
   ]
  },
  {
   "cell_type": "code",
   "execution_count": 28,
   "id": "d5d5aa67-b4cc-4661-9c31-554459e44ed7",
   "metadata": {},
   "outputs": [
    {
     "data": {
      "text/plain": [
       "array(['.net'], dtype=object)"
      ]
     },
     "execution_count": 28,
     "metadata": {},
     "output_type": "execute_result"
    }
   ],
   "source": [
    "enc.inverse_transform([0])"
   ]
  },
  {
   "cell_type": "markdown",
   "id": "afc9e875-98db-4b59-a1ba-188995c1ecf7",
   "metadata": {},
   "source": [
    "Data [link](https://drive.google.com/file/d/18a3qXALw6_xEag9SiLsjAsYfn6pMzyrw/view?usp=sharing)"
   ]
  },
  {
   "cell_type": "code",
   "execution_count": 29,
   "id": "393753d7-c043-4295-920d-a5f071381558",
   "metadata": {},
   "outputs": [],
   "source": [
    "###\n",
    "path = '/Users/gunnvantsaini/Documents/Work/Jigsaw Academy/Course Review/Textmining_casestudy/products.csv'"
   ]
  },
  {
   "cell_type": "code",
   "execution_count": 30,
   "id": "487abe8e-f45a-4ba5-a710-4d48d35d83ab",
   "metadata": {},
   "outputs": [],
   "source": [
    "data=pd.read_csv(path)"
   ]
  },
  {
   "cell_type": "code",
   "execution_count": 31,
   "id": "7cd7e5b7-4437-4e44-9a02-6f930617e2be",
   "metadata": {},
   "outputs": [
    {
     "data": {
      "text/html": [
       "<div>\n",
       "<style scoped>\n",
       "    .dataframe tbody tr th:only-of-type {\n",
       "        vertical-align: middle;\n",
       "    }\n",
       "\n",
       "    .dataframe tbody tr th {\n",
       "        vertical-align: top;\n",
       "    }\n",
       "\n",
       "    .dataframe thead th {\n",
       "        text-align: right;\n",
       "    }\n",
       "</style>\n",
       "<table border=\"1\" class=\"dataframe\">\n",
       "  <thead>\n",
       "    <tr style=\"text-align: right;\">\n",
       "      <th></th>\n",
       "      <th>product_id</th>\n",
       "      <th>product_name</th>\n",
       "      <th>aisle_id</th>\n",
       "      <th>department_id</th>\n",
       "    </tr>\n",
       "  </thead>\n",
       "  <tbody>\n",
       "    <tr>\n",
       "      <th>0</th>\n",
       "      <td>1</td>\n",
       "      <td>Chocolate Sandwich Cookies</td>\n",
       "      <td>61</td>\n",
       "      <td>19</td>\n",
       "    </tr>\n",
       "    <tr>\n",
       "      <th>1</th>\n",
       "      <td>2</td>\n",
       "      <td>All-Seasons Salt</td>\n",
       "      <td>104</td>\n",
       "      <td>13</td>\n",
       "    </tr>\n",
       "    <tr>\n",
       "      <th>2</th>\n",
       "      <td>3</td>\n",
       "      <td>Robust Golden Unsweetened Oolong Tea</td>\n",
       "      <td>94</td>\n",
       "      <td>7</td>\n",
       "    </tr>\n",
       "    <tr>\n",
       "      <th>3</th>\n",
       "      <td>4</td>\n",
       "      <td>Smart Ones Classic Favorites Mini Rigatoni Wit...</td>\n",
       "      <td>38</td>\n",
       "      <td>1</td>\n",
       "    </tr>\n",
       "    <tr>\n",
       "      <th>4</th>\n",
       "      <td>5</td>\n",
       "      <td>Green Chile Anytime Sauce</td>\n",
       "      <td>5</td>\n",
       "      <td>13</td>\n",
       "    </tr>\n",
       "  </tbody>\n",
       "</table>\n",
       "</div>"
      ],
      "text/plain": [
       "   product_id                                       product_name  aisle_id  \\\n",
       "0           1                         Chocolate Sandwich Cookies        61   \n",
       "1           2                                   All-Seasons Salt       104   \n",
       "2           3               Robust Golden Unsweetened Oolong Tea        94   \n",
       "3           4  Smart Ones Classic Favorites Mini Rigatoni Wit...        38   \n",
       "4           5                          Green Chile Anytime Sauce         5   \n",
       "\n",
       "   department_id  \n",
       "0             19  \n",
       "1             13  \n",
       "2              7  \n",
       "3              1  \n",
       "4             13  "
      ]
     },
     "execution_count": 31,
     "metadata": {},
     "output_type": "execute_result"
    }
   ],
   "source": [
    "data.head(5)"
   ]
  },
  {
   "cell_type": "code",
   "execution_count": 32,
   "id": "ea43aadf-795c-4e13-aacb-f3f1fe39ab2f",
   "metadata": {},
   "outputs": [
    {
     "data": {
      "text/plain": [
       "(49688, 4)"
      ]
     },
     "execution_count": 32,
     "metadata": {},
     "output_type": "execute_result"
    }
   ],
   "source": [
    "data.shape"
   ]
  },
  {
   "cell_type": "code",
   "execution_count": 33,
   "id": "2d66ad4b-44cc-48f0-90db-27b9a5395cfb",
   "metadata": {},
   "outputs": [],
   "source": [
    "### Mechanism to find similar products ####\n",
    "### Create tfidf representation ###\n",
    "from sklearn.feature_extraction import text\n",
    "corpus=data['product_name'].tolist()"
   ]
  },
  {
   "cell_type": "code",
   "execution_count": 37,
   "id": "889e2ff6-dedd-4642-bd95-1de068aaba78",
   "metadata": {},
   "outputs": [],
   "source": [
    "tfidf = text.TfidfVectorizer(input = data['product_name'].tolist())"
   ]
  },
  {
   "cell_type": "code",
   "execution_count": 38,
   "id": "531ebb12-e3e8-4809-92cc-8e71c1bad824",
   "metadata": {},
   "outputs": [],
   "source": [
    "tfidf_matrix=tfidf.fit_transform(data['product_name'])"
   ]
  },
  {
   "cell_type": "code",
   "execution_count": 39,
   "id": "94707d92-2497-43e3-9920-6e66d853096a",
   "metadata": {},
   "outputs": [
    {
     "data": {
      "text/plain": [
       "(49688, 10737)"
      ]
     },
     "execution_count": 39,
     "metadata": {},
     "output_type": "execute_result"
    }
   ],
   "source": [
    "tfidf_matrix.shape"
   ]
  },
  {
   "cell_type": "code",
   "execution_count": 40,
   "id": "856b9dcc-36ad-4925-a9fa-4a2807f0b565",
   "metadata": {},
   "outputs": [],
   "source": [
    "#### Compute similarity matrix ####\n",
    "from sklearn.metrics import pairwise"
   ]
  },
  {
   "cell_type": "code",
   "execution_count": 41,
   "id": "34bf2deb-c380-409b-a488-5837efeadeef",
   "metadata": {},
   "outputs": [
    {
     "name": "stdout",
     "output_type": "stream",
     "text": [
      "CPU times: user 858 ms, sys: 111 ms, total: 969 ms\n",
      "Wall time: 1 s\n"
     ]
    }
   ],
   "source": [
    "%%time\n",
    "sim_matrix=pairwise.cosine_similarity(tfidf_matrix,dense_output=False)"
   ]
  },
  {
   "cell_type": "code",
   "execution_count": 42,
   "id": "90331af9-9662-42e1-be5a-e292bb4f2b02",
   "metadata": {},
   "outputs": [
    {
     "data": {
      "text/plain": [
       "<49688x49688 sparse matrix of type '<class 'numpy.float64'>'\n",
       "\twith 103527832 stored elements in Compressed Sparse Row format>"
      ]
     },
     "execution_count": 42,
     "metadata": {},
     "output_type": "execute_result"
    }
   ],
   "source": [
    "sim_matrix"
   ]
  },
  {
   "cell_type": "code",
   "execution_count": 43,
   "id": "5a00fb58-a67d-404b-bffa-b7a50271fd19",
   "metadata": {},
   "outputs": [],
   "source": [
    "import numpy as np"
   ]
  },
  {
   "cell_type": "code",
   "execution_count": 44,
   "id": "3d89970d-93d4-4d91-9f4e-aa086e7d837c",
   "metadata": {},
   "outputs": [],
   "source": [
    "ex=np.array(['a','b','c','d'])"
   ]
  },
  {
   "cell_type": "code",
   "execution_count": 45,
   "id": "5473683e-c364-45dc-a366-b04e1a2958a3",
   "metadata": {},
   "outputs": [
    {
     "data": {
      "text/plain": [
       "array(['a', 'b'], dtype='<U1')"
      ]
     },
     "execution_count": 45,
     "metadata": {},
     "output_type": "execute_result"
    }
   ],
   "source": [
    "ex[0:2]"
   ]
  },
  {
   "cell_type": "code",
   "execution_count": 46,
   "id": "2fc6117e-6075-47f3-aa9b-2310542a3b93",
   "metadata": {},
   "outputs": [
    {
     "data": {
      "text/plain": [
       "array(['a', 'c'], dtype='<U1')"
      ]
     },
     "execution_count": 46,
     "metadata": {},
     "output_type": "execute_result"
    }
   ],
   "source": [
    "ex[[True,False,True,False]]"
   ]
  },
  {
   "cell_type": "code",
   "execution_count": 48,
   "id": "92330bb8-430a-4b1f-a6b8-3e3a01c87bbe",
   "metadata": {},
   "outputs": [],
   "source": [
    "from tqdm import tqdm"
   ]
  },
  {
   "cell_type": "code",
   "execution_count": 49,
   "id": "87d6c647-6fec-42cf-bcd7-6c32fe776229",
   "metadata": {},
   "outputs": [
    {
     "name": "stderr",
     "output_type": "stream",
     "text": [
      "100%|████████████████████████████████████| 49688/49688 [00:50<00:00, 992.72it/s]\n"
     ]
    }
   ],
   "source": [
    "results={}\n",
    "for row_id,row in tqdm(enumerate(sim_matrix),total=sim_matrix.shape[0]):\n",
    "    target_product=data.iloc[row_id]['product_name']\n",
    "    target_product_aisle=data.iloc[row_id]['aisle_id']\n",
    "    idx=row.toarray().argsort()\n",
    "    rel_idx=idx.reshape(-1)[-6:-1]\n",
    "    rel_idx=rel_idx[::-1]\n",
    "    names_sim=data.iloc[rel_idx]['product_name'].values\n",
    "    sim_aisle_id=data.iloc[rel_idx]['aisle_id'].values\n",
    "    #### Logic to extract those products whole aisleid is different from target product ###\n",
    "    logical_idx=(sim_aisle_id!=target_product_aisle)\n",
    "    names_diff_aisle_ids=names_sim[logical_idx]\n",
    "    dissimilar_aisle_ids=sim_aisle_id[logical_idx]\n",
    "    ### Save these values ####\n",
    "    results[target_product]={'names':names_diff_aisle_ids,\n",
    "                            'aisle_ids':dissimilar_aisle_ids,\n",
    "                            'target_aisle_id':target_product_aisle}"
   ]
  },
  {
   "cell_type": "code",
   "execution_count": 50,
   "id": "6d6ab51f-30d6-45c2-bacb-c192ae8dbb11",
   "metadata": {},
   "outputs": [
    {
     "data": {
      "text/plain": [
       "{'names': array(['Green Chile Enchilada Sauce',\n",
       "        'Green Chile Medium Enchilada Sauce',\n",
       "        'Medium Green Chile Enchilada Sauce',\n",
       "        'Mild Enchilada Green Chile Sauce',\n",
       "        'Mild Green Chile Enchilada Sauce'], dtype=object),\n",
       " 'aisle_ids': array([30, 30, 30, 30, 30]),\n",
       " 'target_aisle_id': 5}"
      ]
     },
     "execution_count": 50,
     "metadata": {},
     "output_type": "execute_result"
    }
   ],
   "source": [
    "results['Green Chile Anytime Sauce']"
   ]
  },
  {
   "cell_type": "code",
   "execution_count": 51,
   "id": "8d40375c-e32b-4228-855f-3f80a0452ad9",
   "metadata": {},
   "outputs": [
    {
     "name": "stderr",
     "output_type": "stream",
     "text": [
      "100%|█████████████████████████████████| 49688/49688 [00:00<00:00, 484450.15it/s]\n"
     ]
    }
   ],
   "source": [
    "target_name=[]\n",
    "target_aisle=[]\n",
    "sim_names=[]\n",
    "sim_aisles=[]\n",
    "for product in tqdm(results):\n",
    "    details=results[product]\n",
    "    for names in details['names']:\n",
    "        sim_names.append(names)\n",
    "    for aisle in details['aisle_ids']:\n",
    "        sim_aisles.append(aisle)\n",
    "        target_name.append(product)\n",
    "        ID=details['target_aisle_id']\n",
    "        target_aisle.append(ID)"
   ]
  },
  {
   "cell_type": "code",
   "execution_count": 52,
   "id": "34179271-e966-40a8-9073-b6ec0b15eb80",
   "metadata": {},
   "outputs": [
    {
     "data": {
      "text/html": [
       "<div>\n",
       "<style scoped>\n",
       "    .dataframe tbody tr th:only-of-type {\n",
       "        vertical-align: middle;\n",
       "    }\n",
       "\n",
       "    .dataframe tbody tr th {\n",
       "        vertical-align: top;\n",
       "    }\n",
       "\n",
       "    .dataframe thead th {\n",
       "        text-align: right;\n",
       "    }\n",
       "</style>\n",
       "<table border=\"1\" class=\"dataframe\">\n",
       "  <thead>\n",
       "    <tr style=\"text-align: right;\">\n",
       "      <th></th>\n",
       "      <th>target_name</th>\n",
       "      <th>target_aisle</th>\n",
       "      <th>sim_names</th>\n",
       "      <th>sim_aisles</th>\n",
       "    </tr>\n",
       "  </thead>\n",
       "  <tbody>\n",
       "    <tr>\n",
       "      <th>0</th>\n",
       "      <td>Chocolate Sandwich Cookies</td>\n",
       "      <td>61</td>\n",
       "      <td>Vanilla Sandwich Cookies</td>\n",
       "      <td>37</td>\n",
       "    </tr>\n",
       "    <tr>\n",
       "      <th>1</th>\n",
       "      <td>All-Seasons Salt</td>\n",
       "      <td>104</td>\n",
       "      <td>Salsa For All Seasons Tropical Mango</td>\n",
       "      <td>51</td>\n",
       "    </tr>\n",
       "    <tr>\n",
       "      <th>2</th>\n",
       "      <td>All-Seasons Salt</td>\n",
       "      <td>104</td>\n",
       "      <td>Salsa For All Seasons Medium Chipotle Salsa</td>\n",
       "      <td>67</td>\n",
       "    </tr>\n",
       "    <tr>\n",
       "      <th>3</th>\n",
       "      <td>All-Seasons Salt</td>\n",
       "      <td>104</td>\n",
       "      <td>Salsa For All Seasons Half Guacamole Half Roas...</td>\n",
       "      <td>67</td>\n",
       "    </tr>\n",
       "    <tr>\n",
       "      <th>4</th>\n",
       "      <td>Smart Ones Classic Favorites Mini Rigatoni Wit...</td>\n",
       "      <td>38</td>\n",
       "      <td>Smart Ones Classic Favorites Thin Crust Pepper...</td>\n",
       "      <td>79</td>\n",
       "    </tr>\n",
       "    <tr>\n",
       "      <th>...</th>\n",
       "      <td>...</td>\n",
       "      <td>...</td>\n",
       "      <td>...</td>\n",
       "      <td>...</td>\n",
       "    </tr>\n",
       "    <tr>\n",
       "      <th>101232</th>\n",
       "      <td>En Croute Roast Hazelnut Cranberry</td>\n",
       "      <td>42</td>\n",
       "      <td>Granola Bar, Fig, Cranberry &amp; Hazelnut</td>\n",
       "      <td>3</td>\n",
       "    </tr>\n",
       "    <tr>\n",
       "      <th>101233</th>\n",
       "      <td>En Croute Roast Hazelnut Cranberry</td>\n",
       "      <td>42</td>\n",
       "      <td>Hencho en Mexico</td>\n",
       "      <td>77</td>\n",
       "    </tr>\n",
       "    <tr>\n",
       "      <th>101234</th>\n",
       "      <td>En Croute Roast Hazelnut Cranberry</td>\n",
       "      <td>42</td>\n",
       "      <td>Hazelnut Light Roast K-Cup Packs</td>\n",
       "      <td>26</td>\n",
       "    </tr>\n",
       "    <tr>\n",
       "      <th>101235</th>\n",
       "      <td>En Croute Roast Hazelnut Cranberry</td>\n",
       "      <td>42</td>\n",
       "      <td>Organic Cranberry</td>\n",
       "      <td>98</td>\n",
       "    </tr>\n",
       "    <tr>\n",
       "      <th>101236</th>\n",
       "      <td>Artisan Baguette</td>\n",
       "      <td>112</td>\n",
       "      <td>White Baguette</td>\n",
       "      <td>43</td>\n",
       "    </tr>\n",
       "  </tbody>\n",
       "</table>\n",
       "<p>101237 rows × 4 columns</p>\n",
       "</div>"
      ],
      "text/plain": [
       "                                              target_name  target_aisle  \\\n",
       "0                              Chocolate Sandwich Cookies            61   \n",
       "1                                        All-Seasons Salt           104   \n",
       "2                                        All-Seasons Salt           104   \n",
       "3                                        All-Seasons Salt           104   \n",
       "4       Smart Ones Classic Favorites Mini Rigatoni Wit...            38   \n",
       "...                                                   ...           ...   \n",
       "101232                 En Croute Roast Hazelnut Cranberry            42   \n",
       "101233                 En Croute Roast Hazelnut Cranberry            42   \n",
       "101234                 En Croute Roast Hazelnut Cranberry            42   \n",
       "101235                 En Croute Roast Hazelnut Cranberry            42   \n",
       "101236                                   Artisan Baguette           112   \n",
       "\n",
       "                                                sim_names  sim_aisles  \n",
       "0                                Vanilla Sandwich Cookies          37  \n",
       "1                    Salsa For All Seasons Tropical Mango          51  \n",
       "2             Salsa For All Seasons Medium Chipotle Salsa          67  \n",
       "3       Salsa For All Seasons Half Guacamole Half Roas...          67  \n",
       "4       Smart Ones Classic Favorites Thin Crust Pepper...          79  \n",
       "...                                                   ...         ...  \n",
       "101232             Granola Bar, Fig, Cranberry & Hazelnut           3  \n",
       "101233                                   Hencho en Mexico          77  \n",
       "101234                   Hazelnut Light Roast K-Cup Packs          26  \n",
       "101235                                  Organic Cranberry          98  \n",
       "101236                                     White Baguette          43  \n",
       "\n",
       "[101237 rows x 4 columns]"
      ]
     },
     "execution_count": 52,
     "metadata": {},
     "output_type": "execute_result"
    }
   ],
   "source": [
    "pd.DataFrame({'target_name':target_name,'target_aisle':target_aisle,\n",
    "             'sim_names':sim_names,'sim_aisles':sim_aisles})"
   ]
  },
  {
   "cell_type": "code",
   "execution_count": null,
   "id": "edee6f66-45dd-4678-813e-01437d9ec712",
   "metadata": {},
   "outputs": [],
   "source": []
  }
 ],
 "metadata": {
  "kernelspec": {
   "display_name": "Python 3 (ipykernel)",
   "language": "python",
   "name": "python3"
  },
  "language_info": {
   "codemirror_mode": {
    "name": "ipython",
    "version": 3
   },
   "file_extension": ".py",
   "mimetype": "text/x-python",
   "name": "python",
   "nbconvert_exporter": "python",
   "pygments_lexer": "ipython3",
   "version": "3.9.9"
  }
 },
 "nbformat": 4,
 "nbformat_minor": 5
}
