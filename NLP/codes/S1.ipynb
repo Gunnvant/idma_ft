{
 "cells": [
  {
   "cell_type": "code",
   "execution_count": 1,
   "id": "91595a1b-48dd-4e84-89fe-44d1a2e68b1d",
   "metadata": {},
   "outputs": [],
   "source": [
    "import pandas as pd\n",
    "path_train = \"/Users/gunnvantsaini/Documents/Data/Kaggle/News/BBC News Train.csv\"\n",
    "path_test = \"/Users/gunnvantsaini/Documents/Data/Kaggle/News/BBC News Test.csv\""
   ]
  },
  {
   "cell_type": "code",
   "execution_count": 4,
   "id": "7b9fb2dd-0f33-4aba-99b5-94c0808d54fc",
   "metadata": {},
   "outputs": [],
   "source": [
    "train = pd.read_csv(path_train)\n",
    "test = pd.read_csv(path_test)"
   ]
  },
  {
   "cell_type": "code",
   "execution_count": 5,
   "id": "78ca2c0a-c1ae-405f-8e8c-cf77a8fe0b14",
   "metadata": {},
   "outputs": [
    {
     "data": {
      "text/html": [
       "<div>\n",
       "<style scoped>\n",
       "    .dataframe tbody tr th:only-of-type {\n",
       "        vertical-align: middle;\n",
       "    }\n",
       "\n",
       "    .dataframe tbody tr th {\n",
       "        vertical-align: top;\n",
       "    }\n",
       "\n",
       "    .dataframe thead th {\n",
       "        text-align: right;\n",
       "    }\n",
       "</style>\n",
       "<table border=\"1\" class=\"dataframe\">\n",
       "  <thead>\n",
       "    <tr style=\"text-align: right;\">\n",
       "      <th></th>\n",
       "      <th>ArticleId</th>\n",
       "      <th>Text</th>\n",
       "      <th>Category</th>\n",
       "    </tr>\n",
       "  </thead>\n",
       "  <tbody>\n",
       "    <tr>\n",
       "      <th>0</th>\n",
       "      <td>1833</td>\n",
       "      <td>worldcom ex-boss launches defence lawyers defe...</td>\n",
       "      <td>business</td>\n",
       "    </tr>\n",
       "    <tr>\n",
       "      <th>1</th>\n",
       "      <td>154</td>\n",
       "      <td>german business confidence slides german busin...</td>\n",
       "      <td>business</td>\n",
       "    </tr>\n",
       "  </tbody>\n",
       "</table>\n",
       "</div>"
      ],
      "text/plain": [
       "   ArticleId                                               Text  Category\n",
       "0       1833  worldcom ex-boss launches defence lawyers defe...  business\n",
       "1        154  german business confidence slides german busin...  business"
      ]
     },
     "execution_count": 5,
     "metadata": {},
     "output_type": "execute_result"
    }
   ],
   "source": [
    "train.head(2)"
   ]
  },
  {
   "cell_type": "code",
   "execution_count": 6,
   "id": "6b46956a-c122-4c0c-9010-e4afa596d3b5",
   "metadata": {},
   "outputs": [],
   "source": [
    "## We will create a classifier using embedding layer architecture\n",
    "X=train['Text']\n",
    "y=train['Category']"
   ]
  },
  {
   "cell_type": "code",
   "execution_count": 7,
   "id": "f97c6b9d-73ce-4458-903f-b83e797f90a6",
   "metadata": {},
   "outputs": [],
   "source": [
    "from sklearn.model_selection import train_test_split\n",
    "from sklearn.preprocessing import LabelEncoder"
   ]
  },
  {
   "cell_type": "code",
   "execution_count": 8,
   "id": "787555f2-838c-4250-946d-0d4a46341734",
   "metadata": {},
   "outputs": [],
   "source": [
    "X_train,X_test,y_train,y_test=train_test_split(X,y,test_size=0.20,random_state=200)"
   ]
  },
  {
   "cell_type": "code",
   "execution_count": 9,
   "id": "7f70e372-f235-46cd-bb22-8090b4ba28e2",
   "metadata": {},
   "outputs": [],
   "source": [
    "enc=LabelEncoder()"
   ]
  },
  {
   "cell_type": "code",
   "execution_count": 10,
   "id": "de6fc6a9-752e-4826-93bf-21b40fb3e84b",
   "metadata": {},
   "outputs": [],
   "source": [
    "y_train=enc.fit_transform(y_train)"
   ]
  },
  {
   "cell_type": "code",
   "execution_count": 11,
   "id": "c99d045d-c84f-4df5-8cec-da1de1556d05",
   "metadata": {},
   "outputs": [
    {
     "data": {
      "text/plain": [
       "array(['business', 'entertainment', 'politics', 'sport', 'tech'],\n",
       "      dtype=object)"
      ]
     },
     "execution_count": 11,
     "metadata": {},
     "output_type": "execute_result"
    }
   ],
   "source": [
    "enc.classes_"
   ]
  },
  {
   "cell_type": "code",
   "execution_count": 12,
   "id": "be650802-8989-4a29-b6ba-e0ddea6b91f5",
   "metadata": {},
   "outputs": [
    {
     "data": {
      "text/plain": [
       "array([4, 3, 0, ..., 3, 1, 1])"
      ]
     },
     "execution_count": 12,
     "metadata": {},
     "output_type": "execute_result"
    }
   ],
   "source": [
    "y_train"
   ]
  },
  {
   "cell_type": "code",
   "execution_count": 14,
   "id": "f88016f7-c177-4c8e-accb-601d25a76f11",
   "metadata": {},
   "outputs": [],
   "source": [
    "import tensorflow as tf"
   ]
  },
  {
   "cell_type": "code",
   "execution_count": 16,
   "id": "5a61b96e-8f03-4221-856f-5ca1b4cbf106",
   "metadata": {},
   "outputs": [],
   "source": [
    "#### tf2.2+ ####\n",
    "from tensorflow.keras.layers.experimental.preprocessing import TextVectorization"
   ]
  },
  {
   "cell_type": "code",
   "execution_count": 17,
   "id": "105676bd-e4b7-4e8c-a2bd-6f4283d845b2",
   "metadata": {},
   "outputs": [],
   "source": [
    "seq_len=16"
   ]
  },
  {
   "cell_type": "code",
   "execution_count": 18,
   "id": "d4e74338-34ea-4f97-bf13-5640f5c91b8f",
   "metadata": {},
   "outputs": [
    {
     "name": "stdout",
     "output_type": "stream",
     "text": [
      "Metal device set to: Apple M1\n"
     ]
    },
    {
     "name": "stderr",
     "output_type": "stream",
     "text": [
      "2022-01-27 10:40:18.457948: I tensorflow/core/common_runtime/pluggable_device/pluggable_device_factory.cc:305] Could not identify NUMA node of platform GPU ID 0, defaulting to 0. Your kernel may not have been built with NUMA support.\n",
      "2022-01-27 10:40:18.458891: I tensorflow/core/common_runtime/pluggable_device/pluggable_device_factory.cc:271] Created TensorFlow device (/job:localhost/replica:0/task:0/device:GPU:0 with 0 MB memory) -> physical PluggableDevice (device: 0, name: METAL, pci bus id: <undefined>)\n"
     ]
    }
   ],
   "source": [
    "vectorizer=TextVectorization(max_tokens=30000,output_sequence_length=seq_len) ### tfidf object"
   ]
  },
  {
   "cell_type": "code",
   "execution_count": 19,
   "id": "760d9727-8528-4a44-9c01-d8d82f8870d1",
   "metadata": {},
   "outputs": [],
   "source": [
    "text_ds=tf.data.Dataset.from_tensor_slices(X_train).batch(64)"
   ]
  },
  {
   "cell_type": "code",
   "execution_count": 20,
   "id": "62a9dac0-a196-4cd6-86d4-d26ad0f81199",
   "metadata": {},
   "outputs": [
    {
     "data": {
      "text/plain": [
       "<BatchDataset shapes: (None,), types: tf.string>"
      ]
     },
     "execution_count": 20,
     "metadata": {},
     "output_type": "execute_result"
    }
   ],
   "source": [
    "text_ds"
   ]
  },
  {
   "cell_type": "code",
   "execution_count": 21,
   "id": "37030aa5-a108-49a4-b922-0dea68b690d1",
   "metadata": {},
   "outputs": [
    {
     "name": "stderr",
     "output_type": "stream",
     "text": [
      "2022-01-27 10:40:45.600609: W tensorflow/core/platform/profile_utils/cpu_utils.cc:128] Failed to get CPU frequency: 0 Hz\n",
      "2022-01-27 10:40:45.601068: I tensorflow/core/grappler/optimizers/custom_graph_optimizer_registry.cc:112] Plugin optimizer for device_type GPU is enabled.\n"
     ]
    }
   ],
   "source": [
    "vectorizer.adapt(text_ds) ### fit_transform"
   ]
  },
  {
   "cell_type": "code",
   "execution_count": 22,
   "id": "b22c2214-7960-45c6-b4b0-f1700da06ba0",
   "metadata": {},
   "outputs": [
    {
     "data": {
      "text/plain": [
       "['', '[UNK]', 'the', 'to', 'of']"
      ]
     },
     "execution_count": 22,
     "metadata": {},
     "output_type": "execute_result"
    }
   ],
   "source": [
    "vectorizer.get_vocabulary()[:5]"
   ]
  },
  {
   "cell_type": "code",
   "execution_count": 23,
   "id": "ef782ca8-7bf4-4541-925d-b473dcdc9a65",
   "metadata": {},
   "outputs": [
    {
     "data": {
      "text/plain": [
       "24865"
      ]
     },
     "execution_count": 23,
     "metadata": {},
     "output_type": "execute_result"
    }
   ],
   "source": [
    "len(vectorizer.get_vocabulary())"
   ]
  },
  {
   "cell_type": "code",
   "execution_count": 24,
   "id": "3f061828-572e-4965-aefa-9289ed7e2bbc",
   "metadata": {},
   "outputs": [],
   "source": [
    "sent='the cat ate the rat dfnasdfn'"
   ]
  },
  {
   "cell_type": "code",
   "execution_count": 26,
   "id": "042c681b-3c51-4d3e-a12f-23ddda8e357f",
   "metadata": {},
   "outputs": [
    {
     "data": {
      "text/plain": [
       "array([['the cat ate the rat dfnasdfn']], dtype='<U28')"
      ]
     },
     "execution_count": 26,
     "metadata": {},
     "output_type": "execute_result"
    }
   ],
   "source": [
    "import numpy as np\n",
    "np.array([[sent]])"
   ]
  },
  {
   "cell_type": "code",
   "execution_count": 27,
   "id": "09f0df2e-e140-435b-bcc7-f296b4d668d9",
   "metadata": {},
   "outputs": [
    {
     "data": {
      "text/plain": [
       "<tf.Tensor: shape=(1, 16), dtype=int64, numpy=\n",
       "array([[    2,  7541, 23495,     2, 12131,     1,     0,     0,     0,\n",
       "            0,     0,     0,     0,     0,     0,     0]])>"
      ]
     },
     "execution_count": 27,
     "metadata": {},
     "output_type": "execute_result"
    }
   ],
   "source": [
    "vectorizer(np.array([[sent]])) ### words will have an offset of 2\n",
    "### 0->padding\n",
    "### 1-> oov words"
   ]
  },
  {
   "cell_type": "code",
   "execution_count": 30,
   "id": "14096ed2-ee82-44c1-bba8-be804970b5a7",
   "metadata": {},
   "outputs": [],
   "source": [
    "from tensorflow import keras"
   ]
  },
  {
   "cell_type": "code",
   "execution_count": 31,
   "id": "ece2c0fb-28be-4710-8e38-8836567873fb",
   "metadata": {},
   "outputs": [],
   "source": [
    "from tensorflow.keras import layers"
   ]
  },
  {
   "cell_type": "code",
   "execution_count": 37,
   "id": "4c8dc3dc-b822-42b0-aeb6-052307d4981e",
   "metadata": {},
   "outputs": [],
   "source": [
    "inputs = keras.Input(shape=(1,),dtype='string')\n",
    "x = vectorizer(inputs)\n",
    "x = layers.Embedding(input_dim=24865,output_dim=64)(x) ### [obj1,obj2,...obj16] ### 50, 100,300\n",
    "x = layers.Flatten()(x)\n",
    "x = layers.Dense(64,activation='relu')(x)\n",
    "x = layers.Dense(4,activation='softmax')(x)"
   ]
  },
  {
   "cell_type": "code",
   "execution_count": 38,
   "id": "cffd73a7-a9fe-4d11-9bad-5eae7dd3b871",
   "metadata": {},
   "outputs": [],
   "source": [
    "model=tf.keras.Model(inputs,x)"
   ]
  },
  {
   "cell_type": "code",
   "execution_count": 39,
   "id": "f06ec0e3-b478-44dd-b103-64459ad495ef",
   "metadata": {},
   "outputs": [
    {
     "name": "stdout",
     "output_type": "stream",
     "text": [
      "Model: \"model_1\"\n",
      "_________________________________________________________________\n",
      "Layer (type)                 Output Shape              Param #   \n",
      "=================================================================\n",
      "input_2 (InputLayer)         [(None, 1)]               0         \n",
      "_________________________________________________________________\n",
      "text_vectorization (TextVect (None, 16)                0         \n",
      "_________________________________________________________________\n",
      "embedding_1 (Embedding)      (None, 16, 64)            1591360   \n",
      "_________________________________________________________________\n",
      "flatten_1 (Flatten)          (None, 1024)              0         \n",
      "_________________________________________________________________\n",
      "dense_2 (Dense)              (None, 64)                65600     \n",
      "_________________________________________________________________\n",
      "dense_3 (Dense)              (None, 4)                 260       \n",
      "=================================================================\n",
      "Total params: 1,657,220\n",
      "Trainable params: 1,657,220\n",
      "Non-trainable params: 0\n",
      "_________________________________________________________________\n"
     ]
    }
   ],
   "source": [
    "model.summary()"
   ]
  },
  {
   "cell_type": "code",
   "execution_count": 40,
   "id": "4a8287be-4dbd-4a0f-a725-1cff839065e6",
   "metadata": {},
   "outputs": [],
   "source": [
    "model.compile(loss='sparse_categorical_crossentropy',metrics=['acc'])"
   ]
  },
  {
   "cell_type": "code",
   "execution_count": 36,
   "id": "0a1f4aad-c925-47f0-ad87-45dc5737b2a7",
   "metadata": {},
   "outputs": [
    {
     "name": "stdout",
     "output_type": "stream",
     "text": [
      "Epoch 1/5\n"
     ]
    },
    {
     "name": "stderr",
     "output_type": "stream",
     "text": [
      "2022-01-27 10:43:49.643334: I tensorflow/core/grappler/optimizers/custom_graph_optimizer_registry.cc:112] Plugin optimizer for device_type GPU is enabled.\n"
     ]
    },
    {
     "name": "stdout",
     "output_type": "stream",
     "text": [
      "9/9 [==============================] - 1s 36ms/step - loss: 1.1276 - acc: 0.2761 - val_loss: 1.2173 - val_acc: 0.4167\n",
      "Epoch 2/5\n",
      "7/9 [======================>.......] - ETA: 0s - loss: 1.0386 - acc: 0.7344"
     ]
    },
    {
     "name": "stderr",
     "output_type": "stream",
     "text": [
      "2022-01-27 10:43:50.326112: I tensorflow/core/grappler/optimizers/custom_graph_optimizer_registry.cc:112] Plugin optimizer for device_type GPU is enabled.\n"
     ]
    },
    {
     "name": "stdout",
     "output_type": "stream",
     "text": [
      "9/9 [==============================] - 0s 19ms/step - loss: 1.0402 - acc: 0.7341 - val_loss: 1.1792 - val_acc: 0.4417\n",
      "Epoch 3/5\n",
      "9/9 [==============================] - 0s 19ms/step - loss: 0.9145 - acc: 0.7976 - val_loss: 1.1035 - val_acc: 0.5583\n",
      "Epoch 4/5\n",
      "9/9 [==============================] - 0s 20ms/step - loss: 0.7241 - acc: 0.8116 - val_loss: 0.9888 - val_acc: 0.6500\n",
      "Epoch 5/5\n",
      "9/9 [==============================] - 0s 17ms/step - loss: 0.5072 - acc: 0.8162 - val_loss: 0.8729 - val_acc: 0.6583\n"
     ]
    },
    {
     "data": {
      "text/plain": [
       "<keras.callbacks.History at 0x179d132e0>"
      ]
     },
     "execution_count": 36,
     "metadata": {},
     "output_type": "execute_result"
    }
   ],
   "source": [
    "model.fit(X_train,y_train,batch_size=128,epochs=5,validation_split=0.10)"
   ]
  },
  {
   "cell_type": "code",
   "execution_count": null,
   "id": "d669d466-c3a6-41ac-a8a4-26a26006d598",
   "metadata": {},
   "outputs": [],
   "source": []
  }
 ],
 "metadata": {
  "kernelspec": {
   "display_name": "Python 3 (ipykernel)",
   "language": "python",
   "name": "python3"
  },
  "language_info": {
   "codemirror_mode": {
    "name": "ipython",
    "version": 3
   },
   "file_extension": ".py",
   "mimetype": "text/x-python",
   "name": "python",
   "nbconvert_exporter": "python",
   "pygments_lexer": "ipython3",
   "version": "3.9.9"
  }
 },
 "nbformat": 4,
 "nbformat_minor": 5
}
