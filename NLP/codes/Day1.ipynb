{
 "cells": [
  {
   "cell_type": "markdown",
   "id": "30855509-ffa9-4b8f-a9e5-f4c73f2c9779",
   "metadata": {},
   "source": [
    "## Agenda\n",
    "- BOW representation of text\n",
    "- Finding key-words using BOW vectors\n",
    "- Finding document similarity using cosine distance"
   ]
  },
  {
   "cell_type": "code",
   "execution_count": 1,
   "id": "588047f9-d8fc-4387-b97a-f86b018ecf7d",
   "metadata": {},
   "outputs": [],
   "source": [
    "from sklearn.feature_extraction import text"
   ]
  },
  {
   "cell_type": "code",
   "execution_count": 2,
   "id": "325ff33d-dc33-4aa1-9cd0-43f0b0f130d5",
   "metadata": {},
   "outputs": [],
   "source": [
    "corpus=[\"This is description one\",\n",
    "        \"This is description two\",\n",
    "        \"This is description three\",\n",
    "        \"This is description four\"]"
   ]
  },
  {
   "cell_type": "code",
   "execution_count": 3,
   "id": "d418ea4f-982e-4cf4-8a6f-82fcf102a031",
   "metadata": {},
   "outputs": [],
   "source": [
    "cv=text.CountVectorizer(input=corpus)"
   ]
  },
  {
   "cell_type": "code",
   "execution_count": 4,
   "id": "6c85bde3-2369-479d-ba8f-c9812f1f35b1",
   "metadata": {},
   "outputs": [],
   "source": [
    "bow=cv.fit_transform(corpus)"
   ]
  },
  {
   "cell_type": "code",
   "execution_count": 5,
   "id": "543b8cdd-8a61-4314-8229-aa8bf54e0243",
   "metadata": {},
   "outputs": [
    {
     "data": {
      "text/plain": [
       "<4x7 sparse matrix of type '<class 'numpy.int64'>'\n",
       "\twith 16 stored elements in Compressed Sparse Row format>"
      ]
     },
     "execution_count": 5,
     "metadata": {},
     "output_type": "execute_result"
    }
   ],
   "source": [
    "bowx"
   ]
  },
  {
   "cell_type": "code",
   "execution_count": 6,
   "id": "c7589ab0-e36c-4ca9-8124-36665c35bb6d",
   "metadata": {},
   "outputs": [
    {
     "data": {
      "text/plain": [
       "array([[1, 0, 1, 1, 1, 0, 0],\n",
       "       [1, 0, 1, 0, 1, 0, 1],\n",
       "       [1, 0, 1, 0, 1, 1, 0],\n",
       "       [1, 1, 1, 0, 1, 0, 0]])"
      ]
     },
     "execution_count": 6,
     "metadata": {},
     "output_type": "execute_result"
    }
   ],
   "source": [
    "bow.toarray() ### dense form ## unigram representation"
   ]
  },
  {
   "cell_type": "code",
   "execution_count": 8,
   "id": "a9e7a92a-71a2-43d0-8c59-e9e6eefeb7a1",
   "metadata": {},
   "outputs": [
    {
     "data": {
      "text/plain": [
       "array(['description', 'four', 'is', 'one', 'this', 'three', 'two'],\n",
       "      dtype=object)"
      ]
     },
     "execution_count": 8,
     "metadata": {},
     "output_type": "execute_result"
    }
   ],
   "source": [
    "cv.get_feature_names_out()"
   ]
  },
  {
   "cell_type": "code",
   "execution_count": 9,
   "id": "68454b12-520c-4d58-8837-20b53fbc7da5",
   "metadata": {},
   "outputs": [
    {
     "data": {
      "text/html": [
       "<div>\n",
       "<style scoped>\n",
       "    .dataframe tbody tr th:only-of-type {\n",
       "        vertical-align: middle;\n",
       "    }\n",
       "\n",
       "    .dataframe tbody tr th {\n",
       "        vertical-align: top;\n",
       "    }\n",
       "\n",
       "    .dataframe thead th {\n",
       "        text-align: right;\n",
       "    }\n",
       "</style>\n",
       "<table border=\"1\" class=\"dataframe\">\n",
       "  <thead>\n",
       "    <tr style=\"text-align: right;\">\n",
       "      <th></th>\n",
       "      <th>description</th>\n",
       "      <th>four</th>\n",
       "      <th>is</th>\n",
       "      <th>one</th>\n",
       "      <th>this</th>\n",
       "      <th>three</th>\n",
       "      <th>two</th>\n",
       "    </tr>\n",
       "  </thead>\n",
       "  <tbody>\n",
       "    <tr>\n",
       "      <th>0</th>\n",
       "      <td>1</td>\n",
       "      <td>0</td>\n",
       "      <td>1</td>\n",
       "      <td>1</td>\n",
       "      <td>1</td>\n",
       "      <td>0</td>\n",
       "      <td>0</td>\n",
       "    </tr>\n",
       "    <tr>\n",
       "      <th>1</th>\n",
       "      <td>1</td>\n",
       "      <td>0</td>\n",
       "      <td>1</td>\n",
       "      <td>0</td>\n",
       "      <td>1</td>\n",
       "      <td>0</td>\n",
       "      <td>1</td>\n",
       "    </tr>\n",
       "    <tr>\n",
       "      <th>2</th>\n",
       "      <td>1</td>\n",
       "      <td>0</td>\n",
       "      <td>1</td>\n",
       "      <td>0</td>\n",
       "      <td>1</td>\n",
       "      <td>1</td>\n",
       "      <td>0</td>\n",
       "    </tr>\n",
       "    <tr>\n",
       "      <th>3</th>\n",
       "      <td>1</td>\n",
       "      <td>1</td>\n",
       "      <td>1</td>\n",
       "      <td>0</td>\n",
       "      <td>1</td>\n",
       "      <td>0</td>\n",
       "      <td>0</td>\n",
       "    </tr>\n",
       "  </tbody>\n",
       "</table>\n",
       "</div>"
      ],
      "text/plain": [
       "   description  four  is  one  this  three  two\n",
       "0            1     0   1    1     1      0    0\n",
       "1            1     0   1    0     1      0    1\n",
       "2            1     0   1    0     1      1    0\n",
       "3            1     1   1    0     1      0    0"
      ]
     },
     "execution_count": 9,
     "metadata": {},
     "output_type": "execute_result"
    }
   ],
   "source": [
    "import pandas as pd\n",
    "pd.DataFrame(bow.toarray(),columns=cv.get_feature_names_out())"
   ]
  },
  {
   "cell_type": "code",
   "execution_count": 10,
   "id": "15933153-c148-4906-ab06-cc93d624f4d7",
   "metadata": {},
   "outputs": [],
   "source": [
    "cv2=text.CountVectorizer(input=corpus,ngram_range=(1,3))"
   ]
  },
  {
   "cell_type": "code",
   "execution_count": 11,
   "id": "3a93501c-055f-4e4e-b393-55ae60ddf231",
   "metadata": {},
   "outputs": [],
   "source": [
    "bow2=cv2.fit_transform(corpus)"
   ]
  },
  {
   "cell_type": "code",
   "execution_count": 12,
   "id": "5a94a7f0-6a4e-426e-982f-3a5e99d2c373",
   "metadata": {},
   "outputs": [
    {
     "data": {
      "text/html": [
       "<div>\n",
       "<style scoped>\n",
       "    .dataframe tbody tr th:only-of-type {\n",
       "        vertical-align: middle;\n",
       "    }\n",
       "\n",
       "    .dataframe tbody tr th {\n",
       "        vertical-align: top;\n",
       "    }\n",
       "\n",
       "    .dataframe thead th {\n",
       "        text-align: right;\n",
       "    }\n",
       "</style>\n",
       "<table border=\"1\" class=\"dataframe\">\n",
       "  <thead>\n",
       "    <tr style=\"text-align: right;\">\n",
       "      <th></th>\n",
       "      <th>description</th>\n",
       "      <th>description four</th>\n",
       "      <th>description one</th>\n",
       "      <th>description three</th>\n",
       "      <th>description two</th>\n",
       "      <th>four</th>\n",
       "      <th>is</th>\n",
       "      <th>is description</th>\n",
       "      <th>is description four</th>\n",
       "      <th>is description one</th>\n",
       "      <th>is description three</th>\n",
       "      <th>is description two</th>\n",
       "      <th>one</th>\n",
       "      <th>this</th>\n",
       "      <th>this is</th>\n",
       "      <th>this is description</th>\n",
       "      <th>three</th>\n",
       "      <th>two</th>\n",
       "    </tr>\n",
       "  </thead>\n",
       "  <tbody>\n",
       "    <tr>\n",
       "      <th>0</th>\n",
       "      <td>1</td>\n",
       "      <td>0</td>\n",
       "      <td>1</td>\n",
       "      <td>0</td>\n",
       "      <td>0</td>\n",
       "      <td>0</td>\n",
       "      <td>1</td>\n",
       "      <td>1</td>\n",
       "      <td>0</td>\n",
       "      <td>1</td>\n",
       "      <td>0</td>\n",
       "      <td>0</td>\n",
       "      <td>1</td>\n",
       "      <td>1</td>\n",
       "      <td>1</td>\n",
       "      <td>1</td>\n",
       "      <td>0</td>\n",
       "      <td>0</td>\n",
       "    </tr>\n",
       "    <tr>\n",
       "      <th>1</th>\n",
       "      <td>1</td>\n",
       "      <td>0</td>\n",
       "      <td>0</td>\n",
       "      <td>0</td>\n",
       "      <td>1</td>\n",
       "      <td>0</td>\n",
       "      <td>1</td>\n",
       "      <td>1</td>\n",
       "      <td>0</td>\n",
       "      <td>0</td>\n",
       "      <td>0</td>\n",
       "      <td>1</td>\n",
       "      <td>0</td>\n",
       "      <td>1</td>\n",
       "      <td>1</td>\n",
       "      <td>1</td>\n",
       "      <td>0</td>\n",
       "      <td>1</td>\n",
       "    </tr>\n",
       "    <tr>\n",
       "      <th>2</th>\n",
       "      <td>1</td>\n",
       "      <td>0</td>\n",
       "      <td>0</td>\n",
       "      <td>1</td>\n",
       "      <td>0</td>\n",
       "      <td>0</td>\n",
       "      <td>1</td>\n",
       "      <td>1</td>\n",
       "      <td>0</td>\n",
       "      <td>0</td>\n",
       "      <td>1</td>\n",
       "      <td>0</td>\n",
       "      <td>0</td>\n",
       "      <td>1</td>\n",
       "      <td>1</td>\n",
       "      <td>1</td>\n",
       "      <td>1</td>\n",
       "      <td>0</td>\n",
       "    </tr>\n",
       "    <tr>\n",
       "      <th>3</th>\n",
       "      <td>1</td>\n",
       "      <td>1</td>\n",
       "      <td>0</td>\n",
       "      <td>0</td>\n",
       "      <td>0</td>\n",
       "      <td>1</td>\n",
       "      <td>1</td>\n",
       "      <td>1</td>\n",
       "      <td>1</td>\n",
       "      <td>0</td>\n",
       "      <td>0</td>\n",
       "      <td>0</td>\n",
       "      <td>0</td>\n",
       "      <td>1</td>\n",
       "      <td>1</td>\n",
       "      <td>1</td>\n",
       "      <td>0</td>\n",
       "      <td>0</td>\n",
       "    </tr>\n",
       "  </tbody>\n",
       "</table>\n",
       "</div>"
      ],
      "text/plain": [
       "   description  description four  description one  description three  \\\n",
       "0            1                 0                1                  0   \n",
       "1            1                 0                0                  0   \n",
       "2            1                 0                0                  1   \n",
       "3            1                 1                0                  0   \n",
       "\n",
       "   description two  four  is  is description  is description four  \\\n",
       "0                0     0   1               1                    0   \n",
       "1                1     0   1               1                    0   \n",
       "2                0     0   1               1                    0   \n",
       "3                0     1   1               1                    1   \n",
       "\n",
       "   is description one  is description three  is description two  one  this  \\\n",
       "0                   1                     0                   0    1     1   \n",
       "1                   0                     0                   1    0     1   \n",
       "2                   0                     1                   0    0     1   \n",
       "3                   0                     0                   0    0     1   \n",
       "\n",
       "   this is  this is description  three  two  \n",
       "0        1                    1      0    0  \n",
       "1        1                    1      0    1  \n",
       "2        1                    1      1    0  \n",
       "3        1                    1      0    0  "
      ]
     },
     "execution_count": 12,
     "metadata": {},
     "output_type": "execute_result"
    }
   ],
   "source": [
    "pd.DataFrame(bow2.toarray(),columns=cv2.get_feature_names_out())"
   ]
  },
  {
   "cell_type": "code",
   "execution_count": 13,
   "id": "92cdcc2b-fea4-4346-bde7-cfb4d4d64d6c",
   "metadata": {},
   "outputs": [],
   "source": [
    "#### How to compute tfidf vectors #####\n",
    "tfidf=text.TfidfVectorizer(input=corpus)\n",
    "tfidf_matrix=tfidf.fit_transform(corpus)"
   ]
  },
  {
   "cell_type": "code",
   "execution_count": 14,
   "id": "be0da646-4551-48ad-ac95-b43744971c18",
   "metadata": {},
   "outputs": [
    {
     "data": {
      "text/html": [
       "<div>\n",
       "<style scoped>\n",
       "    .dataframe tbody tr th:only-of-type {\n",
       "        vertical-align: middle;\n",
       "    }\n",
       "\n",
       "    .dataframe tbody tr th {\n",
       "        vertical-align: top;\n",
       "    }\n",
       "\n",
       "    .dataframe thead th {\n",
       "        text-align: right;\n",
       "    }\n",
       "</style>\n",
       "<table border=\"1\" class=\"dataframe\">\n",
       "  <thead>\n",
       "    <tr style=\"text-align: right;\">\n",
       "      <th></th>\n",
       "      <th>description</th>\n",
       "      <th>four</th>\n",
       "      <th>is</th>\n",
       "      <th>one</th>\n",
       "      <th>this</th>\n",
       "      <th>three</th>\n",
       "      <th>two</th>\n",
       "    </tr>\n",
       "  </thead>\n",
       "  <tbody>\n",
       "    <tr>\n",
       "      <th>0</th>\n",
       "      <td>0.387139</td>\n",
       "      <td>0.00000</td>\n",
       "      <td>0.387139</td>\n",
       "      <td>0.74187</td>\n",
       "      <td>0.387139</td>\n",
       "      <td>0.00000</td>\n",
       "      <td>0.00000</td>\n",
       "    </tr>\n",
       "    <tr>\n",
       "      <th>1</th>\n",
       "      <td>0.387139</td>\n",
       "      <td>0.00000</td>\n",
       "      <td>0.387139</td>\n",
       "      <td>0.00000</td>\n",
       "      <td>0.387139</td>\n",
       "      <td>0.00000</td>\n",
       "      <td>0.74187</td>\n",
       "    </tr>\n",
       "    <tr>\n",
       "      <th>2</th>\n",
       "      <td>0.387139</td>\n",
       "      <td>0.00000</td>\n",
       "      <td>0.387139</td>\n",
       "      <td>0.00000</td>\n",
       "      <td>0.387139</td>\n",
       "      <td>0.74187</td>\n",
       "      <td>0.00000</td>\n",
       "    </tr>\n",
       "    <tr>\n",
       "      <th>3</th>\n",
       "      <td>0.387139</td>\n",
       "      <td>0.74187</td>\n",
       "      <td>0.387139</td>\n",
       "      <td>0.00000</td>\n",
       "      <td>0.387139</td>\n",
       "      <td>0.00000</td>\n",
       "      <td>0.00000</td>\n",
       "    </tr>\n",
       "  </tbody>\n",
       "</table>\n",
       "</div>"
      ],
      "text/plain": [
       "   description     four        is      one      this    three      two\n",
       "0     0.387139  0.00000  0.387139  0.74187  0.387139  0.00000  0.00000\n",
       "1     0.387139  0.00000  0.387139  0.00000  0.387139  0.00000  0.74187\n",
       "2     0.387139  0.00000  0.387139  0.00000  0.387139  0.74187  0.00000\n",
       "3     0.387139  0.74187  0.387139  0.00000  0.387139  0.00000  0.00000"
      ]
     },
     "execution_count": 14,
     "metadata": {},
     "output_type": "execute_result"
    }
   ],
   "source": [
    "pd.DataFrame(tfidf_matrix.toarray(),columns=tfidf.get_feature_names_out())"
   ]
  },
  {
   "cell_type": "markdown",
   "id": "30bb08c5-7277-4d94-b870-c7d8a206c033",
   "metadata": {},
   "source": [
    "Data [link](https://drive.google.com/file/d/11jIco80zFY_nEfVApqo-DD4UXx8J5wGs/view?usp=sharing)"
   ]
  },
  {
   "cell_type": "code",
   "execution_count": 19,
   "id": "72771441-49e6-4d59-a4bb-cc160bd9e53c",
   "metadata": {},
   "outputs": [],
   "source": [
    "path = '/Users/gunnvantsaini/Documents/Data/Kaggle/ted-data/transcripts.csv'"
   ]
  },
  {
   "cell_type": "code",
   "execution_count": 20,
   "id": "72feb971-727c-4a09-aef7-20e00b06c520",
   "metadata": {},
   "outputs": [],
   "source": [
    "transcripts=pd.read_csv(path)"
   ]
  },
  {
   "cell_type": "code",
   "execution_count": 21,
   "id": "6e09905f-3362-428a-aa10-7351bb715ac0",
   "metadata": {},
   "outputs": [
    {
     "data": {
      "text/html": [
       "<div>\n",
       "<style scoped>\n",
       "    .dataframe tbody tr th:only-of-type {\n",
       "        vertical-align: middle;\n",
       "    }\n",
       "\n",
       "    .dataframe tbody tr th {\n",
       "        vertical-align: top;\n",
       "    }\n",
       "\n",
       "    .dataframe thead th {\n",
       "        text-align: right;\n",
       "    }\n",
       "</style>\n",
       "<table border=\"1\" class=\"dataframe\">\n",
       "  <thead>\n",
       "    <tr style=\"text-align: right;\">\n",
       "      <th></th>\n",
       "      <th>transcript</th>\n",
       "      <th>url</th>\n",
       "    </tr>\n",
       "  </thead>\n",
       "  <tbody>\n",
       "    <tr>\n",
       "      <th>0</th>\n",
       "      <td>Good morning. How are you?(Laughter)It's been ...</td>\n",
       "      <td>https://www.ted.com/talks/ken_robinson_says_sc...</td>\n",
       "    </tr>\n",
       "    <tr>\n",
       "      <th>1</th>\n",
       "      <td>Thank you so much, Chris. And it's truly a gre...</td>\n",
       "      <td>https://www.ted.com/talks/al_gore_on_averting_...</td>\n",
       "    </tr>\n",
       "  </tbody>\n",
       "</table>\n",
       "</div>"
      ],
      "text/plain": [
       "                                          transcript  \\\n",
       "0  Good morning. How are you?(Laughter)It's been ...   \n",
       "1  Thank you so much, Chris. And it's truly a gre...   \n",
       "\n",
       "                                                 url  \n",
       "0  https://www.ted.com/talks/ken_robinson_says_sc...  \n",
       "1  https://www.ted.com/talks/al_gore_on_averting_...  "
      ]
     },
     "execution_count": 21,
     "metadata": {},
     "output_type": "execute_result"
    }
   ],
   "source": [
    "transcripts.head(2)"
   ]
  },
  {
   "cell_type": "code",
   "execution_count": 22,
   "id": "e940a2df-4af9-4014-8635-b67aacce1ef5",
   "metadata": {
    "collapsed": true,
    "jupyter": {
     "outputs_hidden": true
    },
    "tags": []
   },
   "outputs": [
    {
     "data": {
      "text/plain": [
       "'Good morning. How are you?(Laughter)It\\'s been great, hasn\\'t it? I\\'ve been blown away by the whole thing. In fact, I\\'m leaving.(Laughter)There have been three themes running through the conference which are relevant to what I want to talk about. One is the extraordinary evidence of human creativity in all of the presentations that we\\'ve had and in all of the people here. Just the variety of it and the range of it. The second is that it\\'s put us in a place where we have no idea what\\'s going to happen, in terms of the future. No idea how this may play out.I have an interest in education. Actually, what I find is everybody has an interest in education. Don\\'t you? I find this very interesting. If you\\'re at a dinner party, and you say you work in education — Actually, you\\'re not often at dinner parties, frankly.(Laughter)If you work in education, you\\'re not asked.(Laughter)And you\\'re never asked back, curiously. That\\'s strange to me. But if you are, and you say to somebody, you know, they say, \"What do you do?\" and you say you work in education, you can see the blood run from their face. They\\'re like, \"Oh my God,\" you know, \"Why me?\"(Laughter)\"My one night out all week.\"(Laughter)But if you ask about their education, they pin you to the wall. Because it\\'s one of those things that goes deep with people, am I right? Like religion, and money and other things. So I have a big interest in education, and I think we all do. We have a huge vested interest in it, partly because it\\'s education that\\'s meant to take us into this future that we can\\'t grasp. If you think of it, children starting school this year will be retiring in 2065. Nobody has a clue, despite all the expertise that\\'s been on parade for the past four days, what the world will look like in five years\\' time. And yet we\\'re meant to be educating them for it. So the unpredictability, I think, is extraordinary.And the third part of this is that we\\'ve all agreed, nonetheless, on the really extraordinary capacities that children have — their capacities for innovation. I mean, Sirena last night was a marvel, wasn\\'t she? Just seeing what she could do. And she\\'s exceptional, but I think she\\'s not, so to speak, exceptional in the whole of childhood. What you have there is a person of extraordinary dedication who found a talent. And my contention is, all kids have tremendous talents. And we squander them, pretty ruthlessly.So I want to talk about education and I want to talk about creativity. My contention is that creativity now is as important in education as literacy, and we should treat it with the same status.(Applause) Thank you.(Applause)That was it, by the way. Thank you very much.(Laughter)So, 15 minutes left.(Laughter)Well, I was born... no.(Laughter)I heard a great story recently — I love telling it — of a little girl who was in a drawing lesson. She was six, and she was at the back, drawing, and the teacher said this girl hardly ever paid attention, and in this drawing lesson, she did. The teacher was fascinated. She went over to her, and she said, \"What are you drawing?\" And the girl said, \"I\\'m drawing a picture of God.\" And the teacher said, \"But nobody knows what God looks like.\" And the girl said, \"They will, in a minute.\"(Laughter)When my son was four in England — Actually, he was four everywhere, to be honest.(Laughter)If we\\'re being strict about it, wherever he went, he was four that year. He was in the Nativity play. Do you remember the story?(Laughter)No, it was big, it was a big story. Mel Gibson did the sequel, you may have seen it.(Laughter)\"Nativity II.\" But James got the part of Joseph, which we were thrilled about. We considered this to be one of the lead parts. We had the place crammed full of agents in T-shirts: \"James Robinson IS Joseph!\" (Laughter) He didn\\'t have to speak, but you know the bit where the three kings come in? They come in bearing gifts, gold, frankincense and myrrh. This really happened. We were sitting there and I think they just went out of sequence, because we talked to the little boy afterward and we said, \"You OK with that?\" And he said, \"Yeah, why? Was that wrong?\" They just switched. The three boys came in, four-year-olds with tea towels on their heads, and they put these boxes down, and the first boy said, \"I bring you gold.\" And the second boy said, \"I bring you myrrh.\" And the third boy said, \"Frank sent this.\"(Laughter)What these things have in common is that kids will take a chance. If they don\\'t know, they\\'ll have a go. Am I right? They\\'re not frightened of being wrong. I don\\'t mean to say that being wrong is the same thing as being creative. What we do know is, if you\\'re not prepared to be wrong, you\\'ll never come up with anything original — if you\\'re not prepared to be wrong. And by the time they get to be adults, most kids have lost that capacity. They have become frightened of being wrong. And we run our companies like this. We stigmatize mistakes. And we\\'re now running national education systems where mistakes are the worst thing you can make. And the result is that we are educating people out of their creative capacities.Picasso once said this, he said that all children are born artists. The problem is to remain an artist as we grow up. I believe this passionately, that we don\\'t grow into creativity, we grow out of it. Or rather, we get educated out of it. So why is this?I lived in Stratford-on-Avon until about five years ago. In fact, we moved from Stratford to Los Angeles. So you can imagine what a seamless transition that was.(Laughter)Actually, we lived in a place called Snitterfield, just outside Stratford, which is where Shakespeare\\'s father was born. Are you struck by a new thought? I was. You don\\'t think of Shakespeare having a father, do you? Do you? Because you don\\'t think of Shakespeare being a child, do you? Shakespeare being seven? I never thought of it. I mean, he was seven at some point. He was in somebody\\'s English class, wasn\\'t he?(Laughter)How annoying would that be?(Laughter)\"Must try harder.\"(Laughter)Being sent to bed by his dad, you know, to Shakespeare, \"Go to bed, now! And put the pencil down.\"(Laughter)\"And stop speaking like that.\"(Laughter)\"It\\'s confusing everybody.\"(Laughter)Anyway, we moved from Stratford to Los Angeles, and I just want to say a word about the transition. My son didn\\'t want to come. I\\'ve got two kids; he\\'s 21 now, my daughter\\'s 16. He didn\\'t want to come to Los Angeles. He loved it, but he had a girlfriend in England. This was the love of his life, Sarah. He\\'d known her for a month.(Laughter)Mind you, they\\'d had their fourth anniversary, because it\\'s a long time when you\\'re 16. He was really upset on the plane, he said, \"I\\'ll never find another girl like Sarah.\" And we were rather pleased about that, frankly —(Laughter)Because she was the main reason we were leaving the country.(Laughter)But something strikes you when you move to America and travel around the world: Every education system on Earth has the same hierarchy of subjects. Every one. Doesn\\'t matter where you go. You\\'d think it would be otherwise, but it isn\\'t. At the top are mathematics and languages, then the humanities, and at the bottom are the arts. Everywhere on Earth. And in pretty much every system too, there\\'s a hierarchy within the arts. Art and music are normally given a higher status in schools than drama and dance. There isn\\'t an education system on the planet that teaches dance everyday to children the way we teach them mathematics. Why? Why not? I think this is rather important. I think math is very important, but so is dance. Children dance all the time if they\\'re allowed to, we all do. We all have bodies, don\\'t we? Did I miss a meeting?(Laughter)Truthfully, what happens is, as children grow up, we start to educate them progressively from the waist up. And then we focus on their heads. And slightly to one side.If you were to visit education, as an alien, and say \"What\\'s it for, public education?\" I think you\\'d have to conclude, if you look at the output, who really succeeds by this, who does everything that they should, who gets all the brownie points, who are the winners — I think you\\'d have to conclude the whole purpose of public education throughout the world is to produce university professors. Isn\\'t it? They\\'re the people who come out the top. And I used to be one, so there.(Laughter)And I like university professors, but you know, we shouldn\\'t hold them up as the high-water mark of all human achievement. They\\'re just a form of life, another form of life. But they\\'re rather curious, and I say this out of affection for them. There\\'s something curious about professors in my experience — not all of them, but typically, they live in their heads. They live up there, and slightly to one side. They\\'re disembodied, you know, in a kind of literal way. They look upon their body as a form of transport for their heads.(Laughter)Don\\'t they? It\\'s a way of getting their head to meetings.(Laughter)If you want real evidence of out-of-body experiences, get yourself along to a residential conference of senior academics, and pop into the discotheque on the final night.(Laughter)And there, you will see it. Grown men and women writhing uncontrollably, off the beat.(Laughter)Waiting until it ends so they can go home and write a paper about it.(Laughter)Our education system is predicated on the idea of academic ability. And there\\'s a reason. Around the world, there were no public systems of education, really, before the 19th century. They all came into being to meet the needs of industrialism. So the hierarchy is rooted on two ideas.Number one, that the most useful subjects for work are at the top. So you were probably steered benignly away from things at school when you were a kid, things you liked, on the grounds that you would never get a job doing that. Is that right? Don\\'t do music, you\\'re not going to be a musician; don\\'t do art, you won\\'t be an artist. Benign advice — now, profoundly mistaken. The whole world is engulfed in a revolution.And the second is academic ability, which has really come to dominate our view of intelligence, because the universities designed the system in their image. If you think of it, the whole system of public education around the world is a protracted process of university entrance. And the consequence is that many highly-talented, brilliant, creative people think they\\'re not, because the thing they were good at at school wasn\\'t valued, or was actually stigmatized. And I think we can\\'t afford to go on that way.In the next 30 years, according to UNESCO, more people worldwide will be graduating through education than since the beginning of history. More people, and it\\'s the combination of all the things we\\'ve talked about — technology and its transformation effect on work, and demography and the huge explosion in population.Suddenly, degrees aren\\'t worth anything. Isn\\'t that true? When I was a student, if you had a degree, you had a job. If you didn\\'t have a job, it\\'s because you didn\\'t want one. And I didn\\'t want one, frankly. (Laughter) But now kids with degrees are often heading home to carry on playing video games, because you need an MA where the previous job required a BA, and now you need a PhD for the other. It\\'s a process of academic inflation. And it indicates the whole structure of education is shifting beneath our feet. We need to radically rethink our view of intelligence.We know three things about intelligence. One, it\\'s diverse. We think about the world in all the ways that we experience it. We think visually, we think in sound, we think kinesthetically. We think in abstract terms, we think in movement. Secondly, intelligence is dynamic. If you look at the interactions of a human brain, as we heard yesterday from a number of presentations, intelligence is wonderfully interactive. The brain isn\\'t divided into compartments. In fact, creativity — which I define as the process of having original ideas that have value — more often than not comes about through the interaction of different disciplinary ways of seeing things.By the way, there\\'s a shaft of nerves that joins the two halves of the brain called the corpus callosum. It\\'s thicker in women. Following off from Helen yesterday, this is probably why women are better at multi-tasking. Because you are, aren\\'t you? There\\'s a raft of research, but I know it from my personal life. If my wife is cooking a meal at home — which is not often, thankfully.(Laughter)No, she\\'s good at some things, but if she\\'s cooking, she\\'s dealing with people on the phone, she\\'s talking to the kids, she\\'s painting the ceiling, she\\'s doing open-heart surgery over here. If I\\'m cooking, the door is shut, the kids are out, the phone\\'s on the hook, if she comes in I get annoyed. I say, \"Terry, please, I\\'m trying to fry an egg in here.\"(Laughter)\"Give me a break.\"(Laughter)Actually, do you know that old philosophical thing, if a tree falls in a forest and nobody hears it, did it happen? Remember that old chestnut? I saw a great t-shirt recently, which said, \"If a man speaks his mind in a forest, and no woman hears him, is he still wrong?\"(Laughter)And the third thing about intelligence is, it\\'s distinct. I\\'m doing a new book at the moment called \"Epiphany,\" which is based on a series of interviews with people about how they discovered their talent. I\\'m fascinated by how people got to be there. It\\'s really prompted by a conversation I had with a wonderful woman who maybe most people have never heard of, Gillian Lynne. Have you heard of her? Some have. She\\'s a choreographer, and everybody knows her work. She did \"Cats\" and \"Phantom of the Opera.\" She\\'s wonderful. I used to be on the board of The Royal Ballet, as you can see. Anyway, Gillian and I had lunch one day and I said, \"How did you get to be a dancer?\" It was interesting. When she was at school, she was really hopeless. And the school, in the \\'30s, wrote to her parents and said, \"We think Gillian has a learning disorder.\" She couldn\\'t concentrate; she was fidgeting. I think now they\\'d say she had ADHD. Wouldn\\'t you? But this was the 1930s, and ADHD hadn\\'t been invented at this point. It wasn\\'t an available condition.(Laughter)People weren\\'t aware they could have that.(Laughter)Anyway, she went to see this specialist. So, this oak-paneled room, and she was there with her mother, and she was led and sat on this chair at the end, and she sat on her hands for 20 minutes while this man talked to her mother about the problems Gillian was having at school. Because she was disturbing people; her homework was always late; and so on, little kid of eight. In the end, the doctor went and sat next to Gillian, and said, \"I\\'ve listened to all these things your mother\\'s told me, I need to speak to her privately. Wait here. We\\'ll be back; we won\\'t be very long,\" and they went and left her.But as they went out of the room, he turned on the radio that was sitting on his desk. And when they got out, he said to her mother, \"Just stand and watch her.\" And the minute they left the room, she was on her feet, moving to the music. And they watched for a few minutes and he turned to her mother and said, \"Mrs. Lynne, Gillian isn\\'t sick; she\\'s a dancer. Take her to a dance school.\"I said, \"What happened?\" She said, \"She did. I can\\'t tell you how wonderful it was. We walked in this room and it was full of people like me. People who couldn\\'t sit still. People who had to move to think.\" Who had to move to think. They did ballet, they did tap, jazz; they did modern; they did contemporary. She was eventually auditioned for the Royal Ballet School; she became a soloist; she had a wonderful career at the Royal Ballet. She eventually graduated from the Royal Ballet School, founded the Gillian Lynne Dance Company, met Andrew Lloyd Webber. She\\'s been responsible for some of the most successful musical theater productions in history, she\\'s given pleasure to millions, and she\\'s a multi-millionaire. Somebody else might have put her on medication and told her to calm down.(Applause)What I think it comes to is this: Al Gore spoke the other night about ecology and the revolution that was triggered by Rachel Carson. I believe our only hope for the future is to adopt a new conception of human ecology, one in which we start to reconstitute our conception of the richness of human capacity. Our education system has mined our minds in the way that we strip-mine the earth: for a particular commodity. And for the future, it won\\'t serve us. We have to rethink the fundamental principles on which we\\'re educating our children.There was a wonderful quote by Jonas Salk, who said, \"If all the insects were to disappear from the Earth, within 50 years all life on Earth would end. If all human beings disappeared from the Earth, within 50 years all forms of life would flourish.\" And he\\'s right.What TED celebrates is the gift of the human imagination. We have to be careful now that we use this gift wisely and that we avert some of the scenarios that we\\'ve talked about. And the only way we\\'ll do it is by seeing our creative capacities for the richness they are and seeing our children for the hope that they are. And our task is to educate their whole being, so they can face this future. By the way — we may not see this future, but they will. And our job is to help them make something of it.Thank you very much.(Applause)'"
      ]
     },
     "execution_count": 22,
     "metadata": {},
     "output_type": "execute_result"
    }
   ],
   "source": [
    "transcripts['transcript'].iloc[0]"
   ]
  },
  {
   "cell_type": "code",
   "execution_count": 23,
   "id": "e81a3896-32cc-45ae-aa7a-53eafff213f4",
   "metadata": {},
   "outputs": [
    {
     "data": {
      "text/plain": [
       "(2467, 2)"
      ]
     },
     "execution_count": 23,
     "metadata": {},
     "output_type": "execute_result"
    }
   ],
   "source": [
    "transcripts.shape"
   ]
  },
  {
   "cell_type": "code",
   "execution_count": 24,
   "id": "51607eda-c1c7-4c1f-b2be-c69e61c89769",
   "metadata": {},
   "outputs": [
    {
     "data": {
      "text/plain": [
       "'https://www.ted.com/talks/ken_robinson_says_schools_kill_creativity\\n'"
      ]
     },
     "execution_count": 24,
     "metadata": {},
     "output_type": "execute_result"
    }
   ],
   "source": [
    "transcripts['url'].iloc[0]"
   ]
  },
  {
   "cell_type": "code",
   "execution_count": 25,
   "id": "05ad49e4-9921-4ac9-a005-45b9100ade83",
   "metadata": {},
   "outputs": [],
   "source": [
    "def get_title(x):\n",
    "    return x.split(\"/\")[-1].strip()\n",
    "transcripts['title']=transcripts['url'].map(get_title)"
   ]
  },
  {
   "cell_type": "code",
   "execution_count": 26,
   "id": "d42033c0-43a6-4e08-8148-eb7e545eee3f",
   "metadata": {},
   "outputs": [
    {
     "data": {
      "text/html": [
       "<div>\n",
       "<style scoped>\n",
       "    .dataframe tbody tr th:only-of-type {\n",
       "        vertical-align: middle;\n",
       "    }\n",
       "\n",
       "    .dataframe tbody tr th {\n",
       "        vertical-align: top;\n",
       "    }\n",
       "\n",
       "    .dataframe thead th {\n",
       "        text-align: right;\n",
       "    }\n",
       "</style>\n",
       "<table border=\"1\" class=\"dataframe\">\n",
       "  <thead>\n",
       "    <tr style=\"text-align: right;\">\n",
       "      <th></th>\n",
       "      <th>transcript</th>\n",
       "      <th>url</th>\n",
       "      <th>title</th>\n",
       "    </tr>\n",
       "  </thead>\n",
       "  <tbody>\n",
       "    <tr>\n",
       "      <th>0</th>\n",
       "      <td>Good morning. How are you?(Laughter)It's been ...</td>\n",
       "      <td>https://www.ted.com/talks/ken_robinson_says_sc...</td>\n",
       "      <td>ken_robinson_says_schools_kill_creativity</td>\n",
       "    </tr>\n",
       "    <tr>\n",
       "      <th>1</th>\n",
       "      <td>Thank you so much, Chris. And it's truly a gre...</td>\n",
       "      <td>https://www.ted.com/talks/al_gore_on_averting_...</td>\n",
       "      <td>al_gore_on_averting_climate_crisis</td>\n",
       "    </tr>\n",
       "  </tbody>\n",
       "</table>\n",
       "</div>"
      ],
      "text/plain": [
       "                                          transcript  \\\n",
       "0  Good morning. How are you?(Laughter)It's been ...   \n",
       "1  Thank you so much, Chris. And it's truly a gre...   \n",
       "\n",
       "                                                 url  \\\n",
       "0  https://www.ted.com/talks/ken_robinson_says_sc...   \n",
       "1  https://www.ted.com/talks/al_gore_on_averting_...   \n",
       "\n",
       "                                       title  \n",
       "0  ken_robinson_says_schools_kill_creativity  \n",
       "1         al_gore_on_averting_climate_crisis  "
      ]
     },
     "execution_count": 26,
     "metadata": {},
     "output_type": "execute_result"
    }
   ],
   "source": [
    "transcripts.head(2)"
   ]
  },
  {
   "cell_type": "code",
   "execution_count": 27,
   "id": "3d99d56c-f163-4814-9bd4-26027ce7af82",
   "metadata": {},
   "outputs": [],
   "source": [
    "####\n",
    "tfidf=text.TfidfVectorizer(input=transcripts['transcript'].tolist(),stop_words='english')"
   ]
  },
  {
   "cell_type": "code",
   "execution_count": 28,
   "id": "ba0f5913-6f56-429a-9528-45b7370ee9c3",
   "metadata": {},
   "outputs": [],
   "source": [
    "tfidf_matrix=tfidf.fit_transform(transcripts['transcript'].tolist())"
   ]
  },
  {
   "cell_type": "code",
   "execution_count": 29,
   "id": "9714565b-24cd-4c57-a050-8f50c8d0c479",
   "metadata": {},
   "outputs": [
    {
     "data": {
      "text/plain": [
       "(2467, 58489)"
      ]
     },
     "execution_count": 29,
     "metadata": {},
     "output_type": "execute_result"
    }
   ],
   "source": [
    "tfidf_matrix.shape"
   ]
  },
  {
   "cell_type": "code",
   "execution_count": 30,
   "id": "5cccee38-d032-42fb-8812-d6ec840e0d73",
   "metadata": {},
   "outputs": [],
   "source": [
    "col_names=tfidf.get_feature_names_out()"
   ]
  },
  {
   "cell_type": "code",
   "execution_count": 31,
   "id": "111e22d8-99b1-4e1d-9921-3a707e434a03",
   "metadata": {},
   "outputs": [],
   "source": [
    "import numpy as np\n",
    "col_names=np.array(col_names)"
   ]
  },
  {
   "cell_type": "code",
   "execution_count": 32,
   "id": "85e6265e-3ad6-4524-8e51-080aed8758b8",
   "metadata": {},
   "outputs": [
    {
     "name": "stdout",
     "output_type": "stream",
     "text": [
      "CPU times: user 1.92 s, sys: 243 ms, total: 2.16 s\n",
      "Wall time: 2.39 s\n"
     ]
    }
   ],
   "source": [
    "%%time\n",
    "key_words=[]\n",
    "for i in tfidf_matrix.toarray():\n",
    "    idx=i.argsort()[-5:]\n",
    "    key_words.append(col_names[idx])"
   ]
  },
  {
   "cell_type": "code",
   "execution_count": 33,
   "id": "74de9289-8d57-4ded-bc59-c4be7a48ccb7",
   "metadata": {},
   "outputs": [],
   "source": [
    "transcripts['keywords']=key_words"
   ]
  },
  {
   "cell_type": "code",
   "execution_count": 34,
   "id": "1123ed41-e200-4c86-a859-fdc2198af017",
   "metadata": {},
   "outputs": [
    {
     "data": {
      "text/html": [
       "<div>\n",
       "<style scoped>\n",
       "    .dataframe tbody tr th:only-of-type {\n",
       "        vertical-align: middle;\n",
       "    }\n",
       "\n",
       "    .dataframe tbody tr th {\n",
       "        vertical-align: top;\n",
       "    }\n",
       "\n",
       "    .dataframe thead th {\n",
       "        text-align: right;\n",
       "    }\n",
       "</style>\n",
       "<table border=\"1\" class=\"dataframe\">\n",
       "  <thead>\n",
       "    <tr style=\"text-align: right;\">\n",
       "      <th></th>\n",
       "      <th>transcript</th>\n",
       "      <th>url</th>\n",
       "      <th>title</th>\n",
       "      <th>keywords</th>\n",
       "    </tr>\n",
       "  </thead>\n",
       "  <tbody>\n",
       "    <tr>\n",
       "      <th>0</th>\n",
       "      <td>Good morning. How are you?(Laughter)It's been ...</td>\n",
       "      <td>https://www.ted.com/talks/ken_robinson_says_sc...</td>\n",
       "      <td>ken_robinson_says_schools_kill_creativity</td>\n",
       "      <td>[think, said, laughter, gillian, education]</td>\n",
       "    </tr>\n",
       "    <tr>\n",
       "      <th>1</th>\n",
       "      <td>Thank you so much, Chris. And it's truly a gre...</td>\n",
       "      <td>https://www.ted.com/talks/al_gore_on_averting_...</td>\n",
       "      <td>al_gore_on_averting_climate_crisis</td>\n",
       "      <td>[nashville, laughter, slideshow, carbon, tipper]</td>\n",
       "    </tr>\n",
       "    <tr>\n",
       "      <th>2</th>\n",
       "      <td>(Music: \"The Sound of Silence,\" Simon &amp; Garfun...</td>\n",
       "      <td>https://www.ted.com/talks/david_pogue_says_sim...</td>\n",
       "      <td>david_pogue_says_simplicity_sells</td>\n",
       "      <td>[apple, features, laughter, software, microsoft]</td>\n",
       "    </tr>\n",
       "    <tr>\n",
       "      <th>3</th>\n",
       "      <td>If you're here today — and I'm very happy that...</td>\n",
       "      <td>https://www.ted.com/talks/majora_carter_s_tale...</td>\n",
       "      <td>majora_carter_s_tale_of_urban_renewal</td>\n",
       "      <td>[waterfront, community, environmental, south, ...</td>\n",
       "    </tr>\n",
       "    <tr>\n",
       "      <th>4</th>\n",
       "      <td>About 10 years ago, I took on the task to teac...</td>\n",
       "      <td>https://www.ted.com/talks/hans_rosling_shows_t...</td>\n",
       "      <td>hans_rosling_shows_the_best_stats_you_ve_ever_...</td>\n",
       "      <td>[income, world, africa, data, countries]</td>\n",
       "    </tr>\n",
       "  </tbody>\n",
       "</table>\n",
       "</div>"
      ],
      "text/plain": [
       "                                          transcript  \\\n",
       "0  Good morning. How are you?(Laughter)It's been ...   \n",
       "1  Thank you so much, Chris. And it's truly a gre...   \n",
       "2  (Music: \"The Sound of Silence,\" Simon & Garfun...   \n",
       "3  If you're here today — and I'm very happy that...   \n",
       "4  About 10 years ago, I took on the task to teac...   \n",
       "\n",
       "                                                 url  \\\n",
       "0  https://www.ted.com/talks/ken_robinson_says_sc...   \n",
       "1  https://www.ted.com/talks/al_gore_on_averting_...   \n",
       "2  https://www.ted.com/talks/david_pogue_says_sim...   \n",
       "3  https://www.ted.com/talks/majora_carter_s_tale...   \n",
       "4  https://www.ted.com/talks/hans_rosling_shows_t...   \n",
       "\n",
       "                                               title  \\\n",
       "0          ken_robinson_says_schools_kill_creativity   \n",
       "1                 al_gore_on_averting_climate_crisis   \n",
       "2                  david_pogue_says_simplicity_sells   \n",
       "3              majora_carter_s_tale_of_urban_renewal   \n",
       "4  hans_rosling_shows_the_best_stats_you_ve_ever_...   \n",
       "\n",
       "                                            keywords  \n",
       "0        [think, said, laughter, gillian, education]  \n",
       "1   [nashville, laughter, slideshow, carbon, tipper]  \n",
       "2   [apple, features, laughter, software, microsoft]  \n",
       "3  [waterfront, community, environmental, south, ...  \n",
       "4           [income, world, africa, data, countries]  "
      ]
     },
     "execution_count": 34,
     "metadata": {},
     "output_type": "execute_result"
    }
   ],
   "source": [
    "transcripts.head(5)"
   ]
  },
  {
   "cell_type": "code",
   "execution_count": 35,
   "id": "c266fe5a-0f0d-4e82-a5b9-293e1f470145",
   "metadata": {},
   "outputs": [
    {
     "data": {
      "text/plain": [
       "(2467, 58489)"
      ]
     },
     "execution_count": 35,
     "metadata": {},
     "output_type": "execute_result"
    }
   ],
   "source": [
    "##### Find similar documents using tfidf representation #####\n",
    "tfidf_matrix.shape"
   ]
  },
  {
   "cell_type": "code",
   "execution_count": 36,
   "id": "68725437-f1ae-41d1-8d76-6c152ebd4d25",
   "metadata": {},
   "outputs": [],
   "source": [
    "from sklearn.metrics.pairwise import cosine_similarity"
   ]
  },
  {
   "cell_type": "code",
   "execution_count": 37,
   "id": "ea5a5608-7d16-471f-afe2-25d35e0d21d8",
   "metadata": {},
   "outputs": [],
   "source": [
    "sim_matrix=cosine_similarity(tfidf_matrix)"
   ]
  },
  {
   "cell_type": "code",
   "execution_count": 38,
   "id": "64efdfa8-0657-43cd-b1a7-f0d6707963ec",
   "metadata": {},
   "outputs": [
    {
     "data": {
      "text/plain": [
       "(2467, 2467)"
      ]
     },
     "execution_count": 38,
     "metadata": {},
     "output_type": "execute_result"
    }
   ],
   "source": [
    "sim_matrix.shape"
   ]
  },
  {
   "cell_type": "code",
   "execution_count": 39,
   "id": "029892db-0230-4edc-894a-d03dcc9ddcd4",
   "metadata": {},
   "outputs": [
    {
     "data": {
      "text/plain": [
       "array([[1.        , 0.15310631, 0.17626477, ..., 0.07427816, 0.1408498 ,\n",
       "        0.06360819],\n",
       "       [0.15310631, 1.        , 0.16020169, ..., 0.03288679, 0.11310243,\n",
       "        0.06340374],\n",
       "       [0.17626477, 0.16020169, 1.        , ..., 0.06118662, 0.14853416,\n",
       "        0.05664366],\n",
       "       ...,\n",
       "       [0.07427816, 0.03288679, 0.06118662, ..., 1.        , 0.0549175 ,\n",
       "        0.04427896],\n",
       "       [0.1408498 , 0.11310243, 0.14853416, ..., 0.0549175 , 1.        ,\n",
       "        0.07149283],\n",
       "       [0.06360819, 0.06340374, 0.05664366, ..., 0.04427896, 0.07149283,\n",
       "        1.        ]])"
      ]
     },
     "execution_count": 39,
     "metadata": {},
     "output_type": "execute_result"
    }
   ],
   "source": [
    "sim_matrix #### How to find top-5 similar documents to each doc?"
   ]
  },
  {
   "cell_type": "code",
   "execution_count": 40,
   "id": "bddc7e79-d1bd-4032-bc6a-fa9aef56f7a6",
   "metadata": {},
   "outputs": [
    {
     "data": {
      "text/plain": [
       "'ken_robinson_says_schools_kill_creativity'"
      ]
     },
     "execution_count": 40,
     "metadata": {},
     "output_type": "execute_result"
    }
   ],
   "source": [
    "transcripts.iloc[0]['title']"
   ]
  },
  {
   "cell_type": "code",
   "execution_count": 41,
   "id": "2091feca-9795-4411-a53a-7903e2798582",
   "metadata": {},
   "outputs": [
    {
     "data": {
      "text/plain": [
       "'sakena_yacoobi_how_i_stopped_the_taliban_from_shutting_down_my_school'"
      ]
     },
     "execution_count": 41,
     "metadata": {},
     "output_type": "execute_result"
    }
   ],
   "source": [
    "transcripts.iloc[1968]['title']"
   ]
  },
  {
   "cell_type": "code",
   "execution_count": 42,
   "id": "0c2cb2bf-d0e8-465a-986f-7c75a0381beb",
   "metadata": {},
   "outputs": [
    {
     "data": {
      "text/plain": [
       "['ricardo_semler_how_to_run_a_company_with_almost_no_rules',\n",
       " 'rory_bremner_s_one_man_world_summit',\n",
       " 'sakena_yacoobi_how_i_stopped_the_taliban_from_shutting_down_my_school',\n",
       " 'sir_ken_robinson_bring_on_the_revolution',\n",
       " 'ken_robinson_how_to_escape_education_s_death_valley']"
      ]
     },
     "execution_count": 42,
     "metadata": {},
     "output_type": "execute_result"
    }
   ],
   "source": [
    "idx=[1832 ,557,1968, 663, 1421]\n",
    "transcripts.iloc[idx]['title'].tolist()"
   ]
  },
  {
   "cell_type": "code",
   "execution_count": 44,
   "id": "5b70cd8e-4bcd-45d4-b09b-129502f28fcd",
   "metadata": {},
   "outputs": [],
   "source": [
    "top_list=[]\n",
    "for i in sim_matrix:\n",
    "    idx=(i.argsort()[-6:-1])\n",
    "    top_k=transcripts.iloc[idx]['title'].tolist()\n",
    "    top_list.append(top_k)"
   ]
  },
  {
   "cell_type": "code",
   "execution_count": 45,
   "id": "27da051e-2b0a-43bc-a61c-d6c0aeb8e331",
   "metadata": {},
   "outputs": [],
   "source": [
    "transcripts['similar_talks']=top_list"
   ]
  },
  {
   "cell_type": "code",
   "execution_count": 46,
   "id": "31e9577c-1d1a-469e-a434-fc6cf10f12cf",
   "metadata": {},
   "outputs": [
    {
     "data": {
      "text/html": [
       "<div>\n",
       "<style scoped>\n",
       "    .dataframe tbody tr th:only-of-type {\n",
       "        vertical-align: middle;\n",
       "    }\n",
       "\n",
       "    .dataframe tbody tr th {\n",
       "        vertical-align: top;\n",
       "    }\n",
       "\n",
       "    .dataframe thead th {\n",
       "        text-align: right;\n",
       "    }\n",
       "</style>\n",
       "<table border=\"1\" class=\"dataframe\">\n",
       "  <thead>\n",
       "    <tr style=\"text-align: right;\">\n",
       "      <th></th>\n",
       "      <th>transcript</th>\n",
       "      <th>url</th>\n",
       "      <th>title</th>\n",
       "      <th>keywords</th>\n",
       "      <th>similar_talks</th>\n",
       "    </tr>\n",
       "  </thead>\n",
       "  <tbody>\n",
       "    <tr>\n",
       "      <th>0</th>\n",
       "      <td>Good morning. How are you?(Laughter)It's been ...</td>\n",
       "      <td>https://www.ted.com/talks/ken_robinson_says_sc...</td>\n",
       "      <td>ken_robinson_says_schools_kill_creativity</td>\n",
       "      <td>[think, said, laughter, gillian, education]</td>\n",
       "      <td>[ricardo_semler_how_to_run_a_company_with_almo...</td>\n",
       "    </tr>\n",
       "    <tr>\n",
       "      <th>1</th>\n",
       "      <td>Thank you so much, Chris. And it's truly a gre...</td>\n",
       "      <td>https://www.ted.com/talks/al_gore_on_averting_...</td>\n",
       "      <td>al_gore_on_averting_climate_crisis</td>\n",
       "      <td>[nashville, laughter, slideshow, carbon, tipper]</td>\n",
       "      <td>[david_carson_on_design, rory_bremner_s_one_ma...</td>\n",
       "    </tr>\n",
       "  </tbody>\n",
       "</table>\n",
       "</div>"
      ],
      "text/plain": [
       "                                          transcript  \\\n",
       "0  Good morning. How are you?(Laughter)It's been ...   \n",
       "1  Thank you so much, Chris. And it's truly a gre...   \n",
       "\n",
       "                                                 url  \\\n",
       "0  https://www.ted.com/talks/ken_robinson_says_sc...   \n",
       "1  https://www.ted.com/talks/al_gore_on_averting_...   \n",
       "\n",
       "                                       title  \\\n",
       "0  ken_robinson_says_schools_kill_creativity   \n",
       "1         al_gore_on_averting_climate_crisis   \n",
       "\n",
       "                                           keywords  \\\n",
       "0       [think, said, laughter, gillian, education]   \n",
       "1  [nashville, laughter, slideshow, carbon, tipper]   \n",
       "\n",
       "                                       similar_talks  \n",
       "0  [ricardo_semler_how_to_run_a_company_with_almo...  \n",
       "1  [david_carson_on_design, rory_bremner_s_one_ma...  "
      ]
     },
     "execution_count": 46,
     "metadata": {},
     "output_type": "execute_result"
    }
   ],
   "source": [
    "transcripts.head(2)"
   ]
  },
  {
   "cell_type": "code",
   "execution_count": 47,
   "id": "4d216a1d-99fc-46c9-b80b-5ab6e1ed7e23",
   "metadata": {},
   "outputs": [
    {
     "data": {
      "text/plain": [
       "['ricardo_semler_how_to_run_a_company_with_almost_no_rules',\n",
       " 'rory_bremner_s_one_man_world_summit',\n",
       " 'sakena_yacoobi_how_i_stopped_the_taliban_from_shutting_down_my_school',\n",
       " 'sir_ken_robinson_bring_on_the_revolution',\n",
       " 'ken_robinson_how_to_escape_education_s_death_valley']"
      ]
     },
     "execution_count": 47,
     "metadata": {},
     "output_type": "execute_result"
    }
   ],
   "source": [
    "transcripts.iloc[0]['similar_talks']"
   ]
  },
  {
   "cell_type": "code",
   "execution_count": null,
   "id": "596d67ee-b138-425e-a2ef-7777895c0a26",
   "metadata": {},
   "outputs": [],
   "source": []
  }
 ],
 "metadata": {
  "kernelspec": {
   "display_name": "Python 3 (ipykernel)",
   "language": "python",
   "name": "python3"
  },
  "language_info": {
   "codemirror_mode": {
    "name": "ipython",
    "version": 3
   },
   "file_extension": ".py",
   "mimetype": "text/x-python",
   "name": "python",
   "nbconvert_exporter": "python",
   "pygments_lexer": "ipython3",
   "version": "3.9.9"
  }
 },
 "nbformat": 4,
 "nbformat_minor": 5
}
