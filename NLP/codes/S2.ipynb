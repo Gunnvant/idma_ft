{
 "cells": [
  {
   "cell_type": "code",
   "execution_count": 1,
   "id": "996b4b1e-b394-4e9c-aa0e-f7e5603472f2",
   "metadata": {},
   "outputs": [],
   "source": [
    "import pandas as pd\n",
    "path_train = \"/Users/gunnvantsaini/Documents/Data/Kaggle/News/BBC News Train.csv\"\n",
    "train = pd.read_csv(path_train)"
   ]
  },
  {
   "cell_type": "code",
   "execution_count": 2,
   "id": "7af2f51a-88bc-4d29-bd65-19fadd3884d9",
   "metadata": {},
   "outputs": [
    {
     "data": {
      "text/html": [
       "<div>\n",
       "<style scoped>\n",
       "    .dataframe tbody tr th:only-of-type {\n",
       "        vertical-align: middle;\n",
       "    }\n",
       "\n",
       "    .dataframe tbody tr th {\n",
       "        vertical-align: top;\n",
       "    }\n",
       "\n",
       "    .dataframe thead th {\n",
       "        text-align: right;\n",
       "    }\n",
       "</style>\n",
       "<table border=\"1\" class=\"dataframe\">\n",
       "  <thead>\n",
       "    <tr style=\"text-align: right;\">\n",
       "      <th></th>\n",
       "      <th>ArticleId</th>\n",
       "      <th>Text</th>\n",
       "      <th>Category</th>\n",
       "    </tr>\n",
       "  </thead>\n",
       "  <tbody>\n",
       "    <tr>\n",
       "      <th>0</th>\n",
       "      <td>1833</td>\n",
       "      <td>worldcom ex-boss launches defence lawyers defe...</td>\n",
       "      <td>business</td>\n",
       "    </tr>\n",
       "    <tr>\n",
       "      <th>1</th>\n",
       "      <td>154</td>\n",
       "      <td>german business confidence slides german busin...</td>\n",
       "      <td>business</td>\n",
       "    </tr>\n",
       "  </tbody>\n",
       "</table>\n",
       "</div>"
      ],
      "text/plain": [
       "   ArticleId                                               Text  Category\n",
       "0       1833  worldcom ex-boss launches defence lawyers defe...  business\n",
       "1        154  german business confidence slides german busin...  business"
      ]
     },
     "execution_count": 2,
     "metadata": {},
     "output_type": "execute_result"
    }
   ],
   "source": [
    "train.head(2)"
   ]
  },
  {
   "cell_type": "code",
   "execution_count": 3,
   "id": "e2f9ffb3-4572-4726-8db8-3c369668b2f6",
   "metadata": {},
   "outputs": [],
   "source": [
    "## We will create a classifier using embedding layer architecture\n",
    "X=train['Text']\n",
    "y=train['Category']"
   ]
  },
  {
   "cell_type": "code",
   "execution_count": 4,
   "id": "69eaab8d-f5bf-4159-a3f2-65e58ef4f7c8",
   "metadata": {},
   "outputs": [],
   "source": [
    "from sklearn.model_selection import train_test_split\n",
    "from sklearn.preprocessing import LabelEncoder"
   ]
  },
  {
   "cell_type": "code",
   "execution_count": 5,
   "id": "b363dff9-13d1-45cc-9a0a-6fd96a393386",
   "metadata": {},
   "outputs": [],
   "source": [
    "X_train,X_test,y_train,y_test=train_test_split(X,y,test_size=0.20,random_state=200)"
   ]
  },
  {
   "cell_type": "code",
   "execution_count": 6,
   "id": "68ef8af6-5b99-4d05-81b3-e434a979d189",
   "metadata": {},
   "outputs": [],
   "source": [
    "enc=LabelEncoder()"
   ]
  },
  {
   "cell_type": "code",
   "execution_count": 7,
   "id": "68fe70f4-6daa-478f-8d43-8ad22d1498bb",
   "metadata": {},
   "outputs": [],
   "source": [
    "y_train=enc.fit_transform(y_train)"
   ]
  },
  {
   "cell_type": "code",
   "execution_count": 8,
   "id": "424b81f0-395f-4b7d-8fc0-5f1ccefd6b16",
   "metadata": {},
   "outputs": [
    {
     "data": {
      "text/plain": [
       "array(['business', 'entertainment', 'politics', 'sport', 'tech'],\n",
       "      dtype=object)"
      ]
     },
     "execution_count": 8,
     "metadata": {},
     "output_type": "execute_result"
    }
   ],
   "source": [
    "enc.classes_"
   ]
  },
  {
   "cell_type": "code",
   "execution_count": 9,
   "id": "6a72d79f-f129-412c-8894-a65a8fce63d8",
   "metadata": {},
   "outputs": [
    {
     "data": {
      "text/plain": [
       "array([4, 3, 0, ..., 3, 1, 1])"
      ]
     },
     "execution_count": 9,
     "metadata": {},
     "output_type": "execute_result"
    }
   ],
   "source": [
    "y_train"
   ]
  },
  {
   "cell_type": "code",
   "execution_count": 10,
   "id": "5a77f492-0e3c-4848-8cc6-56fd8c7f4663",
   "metadata": {},
   "outputs": [],
   "source": [
    "import tensorflow as tf"
   ]
  },
  {
   "cell_type": "code",
   "execution_count": 11,
   "id": "42d11224-7b6d-4508-a810-628da12f2dc6",
   "metadata": {},
   "outputs": [],
   "source": [
    "#### tf2.2+ ####\n",
    "from tensorflow.keras.layers.experimental.preprocessing import TextVectorization"
   ]
  },
  {
   "cell_type": "code",
   "execution_count": 12,
   "id": "321e0919-f9ab-4b29-b23d-5ecbb7e44969",
   "metadata": {},
   "outputs": [],
   "source": [
    "seq_len=16"
   ]
  },
  {
   "cell_type": "code",
   "execution_count": 13,
   "id": "7c64cdea-4056-4e41-973d-cc7387d89c68",
   "metadata": {},
   "outputs": [
    {
     "name": "stdout",
     "output_type": "stream",
     "text": [
      "Metal device set to: Apple M1\n"
     ]
    },
    {
     "name": "stderr",
     "output_type": "stream",
     "text": [
      "2022-02-01 10:33:11.562601: I tensorflow/core/common_runtime/pluggable_device/pluggable_device_factory.cc:305] Could not identify NUMA node of platform GPU ID 0, defaulting to 0. Your kernel may not have been built with NUMA support.\n",
      "2022-02-01 10:33:11.563517: I tensorflow/core/common_runtime/pluggable_device/pluggable_device_factory.cc:271] Created TensorFlow device (/job:localhost/replica:0/task:0/device:GPU:0 with 0 MB memory) -> physical PluggableDevice (device: 0, name: METAL, pci bus id: <undefined>)\n"
     ]
    }
   ],
   "source": [
    "vectorizer=TextVectorization(max_tokens=30000,output_sequence_length=seq_len) ### tfidf object"
   ]
  },
  {
   "cell_type": "code",
   "execution_count": 14,
   "id": "5e768443-db44-4e1c-a5bf-ecfc04566b9e",
   "metadata": {},
   "outputs": [],
   "source": [
    "text_ds=tf.data.Dataset.from_tensor_slices(X_train).batch(64)"
   ]
  },
  {
   "cell_type": "code",
   "execution_count": 15,
   "id": "593737b9-3c16-4944-a37b-a34ce34ba5f3",
   "metadata": {},
   "outputs": [
    {
     "name": "stderr",
     "output_type": "stream",
     "text": [
      "2022-02-01 10:33:29.076923: W tensorflow/core/platform/profile_utils/cpu_utils.cc:128] Failed to get CPU frequency: 0 Hz\n",
      "2022-02-01 10:33:29.077698: I tensorflow/core/grappler/optimizers/custom_graph_optimizer_registry.cc:112] Plugin optimizer for device_type GPU is enabled.\n"
     ]
    }
   ],
   "source": [
    "vectorizer.adapt(text_ds) ### fit_transform"
   ]
  },
  {
   "cell_type": "code",
   "execution_count": 16,
   "id": "e48c1856-40ca-4155-91eb-f373643e3f14",
   "metadata": {},
   "outputs": [
    {
     "data": {
      "text/plain": [
       "['', '[UNK]', 'the', 'to', 'of']"
      ]
     },
     "execution_count": 16,
     "metadata": {},
     "output_type": "execute_result"
    }
   ],
   "source": [
    "vectorizer.get_vocabulary()[:5]"
   ]
  },
  {
   "cell_type": "code",
   "execution_count": 17,
   "id": "978f957b-0a61-4f8a-9c7e-47884ff305f5",
   "metadata": {},
   "outputs": [
    {
     "data": {
      "text/plain": [
       "24865"
      ]
     },
     "execution_count": 17,
     "metadata": {},
     "output_type": "execute_result"
    }
   ],
   "source": [
    "len(vectorizer.get_vocabulary())"
   ]
  },
  {
   "cell_type": "code",
   "execution_count": 18,
   "id": "6dbc0a9c-07e0-45d4-85b2-214128db0fab",
   "metadata": {},
   "outputs": [],
   "source": [
    "from tensorflow import keras\n",
    "from tensorflow.keras import layers"
   ]
  },
  {
   "cell_type": "code",
   "execution_count": 19,
   "id": "5f5d9185-0729-48c3-91a7-564e899de006",
   "metadata": {},
   "outputs": [],
   "source": [
    "inputs = keras.Input(shape=(1,),dtype='string')\n",
    "x = vectorizer(inputs)\n",
    "x = layers.Embedding(input_dim=24865,output_dim=64)(x) ### [obj1,obj2,...obj16] ### 50, 100,300\n",
    "x = layers.LSTM(100)(x)\n",
    "x = layers.Dense(64,activation='relu')(x)\n",
    "x = layers.Dense(4,activation='softmax')(x)"
   ]
  },
  {
   "cell_type": "code",
   "execution_count": 20,
   "id": "9ed20445-d939-4848-ada2-4c6e7a7c0463",
   "metadata": {},
   "outputs": [],
   "source": [
    "model=tf.keras.Model(inputs,x)"
   ]
  },
  {
   "cell_type": "code",
   "execution_count": 21,
   "id": "7249bf5a-6358-4bd9-b647-d9cf26f45288",
   "metadata": {},
   "outputs": [
    {
     "name": "stdout",
     "output_type": "stream",
     "text": [
      "Model: \"model\"\n",
      "_________________________________________________________________\n",
      "Layer (type)                 Output Shape              Param #   \n",
      "=================================================================\n",
      "input_1 (InputLayer)         [(None, 1)]               0         \n",
      "_________________________________________________________________\n",
      "text_vectorization (TextVect (None, 16)                0         \n",
      "_________________________________________________________________\n",
      "embedding (Embedding)        (None, 16, 64)            1591360   \n",
      "_________________________________________________________________\n",
      "lstm (LSTM)                  (None, 100)               66000     \n",
      "_________________________________________________________________\n",
      "dense (Dense)                (None, 64)                6464      \n",
      "_________________________________________________________________\n",
      "dense_1 (Dense)              (None, 4)                 260       \n",
      "=================================================================\n",
      "Total params: 1,664,084\n",
      "Trainable params: 1,664,084\n",
      "Non-trainable params: 0\n",
      "_________________________________________________________________\n"
     ]
    }
   ],
   "source": [
    "model.summary()"
   ]
  },
  {
   "cell_type": "code",
   "execution_count": 22,
   "id": "b397592a-b735-4253-86a6-1d0ada27ac42",
   "metadata": {},
   "outputs": [],
   "source": [
    "model.compile(loss='sparse_categorical_crossentropy',metrics=['acc'])"
   ]
  },
  {
   "cell_type": "code",
   "execution_count": 23,
   "id": "c8c9ac5b-d6b9-4a6b-973d-9172f03c93f8",
   "metadata": {},
   "outputs": [
    {
     "name": "stdout",
     "output_type": "stream",
     "text": [
      "Epoch 1/5\n"
     ]
    },
    {
     "name": "stderr",
     "output_type": "stream",
     "text": [
      "2022-02-01 10:39:34.205643: I tensorflow/core/grappler/optimizers/custom_graph_optimizer_registry.cc:112] Plugin optimizer for device_type GPU is enabled.\n",
      "2022-02-01 10:39:34.386718: I tensorflow/core/grappler/optimizers/custom_graph_optimizer_registry.cc:112] Plugin optimizer for device_type GPU is enabled.\n",
      "2022-02-01 10:39:35.026499: I tensorflow/core/grappler/optimizers/custom_graph_optimizer_registry.cc:112] Plugin optimizer for device_type GPU is enabled.\n"
     ]
    },
    {
     "name": "stdout",
     "output_type": "stream",
     "text": [
      "9/9 [==============================] - 3s 71ms/step - loss: 1.1363 - acc: 0.2229 - val_loss: 1.2222 - val_acc: 0.2583\n",
      "Epoch 2/5\n",
      "1/9 [==>...........................] - ETA: 0s - loss: 1.1410 - acc: 0.2812"
     ]
    },
    {
     "name": "stderr",
     "output_type": "stream",
     "text": [
      "2022-02-01 10:39:36.433157: I tensorflow/core/grappler/optimizers/custom_graph_optimizer_registry.cc:112] Plugin optimizer for device_type GPU is enabled.\n",
      "2022-02-01 10:39:36.489979: I tensorflow/core/grappler/optimizers/custom_graph_optimizer_registry.cc:112] Plugin optimizer for device_type GPU is enabled.\n"
     ]
    },
    {
     "name": "stdout",
     "output_type": "stream",
     "text": [
      "9/9 [==============================] - 0s 29ms/step - loss: 1.1574 - acc: 0.2220 - val_loss: 1.2591 - val_acc: 0.2917\n",
      "Epoch 3/5\n",
      "9/9 [==============================] - 0s 29ms/step - loss: 1.1506 - acc: 0.1978 - val_loss: 1.2861 - val_acc: 0.2583\n",
      "Epoch 4/5\n",
      "9/9 [==============================] - 0s 30ms/step - loss: 1.1506 - acc: 0.2127 - val_loss: 1.3159 - val_acc: 0.1250\n",
      "Epoch 5/5\n",
      "9/9 [==============================] - 0s 29ms/step - loss: 1.1463 - acc: 0.2062 - val_loss: 1.2787 - val_acc: 0.2583\n"
     ]
    },
    {
     "data": {
      "text/plain": [
       "<keras.callbacks.History at 0x165d5d070>"
      ]
     },
     "execution_count": 23,
     "metadata": {},
     "output_type": "execute_result"
    }
   ],
   "source": [
    "model.fit(X_train,y_train,batch_size=128,epochs=5,validation_split=0.10)"
   ]
  },
  {
   "cell_type": "code",
   "execution_count": null,
   "id": "d5adec72-e7ed-4e6d-bfa3-08d65d04aed3",
   "metadata": {},
   "outputs": [],
   "source": []
  }
 ],
 "metadata": {
  "kernelspec": {
   "display_name": "Python 3 (ipykernel)",
   "language": "python",
   "name": "python3"
  },
  "language_info": {
   "codemirror_mode": {
    "name": "ipython",
    "version": 3
   },
   "file_extension": ".py",
   "mimetype": "text/x-python",
   "name": "python",
   "nbconvert_exporter": "python",
   "pygments_lexer": "ipython3",
   "version": "3.9.9"
  }
 },
 "nbformat": 4,
 "nbformat_minor": 5
}
