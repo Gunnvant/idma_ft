{
 "cells": [
  {
   "cell_type": "markdown",
   "id": "09f67db1-7736-493a-b32c-0b6f6bde618a",
   "metadata": {},
   "source": [
    "## Working with websites that have js interaction"
   ]
  },
  {
   "cell_type": "code",
   "execution_count": 1,
   "id": "d3c727d7-2b6d-4232-80cc-8e09d1949b1a",
   "metadata": {},
   "outputs": [
    {
     "name": "stdout",
     "output_type": "stream",
     "text": [
      "<!DOCTYPE html> <html lang=\"en\"> <head> <meta http-equiv=\"X-UA-Compatible\" content=\"IE=Edge\" /> <meta name=\"viewport\" content=\"width=device-width,initial-scale=1.0, maximum-scale=1.0, minimum-scale=1.0, user-scalable=no\" /> <link rel=\"dns-prefetch preconnect\" href=\"//static.naukri.com\"> <link rel=\"dns-prefetch preconnect\" href=\"//img.naukri.com\"> <link rel=\"dns-prefetch preconnect\" href=\"//logs.naukri.com\"> <link rel=\"dns-prefetch preconnect\" href=\"//lg.naukri.com\"> <link rel=\"dns-prefetch\" href=\"https://www.googletagmanager.com\" /> <base href=\"//www.naukri.com\" /> <link rel=\"manifest\" href=\"./manifest.json\"> <link rel=\"preload\" as=\"style\" href=\"//static.naukri.com/s/7/109/c/main.f59532c6.min.css\"/> <link rel=\"preload\" as=\"script\" href=\"//static.naukri.com/s/7/109/j/main.3d561068.min.js\"> <script>\n",
      "        window.ipAddress = \"www.naukri.com\";\n",
      "        window.DEBUG = true;\n",
      "        window.appId = 135;\n",
      "                    var isCrawler = false;\n",
      "                            var ucBrowser = false;\n",
      "            </script>   <style type=\"text/css\"> .splScrn{ height: 100%; } body{margin:0} .nkIcon { width: 9rem; margin: auto; position: relative; padding-top: 95px; } #circleG { width: 9rem; margin: auto } .circleG { background-color: #2DABE2; float: left; height: 14px; margin: 5px; width: 14px; animation-name: bounce_circleG; -o-animation-name: bounce_circleG; -ms-animation-name: bounce_circleG; -webkit-animation-name: bounce_circleG; -moz-animation-name: bounce_circleG; animation-duration: 1.8s; -o-animation-duration: 1.8s; -ms-animation-duration: 1.8s; -webkit-animation-duration: 1.8s; -moz-animation-duration: 1.8s; animation-iteration-count: infinite; -o-animation-iteration-count: infinite; -ms-animation-iteration-count: infinite; -webkit-animation-iteration-count: infinite; -moz-animation-iteration-count: infinite; animation-direction: normal; -o-animation-direction: normal; -ms-animation-direction: normal; -webkit-animation-direction: normal; -moz-animation-direction: normal; border-radius: 50%; -o-border-radius: 50%; -ms-border-radius: 50%; -webkit-border-radius: 50%; -moz-border-radius: 50% } #root, body, html { height: 100% } #circleG_1 { animation-delay: .45s; -o-animation-delay: .45s; -ms-animation-delay: .45s; -webkit-animation-delay: .45s; -moz-animation-delay: .45s } #circleG_2 { animation-delay: .65s; -o-animation-delay: .65s; -ms-animation-delay: .65s; -webkit-animation-delay: .65s; -moz-animation-delay: .65s } #circleG_3 { animation-delay: .85s; -o-animation-delay: .85s; -ms-animation-delay: .85s; -webkit-animation-delay: .85s; -moz-animation-delay: .85s } #circleG_4 { animation-delay: 1.05s; -o-animation-delay: 1.05s; -ms-animation-delay: 1.05s; -webkit-animation-delay: 1.05s; -moz-animation-delay: 1.05s } #circleG_5 { animation-delay: 1.25s; -o-animation-delay: 1.25s; -ms-animation-delay: 1.25s; -webkit-animation-delay: 1.25s; -moz-animation-delay: 1.25s } @keyframes bounce_circleG { 50% { width: 10px; height: 10px; margin: 7px; background-color: rgba(12, 109, 182, 0) } } </style> </head> <body>  <noscript> <iframe src=\"https://www.googletagmanager.com/ns.html?id=GTM-NX744H\"height=\"0\" width=\"0\" style=\"display:none;visibility:hidden\"></iframe> </noscript>  <div id=\"root\"> <div class=\"splScrn\"> <div class=\"row top\"> <div class=\"nkIcon\"><svg xmlns=\"http://www.w3.org/2000/svg\" viewBox=\"0 0 315 315\"><style type=\"text/css\"> .st0{fill:#2DABE2;} .st1{fill:#0C6DB6;} .st2{fill:#EC2227;} .st3{fill:#444444;} .st4{fill-rule:evenodd;clip-rule:evenodd;fill:#EC2227;} .st5{fill-rule:evenodd;clip-rule:evenodd;fill:#0C6DB6;} </style><path class=\"st0\" d=\"M0 200.8h10v4.6c1.5-1.9 3-3.2 4.5-4 1.5-0.8 3.4-1.2 5.6-1.2 3 0 5.3 0.9 7 2.7 1.7 1.8 2.5 4.5 2.5 8.2v17.8H18.8v-15.4c0-1.8-0.3-3-1-3.7 -0.7-0.7-1.6-1.1-2.7-1.1 -1.3 0-2.4 0.5-3.2 1.5 -0.8 1-1.2 2.8-1.2 5.3v13.4H0V200.8z\"/><path class=\"st0\" d=\"M45.8 209.9l-10.3-1.1c0.4-1.8 0.9-3.2 1.7-4.2 0.7-1 1.8-1.9 3.2-2.7 1-0.5 2.3-1 4.1-1.3 1.7-0.3 3.6-0.4 5.6-0.4 3.2 0 5.8 0.2 7.8 0.5 2 0.4 3.6 1.1 4.9 2.3 0.9 0.8 1.6 1.9 2.2 3.4 0.5 1.5 0.8 2.8 0.8 4.2v12.4c0 1.3 0.1 2.4 0.3 3.1 0.2 0.7 0.5 1.7 1.1 2.9H56.9c-0.4-0.7-0.7-1.3-0.8-1.6 -0.1-0.4-0.2-1-0.4-1.8 -1.4 1.4-2.8 2.3-4.2 2.9 -1.9 0.8-4.1 1.2-6.6 1.2 -3.3 0-5.9-0.8-7.6-2.3 -1.7-1.5-2.6-3.5-2.6-5.7 0-2.1 0.6-3.9 1.9-5.2 1.2-1.4 3.6-2.4 6.9-3.1 4-0.8 6.6-1.4 7.8-1.7 1.2-0.3 2.5-0.8 3.8-1.3 0-1.3-0.3-2.2-0.8-2.8 -0.5-0.5-1.5-0.8-2.9-0.8 -1.8 0-3.1 0.3-4 0.8C46.8 207.8 46.2 208.6 45.8 209.9zM55.1 215.5c-1.5 0.5-3 1-4.6 1.4 -2.2 0.6-3.6 1.2-4.1 1.7 -0.6 0.6-0.9 1.2-0.9 2 0 0.8 0.3 1.5 0.9 2.1 0.6 0.5 1.5 0.8 2.6 0.8 1.2 0 2.3-0.3 3.3-0.9 1-0.6 1.8-1.3 2.2-2.1 0.4-0.8 0.6-1.9 0.6-3.3V215.5z\"/><path class=\"st0\" d=\"M101.6 228.8h-10v-4.5c-1.5 1.9-3 3.2-4.5 4 -1.5 0.8-3.4 1.2-5.6 1.2 -3 0-5.3-0.9-6.9-2.7 -1.7-1.8-2.5-4.5-2.5-8.2v-17.8h10.8v15.4c0 1.8 0.3 3 1 3.7 0.7 0.7 1.6 1.1 2.7 1.1 1.3 0 2.3-0.5 3.2-1.5 0.8-1 1.2-2.8 1.2-5.3v-13.5h10.7V228.8z\"/><path class=\"st0\" d=\"M108.1 190.1h11v20l8-9.3h13.2l-10 9.8 10.6 18.2h-12.1l-5.7-11.2 -4 3.9v7.3h-11V190.1z\"/><path class=\"st0\" d=\"M144.2 200.8h10v4.6c1-2 2-3.4 3-4.1 1-0.7 2.3-1.1 3.8-1.1 1.6 0 3.3 0.5 5.2 1.5l-3.3 7.6c-1.3-0.5-2.3-0.8-3-0.8 -1.4 0-2.5 0.6-3.3 1.7 -1.1 1.6-1.7 4.7-1.7 9.2v9.4h-10.8V200.8z\"/><path class=\"st0\" d=\"M168.5 190.1h10.7v7.3h-10.7V190.1zM168.5 200.8h10.7v28h-10.7V200.8z\"/><path class=\"st1\" d=\"M216.1 217.8l10.2 1.2c-0.6 2.1-1.5 4-2.8 5.5 -1.3 1.6-2.9 2.8-4.9 3.6 -2 0.9-4.5 1.3-7.6 1.3 -3 0-5.4-0.3-7.4-0.8 -2-0.6-3.7-1.4-5.1-2.7 -1.4-1.2-2.5-2.7-3.3-4.4 -0.8-1.7-1.2-3.9-1.2-6.6 0-2.9 0.5-5.3 1.5-7.2 0.7-1.4 1.7-2.7 3-3.8 1.2-1.1 2.5-1.9 3.9-2.5 2.1-0.9 4.8-1.3 8-1.3 4.6 0 8.1 0.8 10.5 2.5 2.4 1.6 4.1 4 5.1 7.2l-10.1 1.3c-0.3-1.2-0.9-2.1-1.7-2.7 -0.8-0.6-2-0.9-3.4-0.9 -1.8 0-3.2 0.6-4.3 1.9 -1.1 1.3-1.6 3.2-1.6 5.8 0 2.3 0.5 4 1.6 5.2 1.1 1.2 2.5 1.8 4.2 1.8 1.4 0 2.6-0.4 3.5-1.1C214.9 220.4 215.7 219.3 216.1 217.8z\"/><path class=\"st1\" d=\"M230 214.9c0-4.3 1.4-7.8 4.3-10.6 2.9-2.8 6.8-4.2 11.7-4.2 5.6 0 9.8 1.6 12.7 4.9 2.3 2.6 3.5 5.8 3.5 9.7 0 4.3-1.4 7.8-4.3 10.6 -2.9 2.8-6.8 4.1-11.9 4.1 -4.5 0-8.1-1.1-10.9-3.4C231.7 223.2 230 219.5 230 214.9zM240.7 214.8c0 2.5 0.5 4.3 1.5 5.5 1 1.2 2.3 1.8 3.8 1.8 1.5 0 2.8-0.6 3.8-1.8 1-1.2 1.5-3.1 1.5-5.7 0-2.4-0.5-4.2-1.5-5.4 -1-1.2-2.2-1.8-3.7-1.8 -1.6 0-2.9 0.6-3.9 1.8C241.2 210.5 240.7 212.4 240.7 214.8z\"/><path class=\"st1\" d=\"M267.4 200.8h10v4.1c1.4-1.7 2.9-2.9 4.4-3.6 1.5-0.7 3.2-1.1 5.3-1.1 2.2 0 4 0.4 5.3 1.2 1.3 0.8 2.4 2 3.2 3.5 1.7-1.8 3.2-3.1 4.6-3.7 1.4-0.7 3.1-1 5.1-1 3 0 5.3 0.9 7 2.7 1.7 1.8 2.5 4.6 2.5 8.4v17.6h-10.8v-16c0-1.3-0.2-2.2-0.7-2.8 -0.7-1-1.6-1.4-2.7-1.4 -1.3 0-2.3 0.5-3 1.4 -0.8 0.9-1.2 2.4-1.2 4.4v14.5h-10.8v-15.4c0-1.2-0.1-2.1-0.2-2.5 -0.2-0.7-0.6-1.3-1.2-1.7 -0.6-0.4-1.2-0.6-2-0.6 -1.2 0-2.3 0.5-3 1.4 -0.8 0.9-1.2 2.5-1.2 4.6v14.3h-10.8V200.8z\"/><circle class=\"st2\" cx=\"187.7\" cy=\"224.2\" r=\"4.6\"/><path class=\"st3\" d=\"M163.1 251.5v-11.3h2.3v11.3H163.1z\"/><path class=\"st3\" d=\"M175 251.5h-2.2v-4.2c0-0.9 0-1.5-0.1-1.7 -0.1-0.3-0.2-0.5-0.4-0.6 -0.2-0.1-0.5-0.2-0.8-0.2 -0.4 0-0.7 0.1-1 0.3 -0.3 0.2-0.5 0.5-0.6 0.8 -0.1 0.3-0.2 1-0.2 1.9v3.7h-2.2v-8.2h2v1.2c0.7-0.9 1.6-1.4 2.7-1.4 0.5 0 0.9 0.1 1.3 0.3 0.4 0.2 0.7 0.4 0.9 0.7 0.2 0.3 0.3 0.6 0.4 0.9 0.1 0.3 0.1 0.8 0.1 1.5V251.5z\"/><path class=\"st3\" d=\"M184.7 251.5h-2v-1.2c-0.3 0.5-0.7 0.8-1.2 1 -0.5 0.2-0.9 0.3-1.4 0.3 -0.9 0-1.7-0.4-2.4-1.1 -0.7-0.8-1-1.8-1-3.2 0-1.4 0.3-2.4 1-3.2 0.7-0.7 1.5-1.1 2.5-1.1 0.9 0 1.7 0.4 2.4 1.1v-4.1h2.2V251.5zM178.9 247.2c0 0.9 0.1 1.5 0.4 1.9 0.3 0.6 0.8 0.8 1.5 0.8 0.5 0 0.9-0.2 1.3-0.6 0.4-0.4 0.5-1.1 0.5-1.9 0-0.9-0.2-1.6-0.5-2 -0.3-0.4-0.8-0.6-1.3-0.6 -0.5 0-0.9 0.2-1.3 0.6C179.1 245.8 178.9 246.4 178.9 247.2z\"/><path class=\"st3\" d=\"M186.8 242.2v-2h2.2v2H186.8zM186.8 251.5v-8.2h2.2v8.2H186.8z\"/><path class=\"st3\" d=\"M192.8 245.8l-2-0.4c0.2-0.8 0.6-1.4 1.1-1.8 0.5-0.4 1.3-0.6 2.4-0.6 1 0 1.7 0.1 2.2 0.3 0.5 0.2 0.8 0.5 1 0.9 0.2 0.4 0.3 1 0.3 1.9l0 2.5c0 0.7 0 1.2 0.1 1.6 0.1 0.3 0.2 0.7 0.4 1.1h-2.1c-0.1-0.1-0.1-0.4-0.2-0.6 0-0.1-0.1-0.2-0.1-0.3 -0.4 0.4-0.8 0.6-1.2 0.8 -0.4 0.2-0.9 0.3-1.3 0.3 -0.8 0-1.5-0.2-2-0.7 -0.5-0.5-0.7-1-0.7-1.7 0-0.5 0.1-0.9 0.3-1.2 0.2-0.4 0.5-0.6 0.9-0.8 0.4-0.2 1-0.4 1.7-0.5 1-0.2 1.7-0.4 2.1-0.5v-0.2c0-0.4-0.1-0.7-0.3-0.9 -0.2-0.2-0.6-0.3-1.2-0.3 -0.4 0-0.7 0.1-0.9 0.2C193.1 245.1 193 245.4 192.8 245.8zM195.7 247.5c-0.3 0.1-0.7 0.2-1.3 0.3 -0.6 0.1-1 0.3-1.2 0.4 -0.3 0.2-0.4 0.5-0.4 0.8 0 0.3 0.1 0.6 0.3 0.8 0.2 0.2 0.5 0.3 0.9 0.3 0.4 0 0.8-0.1 1.1-0.4 0.3-0.2 0.4-0.4 0.5-0.7 0.1-0.2 0.1-0.5 0.1-1.1V247.5z\"/><path class=\"st3\" d=\"M199.9 240.2h2.2v1.5c0 0.6-0.1 1.1-0.2 1.5 -0.1 0.4-0.3 0.7-0.6 1 -0.3 0.3-0.7 0.5-1.1 0.7l-0.4-0.9c0.4-0.1 0.7-0.3 0.9-0.6 0.2-0.3 0.3-0.6 0.3-1h-1V240.2z\"/><path class=\"st3\" d=\"M203 249.1l2.2-0.3c0.1 0.4 0.3 0.7 0.6 1 0.3 0.2 0.7 0.3 1.2 0.3 0.6 0 1-0.1 1.3-0.3 0.2-0.1 0.3-0.3 0.3-0.6 0-0.2-0.1-0.3-0.2-0.4 -0.1-0.1-0.3-0.2-0.7-0.3 -1.7-0.4-2.8-0.7-3.3-1.1 -0.6-0.4-1-1.1-1-1.8 0-0.7 0.3-1.3 0.8-1.8 0.6-0.5 1.4-0.7 2.6-0.7 1.1 0 1.9 0.2 2.5 0.5 0.5 0.4 0.9 0.9 1.1 1.6l-2 0.4c-0.1-0.3-0.3-0.6-0.5-0.7 -0.2-0.2-0.6-0.3-1-0.3 -0.6 0-1 0.1-1.2 0.2 -0.2 0.1-0.2 0.3-0.2 0.4 0 0.2 0.1 0.3 0.2 0.4 0.2 0.1 0.9 0.3 2 0.6 1.2 0.3 2 0.6 2.4 1 0.5 0.4 0.7 0.9 0.7 1.6 0 0.8-0.3 1.4-0.9 1.9 -0.6 0.5-1.6 0.8-2.8 0.8 -1.1 0-2-0.2-2.6-0.7C203.6 250.5 203.2 249.9 203 249.1z\"/><path class=\"st3\" d=\"M216.9 251.5v-11.3h2.2l4.6 7.5v-7.5h2.1v11.3h-2.3l-4.5-7.4v7.4H216.9z\"/><path class=\"st3\" d=\"M227.8 247.3c0-0.7 0.2-1.4 0.5-2.1 0.4-0.7 0.9-1.2 1.5-1.5 0.6-0.4 1.4-0.5 2.2-0.5 1.2 0 2.2 0.4 3 1.2 0.8 0.8 1.2 1.8 1.2 3 0 1.2-0.4 2.3-1.2 3.1 -0.8 0.8-1.8 1.2-3 1.2 -0.7 0-1.5-0.2-2.1-0.5 -0.7-0.3-1.2-0.8-1.6-1.5C228 249 227.8 248.2 227.8 247.3zM230 247.4c0 0.8 0.2 1.4 0.6 1.9 0.4 0.4 0.9 0.6 1.4 0.6 0.6 0 1-0.2 1.4-0.6 0.4-0.4 0.6-1.1 0.6-1.9 0-0.8-0.2-1.4-0.6-1.8 -0.4-0.4-0.9-0.6-1.4-0.6 -0.6 0-1 0.2-1.4 0.6C230.2 245.9 230 246.6 230 247.4z\"/><path class=\"st3\" d=\"M237.9 251.5v-2.2h2.2v2.2H237.9z\"/><path class=\"st3\" d=\"M247.4 251.5h-2.2v-8.2c-0.8 0.7-1.7 1.3-2.8 1.6v-2c0.6-0.2 1.2-0.5 1.8-1.1 0.7-0.5 1.1-1.1 1.4-1.8h1.8V251.5z\"/><path class=\"st3\" d=\"M259.5 240.2h2.3v7.1c0 0.9-0.1 1.7-0.2 2.2 -0.2 0.7-0.6 1.2-1.2 1.6 -0.6 0.4-1.3 0.6-2.3 0.6 -1.1 0-2-0.3-2.6-0.9 -0.6-0.6-0.9-1.5-0.9-2.7l2.1-0.2c0 0.6 0.1 1.1 0.3 1.4 0.2 0.4 0.6 0.6 1.1 0.6 0.5 0 0.9-0.1 1.1-0.4 0.2-0.3 0.3-0.9 0.3-1.8V240.2z\"/><path class=\"st3\" d=\"M263.7 247.3c0-0.7 0.2-1.4 0.5-2.1 0.4-0.7 0.9-1.2 1.5-1.5 0.6-0.4 1.4-0.5 2.2-0.5 1.2 0 2.2 0.4 3 1.2 0.8 0.8 1.2 1.8 1.2 3 0 1.2-0.4 2.3-1.2 3.1 -0.8 0.8-1.8 1.2-3 1.2 -0.7 0-1.5-0.2-2.1-0.5 -0.7-0.3-1.2-0.8-1.6-1.5C263.9 249 263.7 248.2 263.7 247.3zM265.9 247.4c0 0.8 0.2 1.4 0.6 1.9 0.4 0.4 0.9 0.6 1.4 0.6 0.6 0 1-0.2 1.4-0.6 0.4-0.4 0.6-1.1 0.6-1.9 0-0.8-0.2-1.4-0.6-1.8 -0.4-0.4-0.9-0.6-1.4-0.6 -0.6 0-1 0.2-1.4 0.6C266.1 245.9 265.9 246.6 265.9 247.4z\"/><path class=\"st3\" d=\"M273.7 251.5v-11.3h2.2v4.1c0.7-0.8 1.5-1.1 2.4-1.1 1 0 1.8 0.4 2.5 1.1 0.7 0.7 1 1.8 1 3.1 0 1.4-0.3 2.5-1 3.2 -0.7 0.8-1.5 1.1-2.4 1.1 -0.5 0-0.9-0.1-1.4-0.3 -0.5-0.2-0.8-0.6-1.2-1v1.2H273.7zM275.9 247.2c0 0.8 0.1 1.5 0.4 1.9 0.4 0.6 0.9 0.9 1.5 0.9 0.5 0 0.9-0.2 1.2-0.6 0.3-0.4 0.5-1 0.5-1.9 0-0.9-0.2-1.6-0.5-2 -0.3-0.4-0.8-0.6-1.3-0.6 -0.5 0-0.9 0.2-1.3 0.6C276.1 245.8 275.9 246.4 275.9 247.2z\"/><path class=\"st3\" d=\"M287.3 247.8l2.2-0.2c0.1 0.7 0.4 1.3 0.8 1.6 0.4 0.4 1 0.5 1.6 0.5 0.7 0 1.3-0.2 1.7-0.5 0.4-0.3 0.6-0.7 0.6-1.1 0-0.3-0.1-0.5-0.2-0.7 -0.2-0.2-0.4-0.3-0.8-0.5 -0.3-0.1-0.9-0.3-1.8-0.5 -1.2-0.3-2.1-0.7-2.6-1.1 -0.7-0.6-1-1.4-1-2.3 0-0.6 0.2-1.1 0.5-1.6 0.3-0.5 0.8-0.9 1.4-1.1 0.6-0.3 1.4-0.4 2.2-0.4 1.4 0 2.5 0.3 3.2 0.9 0.7 0.6 1.1 1.4 1.1 2.5l-2.3 0.1c-0.1-0.6-0.3-1-0.6-1.3 -0.3-0.3-0.8-0.4-1.4-0.4 -0.7 0-1.2 0.1-1.6 0.4 -0.2 0.2-0.4 0.4-0.4 0.7 0 0.3 0.1 0.5 0.3 0.7 0.3 0.2 1 0.5 2.1 0.8 1.1 0.3 1.9 0.5 2.5 0.8 0.5 0.3 0.9 0.7 1.2 1.1 0.3 0.5 0.5 1.1 0.5 1.8 0 0.6-0.2 1.3-0.5 1.8 -0.4 0.6-0.9 1-1.5 1.3 -0.7 0.3-1.5 0.4-2.5 0.4 -1.4 0-2.5-0.3-3.3-1C287.9 250 287.4 249.1 287.3 247.8z\"/><path class=\"st3\" d=\"M298.4 242.2v-2h2.2v2H298.4zM298.4 251.5v-8.2h2.2v8.2H298.4z\"/><path class=\"st3\" d=\"M306.5 243.3v1.7H305v3.3c0 0.7 0 1.1 0 1.2 0 0.1 0.1 0.2 0.2 0.3 0.1 0.1 0.2 0.1 0.4 0.1 0.2 0 0.5-0.1 0.9-0.2l0.2 1.7c-0.5 0.2-1.1 0.3-1.7 0.3 -0.4 0-0.7-0.1-1.1-0.2 -0.3-0.1-0.5-0.3-0.7-0.5 -0.1-0.2-0.2-0.5-0.3-0.8 0-0.3-0.1-0.8-0.1-1.5V245h-1v-1.7h1v-1.6l2.2-1.3v2.9H306.5z\"/><path class=\"st3\" d=\"M312.7 248.9l2.2 0.4c-0.3 0.8-0.7 1.4-1.3 1.8 -0.6 0.4-1.3 0.6-2.2 0.6 -1.4 0-2.5-0.5-3.2-1.4 -0.5-0.7-0.8-1.7-0.8-2.8 0-1.4 0.4-2.4 1.1-3.2 0.7-0.8 1.6-1.2 2.7-1.2 1.2 0 2.2 0.4 2.9 1.2 0.7 0.8 1 2 1 3.7h-5.4c0 0.6 0.2 1.1 0.5 1.5 0.3 0.4 0.7 0.5 1.2 0.5 0.3 0 0.6-0.1 0.9-0.3C312.4 249.6 312.6 249.3 312.7 248.9zM312.8 246.7c0-0.6-0.2-1.1-0.5-1.4 -0.3-0.3-0.7-0.5-1.1-0.5 -0.5 0-0.9 0.2-1.2 0.5 -0.3 0.3-0.5 0.8-0.5 1.4H312.8z\"/><path class=\"st4\" d=\"M129.9 64c-0.5 0.7-1 1.4-1.5 2.2 1.5 0 2.3-0.8 3.6-1 0.7 1.2-1.4 1.4-1.4 2.7 1.4 0.1 2.9-1.6 3.6-0.5 0.3 1-1.8 1.6-2.2 2.7 0.4 0.2 2.5-0.1 3.6 0 2.1 6.7-3.5 11.9-8.9 12.3 -8.5 0.7-15.6-8-9.9-15.2C119.2 64.2 124.5 62.2 129.9 64z\"/><path class=\"st5\" d=\"M200.2 165.1c-0.3 0.8-2.1 0.2-3.1 0 -7-1.5-15.1-3.9-22-6 -15.9-5-30.8-11.1-42.5-21.3 -6.2-5.4-12.5-13.3-11.6-24.7 0.2-2.6 1.2-4.7 1.7-7 0.4-2 0.3-3.7 0.7-5.3 2.6-10.2 10.4-18.1 18.4-23.9 9.1-6.7 20.5-13 35.1-12.6 -3.5 2.3-7.6 4-10.9 6.5 4.4-0.9 10-2.2 15-1 -12.5 6.7-25.2 13.2-32.9 25.6 -2.4 3.8-5 9.8-4.4 15 0.3 2.8 2.2 6 3.9 8.7 10.8 17.9 29.8 28.3 49.6 37 -8.7-1.3-17.5-4.6-25.9-7 -0.2 0-0.2-0.2-0.5-0.2 7.5 5.5 16.3 10.7 25.6 14.5C197.6 163.9 199.3 163.9 200.2 165.1zM163 72.7c-1.3 0.4-2.6 1.9-3.9 2.9 -7.4 5.9-15.7 14.4-16.4 25.9 -0.1 1.4-0.3 2.9 0.5 4.3 1.5-9.9 7.4-16 13.3-21.5 6-5.6 13.6-9.8 21-14C172.2 70.2 167.1 71.4 163 72.7zM133 136.8c14.9 13.1 38.8 20.7 59.2 26.1 0.4 0.1 0.6-0.3 0-0.2 -6.8-3.3-13.8-7.1-19.8-11.1 -2.1-1.4-4-3.3-6-4.3 -1.1-0.6-2.7-0.7-3.9-1.2 -3.6-1.5-6.9-3.2-10.4-4.8 -13.6-6.6-26.1-14.7-29.7-31.4C120.1 122.5 126.3 130.9 133 136.8z\"/></svg></div> </div> <div id=\"circleG\"> <div id=\"circleG_1\" class=\"circleG\"></div> <div id=\"circleG_2\" class=\"circleG\"></div> <div id=\"circleG_3\" class=\"circleG\"></div> <div id=\"circleG_4\" class=\"circleG\"></div> <div id=\"circleG_5\" class=\"circleG\"></div> </div> </div> </div> <link rel=\"stylesheet\" type=\"text/css\" href=\"//static.naukri.com/s/7/109/c/main.f59532c6.min.css\" media=\"all\"/>  <script id=\"ubScript\"> (function() { var queuedSuperProps = []; var queuedEvents = []; window.ub = { track: function(eventName, eventProps) { queuedEvents.push([eventName, eventProps]) }, register: function(properties) { queuedSuperProps.push(properties); } };\n",
      "            var script = document.createElement(\"script\"); script.async = true;script.trackTdsCookie=true,script.fingerprint=false,script.src = \"//static.naukri.com/s/0/1/j/ub_v1.11.min.js\";script.onload = function() { ub.init({\n",
      "                   trackTdsCookie : true, beaconUrl : \"https://logs.naukri.com/uba\", bulkBeaconUrl : \"https://logs.naukri.com/collectorapi/v1/uba/bulk\", queuedEvents:queuedEvents, queuedSuperProps:queuedSuperProps,  tenantId:'1' , autoTrack:false, blackList: \n",
      "                []\n",
      "            }); };document.head.appendChild(script);}()); ub.register({ appId:109, pageName: \"jobsearch\",  tenantId:'1' , }); </script>   <script>\n",
      "    //hack of IE and safari bug : Super expression must either be null or a function, not undefined\n",
      "    if (typeof HTMLElement !== 'function') {\n",
      "        var _HTMLElement = function() {};\n",
      "        _HTMLElement.prototype = HTMLElement.prototype;\n",
      "        HTMLElement = _HTMLElement;\n",
      "    }\n",
      "    </script> <script src=\"//static.naukri.com/s/7/109/j/vendors~main.7d082bee.min.js\" type=\"text/javascript\" defer></script> <script src=\"//static.naukri.com/s/7/109/j/main.3d561068.min.js\" type=\"text/javascript\" defer></script> <script type=\"text/javascript\" src=\"//static.naukri.com/s/0/0/j/nLoggerJB_v3.0.min.js\"></script> <script type=\"text/javascript\">\n",
      "   window.nLogger && nLogger.init({ \"tag\": \"revamped_srp\", \"nLogger\": { \"beaconUrl\": \"https:\\/\\/lg.naukri.com\\/uba\", \"eventName\": \"newMonkError\", \"deviceType\": \"SERVER\" }, \"boomerang\": { \"logBW\": false, \"beaconUrl\": \"https:\\/\\/lg.naukri.com\\/uba\", \"imageURL\": \"\\/\\/static.naukri.com\\/s\\/0\\/0\\/i\\/\", \"eventName\": \"newMonkPerformance\", \"deviceType\": \"SERVER\" }, \"tenantId\": 1, \"appId\": 109, \"userIP\": \"2045974146\" });\n",
      " </script> <script type=\"text/javascript\">\n",
      "   (function(w, d, s, l, i) {\n",
      "     w[l] = w[l] || [];\n",
      "     w[l].push({\n",
      "         'gtm.start': new Date().getTime(),\n",
      "         event: 'gtm.js'\n",
      "     });\n",
      "     var f = d.getElementsByTagName(s)[0],\n",
      "         j = d.createElement(s),\n",
      "         dl = l != 'dataLayer' ? '&l=' + l : '';\n",
      "     j.defer = 'defer';\n",
      "     j.src =\n",
      "         'https://www.googletagmanager.com/gtm.js?id=' + i + dl;\n",
      "     f.parentNode.insertBefore(j, f);\n",
      "   })(window, document, 'script', 'dataLayer', 'GTM-NX744H');\n",
      " </script> <script defer src='https://www.googletagservices.com/tag/js/gpt.js'></script> <script>\n",
      "          var googletag = googletag || {};\n",
      "          googletag.cmd = googletag.cmd || [];  \n",
      "    </script> <script type=\"text/javascript\"  src=\"/HL871sifcxYG/DdQjhx/ih6fqq/SEEwVLpr/dAkaXGd6/LGYA/ZE1hHHsB\"></script></body> </html>\n"
     ]
    }
   ],
   "source": [
    "import requests\n",
    "url=\"https://www.naukri.com/data-science-jobs\"\n",
    "resp = requests.get(url).text\n",
    "print(resp)"
   ]
  },
  {
   "cell_type": "code",
   "execution_count": 2,
   "id": "c6aa3290-8817-4734-a0a0-52ea2d873776",
   "metadata": {},
   "outputs": [],
   "source": [
    "import os\n",
    "from selenium import webdriver\n",
    "#os.chdir(\"./chrome_driver\") ### WINDOWS PEOPLE\n",
    "browser = webdriver.Chrome()"
   ]
  },
  {
   "cell_type": "code",
   "execution_count": 3,
   "id": "ae4cea72-9a9a-4547-a128-aaa1cd5bf94a",
   "metadata": {},
   "outputs": [],
   "source": [
    "browser.get(url)"
   ]
  },
  {
   "cell_type": "code",
   "execution_count": 5,
   "id": "a6062f8e-a2bf-46c3-97ee-301d13b4e991",
   "metadata": {},
   "outputs": [],
   "source": [
    "raw_html = browser.page_source"
   ]
  },
  {
   "cell_type": "code",
   "execution_count": 6,
   "id": "9aa482bd-fbf0-4532-a5e6-b9714d266048",
   "metadata": {},
   "outputs": [],
   "source": [
    "from bs4 import BeautifulSoup\n",
    "parsed_html = BeautifulSoup(raw_html,'html.parser')"
   ]
  },
  {
   "cell_type": "code",
   "execution_count": 12,
   "id": "77cf8038-5979-49e7-9d6d-657ec4a943d6",
   "metadata": {},
   "outputs": [],
   "source": [
    "## Extract the Job Title: Spend time on figuring out the correct code to extract job title.\n",
    "## salary\n",
    "## exp\n",
    "## company\n",
    "## loc"
   ]
  },
  {
   "cell_type": "code",
   "execution_count": 29,
   "id": "791d6f83-2868-40a1-88bd-2874a15bc823",
   "metadata": {},
   "outputs": [],
   "source": [
    "titles = []\n",
    "exps = []\n",
    "sals = []\n",
    "locs = []\n",
    "comps = []\n",
    "for i in parsed_html.find_all(\"article\",class_=\"jobTuple bgWhite br4 mb-8\"):\n",
    "    for k in i.find_all(\"div\",class_=\"jobTupleHeader\"):\n",
    "        titles.append(k.a.text)\n",
    "    exps.append(i.find_all(\"li\")[0].text)\n",
    "    sals.append(i.find_all(\"li\")[1].text)\n",
    "    locs.append(i.find_all(\"li\")[2].text)\n",
    "    comps.append(i.find_all('a')[1].text)"
   ]
  },
  {
   "cell_type": "code",
   "execution_count": 32,
   "id": "9b6e3ad1-5b9e-43e4-a9b5-6cf3f28cbd6e",
   "metadata": {},
   "outputs": [],
   "source": [
    "import pandas as pd\n",
    "table = pd.DataFrame({'titles':titles,'experience':exps,'salary':sals,'location':locs,'company':comps})"
   ]
  },
  {
   "cell_type": "code",
   "execution_count": 33,
   "id": "982e74b7-dc52-4b41-a65b-b70eedfaff19",
   "metadata": {},
   "outputs": [],
   "source": [
    "def get_data(parsed_html):\n",
    "    titles = []\n",
    "    exps = []\n",
    "    sals = []\n",
    "    locs = []\n",
    "    comps = []\n",
    "    for i in parsed_html.find_all(\"article\",class_=\"jobTuple bgWhite br4 mb-8\"):\n",
    "        for k in i.find_all(\"div\",class_=\"jobTupleHeader\"):\n",
    "            titles.append(k.a.text)\n",
    "        exps.append(i.find_all(\"li\")[0].text)\n",
    "        sals.append(i.find_all(\"li\")[1].text)\n",
    "        locs.append(i.find_all(\"li\")[2].text)\n",
    "        comps.append(i.find_all('a')[1].text)\n",
    "    table = pd.DataFrame({'titles':titles,'experience':exps,'salary':sals,'location':locs,'company':comps})\n",
    "    return table"
   ]
  },
  {
   "cell_type": "code",
   "execution_count": 34,
   "id": "ad69482c-d48a-4060-abbd-f47ec9254a2f",
   "metadata": {},
   "outputs": [
    {
     "name": "stdout",
     "output_type": "stream",
     "text": [
      "https://www.naukri.com/data-science-jobs-1\n"
     ]
    }
   ],
   "source": [
    "page_num=1\n",
    "base_url = \"https://www.naukri.com/data-science-jobs-{}\".format(page_num)\n",
    "print(base_url)"
   ]
  },
  {
   "cell_type": "code",
   "execution_count": 35,
   "id": "deb8f9d0-c534-4279-9c89-7cce0f5f5905",
   "metadata": {},
   "outputs": [],
   "source": [
    "browser.close()"
   ]
  },
  {
   "cell_type": "code",
   "execution_count": 36,
   "id": "cc86beef-1385-4d65-899e-b8f9e7e94a7b",
   "metadata": {},
   "outputs": [
    {
     "name": "stderr",
     "output_type": "stream",
     "text": [
      "100%|█████████████████████████████████████████████| 3/3 [01:55<00:00, 38.54s/it]\n"
     ]
    }
   ],
   "source": [
    "from tqdm import tqdm\n",
    "tables = []\n",
    "for page_num in tqdm(range(1,4)):\n",
    "    base_url = \"https://www.naukri.com/data-science-jobs-{}\".format(page_num)\n",
    "    browser = webdriver.Chrome()\n",
    "    browser.get(base_url)\n",
    "    raw_html = browser.page_source\n",
    "    parsed_html = BeautifulSoup(raw_html,'html.parser')\n",
    "    tables.append(get_data(parsed_html))\n",
    "    browser.close()"
   ]
  },
  {
   "cell_type": "code",
   "execution_count": 41,
   "id": "257e20b8-5aca-4c98-a34c-57d278c3e881",
   "metadata": {},
   "outputs": [],
   "source": [
    "big_table = pd.concat(tables)"
   ]
  },
  {
   "cell_type": "code",
   "execution_count": 60,
   "id": "430743ec-a09c-40cd-8fe5-4c2abded3dd1",
   "metadata": {},
   "outputs": [
    {
     "data": {
      "text/html": [
       "<div>\n",
       "<style scoped>\n",
       "    .dataframe tbody tr th:only-of-type {\n",
       "        vertical-align: middle;\n",
       "    }\n",
       "\n",
       "    .dataframe tbody tr th {\n",
       "        vertical-align: top;\n",
       "    }\n",
       "\n",
       "    .dataframe thead th {\n",
       "        text-align: right;\n",
       "    }\n",
       "</style>\n",
       "<table border=\"1\" class=\"dataframe\">\n",
       "  <thead>\n",
       "    <tr style=\"text-align: right;\">\n",
       "      <th></th>\n",
       "      <th>titles</th>\n",
       "      <th>experience</th>\n",
       "      <th>salary</th>\n",
       "      <th>location</th>\n",
       "      <th>company</th>\n",
       "    </tr>\n",
       "  </thead>\n",
       "  <tbody>\n",
       "    <tr>\n",
       "      <th>0</th>\n",
       "      <td>Data Engineer | Disruptive Digital Healthcare ...</td>\n",
       "      <td>3-6 Yrs</td>\n",
       "      <td>15,00,000 - 25,00,000 PA.</td>\n",
       "      <td>Bangalore/Bengaluru</td>\n",
       "      <td>Unnati</td>\n",
       "    </tr>\n",
       "    <tr>\n",
       "      <th>1</th>\n",
       "      <td>Data Science Sr. Analyst</td>\n",
       "      <td>2-7 Yrs</td>\n",
       "      <td>Not disclosed</td>\n",
       "      <td>Bangalore/Bengaluru</td>\n",
       "      <td>Dell International Services India  Private Lim...</td>\n",
       "    </tr>\n",
       "  </tbody>\n",
       "</table>\n",
       "</div>"
      ],
      "text/plain": [
       "                                              titles experience  \\\n",
       "0  Data Engineer | Disruptive Digital Healthcare ...    3-6 Yrs   \n",
       "1                           Data Science Sr. Analyst    2-7 Yrs   \n",
       "\n",
       "                      salary             location  \\\n",
       "0  15,00,000 - 25,00,000 PA.  Bangalore/Bengaluru   \n",
       "1              Not disclosed  Bangalore/Bengaluru   \n",
       "\n",
       "                                             company  \n",
       "0                                             Unnati  \n",
       "1  Dell International Services India  Private Lim...  "
      ]
     },
     "execution_count": 60,
     "metadata": {},
     "output_type": "execute_result"
    }
   ],
   "source": [
    "big_table.head(2)"
   ]
  },
  {
   "cell_type": "code",
   "execution_count": 43,
   "id": "04b9f4f3-6d2d-4c30-bc22-5288e4cdab51",
   "metadata": {},
   "outputs": [],
   "source": [
    "### Scrapping html tables\n",
    "url = \"https://www.imdb.com/chart/toptv/?ref_=nv_tvv_250\"\n",
    "browser = webdriver.Chrome()\n",
    "browser.get(url)"
   ]
  },
  {
   "cell_type": "code",
   "execution_count": 44,
   "id": "718e51a5-796c-4a84-b54f-64a21e4d8b7e",
   "metadata": {},
   "outputs": [],
   "source": [
    "raw_html = browser.page_source\n",
    "parsed_html = BeautifulSoup(raw_html,'html.parser')"
   ]
  },
  {
   "cell_type": "code",
   "execution_count": 48,
   "id": "44be91c7-8257-4f98-a35c-5783a88b5632",
   "metadata": {},
   "outputs": [],
   "source": [
    "tab = parsed_html.find_all('tbody',class_=\"lister-list\")"
   ]
  },
  {
   "cell_type": "code",
   "execution_count": 49,
   "id": "47e6064c-b79e-4b66-97d5-083132243d30",
   "metadata": {},
   "outputs": [
    {
     "data": {
      "text/plain": [
       "1"
      ]
     },
     "execution_count": 49,
     "metadata": {},
     "output_type": "execute_result"
    }
   ],
   "source": [
    "len(tab)"
   ]
  },
  {
   "cell_type": "code",
   "execution_count": 55,
   "id": "d4b64dd1-0f2b-4002-996c-a0be2a7b0997",
   "metadata": {},
   "outputs": [],
   "source": [
    "titles = []\n",
    "years = []\n",
    "ratings = []\n",
    "for row in tab[0].find_all(\"tr\"):\n",
    "    titles.append(row.find_all(\"td\")[1].a.text)\n",
    "    years.append(row.find_all(\"td\")[1].span.text)\n",
    "    ratings.append(row.find_all(\"td\")[2].text.strip())       "
   ]
  },
  {
   "cell_type": "code",
   "execution_count": 58,
   "id": "c51c3e76-c9ec-44f3-b85e-f33da3d62719",
   "metadata": {},
   "outputs": [
    {
     "data": {
      "text/html": [
       "<div>\n",
       "<style scoped>\n",
       "    .dataframe tbody tr th:only-of-type {\n",
       "        vertical-align: middle;\n",
       "    }\n",
       "\n",
       "    .dataframe tbody tr th {\n",
       "        vertical-align: top;\n",
       "    }\n",
       "\n",
       "    .dataframe thead th {\n",
       "        text-align: right;\n",
       "    }\n",
       "</style>\n",
       "<table border=\"1\" class=\"dataframe\">\n",
       "  <thead>\n",
       "    <tr style=\"text-align: right;\">\n",
       "      <th></th>\n",
       "      <th>titles</th>\n",
       "      <th>years</th>\n",
       "      <th>ratings</th>\n",
       "    </tr>\n",
       "  </thead>\n",
       "  <tbody>\n",
       "    <tr>\n",
       "      <th>0</th>\n",
       "      <td>Planet Earth II</td>\n",
       "      <td>(2016)</td>\n",
       "      <td>9.5</td>\n",
       "    </tr>\n",
       "    <tr>\n",
       "      <th>1</th>\n",
       "      <td>Planet Earth</td>\n",
       "      <td>(2006)</td>\n",
       "      <td>9.4</td>\n",
       "    </tr>\n",
       "  </tbody>\n",
       "</table>\n",
       "</div>"
      ],
      "text/plain": [
       "            titles   years ratings\n",
       "0  Planet Earth II  (2016)     9.5\n",
       "1     Planet Earth  (2006)     9.4"
      ]
     },
     "execution_count": 58,
     "metadata": {},
     "output_type": "execute_result"
    }
   ],
   "source": [
    "pd.DataFrame({'titles':titles,'years':years,'ratings':ratings}).head(2)"
   ]
  },
  {
   "cell_type": "code",
   "execution_count": 61,
   "id": "7df01652-260b-4152-8003-49c48f2c0299",
   "metadata": {},
   "outputs": [],
   "source": [
    "### Wikipedia tables\n",
    "url = \"https://en.wikipedia.org/wiki/List_of_terrorist_incidents_in_2019\"\n",
    "browser = webdriver.Chrome()\n",
    "browser.get(url)"
   ]
  },
  {
   "cell_type": "code",
   "execution_count": 62,
   "id": "75d2402d-97b5-409d-83d3-635baf9fd7e1",
   "metadata": {},
   "outputs": [],
   "source": [
    "raw_html = browser.page_source\n",
    "parsed_html = BeautifulSoup(raw_html,'html.parser')"
   ]
  },
  {
   "cell_type": "code",
   "execution_count": 63,
   "id": "22dc30e4-c73c-4598-b356-e02de19bbd7d",
   "metadata": {},
   "outputs": [],
   "source": [
    "tables = parsed_html.find_all(\"table\",class_=\"wikitable\")"
   ]
  },
  {
   "cell_type": "code",
   "execution_count": 64,
   "id": "b286f1e7-51bf-4de1-a809-0ce2a02af38b",
   "metadata": {},
   "outputs": [
    {
     "data": {
      "text/plain": [
       "1"
      ]
     },
     "execution_count": 64,
     "metadata": {},
     "output_type": "execute_result"
    }
   ],
   "source": [
    "len(tables)"
   ]
  },
  {
   "cell_type": "code",
   "execution_count": 67,
   "id": "25ffbea7-4ef0-4b6d-a91d-d0d2155cbda8",
   "metadata": {},
   "outputs": [],
   "source": [
    "rows = tables[0].tbody.find_all(\"tr\")[1:]"
   ]
  },
  {
   "cell_type": "code",
   "execution_count": 68,
   "id": "60ad439b-8834-478e-b85f-acc52db97e1a",
   "metadata": {},
   "outputs": [],
   "source": [
    "dates = []\n",
    "types = []\n",
    "deads = []\n",
    "injured = []\n",
    "locations = []\n",
    "articles = []\n",
    "details = []\n",
    "perpetrators = []\n",
    "parts_of = []\n",
    "cols = [dates,types,deads,injured,locations,articles,details,perpetrators,parts_of]\n",
    "for row in rows:\n",
    "    data=row.find_all(\"td\")\n",
    "    for col,dat in zip(cols,data):\n",
    "        col.append(dat.text.strip())"
   ]
  },
  {
   "cell_type": "code",
   "execution_count": 75,
   "id": "01b31030-b548-4bef-8c28-11c58638228f",
   "metadata": {},
   "outputs": [],
   "source": [
    "table=pd.DataFrame({'date':dates,\n",
    "             'type':types,\n",
    "             'dead':deads,\n",
    "             'injured':injured,\n",
    "             'article':articles,\n",
    "             'detail':details,\n",
    "             'perpetrators':perpetrators,\n",
    "             'parts_of':parts_of})"
   ]
  },
  {
   "cell_type": "code",
   "execution_count": 100,
   "id": "337582e7-d451-404c-9a36-cd9af3e27bab",
   "metadata": {},
   "outputs": [],
   "source": [
    "def get_data(table):\n",
    "    rows = table.tbody.find_all(\"tr\")[1:]\n",
    "    dates = []\n",
    "    types = []\n",
    "    deads = []\n",
    "    injured = []\n",
    "    locations = []\n",
    "    articles = []\n",
    "    details = []\n",
    "    perpetrators = []\n",
    "    parts_of = []\n",
    "    #cols = [dates,types,deads,injured,locations,articles,details,perpetrators,parts_of]\n",
    "    for row in rows:\n",
    "        data=row.find_all(\"td\")\n",
    "        try:\n",
    "            dates.append(data[0].text.strip())\n",
    "        except:\n",
    "            dates.append(\"No data\")\n",
    "        try:\n",
    "            types.append(data[1].text.strip())\n",
    "        except:\n",
    "            types.append(\"No data\")\n",
    "        try:\n",
    "            deads.append(data[2].text.strip())\n",
    "        except:\n",
    "            deads.append(\"No data\")\n",
    "        try:\n",
    "            injured.append(data[3].text.strip())\n",
    "        except:\n",
    "            injured.append(\"No data\")\n",
    "        try:\n",
    "            locations.append(data[4].text.strip())\n",
    "        except:\n",
    "            locations.append(\"No data\")\n",
    "        try:\n",
    "            articles.append(data[5].text.strip())\n",
    "        except:\n",
    "            articles.append(\"No data\")\n",
    "        try:\n",
    "            details.append(data[6].text.strip())\n",
    "        except:\n",
    "            details.append(\"No data\")\n",
    "        try:\n",
    "            perpetrators.append(data[7].text.strip())\n",
    "        except:\n",
    "            perpetrators.append(\"No data\")\n",
    "        try:\n",
    "            parts_of.append(data[8].text.strip())\n",
    "        except:\n",
    "            parts_of.append(\"No data\")\n",
    "            \n",
    "            \n",
    "    table=pd.DataFrame({'date':dates,\n",
    "             'type':types,\n",
    "             'dead':deads,\n",
    "             'injured':injured,\n",
    "             'article':articles,\n",
    "             'detail':details,\n",
    "             'perpetrators':perpetrators,\n",
    "             'parts_of':parts_of})\n",
    "    return table\n"
   ]
  },
  {
   "cell_type": "code",
   "execution_count": 84,
   "id": "d4a74285-7848-4fab-9d7a-f970b8a233c7",
   "metadata": {},
   "outputs": [],
   "source": [
    "headers = []\n",
    "for i in tables[0].tbody.find_all(\"tr\")[0]:\n",
    "    headers.append(i.text.strip().strip())"
   ]
  },
  {
   "cell_type": "code",
   "execution_count": 86,
   "id": "afa2df5d-7d63-4d3a-ae1d-4d4e1b039a80",
   "metadata": {},
   "outputs": [],
   "source": [
    "headers = [h for h in headers if h !=\"\"]"
   ]
  },
  {
   "cell_type": "code",
   "execution_count": 93,
   "id": "6208e1cd-bc31-4f8b-9349-4ee2d29fb0d2",
   "metadata": {},
   "outputs": [
    {
     "data": {
      "text/html": [
       "<div>\n",
       "<style scoped>\n",
       "    .dataframe tbody tr th:only-of-type {\n",
       "        vertical-align: middle;\n",
       "    }\n",
       "\n",
       "    .dataframe tbody tr th {\n",
       "        vertical-align: top;\n",
       "    }\n",
       "\n",
       "    .dataframe thead th {\n",
       "        text-align: right;\n",
       "    }\n",
       "</style>\n",
       "<table border=\"1\" class=\"dataframe\">\n",
       "  <thead>\n",
       "    <tr style=\"text-align: right;\">\n",
       "      <th></th>\n",
       "      <th>Date</th>\n",
       "      <th>Type</th>\n",
       "      <th>Dead</th>\n",
       "      <th>Injured</th>\n",
       "      <th>Location</th>\n",
       "      <th>Article</th>\n",
       "      <th>Details</th>\n",
       "      <th>Perpetrator</th>\n",
       "      <th>Part of</th>\n",
       "    </tr>\n",
       "  </thead>\n",
       "  <tbody>\n",
       "    <tr>\n",
       "      <th>0</th>\n",
       "      <td>15 January</td>\n",
       "      <td>Suicide bombing, shootings, hostage taking</td>\n",
       "      <td>21 (+5)</td>\n",
       "      <td>28</td>\n",
       "      <td>Nairobi, Kenya</td>\n",
       "      <td>2019 Nairobi hotel attack</td>\n",
       "      <td>At least one suicide bomber stormed the luxury...</td>\n",
       "      <td>Al-Shabaab</td>\n",
       "      <td>Terrorism in Kenya</td>\n",
       "    </tr>\n",
       "    <tr>\n",
       "      <th>1</th>\n",
       "      <td>16 January</td>\n",
       "      <td>Suicide Bombing</td>\n",
       "      <td>19 (+1)</td>\n",
       "      <td>3</td>\n",
       "      <td>Manbij, Syria</td>\n",
       "      <td>2019 Manbij bombing</td>\n",
       "      <td>19 people were killed in a suicide bomb attack...</td>\n",
       "      <td>Islamic State</td>\n",
       "      <td>Syrian Civil War</td>\n",
       "    </tr>\n",
       "  </tbody>\n",
       "</table>\n",
       "</div>"
      ],
      "text/plain": [
       "         Date                                        Type     Dead Injured  \\\n",
       "0  15 January  Suicide bombing, shootings, hostage taking  21 (+5)      28   \n",
       "1  16 January                             Suicide Bombing  19 (+1)       3   \n",
       "\n",
       "         Location                    Article  \\\n",
       "0  Nairobi, Kenya  2019 Nairobi hotel attack   \n",
       "1   Manbij, Syria        2019 Manbij bombing   \n",
       "\n",
       "                                             Details    Perpetrator  \\\n",
       "0  At least one suicide bomber stormed the luxury...     Al-Shabaab   \n",
       "1  19 people were killed in a suicide bomb attack...  Islamic State   \n",
       "\n",
       "              Part of  \n",
       "0  Terrorism in Kenya  \n",
       "1    Syrian Civil War  "
      ]
     },
     "execution_count": 93,
     "metadata": {},
     "output_type": "execute_result"
    }
   ],
   "source": [
    "pd.DataFrame({k:v for k,v in zip(headers,cols)}).head(2)"
   ]
  },
  {
   "cell_type": "code",
   "execution_count": 95,
   "id": "606c0df1-019a-4cd5-b8d6-789bd09b2d85",
   "metadata": {},
   "outputs": [],
   "source": [
    "browser.close()"
   ]
  },
  {
   "cell_type": "code",
   "execution_count": 101,
   "id": "3189adeb-0122-4e5b-bbd3-a673b6492927",
   "metadata": {},
   "outputs": [],
   "source": [
    "#https://en.wikipedia.org/wiki/List_of_terrorist_incidents_in_2015\n",
    "#https://en.wikipedia.org/wiki/List_of_terrorist_incidents_in_2016\n",
    "#https://en.wikipedia.org/wiki/List_of_terrorist_incidents_in_2017\n",
    "url=\"https://en.wikipedia.org/wiki/List_of_terrorist_incidents_in_2016\"\n",
    "browser = webdriver.Chrome()\n",
    "browser.get(url)\n",
    "raw_html=browser.page_source\n",
    "parsed_html = BeautifulSoup(raw_html,'html.parser')\n",
    "tables = parsed_html.find_all(\"table\",class_=\"wikitable\")\n",
    "get_data(tables[0])\n",
    "browser.close()"
   ]
  },
  {
   "cell_type": "code",
   "execution_count": null,
   "id": "e934e0f3-1705-44ce-bb45-6b29e899c53b",
   "metadata": {},
   "outputs": [],
   "source": []
  }
 ],
 "metadata": {
  "kernelspec": {
   "display_name": "Python 3 (ipykernel)",
   "language": "python",
   "name": "python3"
  },
  "language_info": {
   "codemirror_mode": {
    "name": "ipython",
    "version": 3
   },
   "file_extension": ".py",
   "mimetype": "text/x-python",
   "name": "python",
   "nbconvert_exporter": "python",
   "pygments_lexer": "ipython3",
   "version": "3.9.5"
  }
 },
 "nbformat": 4,
 "nbformat_minor": 5
}
