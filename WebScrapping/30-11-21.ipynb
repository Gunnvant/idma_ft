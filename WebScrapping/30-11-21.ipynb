{
 "cells": [
  {
   "cell_type": "markdown",
   "id": "523f6efa-44a3-4959-b4df-00d972e8856b",
   "metadata": {},
   "source": [
    "## Interact with a sql database from python\n",
    "\n",
    "1. If you have data in a db how do you bring that data to python\n",
    "2. Single csv file, unrelated csv or json files and you have to push them to db\n",
    "3. Several related csv or json files that have to be pushed into the db"
   ]
  },
  {
   "cell_type": "code",
   "execution_count": 2,
   "id": "ecc95229-bb0e-4132-b6c9-f36cf2ed5dc9",
   "metadata": {},
   "outputs": [],
   "source": [
    "from sqlalchemy.ext.automap import automap_base\n",
    "from sqlalchemy import create_engine"
   ]
  },
  {
   "cell_type": "code",
   "execution_count": 3,
   "id": "8dafeb35-49cd-491a-9b3d-03ee4a561cee",
   "metadata": {},
   "outputs": [],
   "source": [
    "import sqlalchemy"
   ]
  },
  {
   "cell_type": "code",
   "execution_count": 4,
   "id": "e04a7d7a-f4f9-4021-a041-76c43e74de76",
   "metadata": {},
   "outputs": [
    {
     "data": {
      "text/plain": [
       "'1.4.22'"
      ]
     },
     "execution_count": 4,
     "metadata": {},
     "output_type": "execute_result"
    }
   ],
   "source": [
    "sqlalchemy.__version__"
   ]
  },
  {
   "cell_type": "code",
   "execution_count": 6,
   "id": "af45282a-a722-429c-aa3a-66b44514d626",
   "metadata": {},
   "outputs": [],
   "source": [
    "## sqlite, mysql, oracle, postgres\n",
    "## Create a connection with the db\n",
    "engine = create_engine('sqlite:///./data/music.db') ## location of the db"
   ]
  },
  {
   "cell_type": "code",
   "execution_count": 7,
   "id": "bd8d5972-eb27-4f96-a3a1-449722da3f7e",
   "metadata": {},
   "outputs": [],
   "source": [
    "Base = automap_base()\n",
    "Base.prepare(engine,reflect=True) ## we are interested in retaining the original tables that exist in the db"
   ]
  },
  {
   "cell_type": "code",
   "execution_count": 8,
   "id": "bcc49aec-78bd-4e93-a4f3-00dc07176ed6",
   "metadata": {},
   "outputs": [
    {
     "data": {
      "text/plain": [
       "['Album',\n",
       " 'Artist',\n",
       " 'Customer',\n",
       " 'Employee',\n",
       " 'Genre',\n",
       " 'Invoice',\n",
       " 'InvoiceLine',\n",
       " 'Track',\n",
       " 'MediaType',\n",
       " 'Playlist']"
      ]
     },
     "execution_count": 8,
     "metadata": {},
     "output_type": "execute_result"
    }
   ],
   "source": [
    "### List all the tables in the db\n",
    "Base.classes.keys()"
   ]
  },
  {
   "cell_type": "code",
   "execution_count": 9,
   "id": "9c8fee5e-4311-41b9-8d11-f9ef2dabe031",
   "metadata": {},
   "outputs": [
    {
     "data": {
      "text/plain": [
       "[(1, 'AC/DC'),\n",
       " (2, 'Accept'),\n",
       " (3, 'Aerosmith'),\n",
       " (4, 'Alanis Morissette'),\n",
       " (5, 'Alice In Chains')]"
      ]
     },
     "execution_count": 9,
     "metadata": {},
     "output_type": "execute_result"
    }
   ],
   "source": [
    "## Query the Artist table, fetch first 5 rows.\n",
    "engine.execute(\"Select * from Artist limit 5;\").fetchall()"
   ]
  },
  {
   "cell_type": "code",
   "execution_count": 10,
   "id": "a9363a2d-ae47-4080-a9ff-6c36edfae602",
   "metadata": {},
   "outputs": [
    {
     "data": {
      "text/plain": [
       "[(1, 'Adams', 'Andrew', 'General Manager', None, '1962-02-18 00:00:00', '2002-08-14 00:00:00', '11120 Jasper Ave NW', 'Edmonton', 'AB', 'Canada', 'T5K 2N1', '+1 (780) 428-9482', '+1 (780) 428-3457', 'andrew@chinookcorp.com'),\n",
       " (2, 'Edwards', 'Nancy', 'Sales Manager', 1, '1958-12-08 00:00:00', '2002-05-01 00:00:00', '825 8 Ave SW', 'Calgary', 'AB', 'Canada', 'T2P 2T3', '+1 (403) 262-3443', '+1 (403) 262-3322', 'nancy@chinookcorp.com'),\n",
       " (3, 'Peacock', 'Jane', 'Sales Support Agent', 2, '1973-08-29 00:00:00', '2002-04-01 00:00:00', '1111 6 Ave SW', 'Calgary', 'AB', 'Canada', 'T2P 5M5', '+1 (403) 262-3443', '+1 (403) 262-6712', 'jane@chinookcorp.com'),\n",
       " (4, 'Park', 'Margaret', 'Sales Support Agent', 2, '1947-09-19 00:00:00', '2003-05-03 00:00:00', '683 10 Street SW', 'Calgary', 'AB', 'Canada', 'T2P 5G3', '+1 (403) 263-4423', '+1 (403) 263-4289', 'margaret@chinookcorp.com'),\n",
       " (5, 'Johnson', 'Steve', 'Sales Support Agent', 2, '1965-03-03 00:00:00', '2003-10-17 00:00:00', '7727B 41 Ave', 'Calgary', 'AB', 'Canada', 'T3B 1Y7', '1 (780) 836-9987', '1 (780) 836-9543', 'steve@chinookcorp.com')]"
      ]
     },
     "execution_count": 10,
     "metadata": {},
     "output_type": "execute_result"
    }
   ],
   "source": [
    "engine.execute(\"Select * from Employee limit 5;\").fetchall()"
   ]
  },
  {
   "cell_type": "code",
   "execution_count": 11,
   "id": "f64e44ea-c48c-4c31-a457-5c03dbefc91b",
   "metadata": {},
   "outputs": [],
   "source": [
    "Artist = Base.classes.Artist"
   ]
  },
  {
   "cell_type": "code",
   "execution_count": 12,
   "id": "92192ff7-0026-4d29-b226-5de8964d8fa6",
   "metadata": {},
   "outputs": [
    {
     "data": {
      "text/plain": [
       "['ArtistId', 'Name']"
      ]
     },
     "execution_count": 12,
     "metadata": {},
     "output_type": "execute_result"
    }
   ],
   "source": [
    "Artist.__table__.columns.keys()"
   ]
  },
  {
   "cell_type": "code",
   "execution_count": 13,
   "id": "faa4d1e5-624e-4b88-a935-9ec16b0ad6b7",
   "metadata": {},
   "outputs": [],
   "source": [
    "Emp = Base.classes.Employee"
   ]
  },
  {
   "cell_type": "code",
   "execution_count": 14,
   "id": "40119143-1246-4150-b577-702f238972c4",
   "metadata": {},
   "outputs": [
    {
     "data": {
      "text/plain": [
       "['EmployeeId',\n",
       " 'LastName',\n",
       " 'FirstName',\n",
       " 'Title',\n",
       " 'ReportsTo',\n",
       " 'BirthDate',\n",
       " 'HireDate',\n",
       " 'Address',\n",
       " 'City',\n",
       " 'State',\n",
       " 'Country',\n",
       " 'PostalCode',\n",
       " 'Phone',\n",
       " 'Fax',\n",
       " 'Email']"
      ]
     },
     "execution_count": 14,
     "metadata": {},
     "output_type": "execute_result"
    }
   ],
   "source": [
    "Emp.__table__.columns.keys()"
   ]
  },
  {
   "cell_type": "code",
   "execution_count": 15,
   "id": "d83508cc-bfc7-4866-b6c3-ccf16026e3cb",
   "metadata": {},
   "outputs": [],
   "source": [
    "import pandas as pd"
   ]
  },
  {
   "cell_type": "code",
   "execution_count": 16,
   "id": "a066560a-6e99-4959-838a-3860b8e91bce",
   "metadata": {},
   "outputs": [],
   "source": [
    "df = pd.read_sql(\"Select * from Artist;\",engine) ## Fetch entire data to a df, "
   ]
  },
  {
   "cell_type": "code",
   "execution_count": 17,
   "id": "db05a29e-00da-47a5-b36c-c215b9c3d6a2",
   "metadata": {},
   "outputs": [
    {
     "data": {
      "text/html": [
       "<div>\n",
       "<style scoped>\n",
       "    .dataframe tbody tr th:only-of-type {\n",
       "        vertical-align: middle;\n",
       "    }\n",
       "\n",
       "    .dataframe tbody tr th {\n",
       "        vertical-align: top;\n",
       "    }\n",
       "\n",
       "    .dataframe thead th {\n",
       "        text-align: right;\n",
       "    }\n",
       "</style>\n",
       "<table border=\"1\" class=\"dataframe\">\n",
       "  <thead>\n",
       "    <tr style=\"text-align: right;\">\n",
       "      <th></th>\n",
       "      <th>ArtistId</th>\n",
       "      <th>Name</th>\n",
       "    </tr>\n",
       "  </thead>\n",
       "  <tbody>\n",
       "    <tr>\n",
       "      <th>0</th>\n",
       "      <td>1</td>\n",
       "      <td>AC/DC</td>\n",
       "    </tr>\n",
       "    <tr>\n",
       "      <th>1</th>\n",
       "      <td>2</td>\n",
       "      <td>Accept</td>\n",
       "    </tr>\n",
       "    <tr>\n",
       "      <th>2</th>\n",
       "      <td>3</td>\n",
       "      <td>Aerosmith</td>\n",
       "    </tr>\n",
       "    <tr>\n",
       "      <th>3</th>\n",
       "      <td>4</td>\n",
       "      <td>Alanis Morissette</td>\n",
       "    </tr>\n",
       "    <tr>\n",
       "      <th>4</th>\n",
       "      <td>5</td>\n",
       "      <td>Alice In Chains</td>\n",
       "    </tr>\n",
       "  </tbody>\n",
       "</table>\n",
       "</div>"
      ],
      "text/plain": [
       "   ArtistId               Name\n",
       "0         1              AC/DC\n",
       "1         2             Accept\n",
       "2         3          Aerosmith\n",
       "3         4  Alanis Morissette\n",
       "4         5    Alice In Chains"
      ]
     },
     "execution_count": 17,
     "metadata": {},
     "output_type": "execute_result"
    }
   ],
   "source": [
    "df.head()"
   ]
  },
  {
   "cell_type": "markdown",
   "id": "3bd173d7-9da5-4357-bb71-bd1acb8ef44d",
   "metadata": {},
   "source": [
    "## Insert data into a db, single/multiple csv, they are all unrelated"
   ]
  },
  {
   "cell_type": "code",
   "execution_count": 18,
   "id": "3e320fcf-598d-4c54-8af4-f0d245dbaddb",
   "metadata": {},
   "outputs": [],
   "source": [
    "from sqlalchemy.ext.declarative import declarative_base ## creating new tables and new db\n",
    "from sqlalchemy import create_engine ## creating connection\n",
    "from sqlalchemy.orm import Session ## inserting data"
   ]
  },
  {
   "cell_type": "code",
   "execution_count": 75,
   "id": "50a50078-dd8c-4ef4-b270-98dc3ef34cbd",
   "metadata": {},
   "outputs": [],
   "source": [
    "Base = declarative_base()"
   ]
  },
  {
   "cell_type": "code",
   "execution_count": 20,
   "id": "0712d107-2caf-46fa-9376-e22e086699d9",
   "metadata": {},
   "outputs": [],
   "source": [
    "### Write the schema of the table using a python class\n",
    "## What are the names of the columns of a table\n",
    "## What are the datatypes of different columns in the table ---> import from sqlalchemy\n",
    "from sqlalchemy import Column, Integer, Numeric, String, DateTime"
   ]
  },
  {
   "cell_type": "code",
   "execution_count": 76,
   "id": "d8758261-0f63-40ce-848a-afec9b1381ff",
   "metadata": {},
   "outputs": [],
   "source": [
    "### Write my table as a python class\n",
    "class Sales(Base):\n",
    "    __tablename__=\"sales\"\n",
    "    id = Column(Integer(), autoincrement = True, primary_key = True)\n",
    "    sales_month = Column(DateTime(),nullable=True)\n",
    "    naics_code = Column(String(),nullable=True)\n",
    "    kind_of_busines = Column(String(),nullable=True)\n",
    "    reason_for_null = Column(String(),nullable=True)\n",
    "    sales = Column(Numeric(),nullable=True) "
   ]
  },
  {
   "cell_type": "code",
   "execution_count": 77,
   "id": "e51ca4c2-ff9f-4844-a5d3-2f7eb77a2be5",
   "metadata": {},
   "outputs": [],
   "source": [
    "engine = create_engine(\"sqlite:///./data/example.db\")"
   ]
  },
  {
   "cell_type": "code",
   "execution_count": 78,
   "id": "22e66deb-75b9-45b4-a529-83802978671d",
   "metadata": {},
   "outputs": [],
   "source": [
    "Base.metadata.create_all(engine) ## creates an empty db"
   ]
  },
  {
   "cell_type": "code",
   "execution_count": 79,
   "id": "20c58b26-0f59-4efe-a782-6381d7d7d307",
   "metadata": {},
   "outputs": [],
   "source": [
    "## Insert data\n",
    "session = Session(engine)"
   ]
  },
  {
   "cell_type": "code",
   "execution_count": 80,
   "id": "d9a5c1b6-c23b-4f6f-a7ba-28857dd0a996",
   "metadata": {},
   "outputs": [
    {
     "name": "stderr",
     "output_type": "stream",
     "text": [
      "22620it [00:15, 1488.38it/s]\n"
     ]
    }
   ],
   "source": [
    "import csv\n",
    "import datetime\n",
    "from tqdm import tqdm\n",
    "with open(\"./data/retail_sales_us.csv\",\"r\",encoding='utf-8') as f:\n",
    "    reader = csv.DictReader(f,delimiter=\",\")\n",
    "    for row in tqdm(reader):\n",
    "        if row['\\ufeffsales_month']==\"\":\n",
    "            date = None\n",
    "        else:\n",
    "            date = datetime.datetime.fromisoformat(row['\\ufeffsales_month'])\n",
    "        if row['naics_code'] == \"\":\n",
    "            naics = None\n",
    "        else:\n",
    "            naics = row['naics_code']\n",
    "        if row['kind_of_business'] == '':\n",
    "            kind = None\n",
    "        else:\n",
    "            kind = row['kind_of_business']\n",
    "        if row['reason_for_null']=='':\n",
    "            reason=None\n",
    "        else:\n",
    "            reason=row['reason_for_null']\n",
    "        if row['sales'] == '':\n",
    "            sal = None\n",
    "        else:\n",
    "            sal = row['sales']\n",
    "                                                \n",
    "        db_row = Sales(sales_month=date,\n",
    "                      naics_code = naics,\n",
    "                      kind_of_busines = kind,\n",
    "                      reason_for_null = reason,\n",
    "                      sales = sal)\n",
    "        session.add(db_row)\n",
    "        try:\n",
    "            session.commit()\n",
    "        except:\n",
    "            session.rollback()"
   ]
  },
  {
   "cell_type": "code",
   "execution_count": 96,
   "id": "5e8b0aca-99f4-4876-a5f2-61017d42abb4",
   "metadata": {},
   "outputs": [],
   "source": [
    "## Scenario 3: When we have related tables.\n",
    "from sqlalchemy.ext.declarative import declarative_base ## creating new tables and new db\n",
    "from sqlalchemy import create_engine ## creating connection\n",
    "from sqlalchemy.orm import Session\n",
    "from sqlalchemy import Column, Integer, Numeric, String, DateTime, ForeignKey"
   ]
  },
  {
   "cell_type": "code",
   "execution_count": 97,
   "id": "f5140297-0bf8-48e6-9810-0c9153da5baa",
   "metadata": {},
   "outputs": [],
   "source": [
    "Base = declarative_base()\n",
    "class Candidate(Base):\n",
    "    __tablename__='candidates'\n",
    "    \n",
    "    candidate_id = Column(Integer(), primary_key=True)\n",
    "    first_name = Column(String(), nullable=False)\n",
    "    last_name = Column(String(), nullable=False)\n",
    "    middle_name = Column(String())\n",
    "    party = Column(String(),nullable=False)\n",
    "    \n",
    "class Contributions(Base):\n",
    "    __tablename__=\"contributions\"\n",
    "    \n",
    "    i_d = Column(Integer(),autoincrement=True,primary_key=True)\n",
    "    last_name = Column(String(),nullable=False)\n",
    "    first_name = Column(String(), nullable=False)\n",
    "    middle_name = Column(String())\n",
    "    street_1 = Column(String())\n",
    "    street_2 = Column(String())\n",
    "    city = Column(String())\n",
    "    state = Column(String())\n",
    "    zip_code = Column(Integer())\n",
    "    amount = Column(Numeric())\n",
    "    date = Column(DateTime())\n",
    "    candidate_id = Column(Integer(),ForeignKey(\"candidates.candidate_id\"))\n",
    "    \n",
    "engine = create_engine(\"sqlite:///./data/relationship.db\")\n",
    "Base.metadata.create_all(engine) "
   ]
  },
  {
   "cell_type": "code",
   "execution_count": 98,
   "id": "3e969018-a4f5-4ebf-8fec-0ed74ce8236a",
   "metadata": {},
   "outputs": [
    {
     "name": "stderr",
     "output_type": "stream",
     "text": [
      "17it [00:00, 766.00it/s]\n"
     ]
    }
   ],
   "source": [
    "session = Session(engine)\n",
    "with open(\"../Week1/data/candidates.csv\",\"r\",encoding=\"utf-8\") as f:\n",
    "    reader = csv.DictReader(f,delimiter=\",\")\n",
    "    for row in tqdm(reader):\n",
    "        if row['id'] == '':\n",
    "            can_id = None\n",
    "        else:\n",
    "            can_id = row['id']\n",
    "        if row['first_name'] == '':\n",
    "            f_name = None\n",
    "        else:\n",
    "            f_name = row['first_name']\n",
    "        if row['last_name'] == '':\n",
    "            l_name = None\n",
    "        else:\n",
    "            l_name = row['last_name']\n",
    "        if row['middle_name'] == '':\n",
    "            m_name = None\n",
    "        else:\n",
    "            m_name = row['middle_name']\n",
    "        if row['party'] == '':\n",
    "            party = None\n",
    "        else:\n",
    "            party = row['party']\n",
    "        db_row = Candidate(candidate_id = can_id,\n",
    "                          first_name = f_name,\n",
    "                          last_name = l_name,\n",
    "                          middle_name = m_name,\n",
    "                          party = party)\n",
    "        session.add(db_row)\n",
    "        try:\n",
    "            session.commit()\n",
    "        except:\n",
    "            session.rollback()\n",
    "        "
   ]
  },
  {
   "cell_type": "code",
   "execution_count": 99,
   "id": "93510ded-116b-4088-99e6-6056a58f81b1",
   "metadata": {},
   "outputs": [
    {
     "name": "stderr",
     "output_type": "stream",
     "text": [
      "175it [00:00, 1265.76it/s]\n"
     ]
    }
   ],
   "source": [
    "with open(\"../Week1/data/contributions.csv\",\"r\",encoding=\"utf-8\") as f:\n",
    "    reader = csv.DictReader(f,delimiter=\",\")\n",
    "    for row in tqdm(reader):\n",
    "        if row['first_name']=='':\n",
    "            f_name = None\n",
    "        else:\n",
    "            f_name = row['first_name']\n",
    "        if row['last_name'] == '':\n",
    "            l_name = None\n",
    "        else:\n",
    "            l_name = row['last_name']\n",
    "        if row['middle_name'] == '':\n",
    "            m_name = None\n",
    "        else:\n",
    "            m_name = row['middle_name']\n",
    "        if row['street_1'] == '':\n",
    "            s_1 = None\n",
    "        else:\n",
    "            s_1 = row['street_1']\n",
    "        if row['street_2'] == '':\n",
    "            s_2 = None\n",
    "        else:\n",
    "            s_2 = row['street_2']\n",
    "        if row['city'] == '':\n",
    "            city = None\n",
    "        else:\n",
    "            city = row['city']\n",
    "        if row['state'] == '':\n",
    "            state = None\n",
    "        else:\n",
    "            state = row['state']\n",
    "        if row['zip'] == '':\n",
    "            Zip = None\n",
    "        else:\n",
    "            Zip = row['zip']\n",
    "        if row['amount'] == '':\n",
    "            amount = None\n",
    "        else:\n",
    "            amount = row['amount']\n",
    "        if row['date'] == '':\n",
    "            date = None\n",
    "        else:\n",
    "            date = datetime.datetime.fromisoformat(row['date'])\n",
    "        if row['candidate_id'] == '':\n",
    "            can_id = None\n",
    "        else:\n",
    "            can_id = row['candidate_id']\n",
    "            \n",
    "        db_row = Contributions(last_name = l_name,\n",
    "                              first_name = f_name,\n",
    "                              middle_name = m_name,\n",
    "                              street_1 = s_1,\n",
    "                              street_2 = s_2,\n",
    "                              city = city,\n",
    "                              state = state,\n",
    "                              zip_code = Zip,\n",
    "                              amount = amount,\n",
    "                              candidate_id = can_id,\n",
    "                              date = date)\n",
    "        session.add(db_row)\n",
    "        try:\n",
    "            session.commit()\n",
    "        except:\n",
    "            session.rollback()          "
   ]
  },
  {
   "cell_type": "code",
   "execution_count": null,
   "id": "c8725d3f-4ecd-444a-82bf-f1787b27241d",
   "metadata": {},
   "outputs": [],
   "source": []
  }
 ],
 "metadata": {
  "kernelspec": {
   "display_name": "Python 3 (ipykernel)",
   "language": "python",
   "name": "python3"
  },
  "language_info": {
   "codemirror_mode": {
    "name": "ipython",
    "version": 3
   },
   "file_extension": ".py",
   "mimetype": "text/x-python",
   "name": "python",
   "nbconvert_exporter": "python",
   "pygments_lexer": "ipython3",
   "version": "3.9.5"
  }
 },
 "nbformat": 4,
 "nbformat_minor": 5
}
