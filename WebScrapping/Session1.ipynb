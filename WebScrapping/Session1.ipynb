{
 "cells": [
  {
   "cell_type": "markdown",
   "id": "779734b7-9db3-4c31-bf36-e954b5d5b20c",
   "metadata": {},
   "source": [
    "## Getting data from html: Parsing dom"
   ]
  },
  {
   "cell_type": "code",
   "execution_count": 1,
   "id": "da567e6d-ee7e-46ad-a809-7fb2031b618b",
   "metadata": {},
   "outputs": [],
   "source": [
    "## Read the html.html file\n",
    "path=\"./data/html.html\"\n",
    "con=open(path,\"r\")\n",
    "data=con.read()\n",
    "con.close()"
   ]
  },
  {
   "cell_type": "code",
   "execution_count": 2,
   "id": "5025f41e-e2c8-4cbb-ba03-470af7be008f",
   "metadata": {},
   "outputs": [
    {
     "name": "stdout",
     "output_type": "stream",
     "text": [
      "<!DOCTYPE html>\n",
      "\n",
      "<html>\n",
      "    <head>\n",
      "        <title>GETTING STARTED WITH bs4</title>\n",
      "    </head>\n",
      "    <div class=\"para 1\">\n",
      "        <p>\n",
      "            This is paragraph one\n",
      "        </p>\n",
      "        <p>\n",
      "            This is paragraph two\n",
      "        </p>\n",
      "    </div>\n",
      "    <div class='para 2'>\n",
      "        <p>\n",
      "            This is para 1 in div 2\n",
      "        </p>\n",
      "    \n",
      "    </div>\n",
      "    <div class=\"para 1\">\n",
      "        <p>\n",
      "            This is paragraph three of div with class para 1\n",
      "        </p>\n",
      "        <p>\n",
      "            This is paragraph four of div with class para 1\n",
      "        </p>\n",
      "    </div>\n",
      "\n",
      "</html>\n"
     ]
    }
   ],
   "source": [
    "print(data)"
   ]
  },
  {
   "cell_type": "code",
   "execution_count": 3,
   "id": "a148c80e-1ba7-4e06-9832-b0c7ff9e6314",
   "metadata": {},
   "outputs": [],
   "source": [
    "from bs4 import BeautifulSoup\n",
    "parsed_markup=BeautifulSoup(data,'html.parser')"
   ]
  },
  {
   "cell_type": "code",
   "execution_count": 4,
   "id": "3b2d686c-d0dc-47fb-9ef8-331c74b1eab0",
   "metadata": {},
   "outputs": [
    {
     "data": {
      "text/plain": [
       "<title>GETTING STARTED WITH bs4</title>"
      ]
     },
     "execution_count": 4,
     "metadata": {},
     "output_type": "execute_result"
    }
   ],
   "source": [
    "parsed_markup.title ## access dom elements"
   ]
  },
  {
   "cell_type": "code",
   "execution_count": 5,
   "id": "c9744e6f-8cdd-422e-b321-2169b22d06e2",
   "metadata": {},
   "outputs": [
    {
     "data": {
      "text/plain": [
       "'bs4'"
      ]
     },
     "execution_count": 5,
     "metadata": {},
     "output_type": "execute_result"
    }
   ],
   "source": [
    "parsed_markup.title.text.split(\" \")[-1]"
   ]
  },
  {
   "cell_type": "code",
   "execution_count": 6,
   "id": "96a4cde1-65e6-4c0b-94a0-61ccb97b53d8",
   "metadata": {},
   "outputs": [
    {
     "data": {
      "text/plain": [
       "<div class=\"para 1\">\n",
       "<p>\n",
       "            This is paragraph one\n",
       "        </p>\n",
       "<p>\n",
       "            This is paragraph two\n",
       "        </p>\n",
       "</div>"
      ]
     },
     "execution_count": 6,
     "metadata": {},
     "output_type": "execute_result"
    }
   ],
   "source": [
    "parsed_markup.div"
   ]
  },
  {
   "cell_type": "code",
   "execution_count": 7,
   "id": "5270adaf-6e2f-41a9-aafe-025f3bf7e293",
   "metadata": {},
   "outputs": [
    {
     "data": {
      "text/plain": [
       "[<div class=\"para 1\">\n",
       " <p>\n",
       "             This is paragraph one\n",
       "         </p>\n",
       " <p>\n",
       "             This is paragraph two\n",
       "         </p>\n",
       " </div>,\n",
       " <div class=\"para 2\">\n",
       " <p>\n",
       "             This is para 1 in div 2\n",
       "         </p>\n",
       " </div>,\n",
       " <div class=\"para 1\">\n",
       " <p>\n",
       "             This is paragraph three of div with class para 1\n",
       "         </p>\n",
       " <p>\n",
       "             This is paragraph four of div with class para 1\n",
       "         </p>\n",
       " </div>]"
      ]
     },
     "execution_count": 7,
     "metadata": {},
     "output_type": "execute_result"
    }
   ],
   "source": [
    "parsed_markup.find_all(\"div\")"
   ]
  },
  {
   "cell_type": "code",
   "execution_count": 8,
   "id": "bd7e2918-1866-405c-adb6-da89e29ec65b",
   "metadata": {},
   "outputs": [
    {
     "data": {
      "text/plain": [
       "[<div class=\"para 2\">\n",
       " <p>\n",
       "             This is para 1 in div 2\n",
       "         </p>\n",
       " </div>]"
      ]
     },
     "execution_count": 8,
     "metadata": {},
     "output_type": "execute_result"
    }
   ],
   "source": [
    "parsed_markup.find_all(\"div\",class_='para 2')"
   ]
  },
  {
   "cell_type": "code",
   "execution_count": 9,
   "id": "71f607f3-d0cc-4ec9-b462-edaa537c243f",
   "metadata": {},
   "outputs": [],
   "source": [
    "divs=parsed_markup.find_all(\"div\",class_='para 1')"
   ]
  },
  {
   "cell_type": "code",
   "execution_count": 10,
   "id": "4cfb281b-7983-4614-8222-7db70d5cc7f7",
   "metadata": {},
   "outputs": [
    {
     "data": {
      "text/plain": [
       "[<p>\n",
       "             This is paragraph one\n",
       "         </p>,\n",
       " <p>\n",
       "             This is paragraph two\n",
       "         </p>]"
      ]
     },
     "execution_count": 10,
     "metadata": {},
     "output_type": "execute_result"
    }
   ],
   "source": [
    "divs[0].find_all(\"p\")   "
   ]
  },
  {
   "cell_type": "code",
   "execution_count": 11,
   "id": "89c944f2-e1c2-45cc-b5b0-4848a2f92127",
   "metadata": {},
   "outputs": [
    {
     "data": {
      "text/plain": [
       "<div class=\"para 1\">\n",
       "<p>\n",
       "            This is paragraph three of div with class para 1\n",
       "        </p>\n",
       "<p>\n",
       "            This is paragraph four of div with class para 1\n",
       "        </p>\n",
       "</div>"
      ]
     },
     "execution_count": 11,
     "metadata": {},
     "output_type": "execute_result"
    }
   ],
   "source": [
    "divs[1]"
   ]
  },
  {
   "cell_type": "code",
   "execution_count": 12,
   "id": "6f0abd0b-db5e-40ca-8eb2-557d2b8de917",
   "metadata": {},
   "outputs": [
    {
     "name": "stdout",
     "output_type": "stream",
     "text": [
      "This is paragraph two\n",
      "This is paragraph four of div with class para 1\n"
     ]
    }
   ],
   "source": [
    "for i in parsed_markup.find_all(\"div\",class_=\"para 1\"):\n",
    "    paras=i.find_all(\"p\")\n",
    "    print(paras[1].text.strip())"
   ]
  },
  {
   "cell_type": "code",
   "execution_count": 13,
   "id": "ee6a1f81-7945-48ea-9941-ca1b404896a0",
   "metadata": {},
   "outputs": [],
   "source": [
    "## Extracting data:\n",
    "para_data=[]\n",
    "for i in parsed_markup.find_all(\"div\",class_=\"para 1\"):\n",
    "    paras=i.find_all(\"p\")\n",
    "    para_data.append(paras[1].text.strip())"
   ]
  },
  {
   "cell_type": "code",
   "execution_count": 14,
   "id": "d7a1f940-4a85-41d6-bfa6-9c3429c8a029",
   "metadata": {},
   "outputs": [
    {
     "data": {
      "text/plain": [
       "['This is paragraph two', 'This is paragraph four of div with class para 1']"
      ]
     },
     "execution_count": 14,
     "metadata": {},
     "output_type": "execute_result"
    }
   ],
   "source": [
    "para_data"
   ]
  },
  {
   "cell_type": "markdown",
   "id": "a6313499-7a66-45ea-8ab2-7015c9d993bb",
   "metadata": {},
   "source": [
    "## Using requests to fetch html"
   ]
  },
  {
   "cell_type": "code",
   "execution_count": 15,
   "id": "5b30efd0-7e46-4b33-b101-472702c02033",
   "metadata": {},
   "outputs": [],
   "source": [
    "## Simulate a browser\n",
    "url=\"https://www.goodreads.com/quotes\"\n",
    "import requests\n",
    "headers = {'User-Agent': 'Mozilla/5.0 (Macintosh; Intel Mac OS X 10_10_1) AppleWebKit/537.36 (KHTML, like Gecko) Chrome/39.0.2171.95 Safari/537.36'}\n",
    "quotes=requests.get(url,headers=headers).text"
   ]
  },
  {
   "cell_type": "code",
   "execution_count": 16,
   "id": "e21e6ed8-8f63-40ee-ae3b-963b384bcaf8",
   "metadata": {},
   "outputs": [],
   "source": [
    "### Make the html markup parsable\n",
    "quotes_parsed=BeautifulSoup(quotes,'html.parser')"
   ]
  },
  {
   "cell_type": "code",
   "execution_count": 17,
   "id": "2c73676c-7cf3-4cab-85a2-00937fabee97",
   "metadata": {},
   "outputs": [
    {
     "data": {
      "text/plain": [
       "<div data-react-class=\"ReactComponents.StoresInitializer\" data-react-props=\"{}\"><noscript data-react-checksum=\"-1374351170\" data-reactid=\".16mqg5c4h40\"></noscript></div>"
      ]
     },
     "execution_count": 17,
     "metadata": {},
     "output_type": "execute_result"
    }
   ],
   "source": [
    "quotes_parsed.div"
   ]
  },
  {
   "cell_type": "code",
   "execution_count": 18,
   "id": "4ea8b552-e123-497e-821b-d901d48755dd",
   "metadata": {},
   "outputs": [],
   "source": [
    "authors=[]\n",
    "for i in quotes_parsed.find_all(\"span\",class_=\"authorOrTitle\"):\n",
    "    authors.append(i.text.strip())"
   ]
  },
  {
   "cell_type": "code",
   "execution_count": 19,
   "id": "c9674841-c3f6-42c3-8122-98eb99f830d6",
   "metadata": {},
   "outputs": [
    {
     "data": {
      "text/plain": [
       "['Oscar Wilde',\n",
       " 'Marilyn Monroe',\n",
       " 'Albert Einstein',\n",
       " 'Frank Zappa',\n",
       " 'Marcus Tullius Cicero',\n",
       " 'Bernard M. Baruch',\n",
       " 'William W. Purkey',\n",
       " 'Dr. Seuss',\n",
       " 'Mae West',\n",
       " 'Mahatma Gandhi',\n",
       " 'Robert Frost',\n",
       " 'J.K. Rowling,',\n",
       " 'Albert Camus',\n",
       " 'Mark Twain',\n",
       " 'C.S. Lewis,',\n",
       " 'Maya Angelou',\n",
       " 'Elbert Hubbard',\n",
       " 'Oscar Wilde',\n",
       " 'Oscar Wilde',\n",
       " 'Mahatma Gandhi',\n",
       " 'Martin Luther King Jr.,',\n",
       " 'Friedrich Nietzsche,',\n",
       " 'Stephen Chbosky,',\n",
       " 'Oscar Wilde,',\n",
       " 'Ralph Waldo Emerson',\n",
       " 'Rob Siltanen',\n",
       " 'Narcotics Anonymous',\n",
       " 'Marilyn Monroe',\n",
       " 'H. Jackson Brown Jr.,',\n",
       " 'Andre Gide,']"
      ]
     },
     "execution_count": 19,
     "metadata": {},
     "output_type": "execute_result"
    }
   ],
   "source": [
    "authors"
   ]
  },
  {
   "cell_type": "code",
   "execution_count": 20,
   "id": "5dff2d6c-953c-4da0-99ae-90ab533183d5",
   "metadata": {},
   "outputs": [],
   "source": [
    "quotes=[]\n",
    "for i in quotes_parsed.find_all(\"div\",class_=\"quoteText\"):\n",
    "    quotes.append((list(i.children)[0].strip()))"
   ]
  },
  {
   "cell_type": "code",
   "execution_count": 21,
   "id": "08092055-02bd-4a7f-abe8-cd5430dde4dd",
   "metadata": {},
   "outputs": [],
   "source": [
    "import pandas as pd\n",
    "table=pd.DataFrame({'quotes':quotes,'authors':authors})"
   ]
  },
  {
   "cell_type": "code",
   "execution_count": 22,
   "id": "9cda196e-c3e2-4b7e-8043-91a5e919ccd4",
   "metadata": {},
   "outputs": [
    {
     "data": {
      "text/html": [
       "<div>\n",
       "<style scoped>\n",
       "    .dataframe tbody tr th:only-of-type {\n",
       "        vertical-align: middle;\n",
       "    }\n",
       "\n",
       "    .dataframe tbody tr th {\n",
       "        vertical-align: top;\n",
       "    }\n",
       "\n",
       "    .dataframe thead th {\n",
       "        text-align: right;\n",
       "    }\n",
       "</style>\n",
       "<table border=\"1\" class=\"dataframe\">\n",
       "  <thead>\n",
       "    <tr style=\"text-align: right;\">\n",
       "      <th></th>\n",
       "      <th>quotes</th>\n",
       "      <th>authors</th>\n",
       "    </tr>\n",
       "  </thead>\n",
       "  <tbody>\n",
       "    <tr>\n",
       "      <th>0</th>\n",
       "      <td>“Be yourself; everyone else is already taken.”</td>\n",
       "      <td>Oscar Wilde</td>\n",
       "    </tr>\n",
       "    <tr>\n",
       "      <th>1</th>\n",
       "      <td>“I'm selfish, impatient and a little insecure....</td>\n",
       "      <td>Marilyn Monroe</td>\n",
       "    </tr>\n",
       "    <tr>\n",
       "      <th>2</th>\n",
       "      <td>“Two things are infinite: the universe and hum...</td>\n",
       "      <td>Albert Einstein</td>\n",
       "    </tr>\n",
       "    <tr>\n",
       "      <th>3</th>\n",
       "      <td>“So many books, so little time.”</td>\n",
       "      <td>Frank Zappa</td>\n",
       "    </tr>\n",
       "    <tr>\n",
       "      <th>4</th>\n",
       "      <td>“A room without books is like a body without a...</td>\n",
       "      <td>Marcus Tullius Cicero</td>\n",
       "    </tr>\n",
       "  </tbody>\n",
       "</table>\n",
       "</div>"
      ],
      "text/plain": [
       "                                              quotes                authors\n",
       "0     “Be yourself; everyone else is already taken.”            Oscar Wilde\n",
       "1  “I'm selfish, impatient and a little insecure....         Marilyn Monroe\n",
       "2  “Two things are infinite: the universe and hum...        Albert Einstein\n",
       "3                   “So many books, so little time.”            Frank Zappa\n",
       "4  “A room without books is like a body without a...  Marcus Tullius Cicero"
      ]
     },
     "execution_count": 22,
     "metadata": {},
     "output_type": "execute_result"
    }
   ],
   "source": [
    "table.head()"
   ]
  },
  {
   "cell_type": "code",
   "execution_count": 23,
   "id": "3ac79ccb-7023-4720-b39d-ea392bccc727",
   "metadata": {},
   "outputs": [],
   "source": [
    "base_url=\"https://www.goodreads.com/quotes?page={}\""
   ]
  },
  {
   "cell_type": "code",
   "execution_count": 24,
   "id": "4b27cd49-278e-4976-8144-7f56424155a2",
   "metadata": {},
   "outputs": [
    {
     "data": {
      "text/plain": [
       "'https://www.goodreads.com/quotes?page=1'"
      ]
     },
     "execution_count": 24,
     "metadata": {},
     "output_type": "execute_result"
    }
   ],
   "source": [
    "base_url.format(1)"
   ]
  },
  {
   "cell_type": "code",
   "execution_count": 25,
   "id": "9f8574b8-c0bd-475f-8bb0-3bb7e5830e74",
   "metadata": {},
   "outputs": [
    {
     "name": "stderr",
     "output_type": "stream",
     "text": [
      "100%|█████████████████████████████████████████| 100/100 [05:21<00:00,  3.22s/it]\n"
     ]
    }
   ],
   "source": [
    "from tqdm import tqdm\n",
    "authors=[]\n",
    "quotes=[]\n",
    "for i in tqdm(range(1,101)):\n",
    "    url=base_url.format(i)\n",
    "    markup=requests.get(url,headers=headers).text\n",
    "    markup_parsed=BeautifulSoup(markup,'html.parser')\n",
    "    for i in markup_parsed.find_all(\"span\",class_=\"authorOrTitle\"):\n",
    "        authors.append(i.text.strip())\n",
    "    for i in markup_parsed.find_all(\"div\",class_=\"quoteText\"):\n",
    "        quotes.append(list(i.children)[0].strip()) "
   ]
  },
  {
   "cell_type": "code",
   "execution_count": 28,
   "id": "e1f507de-564e-40c2-ab0c-25ec002ec3f2",
   "metadata": {},
   "outputs": [],
   "source": [
    "table=pd.DataFrame({'author':authors,'quotes':quotes})"
   ]
  },
  {
   "cell_type": "code",
   "execution_count": 29,
   "id": "80e83c68-52f0-4b76-ba5f-28231d153aa9",
   "metadata": {},
   "outputs": [],
   "source": [
    "### Class Excercise\n",
    "## Extract Author Name and Book Title\n",
    "url=\"https://www.goodreads.com/list/show/19.Best_for_Book_Clubs\""
   ]
  },
  {
   "cell_type": "code",
   "execution_count": 32,
   "id": "6f1ede5c-03c0-4fcd-8b68-819bb98d7c40",
   "metadata": {},
   "outputs": [
    {
     "name": "stderr",
     "output_type": "stream",
     "text": [
      "100%|███████████████████████████████████████████| 10/10 [00:39<00:00,  3.96s/it]\n"
     ]
    }
   ],
   "source": [
    "name=[]\n",
    "author=[]\n",
    "base_url=\"https://www.goodreads.com/list/show/19.Best_for_Book_Clubs?page={}\"\n",
    "for i in tqdm(range(1,11)):\n",
    "    url=base_url.format(i)\n",
    "    resp=requests.get(url,headers=headers).text\n",
    "    page=BeautifulSoup(resp,'html.parser')\n",
    "    for i in page.find_all(\"a\",class_=\"bookTitle\"):\n",
    "        name.append(i.text)\n",
    "    for i in page.find_all(\"a\",class_=\"authorName\"):\n",
    "        author.append(i.text)"
   ]
  },
  {
   "cell_type": "code",
   "execution_count": 33,
   "id": "26bea8be-5b8c-4886-9e14-11a6431cb367",
   "metadata": {},
   "outputs": [
    {
     "data": {
      "text/html": [
       "<div>\n",
       "<style scoped>\n",
       "    .dataframe tbody tr th:only-of-type {\n",
       "        vertical-align: middle;\n",
       "    }\n",
       "\n",
       "    .dataframe tbody tr th {\n",
       "        vertical-align: top;\n",
       "    }\n",
       "\n",
       "    .dataframe thead th {\n",
       "        text-align: right;\n",
       "    }\n",
       "</style>\n",
       "<table border=\"1\" class=\"dataframe\">\n",
       "  <thead>\n",
       "    <tr style=\"text-align: right;\">\n",
       "      <th></th>\n",
       "      <th>name</th>\n",
       "      <th>author</th>\n",
       "    </tr>\n",
       "  </thead>\n",
       "  <tbody>\n",
       "    <tr>\n",
       "      <th>0</th>\n",
       "      <td>\\nThe Help\\n</td>\n",
       "      <td>Kathryn Stockett</td>\n",
       "    </tr>\n",
       "    <tr>\n",
       "      <th>1</th>\n",
       "      <td>\\nThe Kite Runner\\n</td>\n",
       "      <td>Khaled Hosseini</td>\n",
       "    </tr>\n",
       "    <tr>\n",
       "      <th>2</th>\n",
       "      <td>\\nWater for Elephants\\n</td>\n",
       "      <td>Sara Gruen</td>\n",
       "    </tr>\n",
       "    <tr>\n",
       "      <th>3</th>\n",
       "      <td>\\nThe Book Thief\\n</td>\n",
       "      <td>Markus Zusak</td>\n",
       "    </tr>\n",
       "    <tr>\n",
       "      <th>4</th>\n",
       "      <td>\\nTo Kill a Mockingbird\\n</td>\n",
       "      <td>Harper Lee</td>\n",
       "    </tr>\n",
       "  </tbody>\n",
       "</table>\n",
       "</div>"
      ],
      "text/plain": [
       "                        name            author\n",
       "0               \\nThe Help\\n  Kathryn Stockett\n",
       "1        \\nThe Kite Runner\\n   Khaled Hosseini\n",
       "2    \\nWater for Elephants\\n        Sara Gruen\n",
       "3         \\nThe Book Thief\\n      Markus Zusak\n",
       "4  \\nTo Kill a Mockingbird\\n        Harper Lee"
      ]
     },
     "execution_count": 33,
     "metadata": {},
     "output_type": "execute_result"
    }
   ],
   "source": [
    "table=pd.DataFrame({'name':name,'author':author})\n",
    "table.head()"
   ]
  },
  {
   "cell_type": "code",
   "execution_count": null,
   "id": "72304d2d-651e-4947-9689-e8b6132e89d3",
   "metadata": {},
   "outputs": [],
   "source": []
  }
 ],
 "metadata": {
  "kernelspec": {
   "display_name": "Python 3 (ipykernel)",
   "language": "python",
   "name": "python3"
  },
  "language_info": {
   "codemirror_mode": {
    "name": "ipython",
    "version": 3
   },
   "file_extension": ".py",
   "mimetype": "text/x-python",
   "name": "python",
   "nbconvert_exporter": "python",
   "pygments_lexer": "ipython3",
   "version": "3.9.5"
  }
 },
 "nbformat": 4,
 "nbformat_minor": 5
}
