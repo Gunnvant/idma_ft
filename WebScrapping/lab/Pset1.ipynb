{
 "cells": [
  {
   "cell_type": "code",
   "execution_count": 1,
   "id": "722d4413-92b1-47ed-9713-e46d000c4648",
   "metadata": {},
   "outputs": [],
   "source": [
    "import json"
   ]
  },
  {
   "cell_type": "markdown",
   "id": "627f0b21-d32f-4cdf-9355-28e3f0b358be",
   "metadata": {},
   "source": [
    "## Q1"
   ]
  },
  {
   "cell_type": "code",
   "execution_count": 2,
   "id": "f2e65ad9-448e-4e76-b889-445f25eea533",
   "metadata": {},
   "outputs": [],
   "source": [
    "with open(\"senators.json\",\"r\",encoding='utf-8') as f:\n",
    "    data = json.loads(f.read())"
   ]
  },
  {
   "cell_type": "code",
   "execution_count": 3,
   "id": "be111169-b066-4ea5-8bb7-fa3f3cc40ffb",
   "metadata": {},
   "outputs": [
    {
     "data": {
      "text/plain": [
       "dict_keys(['meta', 'objects'])"
      ]
     },
     "execution_count": 3,
     "metadata": {},
     "output_type": "execute_result"
    }
   ],
   "source": [
    "data.keys()"
   ]
  },
  {
   "cell_type": "code",
   "execution_count": 4,
   "id": "1aa8ef4a-f573-467b-a45a-b655de2368e1",
   "metadata": {},
   "outputs": [
    {
     "data": {
      "text/plain": [
       "100"
      ]
     },
     "execution_count": 4,
     "metadata": {},
     "output_type": "execute_result"
    }
   ],
   "source": [
    "len(data['objects'])"
   ]
  },
  {
   "cell_type": "code",
   "execution_count": 5,
   "id": "dc2d2983-9c7e-44ad-b449-344d92d3cec7",
   "metadata": {},
   "outputs": [
    {
     "name": "stdout",
     "output_type": "stream",
     "text": [
      "True\n"
     ]
    }
   ],
   "source": [
    "keys = []\n",
    "consistent = True\n",
    "for idx, obj in enumerate(data['objects']):\n",
    "    keys.append(set(list(obj.keys())))\n",
    "    if idx!=0:\n",
    "        if len(keys[idx-1].difference(keys[idx]))>0:\n",
    "            consistent = False\n",
    "print(consistent)\n",
    "        \n",
    "                    "
   ]
  },
  {
   "cell_type": "markdown",
   "id": "19e5d82c-7afd-4686-91c2-87e70fea8b06",
   "metadata": {},
   "source": [
    "## Q2\n",
    "\n",
    "After looking at data in the json viewer, there can be two tables:\n",
    "\n",
    "1. Senators (containing information about current senators\n",
    "2. Members, personal details such as name, etc, member_id or senator_id could be the foriegn key"
   ]
  },
  {
   "cell_type": "markdown",
   "id": "2d86d85a-4750-4375-83d5-12b671f4ef1e",
   "metadata": {},
   "source": [
    "## Q3"
   ]
  },
  {
   "cell_type": "code",
   "execution_count": 6,
   "id": "2c518e69-e633-4549-8ab2-3ad731735b22",
   "metadata": {},
   "outputs": [
    {
     "name": "stdout",
     "output_type": "stream",
     "text": [
      "True\n"
     ]
    }
   ],
   "source": [
    "keys = []\n",
    "consistent = True\n",
    "for idx, obj in enumerate(data['objects']):\n",
    "    keys.append(set(list(obj['person'].keys())))\n",
    "    if idx!=0:\n",
    "        if len(keys[idx-1].difference(keys[idx]))>0:\n",
    "            consistent = False\n",
    "print(consistent)"
   ]
  },
  {
   "cell_type": "code",
   "execution_count": 7,
   "id": "1b910697-3ff2-462e-b0ba-9e45a3dabf63",
   "metadata": {},
   "outputs": [
    {
     "name": "stdout",
     "output_type": "stream",
     "text": [
      "False\n"
     ]
    }
   ],
   "source": [
    "keys = []\n",
    "consistent = True\n",
    "for idx, obj in enumerate(data['objects']):\n",
    "    keys.append(set(list(obj['extra'].keys())))\n",
    "    if idx!=0:\n",
    "        if len(keys[idx-1].difference(keys[idx]))>0:\n",
    "            consistent = False\n",
    "print(consistent)"
   ]
  },
  {
   "cell_type": "markdown",
   "id": "6b87c8ed-5009-403b-b7f5-d161f6bc68a1",
   "metadata": {},
   "source": [
    "## Q4"
   ]
  },
  {
   "cell_type": "code",
   "execution_count": 8,
   "id": "eff0c539-8d19-40c6-a5c1-0c33a85c39f4",
   "metadata": {},
   "outputs": [
    {
     "name": "stdout",
     "output_type": "stream",
     "text": [
      "{'address', 'rss_url', 'office', 'contact_form', 'how', 'fax'}\n"
     ]
    }
   ],
   "source": [
    "keys = []\n",
    "cnt = 0\n",
    "for obj in data['objects']:\n",
    "    if cnt == 0:\n",
    "        keys = set(list(obj['extra'].keys()))\n",
    "    else:\n",
    "        keys = keys.union(set(list(obj['extra'].keys())))\n",
    "    cnt+=1\n",
    "print(keys)"
   ]
  },
  {
   "cell_type": "markdown",
   "id": "f848ee59-489e-413f-9aa2-3e1f13079367",
   "metadata": {},
   "source": [
    "## Q5"
   ]
  },
  {
   "cell_type": "code",
   "execution_count": 9,
   "id": "9795a015-d9f9-4a38-8977-b63a7d735656",
   "metadata": {},
   "outputs": [],
   "source": [
    "from sqlalchemy import Column, Integer, Numeric, String, DateTime, ForeignKey, Boolean, create_engine\n",
    "from sqlalchemy.orm import Session\n",
    "from sqlalchemy.ext.declarative import declarative_base"
   ]
  },
  {
   "cell_type": "code",
   "execution_count": 10,
   "id": "f70c3c96-f62a-4d0b-a4fc-8c4cbfc79c16",
   "metadata": {},
   "outputs": [],
   "source": [
    "Base = declarative_base()\n",
    "\n",
    "class Senators(Base):\n",
    "    __tablename__ = \"senators\"\n",
    "    \n",
    "    senator_id = Column(Integer(), autoincrement = True, primary_key = True)\n",
    "    current = Column(Boolean(), nullable = False)\n",
    "    description = Column(String(),nullable = False)\n",
    "    enddate = Column(DateTime(), nullable = False)\n",
    "    party = Column(String(), nullable = False)\n",
    "    phone = Column(String(), nullable = False)\n",
    "    role_type = Column(String(), nullable = False)\n",
    "    role_type_label = Column(String(), nullable = False)\n",
    "    senator_class = Column(String(), nullable = False)\n",
    "    senator_class_label = Column(String(), nullable = False)\n",
    "    senator_rank = Column(String(), nullable = False)\n",
    "    senator_rank_label = Column(String(), nullable = False)\n",
    "    startdate = Column(DateTime(), nullable = False)\n",
    "    state = Column(String(), nullable = False)\n",
    "    title = Column(String(), nullable = False)\n",
    "    title_long = Column(String(), nullable = False)\n",
    "    website = Column(String(), nullable = False)\n",
    "    rss_url = Column(String(), nullable = True)\n",
    "    contact_form = Column(String(), nullable = True)\n",
    "    fax = Column(String(), nullable = True)\n",
    "    how = Column(String(), nullable = True)\n",
    "    office = Column(String(), nullable = True)\n",
    "    address = Column(String(), nullable = True)\n",
    "    detail_id = Column(Integer(), ForeignKey('details.detail_id'))\n",
    "    \n",
    "class Details(Base):\n",
    "    __tablename__ = 'details'\n",
    "    \n",
    "    detail_id = Column(Integer(), autoincrement = True, primary_key = True)\n",
    "    bioguideid = Column(String(), nullable = False)\n",
    "    birthday = Column(DateTime(), nullable = False)\n",
    "    cspanid = Column(Numeric(), nullable = False)\n",
    "    firstname = Column(String(), nullable = False)\n",
    "    gender = Column(String(), nullable = False)\n",
    "    gender_label = Column(String(), nullable = False)\n",
    "    last_name = Column(String(), nullable = False)\n",
    "    link = Column(String(), nullable = False)\n",
    "    middlename = Column(String(), nullable = True)\n",
    "    name = Column(String(), nullable = False)\n",
    "    namemod = Column(String(), nullable = False)\n",
    "    nickname = Column(String(), nullable = False)\n",
    "    osid = Column(String(), nullable = False)\n",
    "    pvsid = Column(String(), nullable = False)\n",
    "    sortname = Column(String(), nullable = False)\n",
    "    twitterid = Column(String(), nullable = False)\n",
    "    youtubeid = Column(String(), nullable = False)\n",
    "    \n",
    "engine = create_engine('sqlite:///senators.db')\n",
    "Base.metadata.create_all(engine)    "
   ]
  },
  {
   "cell_type": "code",
   "execution_count": 11,
   "id": "4e6cd8e0-a092-4be0-a47e-af9829f6ac94",
   "metadata": {},
   "outputs": [],
   "source": [
    "## insert data\n",
    "with open(\"senators.json\", \"r\", encoding=\"utf-8\") as f:\n",
    "    data = json.loads(f.read())"
   ]
  },
  {
   "cell_type": "code",
   "execution_count": 12,
   "id": "32f06f7d-c93b-46e7-816b-aa452cd6e8d9",
   "metadata": {},
   "outputs": [],
   "source": [
    "from datetime import datetime\n",
    "session = Session(engine)\n",
    "for idx,obj in enumerate(data['objects']):\n",
    "    senator = Senators(current = obj['current'],\n",
    "                      description = obj['description'],\n",
    "                      enddate = datetime.fromisoformat(obj['enddate']),\n",
    "                      party = obj['party'],\n",
    "                      phone = obj['phone'],\n",
    "                      role_type = obj['role_type'],\n",
    "                      role_type_label = obj['role_type_label'],\n",
    "                      senator_class = obj['senator_class'],\n",
    "                      senator_class_label = obj['senator_class_label'],\n",
    "                      senator_rank = obj['senator_rank'],\n",
    "                      senator_rank_label = obj['senator_rank_label'],\n",
    "                      startdate = datetime.fromisoformat(obj['startdate']),\n",
    "                      state = obj['state'],\n",
    "                      title = obj['title'],\n",
    "                      title_long = obj['title_long'],\n",
    "                      website = obj['website'],\n",
    "                      rss_url = obj['extra'].get('rss_url'),\n",
    "                      contact_form = obj['extra'].get('contact_form'),\n",
    "                      fax = obj['extra'].get('fax'),\n",
    "                      how = obj['extra'].get('how'),\n",
    "                      office = obj['extra'].get('office'),\n",
    "                      address = obj['extra'].get('address'),\n",
    "                      detail_id = idx+1)\n",
    "    session.add(senator)\n",
    "    try:\n",
    "        session.commit()\n",
    "    except:\n",
    "        session.rollback()\n",
    "        \n",
    "    detail = Details(bioguideid = obj['person']['bioguideid'],\n",
    "                     birthday = datetime.fromisoformat(obj['person']['birthday']),\n",
    "                     cspanid = obj['person']['cspanid'],\n",
    "                     firstname = obj['person']['firstname'],\n",
    "                     gender = obj['person']['gender'],\n",
    "                     gender_label = obj['person']['gender_label'],\n",
    "                     last_name = obj['person']['lastname'],\n",
    "                     link = obj['person']['link'],\n",
    "                     middlename = obj['person'].get('middlename'),\n",
    "                     name = obj['person']['name'],\n",
    "                     namemod = obj['person']['namemod'],\n",
    "                     nickname = obj['person']['nickname'],\n",
    "                     osid = obj['person']['osid'],\n",
    "                     pvsid = obj['person']['pvsid'],\n",
    "                     sortname = obj['person']['sortname'],\n",
    "                     twitterid = obj['person']['twitterid'],\n",
    "                     youtubeid = obj['person']['youtubeid'])\n",
    "    session.add(detail)\n",
    "    try:\n",
    "        session.commit()\n",
    "    except:\n",
    "        session.rollback()                     "
   ]
  },
  {
   "cell_type": "code",
   "execution_count": null,
   "id": "5735c257-358c-4c0e-9fe7-0249a598e3ec",
   "metadata": {},
   "outputs": [],
   "source": []
  }
 ],
 "metadata": {
  "kernelspec": {
   "display_name": "Python 3",
   "language": "python",
   "name": "python3"
  },
  "language_info": {
   "codemirror_mode": {
    "name": "ipython",
    "version": 3
   },
   "file_extension": ".py",
   "mimetype": "text/x-python",
   "name": "python",
   "nbconvert_exporter": "python",
   "pygments_lexer": "ipython3",
   "version": "3.9.5"
  }
 },
 "nbformat": 4,
 "nbformat_minor": 5
}
