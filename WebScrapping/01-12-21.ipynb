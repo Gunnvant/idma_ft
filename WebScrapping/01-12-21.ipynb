{
 "cells": [
  {
   "cell_type": "markdown",
   "id": "0356613b-042e-49e7-8ad7-73c7bc39e829",
   "metadata": {},
   "source": [
    "## Open web api"
   ]
  },
  {
   "cell_type": "code",
   "execution_count": 36,
   "id": "205b568b-04c3-49cd-a4ff-d259e4623fd6",
   "metadata": {},
   "outputs": [
    {
     "name": "stdout",
     "output_type": "stream",
     "text": [
      "https://api.covidtracking.com/v2/us/daily/2020-10-30.json\n"
     ]
    }
   ],
   "source": [
    "date = \"2020-10-30\"\n",
    "url = \"https://api.covidtracking.com/v2/us/daily/{}.json\".format(date)\n",
    "print(url)"
   ]
  },
  {
   "cell_type": "code",
   "execution_count": 12,
   "id": "b643a89b-bcc4-4fb1-b3e7-368ea3bfd3f3",
   "metadata": {},
   "outputs": [],
   "source": [
    "import requests"
   ]
  },
  {
   "cell_type": "code",
   "execution_count": 13,
   "id": "e67ae438-1abb-4e8f-a708-9a528b9df30a",
   "metadata": {},
   "outputs": [],
   "source": [
    "resp = requests.get(url).json()"
   ]
  },
  {
   "cell_type": "code",
   "execution_count": 14,
   "id": "418fbc39-94a4-49c5-8741-7748dcebd980",
   "metadata": {},
   "outputs": [
    {
     "data": {
      "text/plain": [
       "dict"
      ]
     },
     "execution_count": 14,
     "metadata": {},
     "output_type": "execute_result"
    }
   ],
   "source": [
    "type(resp)"
   ]
  },
  {
   "cell_type": "code",
   "execution_count": 19,
   "id": "9ff0c823-1d69-4ea5-bc28-e5cb68db2d87",
   "metadata": {},
   "outputs": [
    {
     "data": {
      "text/plain": [
       "dict_keys(['links', 'meta', 'data'])"
      ]
     },
     "execution_count": 19,
     "metadata": {},
     "output_type": "execute_result"
    }
   ],
   "source": [
    "resp.keys()"
   ]
  },
  {
   "cell_type": "code",
   "execution_count": 17,
   "id": "a26abd15-79d1-4d90-a0c7-8fcd0a3f3ab9",
   "metadata": {},
   "outputs": [],
   "source": [
    "## Hit the states meta data endpoint and get a table (dataframe) of state name and state code\n",
    "url = \"https://api.covidtracking.com/v2/states.json\"\n",
    "resp = requests.get(url).json()"
   ]
  },
  {
   "cell_type": "code",
   "execution_count": 20,
   "id": "037c600d-2484-4161-b636-9bcc89c6939a",
   "metadata": {},
   "outputs": [
    {
     "data": {
      "text/plain": [
       "dict_keys(['links', 'meta', 'data'])"
      ]
     },
     "execution_count": 20,
     "metadata": {},
     "output_type": "execute_result"
    }
   ],
   "source": [
    "resp.keys()"
   ]
  },
  {
   "cell_type": "code",
   "execution_count": 23,
   "id": "94908547-8e3c-4869-9953-59343d07935f",
   "metadata": {},
   "outputs": [],
   "source": [
    "names = []\n",
    "codes = []\n",
    "for state in resp['data']:\n",
    "    name = state['name']\n",
    "    code = state['state_code']\n",
    "    names.append(name)\n",
    "    codes.append(code)\n"
   ]
  },
  {
   "cell_type": "code",
   "execution_count": 24,
   "id": "1ec9163f-6d35-4635-a677-67468aaf890c",
   "metadata": {},
   "outputs": [],
   "source": [
    "import pandas as pd"
   ]
  },
  {
   "cell_type": "code",
   "execution_count": 26,
   "id": "022cdbc2-f198-4b90-b9e3-29bf7e90d6d1",
   "metadata": {},
   "outputs": [],
   "source": [
    "table = pd.DataFrame({'name':names,'code':codes})"
   ]
  },
  {
   "cell_type": "code",
   "execution_count": 27,
   "id": "cae8b65a-aa35-4ece-b901-c2b04b016346",
   "metadata": {},
   "outputs": [
    {
     "data": {
      "text/html": [
       "<div>\n",
       "<style scoped>\n",
       "    .dataframe tbody tr th:only-of-type {\n",
       "        vertical-align: middle;\n",
       "    }\n",
       "\n",
       "    .dataframe tbody tr th {\n",
       "        vertical-align: top;\n",
       "    }\n",
       "\n",
       "    .dataframe thead th {\n",
       "        text-align: right;\n",
       "    }\n",
       "</style>\n",
       "<table border=\"1\" class=\"dataframe\">\n",
       "  <thead>\n",
       "    <tr style=\"text-align: right;\">\n",
       "      <th></th>\n",
       "      <th>name</th>\n",
       "      <th>code</th>\n",
       "    </tr>\n",
       "  </thead>\n",
       "  <tbody>\n",
       "    <tr>\n",
       "      <th>0</th>\n",
       "      <td>Alaska</td>\n",
       "      <td>AK</td>\n",
       "    </tr>\n",
       "    <tr>\n",
       "      <th>1</th>\n",
       "      <td>Alabama</td>\n",
       "      <td>AL</td>\n",
       "    </tr>\n",
       "    <tr>\n",
       "      <th>2</th>\n",
       "      <td>Arkansas</td>\n",
       "      <td>AR</td>\n",
       "    </tr>\n",
       "    <tr>\n",
       "      <th>3</th>\n",
       "      <td>American Samoa</td>\n",
       "      <td>AS</td>\n",
       "    </tr>\n",
       "    <tr>\n",
       "      <th>4</th>\n",
       "      <td>Arizona</td>\n",
       "      <td>AZ</td>\n",
       "    </tr>\n",
       "  </tbody>\n",
       "</table>\n",
       "</div>"
      ],
      "text/plain": [
       "             name code\n",
       "0          Alaska   AK\n",
       "1         Alabama   AL\n",
       "2        Arkansas   AR\n",
       "3  American Samoa   AS\n",
       "4         Arizona   AZ"
      ]
     },
     "execution_count": 27,
     "metadata": {},
     "output_type": "execute_result"
    }
   ],
   "source": [
    "table.head()"
   ]
  },
  {
   "cell_type": "markdown",
   "id": "5ed7f630-59fc-4e61-9629-d7a49f967a09",
   "metadata": {},
   "source": [
    "## API which requires us to get api-key"
   ]
  },
  {
   "cell_type": "code",
   "execution_count": 32,
   "id": "ee566960-791f-42af-8a00-48194d4a8ef1",
   "metadata": {},
   "outputs": [
    {
     "name": "stdout",
     "output_type": "stream",
     "text": [
      "http://api.openweathermap.org/data/2.5/weather?q=Bangalore&appid=f56a989e6824d6e4eb7c5e19a63f28ea&units=metric\n"
     ]
    }
   ],
   "source": [
    "city = \"Bangalore\"\n",
    "key = \"f56a989e6824d6e4eb7c5e19a63f28ea\"\n",
    "url = f\"http://api.openweathermap.org/data/2.5/weather?q={city}&appid={key}&units=metric\"\n",
    "print(url)"
   ]
  },
  {
   "cell_type": "code",
   "execution_count": 33,
   "id": "631023ff-ebb5-42af-8e74-a77a46e91319",
   "metadata": {},
   "outputs": [],
   "source": [
    "resp = requests.get(url).json()"
   ]
  },
  {
   "cell_type": "code",
   "execution_count": 34,
   "id": "97766b01-bb80-4396-8a0f-429186ca5684",
   "metadata": {},
   "outputs": [
    {
     "data": {
      "text/plain": [
       "{'coord': {'lon': 77.6033, 'lat': 12.9762},\n",
       " 'weather': [{'id': 701,\n",
       "   'main': 'Mist',\n",
       "   'description': 'mist',\n",
       "   'icon': '50d'}],\n",
       " 'base': 'stations',\n",
       " 'main': {'temp': 24.17,\n",
       "  'feels_like': 24.55,\n",
       "  'temp_min': 21.8,\n",
       "  'temp_max': 26.79,\n",
       "  'pressure': 938,\n",
       "  'humidity': 73},\n",
       " 'visibility': 4000,\n",
       " 'wind': {'speed': 5.14, 'deg': 90},\n",
       " 'clouds': {'all': 75},\n",
       " 'dt': 1638338438,\n",
       " 'sys': {'type': 2,\n",
       "  'id': 2017753,\n",
       "  'country': 'IN',\n",
       "  'sunrise': 1638320175,\n",
       "  'sunset': 1638361278},\n",
       " 'timezone': 19800,\n",
       " 'id': 1277333,\n",
       " 'name': 'Bengaluru',\n",
       " 'cod': 200}"
      ]
     },
     "execution_count": 34,
     "metadata": {},
     "output_type": "execute_result"
    }
   ],
   "source": [
    "resp"
   ]
  },
  {
   "cell_type": "code",
   "execution_count": 35,
   "id": "860488eb-c81d-45ed-bbd3-48a269628c07",
   "metadata": {},
   "outputs": [],
   "source": [
    "def get_current_weather(city_name, key, units):\n",
    "    url = f\"\"\n",
    "    pass"
   ]
  },
  {
   "cell_type": "code",
   "execution_count": 37,
   "id": "4c6d8ec8-574b-4e1a-aa5a-e0ffd73a30d6",
   "metadata": {},
   "outputs": [],
   "source": [
    "import json\n",
    "with open(\"./lab/senators.json\",\"r\",encoding=\"utf-8\") as f:\n",
    "    data = json.loads(f.read())"
   ]
  },
  {
   "cell_type": "code",
   "execution_count": 38,
   "id": "144ce8f1-0dfb-4d6b-a9ba-31ce485e48d4",
   "metadata": {},
   "outputs": [
    {
     "data": {
      "text/plain": [
       "dict_keys(['meta', 'objects'])"
      ]
     },
     "execution_count": 38,
     "metadata": {},
     "output_type": "execute_result"
    }
   ],
   "source": [
    "data.keys()"
   ]
  },
  {
   "cell_type": "code",
   "execution_count": 45,
   "id": "c27d4bb9-0eff-40cd-9896-18fa7424b90a",
   "metadata": {},
   "outputs": [],
   "source": [
    "k1 = data['objects'][0].keys()"
   ]
  },
  {
   "cell_type": "code",
   "execution_count": 46,
   "id": "55e65e0c-c9ee-446b-9a9a-a9abe8674e86",
   "metadata": {},
   "outputs": [],
   "source": [
    "k2 =  data['objects'][1].keys()"
   ]
  },
  {
   "cell_type": "code",
   "execution_count": 49,
   "id": "3098ecb2-8f96-4545-81c7-4e91afc2aeae",
   "metadata": {},
   "outputs": [
    {
     "data": {
      "text/plain": [
       "{'caucus',\n",
       " 'congress_numbers',\n",
       " 'current',\n",
       " 'description',\n",
       " 'district',\n",
       " 'enddate',\n",
       " 'extra',\n",
       " 'leadership_title',\n",
       " 'party',\n",
       " 'person',\n",
       " 'phone',\n",
       " 'role_type',\n",
       " 'role_type_label',\n",
       " 'senator_class',\n",
       " 'senator_class_label',\n",
       " 'senator_rank',\n",
       " 'senator_rank_label',\n",
       " 'startdate',\n",
       " 'state',\n",
       " 'title',\n",
       " 'title_long',\n",
       " 'website'}"
      ]
     },
     "execution_count": 49,
     "metadata": {},
     "output_type": "execute_result"
    }
   ],
   "source": [
    "set(k1)"
   ]
  },
  {
   "cell_type": "code",
   "execution_count": 52,
   "id": "b93ef7b2-7158-474a-8fc2-57a4e72a1e07",
   "metadata": {},
   "outputs": [
    {
     "data": {
      "text/plain": [
       "0"
      ]
     },
     "execution_count": 52,
     "metadata": {},
     "output_type": "execute_result"
    }
   ],
   "source": [
    "len(set(k1).difference(set(k2)))"
   ]
  },
  {
   "cell_type": "code",
   "execution_count": 54,
   "id": "37c89393-c4f7-4633-8502-add4cbf7d914",
   "metadata": {},
   "outputs": [],
   "source": [
    "a = set(['a','b','c'])\n",
    "b = set(['a','b','e'])"
   ]
  },
  {
   "cell_type": "code",
   "execution_count": 55,
   "id": "7959799b-455b-49eb-a266-85f3e874b24e",
   "metadata": {},
   "outputs": [
    {
     "data": {
      "text/plain": [
       "{'c'}"
      ]
     },
     "execution_count": 55,
     "metadata": {},
     "output_type": "execute_result"
    }
   ],
   "source": [
    "a.difference(b)"
   ]
  },
  {
   "cell_type": "code",
   "execution_count": 56,
   "id": "a3362da8-f4ae-4f79-a943-b5700dc53573",
   "metadata": {},
   "outputs": [
    {
     "data": {
      "text/plain": [
       "{'e'}"
      ]
     },
     "execution_count": 56,
     "metadata": {},
     "output_type": "execute_result"
    }
   ],
   "source": [
    "b.difference(a)"
   ]
  },
  {
   "cell_type": "code",
   "execution_count": 63,
   "id": "c25e24b8-7772-4f9c-ba8b-b99d653f9960",
   "metadata": {},
   "outputs": [
    {
     "name": "stdout",
     "output_type": "stream",
     "text": [
      "True\n"
     ]
    }
   ],
   "source": [
    "all_keys = []\n",
    "consistent = True\n",
    "for idx,obj in  enumerate(data['objects']):\n",
    "    keys = set(obj.keys())\n",
    "    all_keys.append(keys)\n",
    "    if idx!=0:\n",
    "        if len(all_keys[0].difference(all_keys[idx]))>0:\n",
    "            consistent = False\n",
    "            break\n",
    "print(consistent)"
   ]
  },
  {
   "cell_type": "code",
   "execution_count": 64,
   "id": "8ed5ff18-213c-4aa8-887d-90c680480436",
   "metadata": {},
   "outputs": [
    {
     "name": "stdout",
     "output_type": "stream",
     "text": [
      "True\n"
     ]
    }
   ],
   "source": [
    "all_keys = []\n",
    "consistent = True\n",
    "for idx,obj in  enumerate(data['objects']):\n",
    "    keys = set(obj['person'].keys())\n",
    "    all_keys.append(keys)\n",
    "    if idx!=0:\n",
    "        if len(all_keys[0].difference(all_keys[idx]))>0:\n",
    "            consistent = False\n",
    "            break\n",
    "print(consistent)"
   ]
  },
  {
   "cell_type": "code",
   "execution_count": 65,
   "id": "1368bbd6-b0e8-4da8-b63e-7262d777749c",
   "metadata": {},
   "outputs": [
    {
     "name": "stdout",
     "output_type": "stream",
     "text": [
      "False\n"
     ]
    }
   ],
   "source": [
    "all_keys = []\n",
    "consistent = True\n",
    "for idx,obj in  enumerate(data['objects']):\n",
    "    keys = set(obj['extra'].keys())\n",
    "    all_keys.append(keys)\n",
    "    if idx!=0:\n",
    "        if len(all_keys[0].difference(all_keys[idx]))>0:\n",
    "            consistent = False\n",
    "            break\n",
    "print(consistent)"
   ]
  },
  {
   "cell_type": "code",
   "execution_count": null,
   "id": "c72795ff-4c93-464f-80d0-af88348dbec2",
   "metadata": {},
   "outputs": [],
   "source": [
    "for obj in data['objects']:\n",
    "    "
   ]
  },
  {
   "cell_type": "code",
   "execution_count": 67,
   "id": "87fbdaaf-ad94-4edb-afb6-b1a3f91c3ee8",
   "metadata": {},
   "outputs": [],
   "source": [
    "a = set([1,2,3,4,5])\n",
    "b = set([1,2,3,4,10])"
   ]
  },
  {
   "cell_type": "code",
   "execution_count": 68,
   "id": "cbf61ab9-82ee-4ef4-8c1f-253277b477ab",
   "metadata": {},
   "outputs": [
    {
     "data": {
      "text/plain": [
       "{1, 2, 3, 4, 5}"
      ]
     },
     "execution_count": 68,
     "metadata": {},
     "output_type": "execute_result"
    }
   ],
   "source": [
    "a"
   ]
  },
  {
   "cell_type": "code",
   "execution_count": 69,
   "id": "848349b8-cb7a-41c5-8b4c-50fb5c7da2bb",
   "metadata": {},
   "outputs": [
    {
     "data": {
      "text/plain": [
       "{1, 2, 3, 4, 10}"
      ]
     },
     "execution_count": 69,
     "metadata": {},
     "output_type": "execute_result"
    }
   ],
   "source": [
    "b"
   ]
  },
  {
   "cell_type": "code",
   "execution_count": 70,
   "id": "99b8d416-1a9c-40f0-8057-b005a4d4a526",
   "metadata": {},
   "outputs": [
    {
     "data": {
      "text/plain": [
       "{1, 2, 3, 4, 5, 10}"
      ]
     },
     "execution_count": 70,
     "metadata": {},
     "output_type": "execute_result"
    }
   ],
   "source": [
    "a.union(b)"
   ]
  },
  {
   "cell_type": "code",
   "execution_count": 76,
   "id": "fd8e613f-1cf9-4692-a6af-a445b594dec5",
   "metadata": {},
   "outputs": [],
   "source": [
    "keys = {}\n",
    "for idx,obj in enumerate(data['objects']):\n",
    "    if idx == 0:\n",
    "        keys = set(obj['extra'].keys())\n",
    "    else:\n",
    "        keys = keys.union(set(obj['extra'].keys()))"
   ]
  },
  {
   "cell_type": "code",
   "execution_count": 77,
   "id": "400a3b2b-397f-4f5b-ba3b-9cd17d86700d",
   "metadata": {},
   "outputs": [
    {
     "data": {
      "text/plain": [
       "{'address', 'contact_form', 'fax', 'how', 'office', 'rss_url'}"
      ]
     },
     "execution_count": 77,
     "metadata": {},
     "output_type": "execute_result"
    }
   ],
   "source": [
    "keys"
   ]
  },
  {
   "cell_type": "code",
   "execution_count": 78,
   "id": "bc9bac93-3ba2-462c-9774-86da80be7a50",
   "metadata": {},
   "outputs": [],
   "source": [
    "dict1 = {'a':1,'b':2}\n",
    "dict2 = {'a':30,'d':40}"
   ]
  },
  {
   "cell_type": "code",
   "execution_count": 79,
   "id": "f89ddabd-a2f2-4757-86af-d2c1010ff942",
   "metadata": {},
   "outputs": [
    {
     "data": {
      "text/plain": [
       "2"
      ]
     },
     "execution_count": 79,
     "metadata": {},
     "output_type": "execute_result"
    }
   ],
   "source": [
    "dict1.get('b')"
   ]
  },
  {
   "cell_type": "code",
   "execution_count": 81,
   "id": "7fce6720-a091-4710-8892-c4dce20fe777",
   "metadata": {},
   "outputs": [
    {
     "data": {
      "text/plain": [
       "True"
      ]
     },
     "execution_count": 81,
     "metadata": {},
     "output_type": "execute_result"
    }
   ],
   "source": [
    "dict2.get('b')==None"
   ]
  },
  {
   "cell_type": "code",
   "execution_count": 82,
   "id": "d43b398c-5a5e-472d-8f29-b6823302d181",
   "metadata": {},
   "outputs": [
    {
     "ename": "KeyError",
     "evalue": "'b'",
     "output_type": "error",
     "traceback": [
      "\u001b[0;31m---------------------------------------------------------------------------\u001b[0m",
      "\u001b[0;31mKeyError\u001b[0m                                  Traceback (most recent call last)",
      "\u001b[0;32m/var/folders/7h/01sjg2sx6tl3y72r2klm24c80000gn/T/ipykernel_35789/3519990005.py\u001b[0m in \u001b[0;36m<module>\u001b[0;34m\u001b[0m\n\u001b[0;32m----> 1\u001b[0;31m \u001b[0mdict2\u001b[0m\u001b[0;34m[\u001b[0m\u001b[0;34m'b'\u001b[0m\u001b[0;34m]\u001b[0m\u001b[0;34m\u001b[0m\u001b[0;34m\u001b[0m\u001b[0m\n\u001b[0m",
      "\u001b[0;31mKeyError\u001b[0m: 'b'"
     ]
    }
   ],
   "source": [
    "dict2['b']"
   ]
  },
  {
   "cell_type": "code",
   "execution_count": 93,
   "id": "b4029b82-2c70-43d2-8d29-8e6ba036116a",
   "metadata": {},
   "outputs": [],
   "source": [
    "nums = []\n",
    "for obj in data['objects']:\n",
    "    num = [str(i) for i in obj['congress_numbers']]\n",
    "    nums.append((\",\".join(num)))"
   ]
  },
  {
   "cell_type": "code",
   "execution_count": 94,
   "id": "df8452a1-75d9-4bdf-96f6-49af7d5b1ea2",
   "metadata": {},
   "outputs": [
    {
     "data": {
      "text/plain": [
       "['115,116,117',\n",
       " '115,116,117',\n",
       " '115,116,117',\n",
       " '115,116,117',\n",
       " '115,116,117',\n",
       " '115,116,117',\n",
       " '115,116,117',\n",
       " '115,116,117',\n",
       " '115,116,117',\n",
       " '115,116,117',\n",
       " '115,116,117',\n",
       " '115,116,117',\n",
       " '115,116,117',\n",
       " '115,116,117',\n",
       " '115,116,117',\n",
       " '115,116,117',\n",
       " '115,116,117',\n",
       " '115,116,117',\n",
       " '115,116,117',\n",
       " '115,116,117',\n",
       " '115,116,117',\n",
       " '115,116,117',\n",
       " '115,116,117',\n",
       " '115,116,117',\n",
       " '115,116,117',\n",
       " '115,116,117',\n",
       " '115,116,117',\n",
       " '115,116,117',\n",
       " '115,116,117',\n",
       " '115,116,117',\n",
       " '115,116,117',\n",
       " '116,117,118',\n",
       " '116,117,118',\n",
       " '116,117,118',\n",
       " '116,117,118',\n",
       " '116,117,118',\n",
       " '116,117,118',\n",
       " '116,117,118',\n",
       " '116,117,118',\n",
       " '116,117,118',\n",
       " '116,117,118',\n",
       " '116,117,118',\n",
       " '116,117,118',\n",
       " '116,117,118',\n",
       " '116,117,118',\n",
       " '116,117,118',\n",
       " '116,117,118',\n",
       " '116,117,118',\n",
       " '116,117,118',\n",
       " '116,117,118',\n",
       " '116,117,118',\n",
       " '116,117,118',\n",
       " '116,117,118',\n",
       " '116,117,118',\n",
       " '116,117,118',\n",
       " '116,117,118',\n",
       " '116,117,118',\n",
       " '116,117,118',\n",
       " '116,117,118',\n",
       " '116,117,118',\n",
       " '116,117,118',\n",
       " '116,117,118',\n",
       " '116,117,118',\n",
       " '116,117,118',\n",
       " '116,117',\n",
       " '117,118,119',\n",
       " '117,118,119',\n",
       " '117,118,119',\n",
       " '117,118,119',\n",
       " '117,118,119',\n",
       " '117,118,119',\n",
       " '117,118,119',\n",
       " '117,118,119',\n",
       " '117,118,119',\n",
       " '117,118,119',\n",
       " '117,118,119',\n",
       " '117,118,119',\n",
       " '117,118,119',\n",
       " '117,118,119',\n",
       " '117,118,119',\n",
       " '117,118,119',\n",
       " '117,118,119',\n",
       " '117,118,119',\n",
       " '117,118,119',\n",
       " '117,118,119',\n",
       " '117,118,119',\n",
       " '117,118,119',\n",
       " '117,118,119',\n",
       " '117,118,119',\n",
       " '117,118,119',\n",
       " '117,118,119',\n",
       " '117,118,119',\n",
       " '117,118,119',\n",
       " '117,118,119',\n",
       " '117,118,119',\n",
       " '117,118,119',\n",
       " '117,118,119',\n",
       " '117',\n",
       " '117,118,119',\n",
       " '117']"
      ]
     },
     "execution_count": 94,
     "metadata": {},
     "output_type": "execute_result"
    }
   ],
   "source": [
    "nums"
   ]
  },
  {
   "cell_type": "code",
   "execution_count": null,
   "id": "9755922b-bd73-4a8e-92ec-5f5d4dd0ab3d",
   "metadata": {},
   "outputs": [],
   "source": []
  }
 ],
 "metadata": {
  "kernelspec": {
   "display_name": "Python 3 (ipykernel)",
   "language": "python",
   "name": "python3"
  },
  "language_info": {
   "codemirror_mode": {
    "name": "ipython",
    "version": 3
   },
   "file_extension": ".py",
   "mimetype": "text/x-python",
   "name": "python",
   "nbconvert_exporter": "python",
   "pygments_lexer": "ipython3",
   "version": "3.9.5"
  }
 },
 "nbformat": 4,
 "nbformat_minor": 5
}
