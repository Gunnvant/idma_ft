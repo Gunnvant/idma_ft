{
 "cells": [
  {
   "cell_type": "markdown",
   "id": "a3fd992d-4bad-4360-8dce-75de9b557f1b",
   "metadata": {},
   "source": [
    "## Wikipedia Excercise"
   ]
  },
  {
   "cell_type": "code",
   "execution_count": 52,
   "id": "44fdb171-8027-456d-9326-439fdb941876",
   "metadata": {},
   "outputs": [],
   "source": [
    "url = \"https://en.wikipedia.org/wiki/List_of_terrorist_incidents_in_2019\""
   ]
  },
  {
   "cell_type": "code",
   "execution_count": 53,
   "id": "593eb6bd-e3e1-47ff-846a-76b00bff3ce6",
   "metadata": {},
   "outputs": [],
   "source": [
    "from selenium import webdriver\n",
    "browser = webdriver.Chrome()\n",
    "browser.get(url)\n",
    "raw_html = browser.page_source\n",
    "browser.close()"
   ]
  },
  {
   "cell_type": "code",
   "execution_count": 3,
   "id": "40fa5bca-7103-40be-a677-957549f93b61",
   "metadata": {},
   "outputs": [
    {
     "data": {
      "text/plain": [
       "'<html class=\"client-js\" lang=\"en\" dir=\"ltr\"><head>\\n<meta charset=\"UTF-8\">\\n<title>List of terrorist i'"
      ]
     },
     "execution_count": 3,
     "metadata": {},
     "output_type": "execute_result"
    }
   ],
   "source": [
    "raw_html[0:100]"
   ]
  },
  {
   "cell_type": "code",
   "execution_count": 54,
   "id": "263757fe-a5d7-4b40-b617-fd68c9b9ca52",
   "metadata": {},
   "outputs": [],
   "source": [
    "from bs4 import BeautifulSoup\n",
    "parsable_html = BeautifulSoup(raw_html,'html.parser')"
   ]
  },
  {
   "cell_type": "code",
   "execution_count": 6,
   "id": "fe39bdff-555b-43e3-bd8d-84ca12b22e0b",
   "metadata": {},
   "outputs": [
    {
     "data": {
      "text/plain": [
       "'List of terrorist incidents in 2019 - Wikipedia'"
      ]
     },
     "execution_count": 6,
     "metadata": {},
     "output_type": "execute_result"
    }
   ],
   "source": [
    "parsable_html.title.text"
   ]
  },
  {
   "cell_type": "code",
   "execution_count": 55,
   "id": "badc5a3c-508b-4fd1-b8c3-e1f7562f233d",
   "metadata": {},
   "outputs": [],
   "source": [
    "tables = parsable_html.find_all(\"table\",class_=\"wikitable\")"
   ]
  },
  {
   "cell_type": "code",
   "execution_count": 8,
   "id": "f122313d-aa7e-4a3b-a5ad-fbc890f85b25",
   "metadata": {},
   "outputs": [
    {
     "data": {
      "text/plain": [
       "1"
      ]
     },
     "execution_count": 8,
     "metadata": {},
     "output_type": "execute_result"
    }
   ],
   "source": [
    "len(tables)"
   ]
  },
  {
   "cell_type": "code",
   "execution_count": 56,
   "id": "66e8732a-3017-48d4-ad17-84e5a4e05808",
   "metadata": {},
   "outputs": [],
   "source": [
    "rows = tables[0].find(\"tbody\").find_all(\"tr\")[1:]"
   ]
  },
  {
   "cell_type": "code",
   "execution_count": 57,
   "id": "4845e39f-c6b3-4a0b-9c7c-cf9ebf01d789",
   "metadata": {},
   "outputs": [],
   "source": [
    "date = []\n",
    "types = []\n",
    "deads = []\n",
    "injured = []\n",
    "location = []\n",
    "article = []\n",
    "details = []\n",
    "perpetrator = []\n",
    "part_of = []\n",
    "for row in rows:\n",
    "    data = row.find_all(\"td\")\n",
    "    date.append(data[0].text.strip())\n",
    "    types.append(data[1].text.strip())\n",
    "    deads.append(data[2].text.strip())\n",
    "    injured.append(data[3].text.strip())\n",
    "    location.append(data[4].text.strip())\n",
    "    article.append(data[5].a['href'])\n",
    "    details.append(data[6].text.strip())\n",
    "    perpetrator.append(data[7].text.strip())\n",
    "    part_of.append(data[8].text.strip())"
   ]
  },
  {
   "cell_type": "code",
   "execution_count": 58,
   "id": "77f751af-b144-4891-80cf-1d79bf77c96b",
   "metadata": {},
   "outputs": [],
   "source": [
    "import pandas as pd\n",
    "table = pd.DataFrame({'date':date,\n",
    "             'type':types,\n",
    "             'dead':deads,\n",
    "             'injured':injured,\n",
    "             'article':article,\n",
    "             'details':details,\n",
    "             'perpetrator':perpetrator,\n",
    "             'part_of':part_of})"
   ]
  },
  {
   "cell_type": "code",
   "execution_count": 59,
   "id": "3bee113f-83af-436d-a938-3b4dcdc63902",
   "metadata": {},
   "outputs": [
    {
     "data": {
      "text/html": [
       "<div>\n",
       "<style scoped>\n",
       "    .dataframe tbody tr th:only-of-type {\n",
       "        vertical-align: middle;\n",
       "    }\n",
       "\n",
       "    .dataframe tbody tr th {\n",
       "        vertical-align: top;\n",
       "    }\n",
       "\n",
       "    .dataframe thead th {\n",
       "        text-align: right;\n",
       "    }\n",
       "</style>\n",
       "<table border=\"1\" class=\"dataframe\">\n",
       "  <thead>\n",
       "    <tr style=\"text-align: right;\">\n",
       "      <th></th>\n",
       "      <th>date</th>\n",
       "      <th>type</th>\n",
       "      <th>dead</th>\n",
       "      <th>injured</th>\n",
       "      <th>article</th>\n",
       "      <th>details</th>\n",
       "      <th>perpetrator</th>\n",
       "      <th>part_of</th>\n",
       "    </tr>\n",
       "  </thead>\n",
       "  <tbody>\n",
       "    <tr>\n",
       "      <th>0</th>\n",
       "      <td>15 January</td>\n",
       "      <td>Suicide bombing, shootings, hostage taking</td>\n",
       "      <td>21 (+5)</td>\n",
       "      <td>28</td>\n",
       "      <td>/wiki/2019_Nairobi_hotel_attack</td>\n",
       "      <td>At least one suicide bomber stormed the luxury...</td>\n",
       "      <td>Al-Shabaab</td>\n",
       "      <td>Terrorism in Kenya</td>\n",
       "    </tr>\n",
       "    <tr>\n",
       "      <th>1</th>\n",
       "      <td>16 January</td>\n",
       "      <td>Suicide Bombing</td>\n",
       "      <td>19 (+1)</td>\n",
       "      <td>3</td>\n",
       "      <td>/wiki/2019_Manbij_bombing</td>\n",
       "      <td>19 people were killed in a suicide bomb attack...</td>\n",
       "      <td>Islamic State</td>\n",
       "      <td>Syrian Civil War</td>\n",
       "    </tr>\n",
       "  </tbody>\n",
       "</table>\n",
       "</div>"
      ],
      "text/plain": [
       "         date                                        type     dead injured  \\\n",
       "0  15 January  Suicide bombing, shootings, hostage taking  21 (+5)      28   \n",
       "1  16 January                             Suicide Bombing  19 (+1)       3   \n",
       "\n",
       "                           article  \\\n",
       "0  /wiki/2019_Nairobi_hotel_attack   \n",
       "1        /wiki/2019_Manbij_bombing   \n",
       "\n",
       "                                             details    perpetrator  \\\n",
       "0  At least one suicide bomber stormed the luxury...     Al-Shabaab   \n",
       "1  19 people were killed in a suicide bomb attack...  Islamic State   \n",
       "\n",
       "              part_of  \n",
       "0  Terrorism in Kenya  \n",
       "1    Syrian Civil War  "
      ]
     },
     "execution_count": 59,
     "metadata": {},
     "output_type": "execute_result"
    }
   ],
   "source": [
    "table.head(2)"
   ]
  },
  {
   "cell_type": "code",
   "execution_count": 28,
   "id": "4355671b-527a-4eb4-8bef-ffc12eae2b3d",
   "metadata": {},
   "outputs": [
    {
     "data": {
      "text/plain": [
       "(73, 8)"
      ]
     },
     "execution_count": 28,
     "metadata": {},
     "output_type": "execute_result"
    }
   ],
   "source": [
    "table.shape"
   ]
  },
  {
   "cell_type": "code",
   "execution_count": 43,
   "id": "f3c9dd87-a0db-47b6-8c22-6459057b75f6",
   "metadata": {},
   "outputs": [],
   "source": [
    "def get_table(rows):\n",
    "    date = []\n",
    "    types = []\n",
    "    deads = []\n",
    "    injured = []\n",
    "    location = []\n",
    "    article = []\n",
    "    details = []\n",
    "    perpetrator = []\n",
    "    part_of = []\n",
    "    for row in rows:\n",
    "        data = row.find_all(\"td\")\n",
    "        date.append(data[0].text.strip())\n",
    "        types.append(data[1].text.strip())\n",
    "        deads.append(data[2].text.strip())\n",
    "        injured.append(data[3].text.strip())\n",
    "        location.append(data[4].text.strip())\n",
    "        article.append(data[5].text.strip())\n",
    "        details.append(data[6].text.strip())\n",
    "        perpetrator.append(data[7].text.strip())\n",
    "        try:\n",
    "            part_of.append(data[8].text.strip())\n",
    "        except:\n",
    "            part_of.append(\"No data\")\n",
    "    table = pd.DataFrame({'date':date,\n",
    "             'type':types,\n",
    "             'dead':deads,\n",
    "             'injured':injured,\n",
    "             'article':article,\n",
    "             'details':details,\n",
    "             'perpetrator':perpetrator,\n",
    "             'part_of':part_of})\n",
    "    return table\n",
    "    "
   ]
  },
  {
   "cell_type": "code",
   "execution_count": 51,
   "id": "70418d93-52d2-4a55-86f1-b60d68ee79ee",
   "metadata": {},
   "outputs": [
    {
     "name": "stderr",
     "output_type": "stream",
     "text": [
      "100%|█████████████████████████████████████████████| 5/5 [00:17<00:00,  3.56s/it]\n"
     ]
    }
   ],
   "source": [
    "## Cleaner Code\n",
    "from tqdm import tqdm\n",
    "years = [2015,2016,2017,2018,2019]\n",
    "Tables = []\n",
    "for year in tqdm(years):\n",
    "    url = \"https://en.wikipedia.org/wiki/List_of_terrorist_incidents_in_{}\".format(year)\n",
    "    browser = webdriver.Chrome()\n",
    "    browser.get(url)\n",
    "    raw_html = browser.page_source\n",
    "    browser.close()\n",
    "    parsable_html = BeautifulSoup(raw_html,'html.parser')\n",
    "    tables = parsable_html.find_all(\"table\",class_=\"wikitable\")\n",
    "    rows = tables[0].find(\"tbody\").find_all(\"tr\")[1:]\n",
    "    table = get_table(rows)\n",
    "    table['year'] = year\n",
    "    table['url'] = url\n",
    "    Tables.append(table)"
   ]
  },
  {
   "cell_type": "code",
   "execution_count": 38,
   "id": "7a3b6850-c3a1-4df9-ab68-92dd244b3f32",
   "metadata": {},
   "outputs": [],
   "source": [
    "# https://en.wikipedia.org/wiki/List_of_terrorist_incidents_in_2015\n",
    "# https://en.wikipedia.org/wiki/List_of_terrorist_incidents_in_2016\n",
    "# https://en.wikipedia.org/wiki/List_of_terrorist_incidents_in_2017\n",
    "# https://en.wikipedia.org/wiki/List_of_terrorist_incidents_in_2018\n",
    "# https://en.wikipedia.org/wiki/List_of_terrorist_incidents_in_2019\n"
   ]
  },
  {
   "cell_type": "code",
   "execution_count": 48,
   "id": "e2d5bdee-f232-4b7d-b90a-d194a8fb0919",
   "metadata": {},
   "outputs": [
    {
     "data": {
      "text/html": [
       "<div>\n",
       "<style scoped>\n",
       "    .dataframe tbody tr th:only-of-type {\n",
       "        vertical-align: middle;\n",
       "    }\n",
       "\n",
       "    .dataframe tbody tr th {\n",
       "        vertical-align: top;\n",
       "    }\n",
       "\n",
       "    .dataframe thead th {\n",
       "        text-align: right;\n",
       "    }\n",
       "</style>\n",
       "<table border=\"1\" class=\"dataframe\">\n",
       "  <thead>\n",
       "    <tr style=\"text-align: right;\">\n",
       "      <th></th>\n",
       "      <th>date</th>\n",
       "      <th>type</th>\n",
       "      <th>dead</th>\n",
       "      <th>injured</th>\n",
       "      <th>article</th>\n",
       "      <th>details</th>\n",
       "      <th>perpetrator</th>\n",
       "      <th>part_of</th>\n",
       "    </tr>\n",
       "  </thead>\n",
       "  <tbody>\n",
       "    <tr>\n",
       "      <th>0</th>\n",
       "      <td>3–7 Jan</td>\n",
       "      <td>Massacre</td>\n",
       "      <td>UnknownEst. 2000+</td>\n",
       "      <td>Unknown</td>\n",
       "      <td>2015 Baga massacre</td>\n",
       "      <td>Boko Haram militants opened fire on northern N...</td>\n",
       "      <td>Boko Haram</td>\n",
       "      <td>Boko Haram insurgency</td>\n",
       "    </tr>\n",
       "    <tr>\n",
       "      <th>1</th>\n",
       "      <td>5 Jan</td>\n",
       "      <td>Suicide bombing</td>\n",
       "      <td>3 (+2)</td>\n",
       "      <td>2</td>\n",
       "      <td>January 2015 Arar attack</td>\n",
       "      <td>Two gunmen, one strapped with a suicide vest, ...</td>\n",
       "      <td>ISIL (suspected)</td>\n",
       "      <td></td>\n",
       "    </tr>\n",
       "    <tr>\n",
       "      <th>2</th>\n",
       "      <td>6 Jan</td>\n",
       "      <td>Suicide bombing</td>\n",
       "      <td>1 (+1)</td>\n",
       "      <td>1</td>\n",
       "      <td>January 2015 Istanbul suicide bombing</td>\n",
       "      <td>A female suicide bomber detonated her explosiv...</td>\n",
       "      <td>DHKPC</td>\n",
       "      <td>DHKP/C insurgency in Turkey</td>\n",
       "    </tr>\n",
       "    <tr>\n",
       "      <th>3</th>\n",
       "      <td>7 Jan</td>\n",
       "      <td>Car bomb</td>\n",
       "      <td>37 / 38</td>\n",
       "      <td>66</td>\n",
       "      <td>January 2015 Sana'a bombing</td>\n",
       "      <td>A car bomb detonated in front of a police acad...</td>\n",
       "      <td>al-Qaeda in the Arabian Peninsula (suspected)</td>\n",
       "      <td>Yemeni Civil War</td>\n",
       "    </tr>\n",
       "    <tr>\n",
       "      <th>4</th>\n",
       "      <td>7 Jan</td>\n",
       "      <td>Mass shooting</td>\n",
       "      <td>12</td>\n",
       "      <td>11</td>\n",
       "      <td>Charlie Hebdo shooting</td>\n",
       "      <td>Two heavily armed gunmen entered the Paris off...</td>\n",
       "      <td>al-Qaeda in the Arabian Peninsula[8]</td>\n",
       "      <td>Islamic terrorism in Europe</td>\n",
       "    </tr>\n",
       "    <tr>\n",
       "      <th>...</th>\n",
       "      <td>...</td>\n",
       "      <td>...</td>\n",
       "      <td>...</td>\n",
       "      <td>...</td>\n",
       "      <td>...</td>\n",
       "      <td>...</td>\n",
       "      <td>...</td>\n",
       "      <td>...</td>\n",
       "    </tr>\n",
       "    <tr>\n",
       "      <th>68</th>\n",
       "      <td>10 December</td>\n",
       "      <td>Shooting</td>\n",
       "      <td>4 (+2)</td>\n",
       "      <td>3</td>\n",
       "      <td>2019 Jersey City shooting</td>\n",
       "      <td>A man and a woman opened fire at a kosher groc...</td>\n",
       "      <td>Black Hebrew Israelite movement</td>\n",
       "      <td>Terrorism in the United States</td>\n",
       "    </tr>\n",
       "    <tr>\n",
       "      <th>69</th>\n",
       "      <td>11 December</td>\n",
       "      <td>Suicide car bombing, car bombing, shooting</td>\n",
       "      <td>2 (+1)</td>\n",
       "      <td>80</td>\n",
       "      <td>2019 Bagram Airfield attack</td>\n",
       "      <td>Multiple militants of the Taliban killed two c...</td>\n",
       "      <td>Taliban</td>\n",
       "      <td>War in Afghanistan</td>\n",
       "    </tr>\n",
       "    <tr>\n",
       "      <th>70</th>\n",
       "      <td>11 December</td>\n",
       "      <td>Shooting, bombing, mortar attack</td>\n",
       "      <td>71 (+?)</td>\n",
       "      <td>12</td>\n",
       "      <td>Battle of Inates</td>\n",
       "      <td>Islamic State militants, with mortars and bomb...</td>\n",
       "      <td>ISWAP</td>\n",
       "      <td>Insurgency in the Maghreb</td>\n",
       "    </tr>\n",
       "    <tr>\n",
       "      <th>71</th>\n",
       "      <td>24 December</td>\n",
       "      <td>Mass shooting</td>\n",
       "      <td>42 (+80)</td>\n",
       "      <td>Several</td>\n",
       "      <td>Arbinda attack</td>\n",
       "      <td>Jihadists attacked an army outpost in northern...</td>\n",
       "      <td>ISWAP</td>\n",
       "      <td>Insurgency in the Maghreb</td>\n",
       "    </tr>\n",
       "    <tr>\n",
       "      <th>72</th>\n",
       "      <td>28 December</td>\n",
       "      <td>Suicide truck bombing</td>\n",
       "      <td>84 (+1)</td>\n",
       "      <td>150+</td>\n",
       "      <td>December 2019 Mogadishu bombing</td>\n",
       "      <td>A suicide truck bombing at a checkpoint killed...</td>\n",
       "      <td>Al-Shabaab</td>\n",
       "      <td>Somali Civil War</td>\n",
       "    </tr>\n",
       "  </tbody>\n",
       "</table>\n",
       "<p>470 rows × 8 columns</p>\n",
       "</div>"
      ],
      "text/plain": [
       "           date                                        type  \\\n",
       "0       3–7 Jan                                    Massacre   \n",
       "1         5 Jan                             Suicide bombing   \n",
       "2         6 Jan                             Suicide bombing   \n",
       "3         7 Jan                                    Car bomb   \n",
       "4         7 Jan                               Mass shooting   \n",
       "..          ...                                         ...   \n",
       "68  10 December                                    Shooting   \n",
       "69  11 December  Suicide car bombing, car bombing, shooting   \n",
       "70  11 December            Shooting, bombing, mortar attack   \n",
       "71  24 December                               Mass shooting   \n",
       "72  28 December                       Suicide truck bombing   \n",
       "\n",
       "                 dead  injured                                article  \\\n",
       "0   UnknownEst. 2000+  Unknown                     2015 Baga massacre   \n",
       "1              3 (+2)        2               January 2015 Arar attack   \n",
       "2              1 (+1)        1  January 2015 Istanbul suicide bombing   \n",
       "3             37 / 38       66            January 2015 Sana'a bombing   \n",
       "4                  12       11                 Charlie Hebdo shooting   \n",
       "..                ...      ...                                    ...   \n",
       "68             4 (+2)        3              2019 Jersey City shooting   \n",
       "69             2 (+1)       80            2019 Bagram Airfield attack   \n",
       "70            71 (+?)       12                       Battle of Inates   \n",
       "71           42 (+80)  Several                         Arbinda attack   \n",
       "72            84 (+1)     150+        December 2019 Mogadishu bombing   \n",
       "\n",
       "                                              details  \\\n",
       "0   Boko Haram militants opened fire on northern N...   \n",
       "1   Two gunmen, one strapped with a suicide vest, ...   \n",
       "2   A female suicide bomber detonated her explosiv...   \n",
       "3   A car bomb detonated in front of a police acad...   \n",
       "4   Two heavily armed gunmen entered the Paris off...   \n",
       "..                                                ...   \n",
       "68  A man and a woman opened fire at a kosher groc...   \n",
       "69  Multiple militants of the Taliban killed two c...   \n",
       "70  Islamic State militants, with mortars and bomb...   \n",
       "71  Jihadists attacked an army outpost in northern...   \n",
       "72  A suicide truck bombing at a checkpoint killed...   \n",
       "\n",
       "                                      perpetrator  \\\n",
       "0                                      Boko Haram   \n",
       "1                                ISIL (suspected)   \n",
       "2                                           DHKPC   \n",
       "3   al-Qaeda in the Arabian Peninsula (suspected)   \n",
       "4            al-Qaeda in the Arabian Peninsula[8]   \n",
       "..                                            ...   \n",
       "68                Black Hebrew Israelite movement   \n",
       "69                                        Taliban   \n",
       "70                                          ISWAP   \n",
       "71                                          ISWAP   \n",
       "72                                     Al-Shabaab   \n",
       "\n",
       "                           part_of  \n",
       "0            Boko Haram insurgency  \n",
       "1                                   \n",
       "2      DHKP/C insurgency in Turkey  \n",
       "3                 Yemeni Civil War  \n",
       "4      Islamic terrorism in Europe  \n",
       "..                             ...  \n",
       "68  Terrorism in the United States  \n",
       "69              War in Afghanistan  \n",
       "70       Insurgency in the Maghreb  \n",
       "71       Insurgency in the Maghreb  \n",
       "72                Somali Civil War  \n",
       "\n",
       "[470 rows x 8 columns]"
      ]
     },
     "execution_count": 48,
     "metadata": {},
     "output_type": "execute_result"
    }
   ],
   "source": [
    "pd.concat(Tables)"
   ]
  },
  {
   "cell_type": "code",
   "execution_count": 60,
   "id": "156d6029-9bd2-447b-9831-44f6eaf18514",
   "metadata": {},
   "outputs": [],
   "source": [
    "#html_table1 = parasable_html.find('table',class_=\"abc\") #50 rows, 3 cols\n",
    "#html_table2 = parasable_html.find('table',class_=\"def\") #50 rows, 5 cols\n",
    "#rows_table1 = html_table1.find_all(\"tr\")\n",
    "#rows_table2 = html_table2.find_all(\"tr\")\n",
    "\n",
    "url = \"https://www.oyorooms.com/hotels-in-coimbatore/?page=3\"\n",
    "browser = webdriver.Chrome()\n",
    "browser.get(url)\n",
    "raw_html = browser.page_source\n",
    "parsable_html = BeautifulSoup(raw_html,'html.parser')"
   ]
  },
  {
   "cell_type": "code",
   "execution_count": 61,
   "id": "2722988c-2c08-4096-8d68-94e3ba1c4bba",
   "metadata": {},
   "outputs": [],
   "source": [
    "browser.close()"
   ]
  },
  {
   "cell_type": "code",
   "execution_count": 62,
   "id": "cc206c90-f6b6-43f9-a641-d48857db6c0a",
   "metadata": {},
   "outputs": [],
   "source": [
    "cards = parsable_html.find_all(\"div\",class_=\"hotelCardListing__descriptionWrapper\")"
   ]
  },
  {
   "cell_type": "code",
   "execution_count": 64,
   "id": "7cbe2670-7e3a-4f26-b796-8087642942ca",
   "metadata": {},
   "outputs": [
    {
     "data": {
      "text/plain": [
       "13"
      ]
     },
     "execution_count": 64,
     "metadata": {},
     "output_type": "execute_result"
    }
   ],
   "source": [
    "len(cards)"
   ]
  },
  {
   "cell_type": "code",
   "execution_count": 66,
   "id": "b403c4a4-7bbc-4475-9bbd-4953bae16487",
   "metadata": {},
   "outputs": [
    {
     "data": {
      "text/plain": [
       "'Capital O 19487 Hr Residency'"
      ]
     },
     "execution_count": 66,
     "metadata": {},
     "output_type": "execute_result"
    }
   ],
   "source": [
    "cards[0].h3.text"
   ]
  },
  {
   "cell_type": "code",
   "execution_count": 69,
   "id": "14f9fbee-63a9-4378-b24d-af6a9f1db447",
   "metadata": {},
   "outputs": [
    {
     "data": {
      "text/plain": [
       "'Near Poo Market Busstop, R.S. Puram, Coimbatore'"
      ]
     },
     "execution_count": 69,
     "metadata": {},
     "output_type": "execute_result"
    }
   ],
   "source": [
    "cards[0].find(\"span\",attrs = {'itemprop':\"streetAddress\"}).text"
   ]
  },
  {
   "cell_type": "code",
   "execution_count": 74,
   "id": "4ac6765c-a717-40d9-b9be-9cba373ad2a9",
   "metadata": {},
   "outputs": [
    {
     "data": {
      "text/plain": [
       "[]"
      ]
     },
     "execution_count": 74,
     "metadata": {},
     "output_type": "execute_result"
    }
   ],
   "source": [
    "cards[-1].find_all(\"span\",class_=\"listingPrice__finalPrice\")"
   ]
  },
  {
   "cell_type": "code",
   "execution_count": 76,
   "id": "a395faaf-c85c-406d-a71f-066140e6c2af",
   "metadata": {},
   "outputs": [],
   "source": [
    "title = []\n",
    "address = []\n",
    "price = []\n",
    "for card in cards:\n",
    "    title.append(card.h3.text.strip())\n",
    "    address.append(card.find(\"span\",attrs={'itemprop':\"streetAddress\"}).text)\n",
    "    if len(card.find_all(\"span\",class_=\"listingPrice__finalPrice\"))==0:\n",
    "        price.append(\"Sold Out\")\n",
    "    else:\n",
    "        p = card.find_all(\"span\",class_=\"listingPrice__finalPrice\")[0].text\n",
    "        price.append(p)       "
   ]
  },
  {
   "cell_type": "code",
   "execution_count": 125,
   "id": "24158481-0f13-4a84-9e1a-b01c92979f59",
   "metadata": {},
   "outputs": [],
   "source": [
    "table = pd.DataFrame({'title':title,\n",
    "             'address':address,\n",
    "             'price':price})"
   ]
  },
  {
   "cell_type": "code",
   "execution_count": 127,
   "id": "a0c4d0b2-8d66-4b90-9f98-0297d3d937a8",
   "metadata": {},
   "outputs": [],
   "source": [
    "table.to_csv(\"./data/oyo.csv\",index=False)"
   ]
  },
  {
   "cell_type": "code",
   "execution_count": 81,
   "id": "c59355c6-0f51-472a-822e-67e73d3deaf2",
   "metadata": {},
   "outputs": [
    {
     "data": {
      "text/plain": [
       "'₹1426 - ₹2982'"
      ]
     },
     "execution_count": 81,
     "metadata": {},
     "output_type": "execute_result"
    }
   ],
   "source": [
    "parsable_html.find(\"meta\",attrs={'itemprop':'priceRange'}).get('content')"
   ]
  },
  {
   "cell_type": "markdown",
   "id": "ba561239-9e7f-4bda-982e-4bfe1ab61f4f",
   "metadata": {},
   "source": [
    "### Interact with web-page using selenium "
   ]
  },
  {
   "cell_type": "code",
   "execution_count": 89,
   "id": "41999a7c-00fa-4994-b18a-44fb8c0f420b",
   "metadata": {},
   "outputs": [],
   "source": [
    "url = \"http://mnregaweb4.nic.in/netnrega/age_reg_emp.aspx?page=s&lflag=eng&state_name=BIHAR&state_code=05&fin_year=2018-2019&source=national&Digest=2aOUkcCldO+XWneoNOSTPA\"\n",
    "browser = webdriver.Chrome()\n",
    "browser.get(url)"
   ]
  },
  {
   "cell_type": "code",
   "execution_count": 90,
   "id": "a7b2b991-dbc7-4e56-bf59-795f162fe536",
   "metadata": {},
   "outputs": [
    {
     "name": "stderr",
     "output_type": "stream",
     "text": [
      "/var/folders/7h/01sjg2sx6tl3y72r2klm24c80000gn/T/ipykernel_30948/456538387.py:2: DeprecationWarning: find_element_by_* commands are deprecated. Please use find_element() instead\n",
      "  browser.find_element_by_css_selector(css_selector_num).click()\n"
     ]
    }
   ],
   "source": [
    "css_selector_num = \"input#ContentPlaceHolder1_RadioButtonList1_1\" ## unique way of identifying particular parts of webpage\n",
    "browser.find_element_by_css_selector(css_selector_num).click()"
   ]
  },
  {
   "cell_type": "code",
   "execution_count": 91,
   "id": "16c11c56-29fc-47fa-bc2f-5c0107872fc9",
   "metadata": {},
   "outputs": [
    {
     "name": "stderr",
     "output_type": "stream",
     "text": [
      "/var/folders/7h/01sjg2sx6tl3y72r2klm24c80000gn/T/ipykernel_30948/1952812089.py:3: DeprecationWarning: find_element_by_* commands are deprecated. Please use find_element() instead\n",
      "  browser.find_element_by_css_selector(css_selector_excel_dnld).click()\n"
     ]
    }
   ],
   "source": [
    "## Select the download excel button and click it\n",
    "css_selector_excel_dnld = \"a#ContentPlaceHolder1_LinkButton1\"\n",
    "browser.find_element_by_css_selector(css_selector_excel_dnld).click()"
   ]
  },
  {
   "cell_type": "code",
   "execution_count": 98,
   "id": "eab28682-04f7-406b-bebb-15d2c44429af",
   "metadata": {},
   "outputs": [],
   "source": [
    "def get_absolute_num(browser):\n",
    "    css_selector_num = \"input#ContentPlaceHolder1_RadioButtonList1_1\" \n",
    "    browser.find_element_by_css_selector(css_selector_num).click()\n",
    "\n",
    "def download_excel(browser):\n",
    "    css_selector_excel_dnld = \"a#ContentPlaceHolder1_LinkButton1\"\n",
    "    browser.find_element_by_css_selector(css_selector_excel_dnld).click()"
   ]
  },
  {
   "cell_type": "code",
   "execution_count": 100,
   "id": "00649a8d-c7e2-46b5-85e8-8b3a464fddca",
   "metadata": {},
   "outputs": [],
   "source": [
    "url = \"http://mnregaweb4.nic.in/netnrega/age_reg_emp.aspx?lflag=eng&page=d&state_name=BIHAR&state_code=05&district_name=ARARIA&district_code=0541&fin_year=2018-2019&source=national&Digest=wmIyKMdtRWw7TpUli%2f+ApA\"\n",
    "browser = webdriver.Chrome()\n",
    "browser.get(url)"
   ]
  },
  {
   "cell_type": "code",
   "execution_count": 101,
   "id": "9e64bd9e-04af-429c-83a2-280c5ca357a7",
   "metadata": {},
   "outputs": [
    {
     "name": "stderr",
     "output_type": "stream",
     "text": [
      "/var/folders/7h/01sjg2sx6tl3y72r2klm24c80000gn/T/ipykernel_30948/3929718805.py:3: DeprecationWarning: find_element_by_* commands are deprecated. Please use find_element() instead\n",
      "  browser.find_element_by_css_selector(css_selector_num).click()\n"
     ]
    }
   ],
   "source": [
    "get_absolute_num(browser)"
   ]
  },
  {
   "cell_type": "code",
   "execution_count": 102,
   "id": "b9ae51e8-a1c6-4f44-97e2-541fe94b87ba",
   "metadata": {},
   "outputs": [
    {
     "name": "stderr",
     "output_type": "stream",
     "text": [
      "/var/folders/7h/01sjg2sx6tl3y72r2klm24c80000gn/T/ipykernel_30948/3929718805.py:7: DeprecationWarning: find_element_by_* commands are deprecated. Please use find_element() instead\n",
      "  browser.find_element_by_css_selector(css_selector_excel_dnld).click()\n"
     ]
    }
   ],
   "source": [
    "download_excel(browser)"
   ]
  },
  {
   "cell_type": "code",
   "execution_count": 103,
   "id": "946d473c-be33-48c4-b077-b61f34a9725f",
   "metadata": {},
   "outputs": [],
   "source": [
    "browser.close()"
   ]
  },
  {
   "cell_type": "code",
   "execution_count": 104,
   "id": "c73cf826-2997-431f-9a64-9d5a20374708",
   "metadata": {},
   "outputs": [
    {
     "name": "stderr",
     "output_type": "stream",
     "text": [
      "/var/folders/7h/01sjg2sx6tl3y72r2klm24c80000gn/T/ipykernel_30948/3929718805.py:3: DeprecationWarning: find_element_by_* commands are deprecated. Please use find_element() instead\n",
      "  browser.find_element_by_css_selector(css_selector_num).click()\n"
     ]
    }
   ],
   "source": [
    "home_url = \"http://mnregaweb4.nic.in/netnrega/age_reg_emp.aspx?page=s&lflag=eng&state_name=BIHAR&state_code=05&fin_year=2018-2019&source=national&Digest=2aOUkcCldO+XWneoNOSTPA\"\n",
    "browser = webdriver.Chrome()\n",
    "browser.get(home_url)\n",
    "get_absolute_num(browser)"
   ]
  },
  {
   "cell_type": "code",
   "execution_count": 105,
   "id": "46c31593-620c-47fb-870e-723cceff1285",
   "metadata": {},
   "outputs": [],
   "source": [
    "## extract links for all the districts\n",
    "raw_html = browser.page_source\n",
    "parsable_html = BeautifulSoup(raw_html,'html.parser')\n",
    "tables = parsable_html.find_all(\"table\")"
   ]
  },
  {
   "cell_type": "code",
   "execution_count": 112,
   "id": "87bca925-fb01-4085-bbeb-0984e94ad103",
   "metadata": {},
   "outputs": [],
   "source": [
    "rows = tables[4].find_all(\"tr\")[4:-1]"
   ]
  },
  {
   "cell_type": "code",
   "execution_count": 115,
   "id": "a58e7e3a-5409-4d8c-8bc3-62c2ca519344",
   "metadata": {},
   "outputs": [
    {
     "data": {
      "text/plain": [
       "'age_reg_emp.aspx?lflag=eng&page=d&state_name=BIHAR&state_code=05&district_name=ARARIA&district_code=0541&fin_year=2018-2019&source=national&Digest=wmIyKMdtRWw7TpUli/+ApA'"
      ]
     },
     "execution_count": 115,
     "metadata": {},
     "output_type": "execute_result"
    }
   ],
   "source": [
    "rows[0].find_all(\"td\")[1].a.get(\"href\")"
   ]
  },
  {
   "cell_type": "code",
   "execution_count": 116,
   "id": "a60c5e57-1747-4741-8517-eeadb423f222",
   "metadata": {},
   "outputs": [],
   "source": [
    "base_url = \"http://mnregaweb4.nic.in/netnrega/\""
   ]
  },
  {
   "cell_type": "code",
   "execution_count": 117,
   "id": "d68e89d8-9a49-4aa0-ab3d-fd9b7c9b14d1",
   "metadata": {},
   "outputs": [],
   "source": [
    "urls = []\n",
    "for row in rows:\n",
    "    data = row.find_all(\"td\")\n",
    "    partial_url = data[1].a.get(\"href\")\n",
    "    full_url = base_url + partial_url\n",
    "    urls.append(full_url)"
   ]
  },
  {
   "cell_type": "code",
   "execution_count": 119,
   "id": "615432f2-8c3d-4b15-a9fc-8d5948aea091",
   "metadata": {},
   "outputs": [
    {
     "name": "stderr",
     "output_type": "stream",
     "text": [
      "/var/folders/7h/01sjg2sx6tl3y72r2klm24c80000gn/T/ipykernel_30948/3929718805.py:7: DeprecationWarning: find_element_by_* commands are deprecated. Please use find_element() instead\n",
      "  browser.find_element_by_css_selector(css_selector_excel_dnld).click()\n"
     ]
    }
   ],
   "source": [
    "download_excel(browser)"
   ]
  },
  {
   "cell_type": "code",
   "execution_count": 123,
   "id": "196966d7-8e64-44e9-91d5-8e138f1e8e33",
   "metadata": {},
   "outputs": [],
   "source": [
    "def get_dist_urls(browser):\n",
    "    raw_html = browser.page_source\n",
    "    parsable_html = BeautifulSoup(raw_html,'html.parser')\n",
    "    tables = parsable_html.find_all(\"table\")\n",
    "    rows = tables[4].find_all(\"tr\")[4:-1]\n",
    "    urls = []\n",
    "    for row in rows:\n",
    "        data = row.find_all(\"td\")\n",
    "        partial_url = data[1].a.get(\"href\")\n",
    "        full_url = base_url + partial_url\n",
    "        urls.append(full_url)\n",
    "    return urls\n"
   ]
  },
  {
   "cell_type": "code",
   "execution_count": 124,
   "id": "225b2748-abb4-4712-ae1f-757300924044",
   "metadata": {},
   "outputs": [
    {
     "name": "stderr",
     "output_type": "stream",
     "text": [
      "/var/folders/7h/01sjg2sx6tl3y72r2klm24c80000gn/T/ipykernel_30948/3929718805.py:3: DeprecationWarning: find_element_by_* commands are deprecated. Please use find_element() instead\n",
      "  browser.find_element_by_css_selector(css_selector_num).click()\n",
      "/var/folders/7h/01sjg2sx6tl3y72r2klm24c80000gn/T/ipykernel_30948/3929718805.py:7: DeprecationWarning: find_element_by_* commands are deprecated. Please use find_element() instead\n",
      "  browser.find_element_by_css_selector(css_selector_excel_dnld).click()\n",
      "100%|███████████████████████████████████████████| 38/38 [01:38<00:00,  2.60s/it]\n"
     ]
    }
   ],
   "source": [
    "### Refactor the code\n",
    "import time\n",
    "home_url = \"http://mnregaweb4.nic.in/netnrega/age_reg_emp.aspx?page=s&lflag=eng&state_name=BIHAR&state_code=05&fin_year=2018-2019&source=national&Digest=2aOUkcCldO+XWneoNOSTPA\"\n",
    "browser = webdriver.Chrome()\n",
    "browser.get(home_url)\n",
    "get_absolute_num(browser)\n",
    "urls = get_dist_urls(browser)\n",
    "download_excel(browser)\n",
    "for url in tqdm(urls):\n",
    "    time.sleep(1.5)\n",
    "    browser.get(url)\n",
    "    get_absolute_num(browser)\n",
    "    time.sleep(1.5)\n",
    "    download_excel(browser)"
   ]
  },
  {
   "cell_type": "code",
   "execution_count": null,
   "id": "bee555ef-fa0a-41df-814d-1109c2ec6fa2",
   "metadata": {},
   "outputs": [],
   "source": []
  }
 ],
 "metadata": {
  "kernelspec": {
   "display_name": "Python 3 (ipykernel)",
   "language": "python",
   "name": "python3"
  },
  "language_info": {
   "codemirror_mode": {
    "name": "ipython",
    "version": 3
   },
   "file_extension": ".py",
   "mimetype": "text/x-python",
   "name": "python",
   "nbconvert_exporter": "python",
   "pygments_lexer": "ipython3",
   "version": "3.9.5"
  }
 },
 "nbformat": 4,
 "nbformat_minor": 5
}
