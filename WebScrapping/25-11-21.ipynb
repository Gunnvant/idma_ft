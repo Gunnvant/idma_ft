{
 "cells": [
  {
   "cell_type": "markdown",
   "id": "d64e5b88-30cb-4ac4-8325-9d3c7495bf75",
   "metadata": {},
   "source": [
    "## Scrapping html data\n",
    " - Parse an html file"
   ]
  },
  {
   "cell_type": "code",
   "execution_count": 1,
   "id": "79c14ce4-44ea-42d7-9355-63e4167b7433",
   "metadata": {},
   "outputs": [
    {
     "name": "stdout",
     "output_type": "stream",
     "text": [
      "<!DOCTYPE html>\n",
      "\n",
      "<html>\n",
      "    <head>\n",
      "        <title>GETTING STARTED WITH bs4</title>\n",
      "    </head>\n",
      "    <div class=\"para 1\">\n",
      "        <p>\n",
      "            This is paragraph one\n",
      "        </p>\n",
      "        <p>\n",
      "            This is paragraph two\n",
      "        </p>\n",
      "    </div>\n",
      "    <div class='para 2'>\n",
      "        <p>\n",
      "            This is para 1 in div 2\n",
      "        </p>\n",
      "    \n",
      "    </div>\n",
      "    <div class=\"para 1\">\n",
      "        <p>\n",
      "            This is paragraph three of div with class para 1\n",
      "        </p>\n",
      "        <p>\n",
      "            This is paragraph four of div with class para 1\n",
      "        </p>\n",
      "    </div>\n",
      "\n",
      "</html>\n"
     ]
    }
   ],
   "source": [
    "con = open(\"./data/html.html\")\n",
    "raw_html = con.read()\n",
    "con.close()\n",
    "print(raw_html)"
   ]
  },
  {
   "cell_type": "code",
   "execution_count": 2,
   "id": "48585d93-0d99-467f-acef-a4782db53564",
   "metadata": {},
   "outputs": [],
   "source": [
    "### We will use a python library to parse this html\n",
    "from bs4 import BeautifulSoup"
   ]
  },
  {
   "cell_type": "code",
   "execution_count": 3,
   "id": "a8eea42e-fccc-4ff9-86a1-c7f6d63ace87",
   "metadata": {},
   "outputs": [],
   "source": [
    "parsed_html = BeautifulSoup(raw_html,'html.parser')"
   ]
  },
  {
   "cell_type": "code",
   "execution_count": 4,
   "id": "26b2e7ca-1162-48c1-82ee-1faff888af33",
   "metadata": {},
   "outputs": [
    {
     "data": {
      "text/plain": [
       "<!DOCTYPE html>\n",
       "\n",
       "<html>\n",
       "<head>\n",
       "<title>GETTING STARTED WITH bs4</title>\n",
       "</head>\n",
       "<div class=\"para 1\">\n",
       "<p>\n",
       "            This is paragraph one\n",
       "        </p>\n",
       "<p>\n",
       "            This is paragraph two\n",
       "        </p>\n",
       "</div>\n",
       "<div class=\"para 2\">\n",
       "<p>\n",
       "            This is para 1 in div 2\n",
       "        </p>\n",
       "</div>\n",
       "<div class=\"para 1\">\n",
       "<p>\n",
       "            This is paragraph three of div with class para 1\n",
       "        </p>\n",
       "<p>\n",
       "            This is paragraph four of div with class para 1\n",
       "        </p>\n",
       "</div>\n",
       "</html>"
      ]
     },
     "execution_count": 4,
     "metadata": {},
     "output_type": "execute_result"
    }
   ],
   "source": [
    "parsed_html"
   ]
  },
  {
   "cell_type": "code",
   "execution_count": 5,
   "id": "11c47fd1-29a4-4b11-b406-31a9e62cd807",
   "metadata": {},
   "outputs": [
    {
     "data": {
      "text/plain": [
       "<title>GETTING STARTED WITH bs4</title>"
      ]
     },
     "execution_count": 5,
     "metadata": {},
     "output_type": "execute_result"
    }
   ],
   "source": [
    "parsed_html.title"
   ]
  },
  {
   "cell_type": "code",
   "execution_count": 6,
   "id": "2dd704fa-077e-4551-9927-842b80a22dad",
   "metadata": {},
   "outputs": [
    {
     "data": {
      "text/plain": [
       "<div class=\"para 1\">\n",
       "<p>\n",
       "            This is paragraph one\n",
       "        </p>\n",
       "<p>\n",
       "            This is paragraph two\n",
       "        </p>\n",
       "</div>"
      ]
     },
     "execution_count": 6,
     "metadata": {},
     "output_type": "execute_result"
    }
   ],
   "source": [
    "parsed_html.div"
   ]
  },
  {
   "cell_type": "code",
   "execution_count": 7,
   "id": "5e067ba6-0493-4f8f-8c7e-8cc9e4790d03",
   "metadata": {},
   "outputs": [
    {
     "data": {
      "text/plain": [
       "'GETTING STARTED WITH bs4'"
      ]
     },
     "execution_count": 7,
     "metadata": {},
     "output_type": "execute_result"
    }
   ],
   "source": [
    "parsed_html.title.text"
   ]
  },
  {
   "cell_type": "code",
   "execution_count": 12,
   "id": "160b28d7-941d-4117-b78e-f77cc83dcadf",
   "metadata": {},
   "outputs": [
    {
     "name": "stdout",
     "output_type": "stream",
     "text": [
      "This is paragraph one\n",
      "This is paragraph two\n",
      "This is para 1 in div 2\n",
      "This is paragraph three of div with class para 1\n",
      "This is paragraph four of div with class para 1\n"
     ]
    }
   ],
   "source": [
    "paras = []\n",
    "for para in parsed_html.find_all(\"p\"):\n",
    "    print(para.text.strip())\n",
    "    paras.append(para.text.strip())"
   ]
  },
  {
   "cell_type": "code",
   "execution_count": 13,
   "id": "210232e3-404c-495d-a025-3e824e192ae6",
   "metadata": {},
   "outputs": [
    {
     "data": {
      "text/plain": [
       "['This is paragraph one',\n",
       " 'This is paragraph two',\n",
       " 'This is para 1 in div 2',\n",
       " 'This is paragraph three of div with class para 1',\n",
       " 'This is paragraph four of div with class para 1']"
      ]
     },
     "execution_count": 13,
     "metadata": {},
     "output_type": "execute_result"
    }
   ],
   "source": [
    "paras"
   ]
  },
  {
   "cell_type": "code",
   "execution_count": 21,
   "id": "8e89b092-929f-4db0-84b8-17c1e1749139",
   "metadata": {},
   "outputs": [
    {
     "data": {
      "text/plain": [
       "'This is para 1 in div 2'"
      ]
     },
     "execution_count": 21,
     "metadata": {},
     "output_type": "execute_result"
    }
   ],
   "source": [
    "parsed_html.find_all(\"div\",class_=\"para 2\")[0].p.text.strip()"
   ]
  },
  {
   "cell_type": "code",
   "execution_count": 28,
   "id": "1878688e-3a22-41de-a1eb-47b326b54a61",
   "metadata": {},
   "outputs": [
    {
     "data": {
      "text/plain": [
       "'This is paragraph four of div with class para 1'"
      ]
     },
     "execution_count": 28,
     "metadata": {},
     "output_type": "execute_result"
    }
   ],
   "source": [
    "parsed_html.find_all(\"div\",class_=\"para 1\")[1].find_all(\"p\")[1].text.strip()"
   ]
  },
  {
   "cell_type": "code",
   "execution_count": 33,
   "id": "99e0bae6-2ef2-47d2-8f8a-6d5c5b505054",
   "metadata": {},
   "outputs": [
    {
     "data": {
      "text/plain": [
       "'This is paragraph three of div with class para 1'"
      ]
     },
     "execution_count": 33,
     "metadata": {},
     "output_type": "execute_result"
    }
   ],
   "source": [
    "parsed_html.find_all(\"div\",class_=\"para 1\")[1].text.split(\"\\n\\n\")[1].strip()"
   ]
  },
  {
   "cell_type": "code",
   "execution_count": 41,
   "id": "2604dd3a-ab85-41c7-afeb-ebf103bb4783",
   "metadata": {},
   "outputs": [
    {
     "data": {
      "text/plain": [
       "'This is paragraph four of div with class para 1'"
      ]
     },
     "execution_count": 41,
     "metadata": {},
     "output_type": "execute_result"
    }
   ],
   "source": [
    "parsed_html.find_all(\"div\",class_=\"para 1\")[1].text.split(\"\\n\\n\")[2].strip()"
   ]
  },
  {
   "cell_type": "code",
   "execution_count": 49,
   "id": "c6c3d99f-eed7-4078-a70e-b3a8e62868d6",
   "metadata": {},
   "outputs": [
    {
     "data": {
      "text/plain": [
       "'This is paragraph two'"
      ]
     },
     "execution_count": 49,
     "metadata": {},
     "output_type": "execute_result"
    }
   ],
   "source": [
    "parsed_html.find_all(\"div\",class_=\"para 1\")[0].find_all(\"p\")[1].text.strip()"
   ]
  },
  {
   "cell_type": "code",
   "execution_count": 51,
   "id": "6d6fad40-c3b7-4d9e-bc68-6d8a11081e5e",
   "metadata": {},
   "outputs": [
    {
     "data": {
      "text/plain": [
       "'This is paragraph three of div with class para 1'"
      ]
     },
     "execution_count": 51,
     "metadata": {},
     "output_type": "execute_result"
    }
   ],
   "source": [
    "parsed_html.find_all(\"div\",class_=\"para 1\")[1].find_all(\"p\")[0].text.strip() "
   ]
  },
  {
   "cell_type": "code",
   "execution_count": 59,
   "id": "8efba17a-1f49-4004-b1df-f880436f9479",
   "metadata": {},
   "outputs": [
    {
     "data": {
      "text/plain": [
       "['This is paragraph two', 'This is paragraph three of div with class para 1']"
      ]
     },
     "execution_count": 59,
     "metadata": {},
     "output_type": "execute_result"
    }
   ],
   "source": [
    "counter = 1\n",
    "paras = []\n",
    "for div in parsed_html.find_all(\"div\",class_=\"para 1\"):\n",
    "    if counter <=1:\n",
    "        p=div.find_all(\"p\")[1].text.strip()\n",
    "    else:\n",
    "        p=div.find_all(\"p\")[0].text.strip()\n",
    "    paras.append(p)\n",
    "    counter = counter + 1 \n",
    "paras"
   ]
  },
  {
   "cell_type": "code",
   "execution_count": 61,
   "id": "89481f3b-8224-444e-98a1-3b947b8eb572",
   "metadata": {},
   "outputs": [],
   "source": [
    "paras = []\n",
    "for idx,div in enumerate(parsed_html.find_all(\"div\",class_=\"para 1\")):\n",
    "    if idx == 0:\n",
    "        p=div.find_all(\"p\")[1].text.strip()\n",
    "    else:\n",
    "        p=div.find_all(\"p\")[0].text.strip()\n",
    "    paras.append(p)"
   ]
  },
  {
   "cell_type": "code",
   "execution_count": 62,
   "id": "09cf65fc-0eb7-45ae-ae8c-9258b3882cb6",
   "metadata": {},
   "outputs": [
    {
     "data": {
      "text/plain": [
       "['This is paragraph two', 'This is paragraph three of div with class para 1']"
      ]
     },
     "execution_count": 62,
     "metadata": {},
     "output_type": "execute_result"
    }
   ],
   "source": [
    "paras"
   ]
  },
  {
   "cell_type": "code",
   "execution_count": 67,
   "id": "1794c6ca-3ec2-4ff9-be71-789893195314",
   "metadata": {},
   "outputs": [],
   "source": [
    "### How do we get data (raw html) from the web\n",
    "# make a \"request\" to a server to get data\n",
    "# get request ---> request to the server to send something to us\n",
    "# post request ----> request to the server where we send some data to the server (form submit)\n",
    "import requests\n",
    "url = \"https://www.w3schools.com/TAGS/default.ASP\"\n",
    "resp=requests.get(url)\n",
    "raw_html = resp.text"
   ]
  },
  {
   "cell_type": "code",
   "execution_count": 68,
   "id": "0f5088cf-f378-44b1-aa11-d39e06c9ae51",
   "metadata": {},
   "outputs": [],
   "source": [
    "url = \"https://www.goodreads.com/quotes\"\n",
    "resp = requests.get(url)\n",
    "raw_html = resp.text"
   ]
  },
  {
   "cell_type": "code",
   "execution_count": 70,
   "id": "bcc770d6-b774-4696-90e0-a13357aacbab",
   "metadata": {},
   "outputs": [],
   "source": [
    "## Lets see what is the logic we can create to extract the quote and the author name\n",
    "parsed_html = BeautifulSoup(raw_html,'html.parser')"
   ]
  },
  {
   "cell_type": "code",
   "execution_count": 77,
   "id": "a4942be4-2e8b-4080-aa58-d102f579d468",
   "metadata": {},
   "outputs": [
    {
     "data": {
      "text/plain": [
       "'Oscar Wilde'"
      ]
     },
     "execution_count": 77,
     "metadata": {},
     "output_type": "execute_result"
    }
   ],
   "source": [
    "parsed_html.find_all(\"span\",class_=\"authorOrTitle\")[0].text.strip()"
   ]
  },
  {
   "cell_type": "code",
   "execution_count": 78,
   "id": "4f15a5ba-b293-48db-b532-fbc0ccfdf3f5",
   "metadata": {},
   "outputs": [
    {
     "name": "stdout",
     "output_type": "stream",
     "text": [
      "['Oscar Wilde', 'Marilyn Monroe', 'Albert Einstein', 'Frank Zappa', 'Marcus Tullius Cicero', 'Bernard M. Baruch', 'William W. Purkey', 'Dr. Seuss', 'Mae West', 'Mahatma Gandhi', 'Robert Frost', 'J.K. Rowling,', 'Albert Camus', 'Mark Twain', 'C.S. Lewis,', 'Maya Angelou', 'Elbert Hubbard', 'Oscar Wilde', 'Oscar Wilde', 'Mahatma Gandhi', 'Martin Luther King Jr.,', 'Friedrich Nietzsche,', 'Stephen Chbosky,', 'Oscar Wilde,', 'Ralph Waldo Emerson', 'Rob Siltanen', 'Narcotics Anonymous', 'Marilyn Monroe', 'H. Jackson Brown Jr.,', 'Andre Gide,']\n"
     ]
    }
   ],
   "source": [
    "authors = []\n",
    "for auth in parsed_html.find_all(\"span\",class_=\"authorOrTitle\"):\n",
    "    authors.append(auth.text.strip())\n",
    "print(authors)"
   ]
  },
  {
   "cell_type": "code",
   "execution_count": 100,
   "id": "63e37aff-6ae2-4d57-ac31-35930e9d5e1d",
   "metadata": {},
   "outputs": [],
   "source": [
    "### Try extracting the quotes also from this webpage\n",
    "quotes = []\n",
    "for div in parsed_html.find_all(\"div\",class_=\"quoteText\"):\n",
    "    quotes.append(div.text.split(\"\\n    ―\\n  \\n\")[0].strip())"
   ]
  },
  {
   "cell_type": "code",
   "execution_count": 103,
   "id": "a9c77e75-ba22-4f0e-ae0a-885b1afab093",
   "metadata": {},
   "outputs": [],
   "source": [
    "import pandas as pd\n",
    "table = pd.DataFrame({'author':authors,'quote':quotes})"
   ]
  },
  {
   "cell_type": "code",
   "execution_count": 104,
   "id": "b0f072b3-2dff-4d49-85dc-16914f69da76",
   "metadata": {},
   "outputs": [
    {
     "data": {
      "text/html": [
       "<div>\n",
       "<style scoped>\n",
       "    .dataframe tbody tr th:only-of-type {\n",
       "        vertical-align: middle;\n",
       "    }\n",
       "\n",
       "    .dataframe tbody tr th {\n",
       "        vertical-align: top;\n",
       "    }\n",
       "\n",
       "    .dataframe thead th {\n",
       "        text-align: right;\n",
       "    }\n",
       "</style>\n",
       "<table border=\"1\" class=\"dataframe\">\n",
       "  <thead>\n",
       "    <tr style=\"text-align: right;\">\n",
       "      <th></th>\n",
       "      <th>author</th>\n",
       "      <th>quote</th>\n",
       "    </tr>\n",
       "  </thead>\n",
       "  <tbody>\n",
       "    <tr>\n",
       "      <th>0</th>\n",
       "      <td>Oscar Wilde</td>\n",
       "      <td>“Be yourself; everyone else is already taken.”</td>\n",
       "    </tr>\n",
       "    <tr>\n",
       "      <th>1</th>\n",
       "      <td>Marilyn Monroe</td>\n",
       "      <td>“I'm selfish, impatient and a little insecure....</td>\n",
       "    </tr>\n",
       "    <tr>\n",
       "      <th>2</th>\n",
       "      <td>Albert Einstein</td>\n",
       "      <td>“Two things are infinite: the universe and hum...</td>\n",
       "    </tr>\n",
       "    <tr>\n",
       "      <th>3</th>\n",
       "      <td>Frank Zappa</td>\n",
       "      <td>“So many books, so little time.”</td>\n",
       "    </tr>\n",
       "    <tr>\n",
       "      <th>4</th>\n",
       "      <td>Marcus Tullius Cicero</td>\n",
       "      <td>“A room without books is like a body without a...</td>\n",
       "    </tr>\n",
       "  </tbody>\n",
       "</table>\n",
       "</div>"
      ],
      "text/plain": [
       "                  author                                              quote\n",
       "0            Oscar Wilde     “Be yourself; everyone else is already taken.”\n",
       "1         Marilyn Monroe  “I'm selfish, impatient and a little insecure....\n",
       "2        Albert Einstein  “Two things are infinite: the universe and hum...\n",
       "3            Frank Zappa                   “So many books, so little time.”\n",
       "4  Marcus Tullius Cicero  “A room without books is like a body without a..."
      ]
     },
     "execution_count": 104,
     "metadata": {},
     "output_type": "execute_result"
    }
   ],
   "source": [
    "table.head()"
   ]
  },
  {
   "cell_type": "code",
   "execution_count": 115,
   "id": "314cec5c-d526-4dde-8fb0-a21d4f0425a7",
   "metadata": {},
   "outputs": [],
   "source": [
    "#https://www.goodreads.com/quotes?page=6\n",
    "#https://www.goodreads.com/quotes?page=1\n",
    "#https://www.goodreads.com/quotes?page=99\n",
    "page_num = 2\n",
    "base_url = \"https://www.goodreads.com/quotes?page={}\".format(page_num)"
   ]
  },
  {
   "cell_type": "code",
   "execution_count": 116,
   "id": "2746cff2-e16e-496b-9717-3834f5fce29c",
   "metadata": {},
   "outputs": [
    {
     "data": {
      "text/plain": [
       "'https://www.goodreads.com/quotes?page=2'"
      ]
     },
     "execution_count": 116,
     "metadata": {},
     "output_type": "execute_result"
    }
   ],
   "source": [
    "base_url"
   ]
  },
  {
   "cell_type": "code",
   "execution_count": 111,
   "id": "725e8929-3445-4c5a-84f5-86c3317a9456",
   "metadata": {},
   "outputs": [],
   "source": [
    "### Create logic to extract data from a single page as a python function\n",
    "def get_data(parsed_html):\n",
    "    quotes = []\n",
    "    authors = []\n",
    "    for div in parsed_html.find_all(\"div\",class_=\"quoteText\"):\n",
    "        quotes.append(div.text.split(\"\\n    ―\\n  \\n\")[0].strip())\n",
    "    for auth in parsed_html.find_all(\"span\",class_=\"authorOrTitle\"):\n",
    "        authors.append(auth.text.strip())\n",
    "    table = pd.DataFrame({'author':authors,'quote':quotes})\n",
    "    return table"
   ]
  },
  {
   "cell_type": "code",
   "execution_count": 118,
   "id": "e0018522-d114-4b8c-aa98-f9086eb3fb7d",
   "metadata": {},
   "outputs": [
    {
     "name": "stderr",
     "output_type": "stream",
     "text": [
      "100%|███████████████████████████████████████████| 20/20 [00:39<00:00,  1.95s/it]\n"
     ]
    }
   ],
   "source": [
    "from tqdm import tqdm\n",
    "tables = []\n",
    "for page_num in tqdm(range(20)):\n",
    "    base_url = \"https://www.goodreads.com/quotes?page={}\".format(page_num)\n",
    "    raw_html = requests.get(base_url).text\n",
    "    parsed_html = BeautifulSoup(raw_html,'html.parser')\n",
    "    tables.append(get_data(parsed_html))"
   ]
  },
  {
   "cell_type": "code",
   "execution_count": 121,
   "id": "452efdec-8fa6-4afc-ada4-289436b962f3",
   "metadata": {},
   "outputs": [
    {
     "data": {
      "text/html": [
       "<div>\n",
       "<style scoped>\n",
       "    .dataframe tbody tr th:only-of-type {\n",
       "        vertical-align: middle;\n",
       "    }\n",
       "\n",
       "    .dataframe tbody tr th {\n",
       "        vertical-align: top;\n",
       "    }\n",
       "\n",
       "    .dataframe thead th {\n",
       "        text-align: right;\n",
       "    }\n",
       "</style>\n",
       "<table border=\"1\" class=\"dataframe\">\n",
       "  <thead>\n",
       "    <tr style=\"text-align: right;\">\n",
       "      <th></th>\n",
       "      <th>author</th>\n",
       "      <th>quote</th>\n",
       "    </tr>\n",
       "  </thead>\n",
       "  <tbody>\n",
       "    <tr>\n",
       "      <th>0</th>\n",
       "      <td>Oscar Wilde</td>\n",
       "      <td>“Be yourself; everyone else is already taken.”</td>\n",
       "    </tr>\n",
       "    <tr>\n",
       "      <th>1</th>\n",
       "      <td>Marilyn Monroe</td>\n",
       "      <td>“I'm selfish, impatient and a little insecure....</td>\n",
       "    </tr>\n",
       "  </tbody>\n",
       "</table>\n",
       "</div>"
      ],
      "text/plain": [
       "           author                                              quote\n",
       "0     Oscar Wilde     “Be yourself; everyone else is already taken.”\n",
       "1  Marilyn Monroe  “I'm selfish, impatient and a little insecure...."
      ]
     },
     "execution_count": 121,
     "metadata": {},
     "output_type": "execute_result"
    }
   ],
   "source": [
    "pd.concat(tables).head(2)"
   ]
  },
  {
   "cell_type": "code",
   "execution_count": 127,
   "id": "256024b1-6a5f-496a-9822-47d31d81fa53",
   "metadata": {},
   "outputs": [],
   "source": [
    "### Extend this table with the information on number of likes as well. \n",
    "#### You need to find out top 10 quotes by popularity\n",
    "### Extract data for first 40 pages"
   ]
  },
  {
   "cell_type": "code",
   "execution_count": 128,
   "id": "51a882d9-3828-4145-983a-57dca94091ad",
   "metadata": {},
   "outputs": [],
   "source": [
    "def get_data(parsed_html):\n",
    "    quotes = []\n",
    "    authors = []\n",
    "    likes = []\n",
    "    for div in parsed_html.find_all(\"div\",class_=\"quoteText\"):\n",
    "        quotes.append(div.text.split(\"\\n    ―\\n  \\n\")[0].strip())\n",
    "    for auth in parsed_html.find_all(\"span\",class_=\"authorOrTitle\"):\n",
    "        authors.append(auth.text.strip())\n",
    "    for like in parsed_html.find_all(\"a\",class_=\"smallText\"):\n",
    "        likes.append(float(like.text.replace(\"likes\",\"\")))\n",
    "    table = pd.DataFrame({'author':authors,'quote':quotes,'likes':likes})\n",
    "    return table"
   ]
  },
  {
   "cell_type": "code",
   "execution_count": 129,
   "id": "55fc444e-c583-48a6-a2c1-2f199608eb13",
   "metadata": {},
   "outputs": [
    {
     "name": "stderr",
     "output_type": "stream",
     "text": [
      "100%|███████████████████████████████████████████| 40/40 [07:17<00:00, 10.93s/it]\n"
     ]
    }
   ],
   "source": [
    "tables = []\n",
    "for page_num in tqdm(range(40)):\n",
    "    page_num = page_num+1\n",
    "    base_url = \"https://www.goodreads.com/quotes?page={}\".format(page_num)\n",
    "    raw_html = requests.get(base_url).text\n",
    "    parsed_html = BeautifulSoup(raw_html,'html.parser')\n",
    "    tables.append(get_data(parsed_html))"
   ]
  },
  {
   "cell_type": "code",
   "execution_count": 130,
   "id": "bdfddc7f-0e51-45a6-80d3-51209bab617d",
   "metadata": {},
   "outputs": [
    {
     "data": {
      "text/html": [
       "<div>\n",
       "<style scoped>\n",
       "    .dataframe tbody tr th:only-of-type {\n",
       "        vertical-align: middle;\n",
       "    }\n",
       "\n",
       "    .dataframe tbody tr th {\n",
       "        vertical-align: top;\n",
       "    }\n",
       "\n",
       "    .dataframe thead th {\n",
       "        text-align: right;\n",
       "    }\n",
       "</style>\n",
       "<table border=\"1\" class=\"dataframe\">\n",
       "  <thead>\n",
       "    <tr style=\"text-align: right;\">\n",
       "      <th></th>\n",
       "      <th>author</th>\n",
       "      <th>quote</th>\n",
       "      <th>likes</th>\n",
       "    </tr>\n",
       "  </thead>\n",
       "  <tbody>\n",
       "    <tr>\n",
       "      <th>0</th>\n",
       "      <td>Oscar Wilde</td>\n",
       "      <td>“Be yourself; everyone else is already taken.”</td>\n",
       "      <td>159175.0</td>\n",
       "    </tr>\n",
       "    <tr>\n",
       "      <th>1</th>\n",
       "      <td>Marilyn Monroe</td>\n",
       "      <td>“I'm selfish, impatient and a little insecure....</td>\n",
       "      <td>156512.0</td>\n",
       "    </tr>\n",
       "  </tbody>\n",
       "</table>\n",
       "</div>"
      ],
      "text/plain": [
       "           author                                              quote     likes\n",
       "0     Oscar Wilde     “Be yourself; everyone else is already taken.”  159175.0\n",
       "1  Marilyn Monroe  “I'm selfish, impatient and a little insecure....  156512.0"
      ]
     },
     "execution_count": 130,
     "metadata": {},
     "output_type": "execute_result"
    }
   ],
   "source": [
    "pd.concat(tables).head(2)"
   ]
  },
  {
   "cell_type": "code",
   "execution_count": 132,
   "id": "408d3749-c5fb-40dc-904a-e77b20d9d17a",
   "metadata": {},
   "outputs": [
    {
     "data": {
      "text/plain": [
       "array([ 1,  2,  3,  4,  5,  6,  7,  8,  9, 10, 11, 12, 13, 14, 15, 16, 17,\n",
       "       18, 19, 20, 21, 22, 23, 24, 25, 26, 27, 28, 29, 30, 31, 32, 33, 34,\n",
       "       35, 36, 37, 38, 39, 40])"
      ]
     },
     "execution_count": 132,
     "metadata": {},
     "output_type": "execute_result"
    }
   ],
   "source": [
    "import numpy as np\n",
    "np.arange(1,41)"
   ]
  },
  {
   "cell_type": "code",
   "execution_count": 133,
   "id": "536b064f-fa45-4ef6-a459-4d1623f561b4",
   "metadata": {},
   "outputs": [],
   "source": [
    "## For the url: https://www.goodreads.com/list/show/19.Best_for_Book_Clubs\n",
    "# Extract: Name of the book, Author and Average Rating\n",
    "\n",
    "url = \"https://www.goodreads.com/list/show/19.Best_for_Book_Clubs\"\n",
    "raw_html = requests.get(url).text\n",
    "parsed_html = BeautifulSoup(raw_html,'html.parser')"
   ]
  },
  {
   "cell_type": "code",
   "execution_count": 137,
   "id": "e5fca234-a03d-4fa1-a602-77703558dbdf",
   "metadata": {},
   "outputs": [
    {
     "data": {
      "text/plain": [
       "'The Help'"
      ]
     },
     "execution_count": 137,
     "metadata": {},
     "output_type": "execute_result"
    }
   ],
   "source": [
    "parsed_html.find_all(\"a\",class_=\"bookTitle\")[0].span.text"
   ]
  },
  {
   "cell_type": "code",
   "execution_count": 140,
   "id": "50650ff7-bc60-48be-8933-5625e15a7b8e",
   "metadata": {},
   "outputs": [],
   "source": [
    "booknames = []\n",
    "for book in parsed_html.find_all(\"a\",class_=\"bookTitle\"):\n",
    "    booknames.append(book.span.text.strip())\n",
    "#booknames"
   ]
  },
  {
   "cell_type": "code",
   "execution_count": 143,
   "id": "c396dbbf-1b62-4a1e-988b-6a95fa8070c2",
   "metadata": {},
   "outputs": [
    {
     "data": {
      "text/plain": [
       "'Kathryn Stockett'"
      ]
     },
     "execution_count": 143,
     "metadata": {},
     "output_type": "execute_result"
    }
   ],
   "source": [
    "parsed_html.find_all(\"a\",class_=\"authorName\")[0].span.text"
   ]
  },
  {
   "cell_type": "code",
   "execution_count": 145,
   "id": "a9b154f0-f814-4e0f-b19c-3153aed566b1",
   "metadata": {},
   "outputs": [],
   "source": [
    "authors = []\n",
    "for auth in parsed_html.find_all(\"a\",class_=\"authorName\"):\n",
    "    authors.append(auth.span.text.strip())\n",
    "#authors"
   ]
  },
  {
   "cell_type": "code",
   "execution_count": 152,
   "id": "9ec4905b-62c2-410c-b080-7204be09be82",
   "metadata": {},
   "outputs": [
    {
     "data": {
      "text/plain": [
       "'4.46'"
      ]
     },
     "execution_count": 152,
     "metadata": {},
     "output_type": "execute_result"
    }
   ],
   "source": [
    "parsed_html.find_all(\"span\",class_=\"minirating\")[0].text.strip().split(\" \")[0]"
   ]
  },
  {
   "cell_type": "code",
   "execution_count": 154,
   "id": "e70462f8-4cba-4684-8ca5-92c78f3a75a1",
   "metadata": {},
   "outputs": [],
   "source": [
    "ratings = []\n",
    "for rating in parsed_html.find_all(\"span\",class_=\"minirating\"):\n",
    "    rat=rating.text.strip().split(\" \")[0]\n",
    "    ratings.append(float(rat))\n",
    "#ratings"
   ]
  },
  {
   "cell_type": "code",
   "execution_count": 174,
   "id": "4714544e-1265-4277-afcd-d57799425554",
   "metadata": {},
   "outputs": [],
   "source": [
    "def get_data(parsed_html):\n",
    "    booknames = []\n",
    "    authors = []\n",
    "    ratings = []\n",
    "    for book in parsed_html.find_all(\"a\",class_=\"bookTitle\"):\n",
    "        booknames.append(book.span.text.strip())\n",
    "    for auth in parsed_html.find_all(\"a\",class_=\"authorName\"):\n",
    "        authors.append(auth.span.text.strip())\n",
    "    for rating in parsed_html.find_all(\"span\",class_=\"minirating\"):\n",
    "        rat=rating.text.strip()\n",
    "        ratings.append(rat)\n",
    "    table = pd.DataFrame({'authors':authors,'books':booknames,'ratings':ratings})\n",
    "    return table"
   ]
  },
  {
   "cell_type": "code",
   "execution_count": 175,
   "id": "f2ba5556-97c1-4a79-9d1c-f8966f3a2c80",
   "metadata": {},
   "outputs": [
    {
     "name": "stderr",
     "output_type": "stream",
     "text": [
      "100%|███████████████████████████████████████████| 10/10 [01:04<00:00,  6.45s/it]\n"
     ]
    }
   ],
   "source": [
    "tables = []\n",
    "for i in tqdm(range(1,11)):\n",
    "    url=\"https://www.goodreads.com/list/show/19.Best_for_Book_Clubs?page={}\".format(i)\n",
    "    raw_html = requests.get(url).text\n",
    "    parsed_html = BeautifulSoup(raw_html,'html.parser')\n",
    "    tables.append(get_data(parsed_html))"
   ]
  },
  {
   "cell_type": "code",
   "execution_count": 170,
   "id": "0d5ddb4e-b967-477c-a2db-ffb7d86fe4a2",
   "metadata": {},
   "outputs": [],
   "source": [
    "url = \"https://www.goodreads.com/list/show/19.Best_for_Book_Clubs?page=3\"\n",
    "raw_html = requests.get(url).text\n",
    "parsed_html = BeautifulSoup(raw_html,'html.parser')"
   ]
  },
  {
   "cell_type": "code",
   "execution_count": 172,
   "id": "15b69ea3-6255-4dca-b7b7-9320c031cb34",
   "metadata": {},
   "outputs": [
    {
     "data": {
      "text/plain": [
       "'really liked it 4.00 avg rating — 137,682 ratings'"
      ]
     },
     "execution_count": 172,
     "metadata": {},
     "output_type": "execute_result"
    }
   ],
   "source": [
    "parsed_html.find_all(\"span\",class_=\"minirating\")[2].text"
   ]
  },
  {
   "cell_type": "code",
   "execution_count": null,
   "id": "72df397d-a9f1-43cb-a099-0e9cf82ceb50",
   "metadata": {},
   "outputs": [],
   "source": []
  }
 ],
 "metadata": {
  "kernelspec": {
   "display_name": "Python 3 (ipykernel)",
   "language": "python",
   "name": "python3"
  },
  "language_info": {
   "codemirror_mode": {
    "name": "ipython",
    "version": 3
   },
   "file_extension": ".py",
   "mimetype": "text/x-python",
   "name": "python",
   "nbconvert_exporter": "python",
   "pygments_lexer": "ipython3",
   "version": "3.9.5"
  }
 },
 "nbformat": 4,
 "nbformat_minor": 5
}
