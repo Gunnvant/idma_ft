{
 "cells": [
  {
   "cell_type": "markdown",
   "id": "fb2524a5-c035-49ed-a1ec-c7ba8eab72f3",
   "metadata": {},
   "source": [
    "----\n",
    "**Author**: Gunnvant\n",
    "\n",
    "**Description**: OOPs for Data Science\n",
    "\n",
    "**Audience**: Beginner\n",
    "\n",
    "**Pre-requisites**: Python 101, Working with flat files\n",
    "\n",
    "---\n",
    "\n",
    "\n",
    "\n",
    "## TOC:\n",
    "\n",
    "- Creating simple classes\n",
    "- Methods vs attributes\n",
    "- Inheritance\n",
    "- Class Assignment and Excercise\n",
    "\n",
    "There are two main reasons why you should learn about Object Oriented Programming. \n",
    "\n",
    "1. Many popular python libraries that help in creating ML models and building data pipelines provide object oriented interface.\n",
    "2. Many ML/DS positions these days require some software development skills, knowledge of OOPs will help a learner greatly there.\n",
    "\n",
    "The focus of this notebook is to introduce enough OOPs so that you can understand and write code written by other people, create your own custom classes or modify classes created by some-one else."
   ]
  },
  {
   "cell_type": "markdown",
   "id": "9d1d610a-7a0f-4fae-8e54-4f8b6803e54b",
   "metadata": {},
   "source": [
    "### Motivating Example:\n",
    "- Write a function to read a csv file\n",
    "- Write another function to find the number of rows and columns in the file read"
   ]
  },
  {
   "cell_type": "code",
   "execution_count": 1,
   "id": "abd83e69-42fc-4432-9ce4-0f3b73bd422c",
   "metadata": {},
   "outputs": [],
   "source": [
    "import csv\n",
    "path = \"../../data/file_data.csv\"\n",
    "\n",
    "def read_csv(path=path):\n",
    "    rows = []\n",
    "    with open(path,'r',encoding='utf-8') as f:\n",
    "        reader = csv.reader(f,delimiter = \",\")\n",
    "        for row in reader:\n",
    "            rows.append(row)\n",
    "    return rows\n",
    "            \n",
    "def shape(rows):\n",
    "    num_cols = len(rows[0])\n",
    "    num_rows = len(rows)\n",
    "    return num_cols,num_rows"
   ]
  },
  {
   "cell_type": "code",
   "execution_count": 2,
   "id": "a65f7f68-77df-4a1e-b4c9-90ee036e284d",
   "metadata": {},
   "outputs": [],
   "source": [
    "table = read_csv(path)"
   ]
  },
  {
   "cell_type": "code",
   "execution_count": 3,
   "id": "0de1fd97-444f-42e1-a939-24a94cc32f55",
   "metadata": {},
   "outputs": [
    {
     "data": {
      "text/plain": [
       "(11, 808)"
      ]
     },
     "execution_count": 3,
     "metadata": {},
     "output_type": "execute_result"
    }
   ],
   "source": [
    "shape(table)"
   ]
  },
  {
   "cell_type": "markdown",
   "id": "26d0cfd8-5939-4b89-b720-9711061d3a02",
   "metadata": {},
   "source": [
    "This at the outset looks like a decent interface to work with. Now imagine you need to also handle reading a json or an xml or a yaml file.\n",
    "\n",
    "Think about the following questions critically:\n",
    "\n",
    "1. Will you now write a read_json function?\n",
    "2. How will you organize all the different methods.\n",
    "\n",
    "\n",
    "One of the motivations of using object oriented programming is to arrange similar functionality under one roof. What we can do is we can impliment both \n",
    "`read_csv` and `read_json` methods in one `class`."
   ]
  },
  {
   "cell_type": "code",
   "execution_count": 4,
   "id": "93876eda-f553-41d1-8aea-3f58296aa572",
   "metadata": {},
   "outputs": [],
   "source": [
    "import json\n",
    "class Reader():\n",
    "    def read_csv(self,path):\n",
    "        rows = []\n",
    "        with open(path,'r',encoding='utf-8') as f:\n",
    "            reader = csv.reader(f,delimiter = \",\")\n",
    "            for row in reader:\n",
    "                rows.append(row)\n",
    "        return rows\n",
    "    \n",
    "    def read_json(self,path):\n",
    "        with open(path,'r',encoding='utf-8') as f:\n",
    "            data = json.loads(f.read())\n",
    "        return data"
   ]
  },
  {
   "cell_type": "code",
   "execution_count": 5,
   "id": "edd7867d-0c81-40b2-be0a-7693ab2527df",
   "metadata": {},
   "outputs": [],
   "source": [
    "r = Reader() ## r is the object of the class Reader()"
   ]
  },
  {
   "cell_type": "code",
   "execution_count": 6,
   "id": "b1e12cb2-d42a-4a66-a714-14bd3193b6bf",
   "metadata": {},
   "outputs": [
    {
     "name": "stdout",
     "output_type": "stream",
     "text": [
      "['__class__', '__delattr__', '__dict__', '__dir__', '__doc__', '__eq__', '__format__', '__ge__', '__getattribute__', '__gt__', '__hash__', '__init__', '__init_subclass__', '__le__', '__lt__', '__module__', '__ne__', '__new__', '__reduce__', '__reduce_ex__', '__repr__', '__setattr__', '__sizeof__', '__str__', '__subclasshook__', '__weakref__', 'read_csv', 'read_json']\n"
     ]
    }
   ],
   "source": [
    "print(dir(r))"
   ]
  },
  {
   "cell_type": "code",
   "execution_count": 7,
   "id": "6dc018ba-ed6c-486f-ad86-0d38081bad03",
   "metadata": {},
   "outputs": [],
   "source": [
    "data=r.read_csv(path)"
   ]
  },
  {
   "cell_type": "code",
   "execution_count": 8,
   "id": "4358e635-ba4b-4ab0-9bf4-423bcd56e597",
   "metadata": {},
   "outputs": [
    {
     "data": {
      "text/plain": [
       "[['',\n",
       "  'sensor_id',\n",
       "  'time',\n",
       "  'incoming',\n",
       "  'outgoing',\n",
       "  'range',\n",
       "  'date',\n",
       "  'hour',\n",
       "  'minute',\n",
       "  'total',\n",
       "  'location_name'],\n",
       " ['0',\n",
       "  '52',\n",
       "  '2021-06-17 07:07:11.937082+00:00',\n",
       "  '0',\n",
       "  '2',\n",
       "  '1min',\n",
       "  '2021-06-17',\n",
       "  '7',\n",
       "  '7',\n",
       "  '2',\n",
       "  'reitan_7eleven_carlberner']]"
      ]
     },
     "execution_count": 8,
     "metadata": {},
     "output_type": "execute_result"
    }
   ],
   "source": [
    "data[0:2]"
   ]
  },
  {
   "cell_type": "code",
   "execution_count": 9,
   "id": "03b148cd-67ad-45bb-8412-72ae4c6b1670",
   "metadata": {},
   "outputs": [],
   "source": [
    "path = \"../../data/sample_json.json\"\n",
    "data = r.read_json(path)"
   ]
  },
  {
   "cell_type": "code",
   "execution_count": 10,
   "id": "184c42e1-be17-418c-9592-64b08b81a8dd",
   "metadata": {},
   "outputs": [
    {
     "data": {
      "text/plain": [
       "dict_keys(['type', 'metadata', 'features', 'bbox'])"
      ]
     },
     "execution_count": 10,
     "metadata": {},
     "output_type": "execute_result"
    }
   ],
   "source": [
    "data.keys()"
   ]
  },
  {
   "cell_type": "markdown",
   "id": "588f5d0f-4ff3-4106-95ee-3813f96b0d24",
   "metadata": {},
   "source": [
    "```python\n",
    "class Reader():\n",
    "    def read_csv(self,path):----> ### This is a method\n",
    "        rows = []\n",
    "        with open(path,'r',encoding='utf-8') as f:\n",
    "            reader = csv.reader(f,delimiter = \",\")\n",
    "            for row in reader:\n",
    "                rows.append(row)\n",
    "        return rows\n",
    "    \n",
    "    def read_json(self,path):----> ### This is a method\n",
    "        with open(path,'r',encoding='utf-8') as f:\n",
    "            data = json.loads(f.read())\n",
    "        return data\n",
    "```\n",
    "\n",
    "Classes can also have attributes, attributes usually contain pre-computed data. Eg, we can add an attribute that shows the shape of the object read in"
   ]
  },
  {
   "cell_type": "code",
   "execution_count": 12,
   "id": "a3e4b9fe-ba41-4070-ab69-1465ff5502e9",
   "metadata": {},
   "outputs": [
    {
     "name": "stdout",
     "output_type": "stream",
     "text": [
      "{'type': 'csv', 'ncols': 11, 'nrows': 808}\n",
      "{'type': 'json', 'len': 4}\n"
     ]
    }
   ],
   "source": [
    "class Reader():\n",
    "    def read_csv(self,path):\n",
    "        rows = []\n",
    "        with open(path,'r',encoding='utf-8') as f:\n",
    "            reader = csv.reader(f,delimiter = \",\")\n",
    "            for row in reader:\n",
    "                rows.append(row)\n",
    "        self.shape = {'type':'csv','ncols':len(rows[0]),'nrows':len(rows)}\n",
    "        return rows\n",
    "    \n",
    "    def read_json(self,path):\n",
    "        with open(path,'r',encoding='utf-8') as f:\n",
    "            data = json.loads(f.read())\n",
    "        self.shape = {'type':'json','len':len(data)}\n",
    "        return data\n",
    "\n",
    "path_csv = \"../../data/file_data.csv\"\n",
    "path_json = \"../../data/sample_json.json\"\n",
    "\n",
    "r = Reader()\n",
    "data_csv = r.read_csv(path_csv)\n",
    "print(r.shape)\n",
    "data_json = r.read_json(path_json)\n",
    "print(r.shape)"
   ]
  },
  {
   "cell_type": "markdown",
   "id": "87e3fd6a-df63-45f6-865b-bdbd9bd51f6d",
   "metadata": {},
   "source": [
    "There are some common methods in a class that we can impliment. Some of the common default methods are:\n",
    "\n",
    "1. `__init__()`: Used to initialize the object of the class with some default values\n",
    "2. `__len__()`: This method helps in finding the length of an object using `len()` function"
   ]
  },
  {
   "cell_type": "code",
   "execution_count": 13,
   "id": "44555b4f-2907-4eb3-bf13-07cf3f5d0101",
   "metadata": {},
   "outputs": [],
   "source": [
    "class Reader():\n",
    "    def __init__(self):\n",
    "        self.shape = {}\n",
    "    \n",
    "    def __len__(self):\n",
    "        if 'nrows' in self.shape:\n",
    "            return self.shape['nrows']\n",
    "        elif 'len' in self.shape:\n",
    "            return self.shape['len']\n",
    "        else:\n",
    "            return 0\n",
    "        \n",
    "    def read_csv(self,path):\n",
    "        rows = []\n",
    "        with open(path,'r',encoding='utf-8') as f:\n",
    "            reader = csv.reader(f,delimiter = \",\")\n",
    "            for row in reader:\n",
    "                rows.append(row)\n",
    "        self.shape = {'type':'csv','ncols':len(rows[0]),'nrows':len(rows)}\n",
    "        return rows\n",
    "    \n",
    "    def read_json(self,path):\n",
    "        with open(path,'r',encoding='utf-8') as f:\n",
    "            data = json.loads(f.read())\n",
    "        self.shape = {'type':'json','len':len(data)}\n",
    "        return data"
   ]
  },
  {
   "cell_type": "code",
   "execution_count": 14,
   "id": "41267912-0fd3-4e0b-aa02-f9c7805816ab",
   "metadata": {},
   "outputs": [
    {
     "name": "stdout",
     "output_type": "stream",
     "text": [
      "{}\n",
      "0\n",
      "{'type': 'csv', 'ncols': 11, 'nrows': 808}\n",
      "808\n",
      "{'type': 'json', 'len': 4}\n",
      "4\n"
     ]
    }
   ],
   "source": [
    "path_csv = \"../../data/file_data.csv\"\n",
    "path_json = \"../../data/sample_json.json\"\n",
    "\n",
    "r = Reader()\n",
    "print(r.shape)\n",
    "print(len(r))\n",
    "data_csv = r.read_csv(path_csv)\n",
    "print(r.shape)\n",
    "print(len(r))\n",
    "data_json = r.read_json(path_json)\n",
    "print(r.shape)\n",
    "print(len(r))"
   ]
  },
  {
   "cell_type": "markdown",
   "id": "76b2be92-1372-4920-98e5-25b015576093",
   "metadata": {},
   "source": [
    "### Class Case Study:\n",
    "\n",
    "1. Create a `class Reader()` which will support reading csv, tsv or pipe-delimited files"
   ]
  },
  {
   "cell_type": "code",
   "execution_count": 15,
   "id": "dca9b4c0-59b6-48ba-8468-60b908c84371",
   "metadata": {},
   "outputs": [],
   "source": [
    "class Reader():\n",
    "    def __init__(self):\n",
    "        self.shape = () ## ncols,nrows\n",
    "        self.data = None\n",
    "        self.columns = None\n",
    "    def __len__(self):\n",
    "        if len(self.shape)!=0:\n",
    "            return self.shape[1]\n",
    "        else:\n",
    "            return 0\n",
    "    def read_csv(self,path,delimiter=\",\"):\n",
    "        rows = []\n",
    "        with open(path,'r',encoding='utf-8') as f:\n",
    "            reader = csv.reader(f,delimiter=delimiter)\n",
    "            for row in reader:\n",
    "                rows.append(row)\n",
    "        self.columns = rows[0]\n",
    "        self.data = rows[1:]\n",
    "        self.shape = (len(self.columns),len(rows)) "
   ]
  },
  {
   "cell_type": "code",
   "execution_count": 16,
   "id": "bb111638-2fde-4683-b4c3-cad0161b1743",
   "metadata": {},
   "outputs": [
    {
     "name": "stdout",
     "output_type": "stream",
     "text": [
      "0\n",
      "()\n",
      "None\n",
      "None\n",
      "808\n",
      "(11, 808)\n",
      "['', 'sensor_id', 'time', 'incoming', 'outgoing', 'range', 'date', 'hour', 'minute', 'total', 'location_name']\n",
      "[['0', '52', '2021-06-17 07:07:11.937082+00:00', '0', '2', '1min', '2021-06-17', '7', '7', '2', 'reitan_7eleven_carlberner'], ['1', '52', '2021-06-17 07:07:51.166361+00:00', '1', '0', '1min', '2021-06-17', '7', '7', '1', 'reitan_7eleven_carlberner']]\n"
     ]
    }
   ],
   "source": [
    "r = Reader()\n",
    "print(len(r))\n",
    "print(r.shape)\n",
    "print(r.columns)\n",
    "print(r.data)\n",
    "r.read_csv(path_csv)\n",
    "print(len(r))\n",
    "print(r.shape)\n",
    "print(r.columns)\n",
    "print(r.data[0:2])"
   ]
  },
  {
   "cell_type": "markdown",
   "id": "a12a73e9-13cd-4dff-99b1-2a99cebb22c7",
   "metadata": {},
   "source": [
    "*Example Continued ...*\n",
    "\n",
    "2. Now lets extend the class `Reader`, check for datatypes, make sure anything which is a number is converted to a int. At this point in time we don't know enough python to check if a string is a float value or not, so in this example we will not handle it"
   ]
  },
  {
   "cell_type": "code",
   "execution_count": 17,
   "id": "d5bd31ac-542d-4d35-bee6-ffd71e0bfb1e",
   "metadata": {},
   "outputs": [],
   "source": [
    "class Reader():\n",
    "    \n",
    "    def __init__(self):\n",
    "        self.shape = () ## ncols,nrows\n",
    "        self.data = None\n",
    "        self.columns = None\n",
    "    \n",
    "    def __len__(self):\n",
    "        if len(self.shape)!=0:\n",
    "            return self.shape[1]\n",
    "        else:\n",
    "            return 0\n",
    "    \n",
    "    def convert_float(self,value):\n",
    "        if value.isdigit():\n",
    "            return float(value)\n",
    "        else:\n",
    "            return value\n",
    "    \n",
    "    def read_csv(self,path,delimiter=\",\"):\n",
    "        rows = []\n",
    "        with open(path,'r',encoding='utf-8') as f:\n",
    "            reader = csv.reader(f,delimiter=delimiter)\n",
    "            for row in reader:\n",
    "                rows.append([self.convert_float(i) for i in row])\n",
    "        self.columns = rows[0]\n",
    "        self.data = rows[1:]\n",
    "        self.shape = (len(self.columns),len(rows)) "
   ]
  },
  {
   "cell_type": "code",
   "execution_count": 18,
   "id": "cc44c7d8-c5e1-4822-bf59-11337185aeb1",
   "metadata": {},
   "outputs": [
    {
     "name": "stdout",
     "output_type": "stream",
     "text": [
      "0\n",
      "()\n",
      "None\n",
      "None\n",
      "808\n",
      "(11, 808)\n",
      "['', 'sensor_id', 'time', 'incoming', 'outgoing', 'range', 'date', 'hour', 'minute', 'total', 'location_name']\n",
      "[[0.0, 52.0, '2021-06-17 07:07:11.937082+00:00', 0.0, 2.0, '1min', '2021-06-17', 7.0, 7.0, 2.0, 'reitan_7eleven_carlberner'], [1.0, 52.0, '2021-06-17 07:07:51.166361+00:00', 1.0, 0.0, '1min', '2021-06-17', 7.0, 7.0, 1.0, 'reitan_7eleven_carlberner']]\n"
     ]
    }
   ],
   "source": [
    "r = Reader()\n",
    "print(len(r))\n",
    "print(r.shape)\n",
    "print(r.columns)\n",
    "print(r.data)\n",
    "r.read_csv(path_csv)\n",
    "print(len(r))\n",
    "print(r.shape)\n",
    "print(r.columns)\n",
    "print(r.data[0:2])"
   ]
  },
  {
   "cell_type": "markdown",
   "id": "2f6b6868-1326-43e1-a7ad-f720a3301db4",
   "metadata": {},
   "source": [
    "*Example Continued ...*\n",
    "\n",
    "3. Now lets change the data attribute to a dictionary"
   ]
  },
  {
   "cell_type": "code",
   "execution_count": 19,
   "id": "8b1e71d5-0b5d-49ff-938a-52f219d8f1af",
   "metadata": {},
   "outputs": [],
   "source": [
    "class Reader():\n",
    "    \n",
    "    def __init__(self):\n",
    "        self.shape = () ## ncols,nrows\n",
    "        self.data = None\n",
    "        self.columns = None\n",
    "    \n",
    "    def __len__(self):\n",
    "        if len(self.shape)!=0:\n",
    "            return self.shape[1]\n",
    "        else:\n",
    "            return 0\n",
    "    \n",
    "    def convert_float(self,value):\n",
    "        if value.isdigit():\n",
    "            return float(value)\n",
    "        else:\n",
    "            return value\n",
    "    \n",
    "    def read_csv(self,path,delimiter=\",\"):\n",
    "        rows = []\n",
    "        with open(path,'r',encoding='utf-8') as f:\n",
    "            reader = csv.reader(f,delimiter=delimiter)\n",
    "            for row in reader:\n",
    "                rows.append([self.convert_float(i) for i in row])\n",
    "        self.columns = rows[0]\n",
    "        self.data = {}\n",
    "        for idx,col in enumerate(self.columns):\n",
    "            self.data[col] = []\n",
    "            for row in rows[1:]:\n",
    "                self.data[col].append(row[idx])\n",
    "        self.shape = (len(self.columns),len(rows)) "
   ]
  },
  {
   "cell_type": "code",
   "execution_count": 20,
   "id": "6efa15dc-830d-4787-ab54-234d83b181a2",
   "metadata": {},
   "outputs": [
    {
     "name": "stdout",
     "output_type": "stream",
     "text": [
      "0\n",
      "()\n",
      "None\n",
      "None\n",
      "808\n",
      "(11, 808)\n",
      "['', 'sensor_id', 'time', 'incoming', 'outgoing', 'range', 'date', 'hour', 'minute', 'total', 'location_name']\n",
      "[52.0, 52.0, 52.0, 52.0, 52.0, 52.0, 52.0, 52.0, 52.0, 52.0]\n"
     ]
    }
   ],
   "source": [
    "r = Reader()\n",
    "print(len(r))\n",
    "print(r.shape)\n",
    "print(r.columns)\n",
    "print(r.data)\n",
    "r.read_csv(path_csv)\n",
    "print(len(r))\n",
    "print(r.shape)\n",
    "print(r.columns)\n",
    "print(r.data['sensor_id'][0:10])"
   ]
  },
  {
   "cell_type": "markdown",
   "id": "7fd1946e-bccc-4dde-8adc-649ccae4725e",
   "metadata": {},
   "source": [
    "*Example Continued...*\n",
    "\n",
    "Lets extend this class to also keep a mapping of datatypes for each of the columns"
   ]
  },
  {
   "cell_type": "code",
   "execution_count": 21,
   "id": "b4215414-47a0-4e0a-a3e7-d37ee76044b9",
   "metadata": {},
   "outputs": [],
   "source": [
    "class Reader():\n",
    "    \n",
    "    def __init__(self):\n",
    "        self.shape = () ## ncols,nrows\n",
    "        self.data = None\n",
    "        self.columns = None\n",
    "        self.dtypes = None\n",
    "    \n",
    "    def __len__(self):\n",
    "        if len(self.shape)!=0:\n",
    "            return self.shape[1]\n",
    "        else:\n",
    "            return 0\n",
    "    \n",
    "    def convert_float(self,value):\n",
    "        if value.isdigit():\n",
    "            return float(value)\n",
    "        else:\n",
    "            return value\n",
    "        \n",
    "    def get_dtypes(self,rows):\n",
    "        self.dtypes = {}\n",
    "        for idx,value in enumerate(rows[1]):\n",
    "            self.dtypes[self.columns[idx]] = \"num\" if type(value)==float else \"str\"\n",
    "            \n",
    "    def read_csv(self,path,delimiter=\",\"):\n",
    "        rows = []\n",
    "        with open(path,'r',encoding='utf-8') as f:\n",
    "            reader = csv.reader(f,delimiter=delimiter)\n",
    "            for row in reader:\n",
    "                rows.append([self.convert_float(i) for i in row])\n",
    "        self.columns = rows[0]\n",
    "        self.data = {}\n",
    "        for idx,col in enumerate(self.columns):\n",
    "            self.data[col] = []\n",
    "            for row in rows[1:]:\n",
    "                self.data[col].append(row[idx])\n",
    "        self.get_dtypes(rows)\n",
    "        self.shape = (len(self.columns),len(rows)) "
   ]
  },
  {
   "cell_type": "code",
   "execution_count": 22,
   "id": "72e8f6da-25b5-4537-8ada-6a49f5eb6e22",
   "metadata": {},
   "outputs": [
    {
     "name": "stdout",
     "output_type": "stream",
     "text": [
      "0\n",
      "()\n",
      "None\n",
      "None\n",
      "None\n",
      "808\n",
      "(11, 808)\n",
      "{'': 'num', 'sensor_id': 'num', 'time': 'str', 'incoming': 'num', 'outgoing': 'num', 'range': 'str', 'date': 'str', 'hour': 'num', 'minute': 'num', 'total': 'num', 'location_name': 'str'}\n",
      "['', 'sensor_id', 'time', 'incoming', 'outgoing', 'range', 'date', 'hour', 'minute', 'total', 'location_name']\n",
      "[52.0, 52.0, 52.0, 52.0, 52.0, 52.0, 52.0, 52.0, 52.0, 52.0]\n"
     ]
    }
   ],
   "source": [
    "r = Reader()\n",
    "print(len(r))\n",
    "print(r.shape)\n",
    "print(r.dtypes)\n",
    "print(r.columns)\n",
    "print(r.data)\n",
    "r.read_csv(path_csv)\n",
    "print(len(r))\n",
    "print(r.shape)\n",
    "print(r.dtypes)\n",
    "print(r.columns)\n",
    "print(r.data['sensor_id'][0:10])"
   ]
  },
  {
   "cell_type": "markdown",
   "id": "92418a80-92bf-4f87-9cdf-f33cadb31920",
   "metadata": {},
   "source": [
    "## Class Inheritance\n",
    "\n",
    "Class Inheritance allows us to create new classes from existing classes.\n",
    "\n",
    "## Motivatiing example:\n",
    "\n",
    "1. Imagine now that have the `Reader()` class, we would want to include a functionality that will help us in analyzing the data.\n",
    "2. Instead of adding functions to the `Reader()` class we can create a new class using `Reader()` class"
   ]
  },
  {
   "cell_type": "code",
   "execution_count": 23,
   "id": "39e5d1bc-8724-4cd2-9d2e-2e16e3cc7fee",
   "metadata": {},
   "outputs": [],
   "source": [
    "class Table(Reader):\n",
    "    def get_num_cols(self):\n",
    "        cols = []\n",
    "        for col in self.dtypes:\n",
    "            if self.dtypes[col]=='num':\n",
    "                cols.append(col)\n",
    "        return cols\n",
    "    def summary(self):\n",
    "        cols = self.get_num_cols()\n",
    "        results = {}\n",
    "        for col in cols:\n",
    "            results[col]={'mean':sum(self.data[col])/len(self.data[col]),'min':min(self.data[col]),'max':max(self.data[col])}\n",
    "        return results"
   ]
  },
  {
   "cell_type": "code",
   "execution_count": 24,
   "id": "6892d1e0-b6a2-44c2-a8bd-267fba01cbe4",
   "metadata": {},
   "outputs": [
    {
     "name": "stdout",
     "output_type": "stream",
     "text": [
      "0\n",
      "()\n",
      "None\n",
      "None\n",
      "None\n",
      "808\n",
      "(11, 808)\n",
      "{'': 'num', 'sensor_id': 'num', 'time': 'str', 'incoming': 'num', 'outgoing': 'num', 'range': 'str', 'date': 'str', 'hour': 'num', 'minute': 'num', 'total': 'num', 'location_name': 'str'}\n",
      "['', 'sensor_id', 'time', 'incoming', 'outgoing', 'range', 'date', 'hour', 'minute', 'total', 'location_name']\n",
      "[52.0, 52.0, 52.0, 52.0, 52.0, 52.0, 52.0, 52.0, 52.0, 52.0]\n",
      "{'': {'mean': 403.0, 'min': 0.0, 'max': 806.0}, 'sensor_id': {'mean': 52.0, 'min': 52.0, 'max': 52.0}, 'incoming': {'mean': 164.96034696406443, 'min': 0.0, 'max': 13406.0}, 'outgoing': {'mean': 253.70879801734822, 'min': 0.0, 'max': 20561.0}, 'hour': {'mean': 13.53903345724907, 'min': 0.0, 'max': 23.0}, 'minute': {'mean': 29.71251548946716, 'min': 0.0, 'max': 59.0}, 'total': {'mean': 418.6691449814126, 'min': 1.0, 'max': 33967.0}}\n"
     ]
    }
   ],
   "source": [
    "r = Table()\n",
    "print(len(r))\n",
    "print(r.shape)\n",
    "print(r.dtypes)\n",
    "print(r.columns)\n",
    "print(r.data)\n",
    "r.read_csv(path_csv)\n",
    "print(len(r))\n",
    "print(r.shape)\n",
    "print(r.dtypes)\n",
    "print(r.columns)\n",
    "print(r.data['sensor_id'][0:10])\n",
    "print(r.summary())"
   ]
  },
  {
   "cell_type": "code",
   "execution_count": null,
   "id": "f0ea66a0-6d7a-45c6-a3ed-34ef3306a630",
   "metadata": {},
   "outputs": [],
   "source": []
  },
  {
   "cell_type": "code",
   "execution_count": null,
   "id": "68efa9d5-8c65-447d-a7e2-6d9868046d27",
   "metadata": {},
   "outputs": [],
   "source": []
  }
 ],
 "metadata": {
  "kernelspec": {
   "display_name": "Python 3",
   "language": "python",
   "name": "python3"
  },
  "language_info": {
   "codemirror_mode": {
    "name": "ipython",
    "version": 3
   },
   "file_extension": ".py",
   "mimetype": "text/x-python",
   "name": "python",
   "nbconvert_exporter": "python",
   "pygments_lexer": "ipython3",
   "version": "3.9.5"
  }
 },
 "nbformat": 4,
 "nbformat_minor": 5
}
